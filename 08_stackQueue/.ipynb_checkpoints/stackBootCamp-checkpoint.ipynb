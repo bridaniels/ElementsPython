{
 "cells": [
  {
   "cell_type": "markdown",
   "id": "13387c90-8a57-4f44-9d22-d491b38addc1",
   "metadata": {},
   "source": [
    "# **Chapter 8 Stacks Boot Camp**\n",
    "---"
   ]
  },
  {
   "cell_type": "markdown",
   "id": "32e5826d-2109-466e-81d7-4b54d16d1ea4",
   "metadata": {},
   "source": [
    "- LIFO: last-in, first-out\n",
    "    - for inserts and deletes\n",
    "- 2 Basic Operations:\n",
    "    - push(add)\n",
    "    - popped(remove)\n",
    "        - stack empty? -> return an exception \n",
    "    - *peek* \n",
    "        - returns top of stack without popping it \n",
    "- Stack implemented using Linked List\n",
    "    - operations have `O(1)` Time Complexity\n",
    "- Stack implemented using Array\n",
    "    - maximum number of entries it can have \n",
    "        - amortized Time Complexity: `O(1)`\n",
    "    - dynamically resized \n",
    "        - Time Complexity: `O(1)`\n",
    "- Useful for creating reverse iterators for sequences which are stored in a way that would make it difficult or impossible to step back from a given element \n",
    "- *parsing* typically benefits from a stack "
   ]
  },
  {
   "cell_type": "markdown",
   "id": "6bdcaa96-fc50-4143-8fba-7190886b7d5e",
   "metadata": {},
   "source": [
    "---\n",
    "### Stack Libraries\n",
    "- `s.append(element)` -> pushes an element onto the stack \n",
    "- `s[-1]` -> retrieve but not remove top element from stack\n",
    "- `s.pop()` -> remove and return top element from stack\n",
    "- `len(s) == 0` -> checks if stack is empty\n",
    "\n",
    "---"
   ]
  },
  {
   "cell_type": "code",
   "execution_count": 1,
   "id": "6e782a89-e192-4c5c-8d14-e2a1f848b36e",
   "metadata": {},
   "outputs": [],
   "source": [
    "class ListNode:\n",
    "    def __init__(self, data=None, next=None):\n",
    "        self.data = data\n",
    "        self.next = next "
   ]
  },
  {
   "cell_type": "code",
   "execution_count": 2,
   "id": "ea80af97-8711-4595-acbb-a18ec2488281",
   "metadata": {
    "tags": []
   },
   "outputs": [],
   "source": [
    "class LinkedList:\n",
    "    def __init__(self):\n",
    "        self.head = None\n",
    "        self.last_node = None\n",
    "        \n",
    "    def insert_at_beg(self,data):\n",
    "        # inserting at beginning -> next element is the current head \n",
    "        node = ListNode(data,self.head)\n",
    "        self.head = node \n",
    "            \n",
    "    def print(self):\n",
    "        if self.head is None:\n",
    "            print(\"Linked List is empty\")\n",
    "            return\n",
    "        itr = self.head\n",
    "        llstr = ''\n",
    "        while itr:\n",
    "            llstr += str(itr.data) + '-->'\n",
    "            itr = itr.next\n",
    "        print(llstr)\n",
    "    \n",
    "    \n",
    "    \n",
    "    \n",
    "    \n",
    "    \n",
    "    def print_reversed_linked_list(self):\n",
    "        nodes = []\n",
    "        head = self.head\n",
    "        \n",
    "        while head:\n",
    "            nodes.append(head.data)\n",
    "            head = head.next\n",
    "            \n",
    "        while nodes:\n",
    "            print(nodes.pop())"
   ]
  },
  {
   "cell_type": "code",
   "execution_count": 3,
   "id": "22e938d3-6898-4a55-903f-e2be5ca271ef",
   "metadata": {},
   "outputs": [
    {
     "name": "stdout",
     "output_type": "stream",
     "text": [
      "60-->50-->40-->30-->20-->10-->\n",
      "10\n",
      "20\n",
      "30\n",
      "40\n",
      "50\n",
      "60\n"
     ]
    }
   ],
   "source": [
    "if __name__ == '__main__':\n",
    "    ll = LinkedList()\n",
    "    ll.insert_at_beg(10)\n",
    "    ll.insert_at_beg(20)\n",
    "    ll.insert_at_beg(30)\n",
    "    ll.insert_at_beg(40)\n",
    "    ll.insert_at_beg(50)\n",
    "    ll.insert_at_beg(60)\n",
    "    ll.print()\n",
    "    ll.print_reversed_linked_list()"
   ]
  },
  {
   "cell_type": "markdown",
   "id": "ed9caeb9-7919-4ee9-856d-35234434ff3a",
   "metadata": {},
   "source": [
    "##### Time Complexity: `O(n)`\n",
    "- `n` = number of nodes in the list "
   ]
  },
  {
   "cell_type": "markdown",
   "id": "365b685f-6f8e-4097-a72e-98e88a33c08b",
   "metadata": {},
   "source": [
    "#### Faster via First reverse the list \n",
    "#### Second Iterate through printing entries \n",
    "##### Time Complexity: `O(n)`\n",
    "##### Space Complexity: `O(1)`\n",
    "\n",
    "---"
   ]
  },
  {
   "cell_type": "code",
   "execution_count": null,
   "id": "ed75a4ed-89ef-4c38-9116-3c97e1b24fd2",
   "metadata": {},
   "outputs": [],
   "source": []
  }
 ],
 "metadata": {
  "kernelspec": {
   "display_name": "Python 3",
   "language": "python",
   "name": "python3"
  },
  "language_info": {
   "codemirror_mode": {
    "name": "ipython",
    "version": 3
   },
   "file_extension": ".py",
   "mimetype": "text/x-python",
   "name": "python",
   "nbconvert_exporter": "python",
   "pygments_lexer": "ipython3",
   "version": "3.8.8"
  }
 },
 "nbformat": 4,
 "nbformat_minor": 5
}
