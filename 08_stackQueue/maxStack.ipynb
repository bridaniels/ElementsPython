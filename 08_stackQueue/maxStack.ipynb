{
 "cells": [
  {
   "cell_type": "markdown",
   "id": "235434a9-4282-4e98-94fd-c8d4f0989361",
   "metadata": {},
   "source": [
    "# **8.1 Implement a Stack with Max API**\n",
    "---\n",
    "- design a stack with a `max`, `push`, and `pop` operations\n",
    "- `max` should return the `max` value stored in the stack \n",
    "    - use additional storage to track the `max` value "
   ]
  },
  {
   "cell_type": "markdown",
   "id": "c0eb1531-6417-490a-b8fe-bfa89ec22478",
   "metadata": {},
   "source": [
    "---\n",
    "### Implementing a `Max` Operation \n",
    "- consider each element in the stack by iterating through the underlying array for an array-based stack\n",
    "    - Time Complexity: `O(1)`\n",
    "    - Space Complexity: `O(1)`\n",
    "        \n",
    "    - reduce to `O(log n)` through heaps, BST, or hash tables\n",
    "        - space complexity increases to `O(n)`\n",
    "- `M` to recrd the `max` element in the stack \n",
    "    - updating `M` on `push`: `M = max(M,e)`\n",
    "        - `e` = element being pushed \n",
    "    - updating `M` on `pop` is very time consuming \n",
    "        - if `M` is the element being `popped` we have no way of knowing `max` remaining \n",
    "        - improve on time complexity by `caching`\n",
    "            - for each entry in the stack -> cache `max` stored at or below that entry \n",
    "            - `pop` and evict corresponding cache value \n",
    "    "
   ]
  },
  {
   "cell_type": "code",
   "execution_count": 2,
   "id": "2c678dfd-df40-4d7f-9304-a9a312f82af5",
   "metadata": {},
   "outputs": [],
   "source": [
    "import collections"
   ]
  },
  {
   "cell_type": "code",
   "execution_count": 3,
   "id": "047329e7-6973-436e-98b9-6359e78aedc1",
   "metadata": {},
   "outputs": [],
   "source": [
    "class Stack:\n",
    "    MaxCachedElement = collections.namedtuple('MaxCachedElement',('element', 'max'))\n",
    "    \n",
    "    def __init__(self) -> None:\n",
    "        self._max_cached_element: List[Stack.MaxCachedElement] = []\n",
    "    \n",
    "    def empty(self) -> bool:\n",
    "        return len(self._max_cached_element) == 0 \n",
    "    \n",
    "    def max(self) -> int: \n",
    "        # s[-1] -> remove and return top element from the stack \n",
    "        return self._max_cached_element[-1].max\n",
    "    \n",
    "    def pop(self) -> int:\n",
    "        return self._max_cached_element.pop().element \n",
    "    \n",
    "    def push(self, x: int) -> None:\n",
    "        self._max_cached_element.append(self.MaxCachedElement(x, x if self.empty() else max(x, self.max())))\n",
    "        "
   ]
  },
  {
   "cell_type": "markdown",
   "id": "c158f0d1-7b14-481b-a27e-b3776fae07b0",
   "metadata": {},
   "source": [
    "##### Time Complexity: each function = `O(1)`\n",
    "\n",
    "##### Space Complexity: `O(n)`\n",
    "- regardless of stored keys "
   ]
  },
  {
   "cell_type": "code",
   "execution_count": null,
   "id": "b0a0db5e-cf92-4562-b29d-bbf037b563b5",
   "metadata": {},
   "outputs": [],
   "source": []
  }
 ],
 "metadata": {
  "kernelspec": {
   "display_name": "Python 3",
   "language": "python",
   "name": "python3"
  },
  "language_info": {
   "codemirror_mode": {
    "name": "ipython",
    "version": 3
   },
   "file_extension": ".py",
   "mimetype": "text/x-python",
   "name": "python",
   "nbconvert_exporter": "python",
   "pygments_lexer": "ipython3",
   "version": "3.8.8"
  }
 },
 "nbformat": 4,
 "nbformat_minor": 5
}
