{
 "cells": [
  {
   "cell_type": "markdown",
   "id": "6a98b4d6-0bf1-435f-b6a0-a6a38cd2f295",
   "metadata": {},
   "source": [
    "# **8.6 Binary Tree Node in Order of Increasing Depth**\n",
    "---\n",
    "- depth is each node's distance from the root \n",
    "- input = binary tree\n",
    "- output = array consisting of keys at the same level \n",
    "    - braking ties from left to right \n",
    "- `[[314],[6,6],[271,561,2,271],[28,0,3,1,28],[17,401,257],[641]]`\n",
    "    - depth 0 = `[314]`\n",
    "    - depth 1 = `[6,6]`\n",
    "    - depth 2 = `[271,561,2,271]`\n",
    "    - depth 3 = `[28,0,3,1,28]`\n",
    "    - depth 4 = `[17,401,257]`\n",
    "    - depth 5 = `[641]`\n",
    "- Solve with a pair of queues "
   ]
  },
  {
   "cell_type": "markdown",
   "id": "bcf3c228-47ba-4306-ab6b-39eedc301d34",
   "metadata": {},
   "source": [
    "---\n",
    "# Queue Processing \n",
    "- nodes already presented in a somewhat ordered fashion \n",
    "- possible to avoid a full blow sort\n",
    "    - reducing time complexity \n",
    "- processing nodes in order of depth -> do not need to label every node with it's depth \n",
    "- use a queue of nodes at depth `i` and a queue of nodes at depth `i + 1` \n",
    "    - after all nodes at depth `i` are processed \n",
    "        - done with that queue\n",
    "    - start processing nodes at depth `i + 1`\n",
    "    - putting the depth `i + 2` nodes into a new queue "
   ]
  },
  {
   "cell_type": "code",
   "execution_count": 2,
   "id": "5e50cbba-a6f2-47cd-b61e-9ca0740e78b9",
   "metadata": {},
   "outputs": [],
   "source": [
    "from typing import List "
   ]
  },
  {
   "cell_type": "code",
   "execution_count": 3,
   "id": "916efb75-a46b-4206-b0d2-8740030e6c2b",
   "metadata": {},
   "outputs": [],
   "source": [
    "class BinaryTreeNode:\n",
    "    def __init__(self, data = None, left = None, right = None):\n",
    "        self.data = data\n",
    "        self.left = left\n",
    "        self.right = right        "
   ]
  },
  {
   "cell_type": "code",
   "execution_count": 5,
   "id": "06537783-65a5-4c83-9aba-20fd239fb673",
   "metadata": {},
   "outputs": [],
   "source": [
    "def binary_tree_depth_order(tree: BinaryTreeNode) -> List[List[int]]:\n",
    "    \n",
    "    result: List[List[int]] = []\n",
    "    \n",
    "    # base case for recursion \n",
    "    if not tree: \n",
    "        return result\n",
    "    \n",
    "    curr_depth = [tree]\n",
    "    while curr_depth:\n",
    "        # append each child node from previous depth or the root\n",
    "        result.append([curr.data for curr in curr_depth])\n",
    "        # dequeue depth `i` and enqueue depth `i + 1`\n",
    "        curr_depth = [child for curr in curr_depth for child in (curr.left, curr.right) if child]\n",
    "        \n",
    "    return result "
   ]
  },
  {
   "cell_type": "markdown",
   "id": "6d0cd139-b94b-4485-be3a-1de0fdce0839",
   "metadata": {},
   "source": [
    "##### Time Complexity: `O(n)`\n",
    "- Each node enqueued and dequeued exactly once\n",
    "\n",
    "##### Space Complexity: `O(m)`\n",
    "- `m` = max number of nodes at any single depth \n"
   ]
  },
  {
   "cell_type": "markdown",
   "id": "be91283c-e35d-4519-a3ff-c6b4698f022c",
   "metadata": {},
   "source": [
    "---\n",
    "## Variant"
   ]
  },
  {
   "cell_type": "code",
   "execution_count": null,
   "id": "e97781dc-802c-47f6-8afa-67812dc11018",
   "metadata": {},
   "outputs": [],
   "source": []
  }
 ],
 "metadata": {
  "kernelspec": {
   "display_name": "Python 3",
   "language": "python",
   "name": "python3"
  },
  "language_info": {
   "codemirror_mode": {
    "name": "ipython",
    "version": 3
   },
   "file_extension": ".py",
   "mimetype": "text/x-python",
   "name": "python",
   "nbconvert_exporter": "python",
   "pygments_lexer": "ipython3",
   "version": "3.8.8"
  }
 },
 "nbformat": 4,
 "nbformat_minor": 5
}
