{
 "cells": [
  {
   "cell_type": "markdown",
   "id": "7d0b7266-262b-4cb4-8dad-e9658efc33ed",
   "metadata": {},
   "source": [
    "# **Chapter 8 Queue Boot Camp**\n",
    "---"
   ]
  },
  {
   "cell_type": "markdown",
   "id": "90fb3af7-1201-4306-880f-8117e7f459ad",
   "metadata": {},
   "source": [
    "- FIFO: first-in, first-out \n",
    "- Great when order needs to be perserved \n",
    "- 2 basic operations:\n",
    "    - enqueue (add)\n",
    "    - dequeue (remove)\n",
    "- Most Recent Inserted Element = TAIL\n",
    "- Inserted Least Recently = HEAD\n",
    "- Can be implemented using a Linked List \n",
    "    - Time Complexity: `O(1)`\n",
    "- Can also be implemented by using an Array \n",
    "- *`Deque`* or a double-ended queue\n",
    "    - doubly linked list \n",
    "    - all insertions/deleions from one of the two ends \n",
    "        - head insertion: `push`\n",
    "        - tail insertion: `inject`\n",
    "        - head deletion: `pop`\n",
    "        - tail deletion: `eject`"
   ]
  },
  {
   "cell_type": "markdown",
   "id": "603c58ed-f7a5-4c7c-82a0-a99eec392f58",
   "metadata": {},
   "source": [
    "---\n",
    "### Queue Libraries\n",
    "- `q.append(element)` -> pushes element onto the queue \n",
    "- `q[0]` -> retrieve the element at the head w/out removing \n",
    "- `q[-1]` -> retrieve the element at the tail w/out removing \n",
    "- `q.popleft()` -> remove and return the element at head of queue\n",
    "\n",
    "---"
   ]
  },
  {
   "cell_type": "code",
   "execution_count": 1,
   "id": "af1a6e3a-aed0-4074-a512-b8ebeb6e42ad",
   "metadata": {},
   "outputs": [],
   "source": [
    "import collections"
   ]
  },
  {
   "cell_type": "code",
   "execution_count": 2,
   "id": "37b29e81-f667-43e7-9303-e7a5538f6bed",
   "metadata": {},
   "outputs": [],
   "source": [
    "class Queue:\n",
    "    def __init__(self) -> None:\n",
    "        self._data: Deque[int] = collections.deque()\n",
    "    \n",
    "    def enqueue(self, x: int) -> None:\n",
    "        self._data.append(x)\n",
    "    \n",
    "    def dequeue(self) -> int:\n",
    "        return self._data.popleft()\n",
    "    \n",
    "    def max(self) -> int:\n",
    "        return max(self._data)"
   ]
  },
  {
   "cell_type": "code",
   "execution_count": 3,
   "id": "98af41f2-7269-48da-9baf-58c8e35da027",
   "metadata": {},
   "outputs": [
    {
     "data": {
      "text/plain": [
       "3"
      ]
     },
     "execution_count": 3,
     "metadata": {},
     "output_type": "execute_result"
    }
   ],
   "source": [
    "q = Queue()\n",
    "q.enqueue(3)\n",
    "q.enqueue(2)\n",
    "q.enqueue(0)\n",
    "q.max()"
   ]
  },
  {
   "cell_type": "code",
   "execution_count": 4,
   "id": "374eb776-f9d8-41e4-850c-7872a639380a",
   "metadata": {},
   "outputs": [
    {
     "data": {
      "text/plain": [
       "3"
      ]
     },
     "execution_count": 4,
     "metadata": {},
     "output_type": "execute_result"
    }
   ],
   "source": [
    "q.dequeue()"
   ]
  },
  {
   "cell_type": "code",
   "execution_count": 5,
   "id": "9179f97e-93e3-4678-9952-4bffbe9d3ac3",
   "metadata": {},
   "outputs": [
    {
     "data": {
      "text/plain": [
       "2"
      ]
     },
     "execution_count": 5,
     "metadata": {},
     "output_type": "execute_result"
    }
   ],
   "source": [
    "q.max()"
   ]
  },
  {
   "cell_type": "code",
   "execution_count": 6,
   "id": "28166fc1-c4f1-4cbf-8a49-49a59a2c631e",
   "metadata": {},
   "outputs": [
    {
     "data": {
      "text/plain": [
       "4"
      ]
     },
     "execution_count": 6,
     "metadata": {},
     "output_type": "execute_result"
    }
   ],
   "source": [
    "q.enqueue(4)\n",
    "q.max()"
   ]
  },
  {
   "cell_type": "markdown",
   "id": "211c1da8-e78a-49a5-96cb-2f52b657f11d",
   "metadata": {},
   "source": [
    "#### Time Complexity: \n",
    "- Queue and Deque `O(1)`\n",
    "- Maximum `O(n)`"
   ]
  },
  {
   "cell_type": "code",
   "execution_count": null,
   "id": "ca6a3be1-626f-4960-8069-8324878ed1ff",
   "metadata": {},
   "outputs": [],
   "source": []
  }
 ],
 "metadata": {
  "kernelspec": {
   "display_name": "Python 3",
   "language": "python",
   "name": "python3"
  },
  "language_info": {
   "codemirror_mode": {
    "name": "ipython",
    "version": 3
   },
   "file_extension": ".py",
   "mimetype": "text/x-python",
   "name": "python",
   "nbconvert_exporter": "python",
   "pygments_lexer": "ipython3",
   "version": "3.8.8"
  }
 },
 "nbformat": 4,
 "nbformat_minor": 5
}
