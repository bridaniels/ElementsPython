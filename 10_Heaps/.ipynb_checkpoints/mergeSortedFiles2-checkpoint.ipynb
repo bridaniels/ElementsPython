{
 "cells": [
  {
   "cell_type": "markdown",
   "id": "5b92674d-c9cf-4393-a684-c9be01010fb6",
   "metadata": {},
   "source": [
    "# **10.1 Merge Sorted Files**"
   ]
  },
  {
   "cell_type": "markdown",
   "id": "69616ab4-8f1a-4d9b-b625-3ef32e6b3391",
   "metadata": {},
   "source": [
    "#### Write a program that takes a set of sorted sequences as input and computes the union of the sequences as a sorted sentence \n",
    "- `[3,5,7],[0,6],[0,6,28]` -> `[0,0,3,5,6,6,7,28]`\n",
    "- given 500 files each containing stock information for a S&P 500 company \n",
    "- each trade encoded by a line in the following format: `1232111,AAPL,30,456.12`\n",
    "    - e[0] = milliseconds since the start of the day's trading\n",
    "    - e[1] = stock symbol\n",
    "    - e[2] = number of shares\n",
    "    - e[3] = price \n",
    "- create a single file contianing all the trades from the 500 files \n",
    "    - sorted in order of increasing time \n",
    "- individual files of the order of 5-100 megabytes\n",
    "    - combined file will be the order of 5 gigabytes "
   ]
  },
  {
   "cell_type": "markdown",
   "id": "d1de4662-d706-4b3d-a4da-12c601e25a62",
   "metadata": {},
   "source": [
    "---\n",
    "#### Brute Force: `O(n log n)` time \n",
    "- concatenate into a single array then sort \n",
    "- does not use the fact individual elements are sorted w/in the sequences \n",
    "---"
   ]
  },
  {
   "cell_type": "markdown",
   "id": "8253fecc-b72e-4356-b21c-578a038bf97d",
   "metadata": {},
   "source": [
    "### Min Heap:\n",
    "- ideal for maintaining a collection of elements when we need to add arbitrary values and extract smallest element \n",
    "- `[3,5,7], [0,6], [0,6,28]`\n",
    "    - min-heap initializd to first entry of each array -> `[3,0,0]`\n",
    "        - extract smallest entry `0` and add it to the output = `[0]`\n",
    "    - min-heap add 6 -> `[3,0,6]` or `[3,6,0]` (doesn't matter) \n",
    "        - extract `0` and add it to the output = `[0,0]`\n",
    "    - min-heap add 6 -> `[3,6,6]`\n",
    "        - extract `3` and add it to the output = `[0,0,3]`\n",
    "    - min-heap add `5` -> `[5,6,6]`\n",
    "        - extract `5` and add it to the output = `[0,0,3,5]`\n",
    "    - min-heap add `7` -> `[7,6,6]`\n",
    "        - extract `6` and add it to the output = `[0,0,3,5,6]`\n",
    "    - min-heap NO ADD -> `[7,6]`\n",
    "        - extract `6` and add it to the output = `[0,0,3,5,6,6]`\n",
    "    - min-heap add `28` -> `[7,28]`\n",
    "        - exctract `7` and add it to the output = `[0,0,3,5,6,6,7]`\n",
    "    - min-heap `[28]`\n",
    "        - extract `28` and add it to the output = `[0,0,3,5,6,6,7,28]`\n",
    "                                                "
   ]
  },
  {
   "cell_type": "code",
   "execution_count": 2,
   "id": "8b8635bd-cb6b-44fc-ac95-a20a386be9bd",
   "metadata": {},
   "outputs": [],
   "source": [
    "from typing import List\n",
    "import heapq\n",
    "\n",
    "\n",
    "def merge_sort(s_array: List[List[int]]) -> List[int]:\n",
    "    \n",
    "    # Tuples store multiple items in a single variable \n",
    "    min_heap: List[Tuple[int,int]] = []\n",
    "    \n",
    "    # build list of iterators for each array in s_array\n",
    "    s_array_iterators = [iter(x) for x in s_array]\n",
    "    \n",
    "    \n",
    "    # put first element from each iterator in min_heap \n",
    "    for i, it in enumerate(s_array_iterators):\n",
    "        first_element = next(it, None)\n",
    "        if first_element is not None:\n",
    "            # pushes 'i' on the heap \n",
    "            heapq.heappush(min_heap, (first_element, i))\n",
    "   \n",
    "    result = []\n",
    "    while min_heap:\n",
    "        # pops smallest element from the heap \n",
    "        # smallest = element \n",
    "        # smallest_array indexes to what array the smallest element came from \n",
    "        smallest, smallest_array = heapq.heappop(min_heap)\n",
    "        smallest_array_iter = s_array_iterators[smallest_array]\n",
    "        result.append(smallest)\n",
    "        \n",
    "        next_element = next(smallest_array_iter, None)\n",
    "        if next_element is not None:\n",
    "            # push next smallest element into the heap \n",
    "            heapq.heappush(min_heap, (next_element, smallest_array))\n",
    "            \n",
    "            \n",
    "    return result"
   ]
  },
  {
   "cell_type": "code",
   "execution_count": 3,
   "id": "913885e7-912b-4674-aff0-c6d34a2f58d5",
   "metadata": {},
   "outputs": [
    {
     "data": {
      "text/plain": [
       "[0, 0, 3, 5, 6, 6, 7, 28]"
      ]
     },
     "execution_count": 3,
     "metadata": {},
     "output_type": "execute_result"
    }
   ],
   "source": [
    "s_array = [[3,5,7],[0,6],[0,6,28]]\n",
    "\n",
    "merge_sort(s_array)"
   ]
  },
  {
   "cell_type": "markdown",
   "id": "52918670-6612-43ae-ae44-76392a76d1dc",
   "metadata": {},
   "source": [
    "#### Merge in `O(n log k)` time\n",
    "- k = number of input sequences \n",
    "    - no more than k elements in the min-heap\n",
    "- extracting the min value = `O(log k)` time\n",
    "- inserting the next value = `O(log k)` time \n",
    "\n",
    "#### `O(k)` beyond the space needed to write the final result to a file \n",
    "- minheap only has `k` items at a time\n",
    "- data comes from a file and is written into a file\n",
    "- instead of arrays -> only need `O(k)` additional space\n",
    "---"
   ]
  },
  {
   "cell_type": "markdown",
   "id": "4ed017de-9254-4100-ac47-cf93770439c3",
   "metadata": {},
   "source": [
    "### Pythonic Solution\n",
    "- uses `heapq.merge()` which takes multiple inputs "
   ]
  },
  {
   "cell_type": "code",
   "execution_count": 4,
   "id": "52300396-fc08-47d8-96b2-f3615e855bee",
   "metadata": {},
   "outputs": [],
   "source": [
    "def python_merge(sorted_arrays):\n",
    "    return list(heapq.merge(*sorted_arrays))"
   ]
  },
  {
   "cell_type": "code",
   "execution_count": 5,
   "id": "5f883b09-6c2e-42f9-ba7f-7cb86fe147f8",
   "metadata": {},
   "outputs": [
    {
     "data": {
      "text/plain": [
       "[0, 0, 3, 5, 6, 6, 7, 28]"
      ]
     },
     "execution_count": 5,
     "metadata": {},
     "output_type": "execute_result"
    }
   ],
   "source": [
    "s_array = [[3,5,7],[0,6],[0,6,28]]\n",
    "\n",
    "python_merge(s_array)"
   ]
  },
  {
   "cell_type": "markdown",
   "id": "0b7e2b75-ed84-4e16-8574-161a4c53f2ce",
   "metadata": {},
   "source": [
    "#### Merge in `O(n log k)`\n",
    "- n = elements and k = items fed into minheap \n",
    "#### `O(k)` Space Complexity\n",
    "- minheap has `k` items at any given point during execution "
   ]
  },
  {
   "cell_type": "markdown",
   "id": "a2f367f7-9b55-4ed0-b81d-63f6a197040d",
   "metadata": {},
   "source": [
    "---\n",
    "### Recursive Merge Sort\n",
    "- merge k files two at a time using Merge Sort (Ch. 13) \n",
    "    - `O(n log k)` Time Complexity\n",
    "        - `log k` stages each with time complexity `O(n)`\n",
    "        - same as heap based approach `O(n log k)`\n",
    "    - `O(n)` space complexity\n",
    "        - worse than heap when `k < n` \n",
    "---"
   ]
  },
  {
   "cell_type": "code",
   "execution_count": null,
   "id": "a549f2b3-d31b-425d-904b-37bee63bbfa8",
   "metadata": {},
   "outputs": [],
   "source": []
  }
 ],
 "metadata": {
  "kernelspec": {
   "display_name": "Python 3",
   "language": "python",
   "name": "python3"
  },
  "language_info": {
   "codemirror_mode": {
    "name": "ipython",
    "version": 3
   },
   "file_extension": ".py",
   "mimetype": "text/x-python",
   "name": "python",
   "nbconvert_exporter": "python",
   "pygments_lexer": "ipython3",
   "version": "3.8.8"
  }
 },
 "nbformat": 4,
 "nbformat_minor": 5
}
