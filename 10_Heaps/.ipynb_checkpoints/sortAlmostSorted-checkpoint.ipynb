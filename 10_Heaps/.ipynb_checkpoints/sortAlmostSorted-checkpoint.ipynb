{
 "cells": [
  {
   "cell_type": "markdown",
   "id": "f7a46612-80e2-4e8e-b4bc-ee55f3f48a54",
   "metadata": {},
   "source": [
    "# **10.3 Sort an Almost-Sorted Array**\n",
    "---\n",
    "- often times data is not fully sorted \n",
    "    - timestamped stock data coming in at different intervals due to various server loads/speeds \n",
    "- Input = array where no number is more than `k` away from its correct sorted position\n",
    "    - `k-sorted` array\n",
    "    - How many numbers must you read after reading the `ith` number to be sure you can place it in the correct location? \n",
    "- After we have read `k+1` numbers:\n",
    "    - smallest number in the group must be smaller than all the following numbers \n",
    "- Store `k+1` numbers to efficiently extract the minimum number/add a new number \n"
   ]
  },
  {
   "cell_type": "markdown",
   "id": "579d0415-7cb4-498d-b39a-051a871ffc54",
   "metadata": {},
   "source": [
    "---\n",
    "## Min_Heap\n",
    "- add first `k` numbers to the min_heap\n",
    "- extract minimum \n",
    "- add additional numbers to min_heap\n",
    "- numbers run out? -> just perform extraction "
   ]
  },
  {
   "cell_type": "code",
   "execution_count": 1,
   "id": "d7e4b845-a20d-46aa-a1d0-6d6e9353e887",
   "metadata": {},
   "outputs": [],
   "source": [
    "from typing import Iterator\n",
    "import itertools \n",
    "import heapq\n",
    "from typing import List"
   ]
  },
  {
   "cell_type": "code",
   "execution_count": 2,
   "id": "f06db30e-4eab-4bf3-8f00-be802c7424bb",
   "metadata": {},
   "outputs": [],
   "source": [
    "def sort_k_sorted(sequence: Iterator[int], k: int) -> List[int]:\n",
    "    n = len(sequence)\n",
    "    min_heap: List[int] = []\n",
    "    \n",
    "    # add FIRST k elements to min_heap -> stop if fewer than k elements \n",
    "    # itertools.islice(iterable,start,stop,step)\n",
    "    for x in itertools.islice(sequence,k):\n",
    "        heapq.heappush(min_heap, x)\n",
    "    \n",
    "    result = []\n",
    "    # for every new element add it to min_heap and extract the smallest \n",
    "    for x in range(k,n):\n",
    "        smallest = heapq.heappushpop(min_heap, sequence[x])\n",
    "        result.append(smallest)\n",
    "        \n",
    "    # extract remaining elements     \n",
    "    while min_heap:\n",
    "        smallest = heapq.heappop(min_heap)\n",
    "        result.append(smallest)\n",
    "        \n",
    "    return result "
   ]
  },
  {
   "cell_type": "code",
   "execution_count": 3,
   "id": "847b3311-5b0a-4a32-b210-6e3ff64274f5",
   "metadata": {},
   "outputs": [],
   "source": [
    "s = [3,-1,2,6,4,5,8,7]\n",
    "k = 2 "
   ]
  },
  {
   "cell_type": "code",
   "execution_count": 4,
   "id": "95c2aa5a-2158-4c93-b97f-c4f13985b181",
   "metadata": {},
   "outputs": [
    {
     "data": {
      "text/plain": [
       "[-1, 2, 3, 4, 5, 6, 7, 8]"
      ]
     },
     "execution_count": 4,
     "metadata": {},
     "output_type": "execute_result"
    }
   ],
   "source": [
    "sort_k_sorted(s,k)"
   ]
  },
  {
   "cell_type": "markdown",
   "id": "5e4b3659-fc20-4c56-8655-aeec8dacbb2a",
   "metadata": {},
   "source": [
    "##### Time Complexity: `O(n log k)`\n",
    "- splits array into smaller groups of `k`\n",
    "- `n` = length of total array \n",
    "\n",
    "##### Space Complexity: `O(k)`\n",
    "- adding a heap of size `k` to solve "
   ]
  },
  {
   "cell_type": "code",
   "execution_count": null,
   "id": "efa52dca-a802-49a1-bc89-0e7e875976ae",
   "metadata": {},
   "outputs": [],
   "source": []
  }
 ],
 "metadata": {
  "kernelspec": {
   "display_name": "Python 3",
   "language": "python",
   "name": "python3"
  },
  "language_info": {
   "codemirror_mode": {
    "name": "ipython",
    "version": 3
   },
   "file_extension": ".py",
   "mimetype": "text/x-python",
   "name": "python",
   "nbconvert_exporter": "python",
   "pygments_lexer": "ipython3",
   "version": "3.8.8"
  }
 },
 "nbformat": 4,
 "nbformat_minor": 5
}
