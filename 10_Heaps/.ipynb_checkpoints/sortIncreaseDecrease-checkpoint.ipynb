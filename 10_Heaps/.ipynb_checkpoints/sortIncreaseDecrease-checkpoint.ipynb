{
 "cells": [
  {
   "cell_type": "markdown",
   "id": "2e8945fe-bcb7-445d-9387-9e3448a0f9ba",
   "metadata": {},
   "source": [
    "# **10.2 Sort an Increasing-Decreasing Array**\n",
    "---"
   ]
  },
  {
   "cell_type": "markdown",
   "id": "7cdf48bf-2807-47c2-90a4-e9a07a24c759",
   "metadata": {},
   "source": [
    "#### *`k`*-increasing-decreasing\n",
    "- elements repreatedly increase up to a certain index \n",
    "- after which they decrease \n",
    "- then again increase\n",
    "- total of *`k`* times \n",
    "---"
   ]
  },
  {
   "cell_type": "markdown",
   "id": "4df0fcc6-0c28-46c6-b771-9a0976950de4",
   "metadata": {},
   "source": [
    "#### Design an efficient algorithm for sorting a *`k`*-increasing-decreasing array \n",
    "- cast in terms of combining *`k`* sorted arrays \n",
    "\n",
    "#### Brute Force:\n",
    "- sort the array w/out taking advantage of *`k`*-increasing-decreasing property \n",
    "- Time Complexity to sort: `O(n log n)` where `n` = length of array \n",
    "\n",
    "#### *`k`* significantly smaller than *`n`*\n",
    "- `k = 2`: two subarrays, one increasing and the other decreasing \n",
    "- Reverse the decreasing subarray(s) \n",
    "    - resulting in two(+) subarrays: increasing and reversed \n",
    "- Merge Subarrays \n",
    "    - Time Complexity: `O(n)`"
   ]
  },
  {
   "cell_type": "code",
   "execution_count": 1,
   "id": "2649fd5c-ecbc-414f-88c3-dc10689d35bf",
   "metadata": {},
   "outputs": [],
   "source": [
    "from typing import List\n",
    "import heapq"
   ]
  },
  {
   "cell_type": "code",
   "execution_count": 2,
   "id": "d876efc1-cb1c-4235-bddb-47fd0d318d6f",
   "metadata": {},
   "outputs": [],
   "source": [
    "# 4-increasing-decreasing\n",
    "i_d_4 = [57,131,493,294,221,339,418,452,442,190]\n",
    "k = 4"
   ]
  },
  {
   "cell_type": "code",
   "execution_count": 3,
   "id": "192b728c-d671-4a00-ae3f-fde0939e61dd",
   "metadata": {},
   "outputs": [],
   "source": [
    "def merge_sorted_arrays(arrays: List[List[int]]) -> List[int]:\n",
    "    \n",
    "    # Tuples = immutable\n",
    "    min_heap: List[Tuple[int,int]] = []\n",
    "    \n",
    "    # build list of iterators \n",
    "    sorted_itr = [iter(x) for x in arrays]\n",
    "    \n",
    "    # first element from iterator into min_heap\n",
    "    for i,it in enumerate(sorted_itr):\n",
    "        # next(): iterator, stop value if reach the end of iterator\n",
    "        first_c = next(it,None)\n",
    "        if first_c is not None:\n",
    "            # pushes smallest value into the min_heap \n",
    "            heapq.heappush(min_heap, (first_c, i))\n",
    "    \n",
    "    result = [] \n",
    "    while min_heap:\n",
    "        smallest_c, smallest_array = heapq.heappop(min_heap)\n",
    "        smallest_array_iter = sorted_itr[smallest_array]\n",
    "        \n",
    "        result.append(smallest_c)\n",
    "        \n",
    "        next_c = next(smallest_array_iter, None)\n",
    "        if next_c is not None:\n",
    "            heapq.heappush(min_heap, (next_c, smallest_array))\n",
    "    return result "
   ]
  },
  {
   "cell_type": "code",
   "execution_count": 4,
   "id": "7debd535-a034-4da1-9669-d459ec09e13f",
   "metadata": {},
   "outputs": [],
   "source": [
    "def sort_i_d(A: List[int]) -> List[int]:\n",
    "    \n",
    "    # decompose into sorted arrays\n",
    "    sorted_sub = []\n",
    "    increasing, decreasing = range(2)\n",
    "    sub_type = increasing \n",
    "    start = 0 \n",
    "    \n",
    "    for i in range(1, len(A)+1):\n",
    "        if (i == len(A) or\n",
    "           (A[i-1] < A[i] and sub_type == decreasing) or\n",
    "           (A[i-1] >= A[i] and sub_type == increasing)):\n",
    "            \n",
    "            sorted_sub.append(A[start:i] if sub_type == increasing \n",
    "                             else A[i-1 : start-1 : -1])\n",
    "            start = i \n",
    "            sub_type = (decreasing if sub_type == increasing else increasing)\n",
    "            \n",
    "    return merge_sorted_arrays(sorted_sub)\n",
    "    # return sorted_sub"
   ]
  },
  {
   "cell_type": "code",
   "execution_count": 5,
   "id": "7471c651-5fa7-4792-b35e-2447c2a5b3c8",
   "metadata": {},
   "outputs": [
    {
     "name": "stdout",
     "output_type": "stream",
     "text": [
      "all together now: [57, 131, 190, 221, 294, 339, 418, 442, 452, 493]\n"
     ]
    }
   ],
   "source": [
    "i_d_4 = [57,131,493,294,221,339,418,452,442,190]\n",
    "\n",
    "print(f\"all together now: {sort_i_d(i_d_4)}\")"
   ]
  },
  {
   "cell_type": "markdown",
   "id": "6b9f1338-6dc5-4b53-9854-206f8151d9e7",
   "metadata": {},
   "source": [
    "##### Time Complexity: `O(n log k)`\n",
    "- `k` = elements in min_heap/number of input sequences \n",
    "    - extract-min/insert both take `O(log k)` time\n",
    "- `n` = length of array \n",
    "\n",
    "##### Space Complexity: `O(k)`\n",
    "- `k` space beyond"
   ]
  },
  {
   "cell_type": "code",
   "execution_count": 6,
   "id": "0bb49bf9-0638-4e0c-9b4c-cb319616299f",
   "metadata": {},
   "outputs": [],
   "source": [
    "def sort_i_d_SPLIT(A: List[int]) -> List[int]:\n",
    "    \n",
    "    # decompose into sorted arrays\n",
    "    sorted_sub = []\n",
    "    increasing, decreasing = range(2)\n",
    "    sub_type = increasing \n",
    "    start = 0 \n",
    "    \n",
    "    for i in range(1, len(A)+1):\n",
    "        if (i == len(A) or\n",
    "           (A[i-1] < A[i] and sub_type == decreasing) or\n",
    "           (A[i-1] >= A[i] and sub_type == increasing)):\n",
    "            \n",
    "            sorted_sub.append(A[start:i] if sub_type == increasing \n",
    "                             else A[i-1 : start-1 : -1])\n",
    "            start = i \n",
    "            sub_type = (decreasing if sub_type == increasing else increasing)\n",
    "            \n",
    "    # return merge_sorted_arrays(sorted_sub)\n",
    "    return sorted_sub"
   ]
  },
  {
   "cell_type": "code",
   "execution_count": 7,
   "id": "95435508-e6a9-4986-b9c4-d7957028093d",
   "metadata": {},
   "outputs": [
    {
     "name": "stdout",
     "output_type": "stream",
     "text": [
      "sorted subarrays: [[57, 131, 493], [221, 294], [339, 418, 452], [190, 442]]\n",
      "merged subarrays: [57, 131, 190, 221, 294, 339, 418, 442, 452, 493]\n"
     ]
    }
   ],
   "source": [
    "i_d_4 = [57,131,493,294,221,339,418,452,442,190]\n",
    "\n",
    "s_sub1 = sort_i_d_SPLIT(i_d_4)\n",
    "print(f\"sorted subarrays: {s_sub1}\")\n",
    "print(f\"merged subarrays: {merge_sorted_arrays(s_sub1)}\")"
   ]
  },
  {
   "cell_type": "markdown",
   "id": "d8d83651-8d49-4c44-b4c6-c0bc1e7f6579",
   "metadata": {},
   "source": [
    "---\n",
    "## Pythonic Solution\n",
    "- uses stateful object to trace monotonic subarrays "
   ]
  },
  {
   "cell_type": "code",
   "execution_count": 8,
   "id": "afe389b2-ad89-449d-8301-1412503a1afe",
   "metadata": {},
   "outputs": [],
   "source": [
    "import itertools\n",
    "\n",
    "def sort_k_i_d(A: List[int]) -> List[int]:\n",
    "    class Monotonic:\n",
    "        \n",
    "        def __init__(self):\n",
    "            self._last = float('-inf')\n",
    "            \n",
    "        def __call__(self,curr):\n",
    "            result = curr < self._last\n",
    "            self._last = curr \n",
    "            \n",
    "    return merge_sorted_arrays([\n",
    "                list(group)[::-1 if is_decreasing else 1]\n",
    "                for is_decreasing, group in itertools.groupby(A,Monotonic())\n",
    "            ])"
   ]
  },
  {
   "cell_type": "code",
   "execution_count": 9,
   "id": "75bbee20-ae49-4630-ba3b-414a2a2340f9",
   "metadata": {},
   "outputs": [
    {
     "data": {
      "text/plain": [
       "[57, 131, 493, 294, 221, 339, 418, 452, 442, 190]"
      ]
     },
     "execution_count": 9,
     "metadata": {},
     "output_type": "execute_result"
    }
   ],
   "source": [
    "i_d_4 = [57,131,493,294,221,339,418,452,442,190]\n",
    "\n",
    "sort_k_i_d(i_d_4)"
   ]
  },
  {
   "cell_type": "code",
   "execution_count": null,
   "id": "df712c40-8150-4165-9aef-30ec03b1ea75",
   "metadata": {},
   "outputs": [],
   "source": []
  }
 ],
 "metadata": {
  "kernelspec": {
   "display_name": "Python 3",
   "language": "python",
   "name": "python3"
  },
  "language_info": {
   "codemirror_mode": {
    "name": "ipython",
    "version": 3
   },
   "file_extension": ".py",
   "mimetype": "text/x-python",
   "name": "python",
   "nbconvert_exporter": "python",
   "pygments_lexer": "ipython3",
   "version": "3.8.8"
  }
 },
 "nbformat": 4,
 "nbformat_minor": 5
}
