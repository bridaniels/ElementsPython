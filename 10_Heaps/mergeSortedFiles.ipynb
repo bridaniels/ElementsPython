{
 "cells": [
  {
   "cell_type": "markdown",
   "id": "9bc41ff9-9d45-4223-a079-9ffeb980de52",
   "metadata": {},
   "source": [
    "# **10.1 Merge Sorted Files**"
   ]
  },
  {
   "cell_type": "markdown",
   "id": "0a16caab-5b0d-4117-8ef5-16c6c264724d",
   "metadata": {},
   "source": [
    "#### Write a program that takes a set of sorted sequences as input and computes the union of the sequences as a sorted sentence \n",
    "- [3,5,7],[0,6],[0,6,28] -> [0,0,3,5,6,6,7,\n",
    "- given 500 files each containing stock information for a S&P 500 company \n",
    "- each trade encoded by a line in the following format: `1232111,AAPL,30,456.12`\n",
    "    - e[0] = milliseconds since the start of the day's trading\n",
    "    - e[1] = stock symbol\n",
    "    - e[2] = number of shares\n",
    "    - e[3] = price \n",
    "- create a single file contianing all the trades from the 500 files \n",
    "    - sorted in order of increasing time \n",
    "- individual files of the order of 5-100 megabytes\n",
    "    - combined file will be the order of 5 gigabytes "
   ]
  },
  {
   "cell_type": "code",
   "execution_count": null,
   "id": "43e5fafa-1e53-42d3-9d96-91e7415a9b28",
   "metadata": {},
   "outputs": [],
   "source": []
  }
 ],
 "metadata": {
  "kernelspec": {
   "display_name": "Python 3",
   "language": "python",
   "name": "python3"
  },
  "language_info": {
   "codemirror_mode": {
    "name": "ipython",
    "version": 3
   },
   "file_extension": ".py",
   "mimetype": "text/x-python",
   "name": "python",
   "nbconvert_exporter": "python",
   "pygments_lexer": "ipython3",
   "version": "3.8.8"
  }
 },
 "nbformat": 4,
 "nbformat_minor": 5
}
