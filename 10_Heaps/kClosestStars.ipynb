{
 "cells": [
  {
   "cell_type": "markdown",
   "id": "e2b74d0a-9e17-4a7c-b27d-ee7459d04c2b",
   "metadata": {},
   "source": [
    "# **10.4 Compute the *K* Closest Stars**\n",
    "---\n",
    "- Coordinate System for the Milky Way\n",
    "- Earth = `(0,0,0)`\n",
    "- Model stars as points and assume distances in lightyears \n",
    "- Star coordinates stored in a file \n",
    "- Compute `k` closest starts to Earth \n",
    "- You know the `k` closest stars in the first `n` stars\n",
    "    - `(n+1)` star is added to set of `k` closest \n",
    "    - which elements should be evicted? "
   ]
  },
  {
   "cell_type": "markdown",
   "id": "c6bf0120-f6c1-49e3-a21b-60d57e16b9e2",
   "metadata": {},
   "source": [
    "---\n",
    "## MAX HEAP\n",
    "- Add first `k` stars to the `max-heap`\n",
    "- Pick star `max` distance from earth \n",
    "- If new star is closer than `max` star in the `max-heap`:\n",
    "    - pop out the current `max` star \n",
    "    - add the new star\n",
    "- If new star is greater than `max` star\n",
    "    - discard new star and continue \n",
    "- `max-heap` will always only have `k+1` elements "
   ]
  },
  {
   "cell_type": "code",
   "execution_count": 1,
   "id": "6c9ecfea-7d3f-470a-a779-59f2c5e94dcf",
   "metadata": {},
   "outputs": [],
   "source": [
    "from typing import List\n",
    "from typing import Iterator"
   ]
  },
  {
   "cell_type": "code",
   "execution_count": 2,
   "id": "026a0a53-232c-4db6-9083-76a99676e92f",
   "metadata": {},
   "outputs": [],
   "source": [
    "class Star:\n",
    "    def __init__(self, x: float, y: float, z: float) -> None: \n",
    "        # x,y,z = coordinates \n",
    "        self.x, self.y, self.z = x, y, z \n",
    "        \n",
    "        @property\n",
    "        def distance(self) -> float:\n",
    "            return math.sqrt(self.x**2 + self.y**2 + self.z**2)\n",
    "        \n",
    "        # less than operator \n",
    "        def __lt__(self, rhs: 'Star') -> bool:\n",
    "            return self.distance < rhs.distance \n",
    "        \n",
    "    def find_closest_k_stars(stars: Iterator['Star'], k: int) -> List[str]:\n",
    "        max_heap: List[Tuple[float,Star]] = []\n",
    "            \n",
    "        for star in stars:\n",
    "            # negative due to heapq library being for min_heap only \n",
    "            heapq.heappush(max_heap, (-star.distance, star))\n",
    "            if len(max_heap) == k+1:\n",
    "                heapq.heappop(max_heap)\n",
    "        return [s[1] for s in heapq.nlargest(k, max_heap)]"
   ]
  },
  {
   "cell_type": "markdown",
   "id": "e7b42d6f-9c5d-41ab-9ada-fa95298c1376",
   "metadata": {},
   "source": [
    "##### Time Complexity: `O(n log k)`\n",
    "- iterating through whole list `n` but only keeping `k` stars on hand at a time \n",
    "##### Space Complexity: `O(k)`\n",
    "- only adding k additional space to store closest stars "
   ]
  },
  {
   "cell_type": "code",
   "execution_count": null,
   "id": "12af2789-2556-456d-8aa8-46e5da56413f",
   "metadata": {},
   "outputs": [],
   "source": []
  }
 ],
 "metadata": {
  "kernelspec": {
   "display_name": "Python 3",
   "language": "python",
   "name": "python3"
  },
  "language_info": {
   "codemirror_mode": {
    "name": "ipython",
    "version": 3
   },
   "file_extension": ".py",
   "mimetype": "text/x-python",
   "name": "python",
   "nbconvert_exporter": "python",
   "pygments_lexer": "ipython3",
   "version": "3.8.8"
  }
 },
 "nbformat": 4,
 "nbformat_minor": 5
}
