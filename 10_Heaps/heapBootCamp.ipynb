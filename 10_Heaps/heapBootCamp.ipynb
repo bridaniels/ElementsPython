{
 "cells": [
  {
   "cell_type": "markdown",
   "id": "2d1026a6-7d60-411b-a7e6-aa07ddb1210b",
   "metadata": {},
   "source": [
    "# **Heaps**\n",
    "- specialized complete binary tree\n",
    "- keys must satisfy they *heap property* \n",
    "    - key at each node is at least as great as they keys stored w/in children\n",
    "- Use Heap when all you care about is the largest or smallest elements\n",
    "    - don't need to support fast lookup for other elements \n",
    "    - just max/min\n",
    "- Good for computing k largest/smallest elements in a collection "
   ]
  },
  {
   "cell_type": "markdown",
   "id": "633c1170-68ec-4b57-a6f7-0514218da81b",
   "metadata": {},
   "source": [
    "---\n",
    "### Max Heap\n",
    "- supports:\n",
    "    - `O(log n)` intersections\n",
    "    - `O(1)` time lookup for max element\n",
    "    - `O(logn n)` for deletion of max element \n",
    "- 'extract-max' operation deletes maximum element from the array and returns it as output \n",
    "- root holds maximum key \n",
    "- delete root by replacing root's key with key at the last node \n",
    "    - recover heap property by repeatedly exchanging keys with children \n",
    "- **Priority Queue**\n",
    "    - heaps often times refereed to as priority queues because they behave like one\n",
    "    - difference: each element has a 'priority' associated with it (node level) \n",
    "        - deletion removes element with highest priority\n",
    "---\n",
    "### Min Heap\n",
    "- completely symmetric version of data structure\n",
    "- `O(1)` time lookups for min. element "
   ]
  },
  {
   "cell_type": "markdown",
   "id": "7b392967-f834-4c3f-86cc-19a76914fb4a",
   "metadata": {},
   "source": [
    "##### Min Heap Example\n",
    "- take sequence of strings presented in \"streaming\" fashion (you cannot back up to read an earlier value)\n",
    "- compute the k longest strings in the sequence \n",
    "- not required to order the strings \n",
    "- track k longest thus far \n",
    "- min heap -> supports most efficient find-min, remove-min, and insert "
   ]
  },
  {
   "cell_type": "code",
   "execution_count": 1,
   "id": "842f31aa-16fb-4337-b180-d41f2533aa86",
   "metadata": {},
   "outputs": [],
   "source": [
    "# min heap \n",
    "from typing import List\n",
    "from typing import Iterator\n",
    "\n",
    "def topK(k: int, stream: Iterator[str]) -> List[str]:\n",
    "    \n",
    "    # itertools: helps us manage iterators \n",
    "    # .islice(iterable,start,stop,step): prints values mentioned in its iterable container \n",
    "    min_heap = [(len(s),s) for s in itertools.islice(stream,k)]\n",
    "    \n",
    "    # .heapify(L): transforms elements in L into heap in-place\n",
    "    heapq.heapify(min_heap)\n",
    "    \n",
    "    for next_string in stream:\n",
    "        # .heappushpop(h,a): pushes `a` on the heap and then pops nd returns smallest element \n",
    "        heapq.heappushpop(min_heap, (len(next_string),next_string))\n",
    "        \n",
    "    # .nsmallest(k,L): returns k smallest elements in L\n",
    "    return [p[1] for p in heapq.nsmallest(k,min_heap)]"
   ]
  },
  {
   "cell_type": "markdown",
   "id": "c0342817-c264-4ecd-bbb4-ecdcfb3af859",
   "metadata": {},
   "source": [
    "##### `O(log k)` time to add and remove the minimum element from the heap\n",
    "##### `O(n log k)` time to get through `n` strings \n",
    "---"
   ]
  },
  {
   "cell_type": "markdown",
   "id": "5ffedc76-f8de-4439-978d-3d3bf6134037",
   "metadata": {},
   "source": [
    "#### `heapq` Libraries\n",
    "- only proved min-heap functionality \n",
    "- `heapq.heapify(L)`: transforms elements in `L` into a heap (IN-PLACE)\n",
    "- `heapq.nlargest(k,L)`: returns k largest elements in `L`\n",
    "- `heapq.nsmallest(k,L)`: returns k smallest elements in `L`\n",
    "- `heapq.heappush(h, e)`: pushes new element onto the heap\n",
    "- `heapq.heappop(h)`: pops smallest element from the heap\n",
    "- `heapq.heappushpop(h, a)`: pushes `a` onto the heap and pops/returns smallest element\n",
    "- `e = h[0]`: returns smallest element on heap w/out popping it \n",
    "#### max-heap - use negative values of integers/floats - or private methods "
   ]
  },
  {
   "cell_type": "code",
   "execution_count": null,
   "id": "c773b4d5-18f1-4350-bf02-410ac1864964",
   "metadata": {},
   "outputs": [],
   "source": []
  }
 ],
 "metadata": {
  "kernelspec": {
   "display_name": "Python 3",
   "language": "python",
   "name": "python3"
  },
  "language_info": {
   "codemirror_mode": {
    "name": "ipython",
    "version": 3
   },
   "file_extension": ".py",
   "mimetype": "text/x-python",
   "name": "python",
   "nbconvert_exporter": "python",
   "pygments_lexer": "ipython3",
   "version": "3.8.8"
  }
 },
 "nbformat": 4,
 "nbformat_minor": 5
}
