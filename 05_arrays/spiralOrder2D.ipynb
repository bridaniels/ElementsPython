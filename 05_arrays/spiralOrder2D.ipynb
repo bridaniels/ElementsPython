{
 "cells": [
  {
   "cell_type": "markdown",
   "id": "e281b560-7dbc-4a0d-b08f-5a3af0498541",
   "metadata": {},
   "source": [
    "# **5.18 Compute the Spiral Ordering of a 2D Array**\n",
    "---"
   ]
  },
  {
   "cell_type": "markdown",
   "id": "85341087-3744-44c2-a238-1a7d70972caa",
   "metadata": {},
   "source": [
    "- 2D Arrays can be written as a sequence in several orders\n",
    "    - most common being: *row-by-row* or *column-by-column*\n",
    "- Take a *`nxn`* 2D array and return the spiral ordering \n",
    "\n",
    "## **Spiral Order**\n",
    "- [1,2,3,6,8,9,7,4,5]\n",
    "- [1,2,3]\n",
    "- [8,9,4]\n",
    "- [7,6,5]\n",
    "\n",
    "---"
   ]
  },
  {
   "cell_type": "markdown",
   "id": "0c61e968-eb07-4756-aacd-58112c3ca504",
   "metadata": {},
   "source": [
    "## Spiral Boundaries\n",
    "- add first `n-1` elements of the first row \n",
    "- add first `n-1` elements of last column\n",
    "- add last `n-1` elements of the last row in **REVERSE ORDER**"
   ]
  },
  {
   "cell_type": "code",
   "execution_count": 34,
   "id": "3aa3ad01-d236-4096-8b4c-61dfc0e295c4",
   "metadata": {},
   "outputs": [],
   "source": [
    "def matrix_spiral(matrix: List[List[int]]) -> List[int]:\n",
    "    \n",
    "    \n",
    "    def layer_clockwise(offset):\n",
    "        if offset == len(matrix) - offset - 1:\n",
    "            # matrix has odd dimension -> center of matrix \n",
    "            # 1x1 matrix -> returns final value \n",
    "            s_ordering.append(matrix[offset][offset])\n",
    "            return \n",
    "        \n",
    "        # offset = 0\n",
    "        # first two elements of the first row \n",
    "        # matrix[0][0:-1]\n",
    "        # (1,2)\n",
    "        s_ordering.extend(matrix[offset][offset : -1-offset])\n",
    "        \n",
    "        # first two elements of the last column \n",
    "        # zip makes matrix an iterator of tuples -> list makes it print \n",
    "        # list(zip(*matrix))[-1][0:-1] \n",
    "        # (3,4)\n",
    "        s_ordering.extend(list(zip(*matrix))[-1 - offset][offset:-1 - offset])\n",
    "        \n",
    "        \n",
    "        # last two elements of middle row in REVERSE order \n",
    "        # matrix[-1][-1:0:-1]\n",
    "        # [5,6]\n",
    "        s_ordering.extend(matrix[-1 - offset][-1 - offset:offset: -1])\n",
    "        \n",
    "        \n",
    "        # REVERSE ORDER \n",
    "        # list(zip(*matrix))[0][-1:0:-1]\n",
    "        # (7,8)\n",
    "        s_ordering.extend(list(zip(*matrix))[offset][-1 - offset:offset: -1])\n",
    "      \n",
    "    \n",
    "    \n",
    "    s_ordering: List[int] = []\n",
    "    for offset in range((len(matrix)+1) // 2): # `+1` and `//` make it even\n",
    "        layer_clockwise(offset)\n",
    "    return s_ordering "
   ]
  },
  {
   "cell_type": "code",
   "execution_count": 65,
   "id": "8769769f-2404-4192-ab3f-e7855f589c6f",
   "metadata": {},
   "outputs": [
    {
     "data": {
      "text/plain": [
       "[1, 2, 3, 4, 5, 6, 7, 8, 9]"
      ]
     },
     "execution_count": 65,
     "metadata": {},
     "output_type": "execute_result"
    }
   ],
   "source": [
    "spiral = [[1,2,3],[8,9,4],[7,6,5]]\n",
    "\n",
    "matrix_spiral(spiral)"
   ]
  },
  {
   "cell_type": "code",
   "execution_count": 48,
   "id": "69814d3f-c077-4ed5-99d4-c2da424c6b50",
   "metadata": {},
   "outputs": [],
   "source": [
    "def offset(length: int) -> List[int]:\n",
    "    offsetInt = []\n",
    "    for offset in range((length+1)//2):\n",
    "        offsetInt.append(offset)\n",
    "        offset += 1\n",
    "    return offsetInt"
   ]
  },
  {
   "cell_type": "code",
   "execution_count": 52,
   "id": "42c1681e-a932-4032-a226-68a34d44e0c4",
   "metadata": {},
   "outputs": [
    {
     "name": "stdout",
     "output_type": "stream",
     "text": [
      "offset range = [0, 1]\n",
      "[1, 2] (3, 4) [5, 6] (7, 8) 9\n"
     ]
    }
   ],
   "source": [
    "off = offset(len(spiral))\n",
    "first = spiral[0][0:-1]\n",
    "second = list(zip(*spiral))[-1][0:-1]\n",
    "third = spiral[-1-0][-1-0:0:-1]\n",
    "fourth = list(zip(*spiral))[0][-1: 0: -1]\n",
    "fiftha = len(spiral) - off[1] - 1\n",
    "fifth = spiral[fiftha][fiftha]\n",
    "print(f\"offset range = {off}\")\n",
    "print(first,second,third,fourth,fifth)"
   ]
  },
  {
   "cell_type": "code",
   "execution_count": 53,
   "id": "5f8cd968-6bba-4f7c-947d-49f7ed8345d3",
   "metadata": {},
   "outputs": [
    {
     "data": {
      "text/plain": [
       "[('John', 'Jenny'), ('Charles', 'Christy'), ('Mike', 'Monica')]"
      ]
     },
     "execution_count": 53,
     "metadata": {},
     "output_type": "execute_result"
    }
   ],
   "source": [
    "# zip(*iterator)\n",
    "a = (\"John\", \"Charles\", \"Mike\")\n",
    "b = (\"Jenny\", \"Christy\", \"Monica\")\n",
    "list(zip(a, b))"
   ]
  },
  {
   "cell_type": "markdown",
   "id": "392dd097-5c3e-4411-b857-fc17e2b996fe",
   "metadata": {},
   "source": [
    "##### Time Complexity: `O(n²)`\n",
    "- first `n` = extracting values from matrix\n",
    "- second `n` = adding values to new list \n",
    "\n",
    "---"
   ]
  },
  {
   "cell_type": "markdown",
   "id": "32e0284f-394a-4316-83ab-3367163da6a3",
   "metadata": {},
   "source": [
    "## Single Iteration \n",
    "- Right -> Down -> Left -> Up\n",
    "- Record elements already having been processed to `0` (or any value not in the array)"
   ]
  },
  {
   "cell_type": "code",
   "execution_count": 63,
   "id": "e91fd5d0-239e-4b93-8a3c-8a8be01caf30",
   "metadata": {},
   "outputs": [],
   "source": [
    "def single_iteration(matrix: List[List[int]]) -> List[int]:\n",
    "    \n",
    "    shift = ((0,1),(1,0),(0,-1),(-1,0))\n",
    "    direction = x = y = 0 \n",
    "    s_ordering = []\n",
    "    \n",
    "    for _ in range(len(matrix)**2):\n",
    "        s_ordering.append(matrix[x][y])\n",
    "        matrix[x][y] = 0 \n",
    "        \n",
    "        # = 0+0, 0+1 -> y shift \n",
    "        next_x, next_y = x+shift[direction][0], y+shift[direction][1]\n",
    "        \n",
    "        if (next_x not in range(len(matrix)) \n",
    "            or next_y not in range(len(matrix)) \n",
    "            or matrix[next_x][next_y] == 0): \n",
    "            \n",
    "            # (0+1)&3 = 1 -> (1+1)&3 = 2\n",
    "            # (2+1)&3 = 3 -> (3+1)&3 = 4\n",
    "            # (4+1)&3 = 1\n",
    "            direction = (direction + 1) & 3 \n",
    "            \n",
    "            next_x, next_y = x+shift[direction][0], y+shift[direction][1]\n",
    "        x,y = next_x, next_y\n",
    "    return s_ordering "
   ]
  },
  {
   "cell_type": "code",
   "execution_count": 67,
   "id": "f8927f3f-d5ba-44ce-b293-c2ec107c6c3f",
   "metadata": {},
   "outputs": [
    {
     "data": {
      "text/plain": [
       "[1, 2, 3, 4, 5, 6, 7, 8, 9]"
      ]
     },
     "execution_count": 67,
     "metadata": {},
     "output_type": "execute_result"
    }
   ],
   "source": [
    "spiral = [[1,2,3],[8,9,4],[7,6,5]]\n",
    "\n",
    "single_iteration(spiral)"
   ]
  },
  {
   "cell_type": "markdown",
   "id": "fa38e9f2-4b77-4f7b-8ea7-80bcbcbd7cd2",
   "metadata": {},
   "source": [
    "##### Time Complexity: `O(n²)`\n",
    "- iterating through spiral -> changing elements to `0`\n",
    "- appending elements to new array "
   ]
  },
  {
   "cell_type": "markdown",
   "id": "6d0ecdb8-696f-4780-89d6-de2bfe92954e",
   "metadata": {},
   "source": [
    "---\n",
    "## Variant 1"
   ]
  },
  {
   "cell_type": "code",
   "execution_count": null,
   "id": "b6491683-80b0-41ad-b09c-1b2487df299e",
   "metadata": {},
   "outputs": [],
   "source": []
  }
 ],
 "metadata": {
  "kernelspec": {
   "display_name": "Python 3",
   "language": "python",
   "name": "python3"
  },
  "language_info": {
   "codemirror_mode": {
    "name": "ipython",
    "version": 3
   },
   "file_extension": ".py",
   "mimetype": "text/x-python",
   "name": "python",
   "nbconvert_exporter": "python",
   "pygments_lexer": "ipython3",
   "version": "3.8.8"
  }
 },
 "nbformat": 4,
 "nbformat_minor": 5
}
