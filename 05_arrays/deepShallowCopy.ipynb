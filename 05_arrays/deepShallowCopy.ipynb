{
 "cells": [
  {
   "cell_type": "markdown",
   "id": "56860896-3011-4e44-a55b-7531230f5d86",
   "metadata": {},
   "source": [
    "# **Deep Copy V. Shallow Copy**\n",
    "- assignment statements do not copy objects\n",
    "    - create bindings between a target and an object \n",
    "    - `=` creates a new variable that shares the reference of the original object \n",
    "- use *copy* module"
   ]
  },
  {
   "cell_type": "code",
   "execution_count": 1,
   "id": "a16dd76a-ad01-4f00-99c8-53b09590116f",
   "metadata": {},
   "outputs": [],
   "source": [
    "import copy"
   ]
  },
  {
   "cell_type": "markdown",
   "id": "086a6e5f-0e75-41e7-a33e-98c12a8c9bda",
   "metadata": {},
   "source": [
    "---\n",
    "### `copy.copy()` returns a **Shallow Copy**\n",
    "- constructing a new collection object\n",
    "- poulating with **references** to the child objects from original \n",
    "- reference of child object is copied into new object \n",
    "- changes made in original array reflect in the original object "
   ]
  },
  {
   "cell_type": "code",
   "execution_count": 3,
   "id": "fe520cde-3886-4e1c-9f0b-8f30bcb8b14c",
   "metadata": {},
   "outputs": [
    {
     "name": "stdout",
     "output_type": "stream",
     "text": [
      ".copy(x) = [1, 2, [7, 4], 5]\n",
      "       x = [1, 2, [7, 4], 5]\n"
     ]
    }
   ],
   "source": [
    "x = [1 ,2, [3,4], 5]\n",
    "\n",
    "#shallow copy \n",
    "x_shallow = copy.copy(x)\n",
    "\n",
    "# change element in shallow copy \n",
    "x_shallow[2][0] = 7 \n",
    "\n",
    "print(f\".copy(x) = {x_shallow}\")\n",
    "print(f\"       x = {x}\")"
   ]
  },
  {
   "cell_type": "markdown",
   "id": "216ae199-2f17-435e-90f4-e1bd8719054c",
   "metadata": {},
   "source": [
    "---\n",
    "### `copy.deepcopy()` returns a Deep Copy\n",
    "- copying process occurs **recursively**\n",
    "- first constructing a new collection object \n",
    "- recursively populating it with copies of the child objects from original \n",
    "- a copy of the original object is copied into the other object \n",
    "- changes made to deep copy **do NOT** reflect in the orignal object "
   ]
  },
  {
   "cell_type": "code",
   "execution_count": 4,
   "id": "1c84168c-6a92-455c-8c76-7aee06203993",
   "metadata": {},
   "outputs": [
    {
     "name": "stdout",
     "output_type": "stream",
     "text": [
      ".deepcopy(x) = [1, 2, [7, 4], 5]\n",
      "           x = [1, 2, [3, 4], 5]\n"
     ]
    }
   ],
   "source": [
    "x = [1 ,2, [3,4], 5]\n",
    "\n",
    "#deep copy \n",
    "x_deep = copy.deepcopy(x)\n",
    "\n",
    "# change element in deep copy \n",
    "x_deep[2][0] = 7\n",
    "\n",
    "print(f\".deepcopy(x) = {x_deep}\")\n",
    "print(f\"           x = {x}\")"
   ]
  },
  {
   "cell_type": "code",
   "execution_count": null,
   "id": "2ff01132-f597-4970-a998-9af3be1472f8",
   "metadata": {},
   "outputs": [],
   "source": []
  }
 ],
 "metadata": {
  "kernelspec": {
   "display_name": "Python 3",
   "language": "python",
   "name": "python3"
  },
  "language_info": {
   "codemirror_mode": {
    "name": "ipython",
    "version": 3
   },
   "file_extension": ".py",
   "mimetype": "text/x-python",
   "name": "python",
   "nbconvert_exporter": "python",
   "pygments_lexer": "ipython3",
   "version": "3.8.8"
  }
 },
 "nbformat": 4,
 "nbformat_minor": 5
}
