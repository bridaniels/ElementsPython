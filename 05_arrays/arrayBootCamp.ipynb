{
 "cells": [
  {
   "cell_type": "markdown",
   "id": "9ad3b109-04c6-42d1-93a6-98299da2b629",
   "metadata": {},
   "source": [
    "# **Chapter 5: Arrays**\n",
    "---\n",
    "- Simplest data structure is the array \n",
    "- array `A`, `A[i]` denotes the `(i + 1)th` object stored in the array (indexing)\n",
    "    - retrieving and updating take `O(1)` time \n",
    "- Insertion into a full array handled by resizing\n",
    "    - allocating a new array with additional memory and copying over the entries from the original array \n",
    "    - increases worst-case time of insertion \n",
    "    - new array has twice as much space as original \n",
    "        - resizing of the array is infrequent \n",
    "- Deleting/Inserting an Element \n",
    "    - moving all successive elements one over to the left to fill the vacated space \n",
    "    - time complexity: `O(n-i)` to delete element at index `i` from array length `n`\n",
    "    \n",
    "- often times brute force solutions use `O(n)` space, but many in-place solutions that use `O(1)` space\n",
    "- Filling in an array from the back is faster\n",
    "    - other elements don't have to move \n",
    "- rather than delete an entry -> overwrite it \n",
    "- Reverse array so least-significant digit is the first entry (WORK BACKWARDS)\n",
    "- Pull out some subarrays \n",
    "- Watch out for 'off-by-1' errors -> don't read past last element in the array\n",
    "- Integrity of the array does not matter until it is time to return it \n",
    "- Knowing distribution of elements in advance is a major bonus \n",
    "    - Boolean array of len(W) -> make a subset of {0,1...,W-1} \n",
    "    - if {1,2,...,W} -> index the values by W+1\n",
    "- 2D Arrays -> use **parallel logic**\n",
    "- Simulate Specification rather than analytically solve for result \n",
    "    - find the i-th entry in the spiral order for a nxn matrix \n",
    "    - just compute output from beginning \n",
    "---"
   ]
  },
  {
   "cell_type": "markdown",
   "id": "73afdc95-9e8e-43e0-a620-1a2d5e3ce4f7",
   "metadata": {},
   "source": [
    "### Even Entries First\n",
    "- easy if you use `O(n)` space where `n` = length of the array \n",
    "- solve WITHOUT using additional space \n",
    "- partition the array into 3 subarrays:\n",
    "    - even - start empty\n",
    "    - unclassified - start as whole array\n",
    "    - odd - start empty \n",
    "- Iterate through `unclassified` and moving it's elements to the boundaries of even/odd subarrays via swaps"
   ]
  },
  {
   "cell_type": "code",
   "execution_count": 1,
   "id": "f0f29c1b-6fd2-44e2-a5bd-09dea94d7f41",
   "metadata": {},
   "outputs": [],
   "source": [
    "from typing import List\n",
    "\n",
    "def even_odd(A: List[int]) -> None:\n",
    "    # two pointers \n",
    "    next_even, next_odd = 0, len(A)-1\n",
    "    \n",
    "    while next_even < next_odd:\n",
    "        # if even -> keep iterating \n",
    "        if A[next_even] % 2 == 0:\n",
    "            next_even += 1\n",
    "        # if odd -> SWAP\n",
    "        else:\n",
    "            A[next_even], A[next_odd] = A[next_odd], A[next_even]\n",
    "            next_odd -= 1"
   ]
  },
  {
   "cell_type": "code",
   "execution_count": 2,
   "id": "17cc8ee1-4555-485f-a536-c716fcb693df",
   "metadata": {},
   "outputs": [
    {
     "data": {
      "text/plain": [
       "[14, 8, 6, 32, 5, 9, 25, 1]"
      ]
     },
     "execution_count": 2,
     "metadata": {},
     "output_type": "execute_result"
    }
   ],
   "source": [
    "listy = [1,25,6,32,5,8,9,14]\n",
    "even_odd(listy)\n",
    "listy"
   ]
  },
  {
   "cell_type": "markdown",
   "id": "3b19497f-0a1b-41b0-88bb-f90f5bb52535",
   "metadata": {},
   "source": [
    "### Time Complexity: `O(n)`\n",
    "### Space Complexity: `O(1)` or In-Place\n",
    "---"
   ]
  },
  {
   "cell_type": "markdown",
   "id": "b016143a-930f-4146-9bef-a055de957404",
   "metadata": {},
   "source": [
    "## **ARRAY LIBRARIES**\n",
    "- arrays provided by the `list` type \n",
    "    - tuples very similar but are immutable \n",
    "- key property: dynamically-resized \n",
    "    - aka no bounds to how many values can be added to it "
   ]
  },
  {
   "cell_type": "markdown",
   "id": "5805da89-9238-4cf2-a2b1-7e9c49ac1a7b",
   "metadata": {},
   "source": [
    "#### Instantiating a List"
   ]
  },
  {
   "cell_type": "code",
   "execution_count": 3,
   "id": "9d62da23-90a7-410e-bef5-5035332e2352",
   "metadata": {},
   "outputs": [
    {
     "name": "stdout",
     "output_type": "stream",
     "text": [
      " List x: [3, 5, 7, 11], List y: [1, 0, 0, 0, 0, 0, 0, 0, 0, 0, 0], List z: [0, 1, 2, 3, 4, 5, 6, 7, 8, 9, 10, 11, 12, 13, 14, 15, 16, 17, 18, 19, 20, 21, 22, 23, 24]\n"
     ]
    }
   ],
   "source": [
    "# instantiating a list \n",
    "x = [3,5,7,11]\n",
    "y = [1] + [0]*10\n",
    "z = list(range(25))\n",
    "\n",
    "print(f\" List x: {x}, List y: {y}, List z: {z}\")"
   ]
  },
  {
   "cell_type": "markdown",
   "id": "e9e66797-eb37-4577-9650-e6c0beca7609",
   "metadata": {},
   "source": [
    "#### Basic Operations"
   ]
  },
  {
   "cell_type": "code",
   "execution_count": 4,
   "id": "d96d5d0e-15bd-412a-afc8-ff1c09fec85d",
   "metadata": {},
   "outputs": [
    {
     "name": "stdout",
     "output_type": "stream",
     "text": [
      " Length of x: 5, Append 43: [1, 2, 3, 4, 5, 43], Remove 7: [1, 2, 4, 5], Insert 28 at index 3: [1, 2, 3, 28, 4, 5]\n"
     ]
    }
   ],
   "source": [
    "# basic operations \n",
    "a = [1,2,3,4,5]\n",
    "x = len(a)\n",
    "a.append(43)\n",
    "\n",
    "b = [1,2,3,4,5]\n",
    "b.remove(3)\n",
    "\n",
    "c = [1,2,3,4,5]\n",
    "c.insert(3,28)\n",
    "\n",
    "print(f\" Length of x: {x}, Append 43: {a}, Remove 7: {b}, Insert 28 at index 3: {c}\")"
   ]
  },
  {
   "cell_type": "markdown",
   "id": "f45011e5-5014-4319-b549-413c44b5a9a6",
   "metadata": {},
   "source": [
    "#### Instantiate a 2D Array"
   ]
  },
  {
   "cell_type": "code",
   "execution_count": 5,
   "id": "6e78670a-635e-4a64-91ff-1e03439322ee",
   "metadata": {},
   "outputs": [
    {
     "data": {
      "text/plain": [
       "[[1, 2, 3], [4, 3, 2, 9], [3]]"
      ]
     },
     "execution_count": 5,
     "metadata": {},
     "output_type": "execute_result"
    }
   ],
   "source": [
    "# 2D Array\n",
    "k = [[1,2,3],[4,3,2,9],[3]]\n",
    "k"
   ]
  },
  {
   "cell_type": "markdown",
   "id": "41ed7f97-90d1-4f3e-ad52-03be1842cfb5",
   "metadata": {},
   "source": [
    "#### Check if Value is Present in an Array"
   ]
  },
  {
   "cell_type": "code",
   "execution_count": 6,
   "id": "c26a2b89-2e1a-4d68-89b6-c915cbc12a13",
   "metadata": {},
   "outputs": [
    {
     "name": "stdout",
     "output_type": "stream",
     "text": [
      "True\n",
      "False\n"
     ]
    }
   ],
   "source": [
    "# If Value is Present\n",
    "def is_present(array: List[int], x: int) -> bool: \n",
    "    if x in array:\n",
    "        return True\n",
    "    else:\n",
    "        return False\n",
    "print(is_present(a,5))\n",
    "print(is_present(b,3))  "
   ]
  },
  {
   "cell_type": "markdown",
   "id": "71957df1-6219-46ec-af6c-309c5e4b7446",
   "metadata": {},
   "source": [
    "#### Copying Array\n",
    "- deep copy \n",
    "- shallow copy"
   ]
  },
  {
   "cell_type": "code",
   "execution_count": 7,
   "id": "89a0a2c7-ed2c-41ac-ae3c-5738f41fd874",
   "metadata": {},
   "outputs": [
    {
     "name": "stdout",
     "output_type": "stream",
     "text": [
      "B = X: [1, 2, 3, 4, 5]\n",
      "b = list(X): [1, 2, 3, 4, 5]\n"
     ]
    }
   ],
   "source": [
    "# Copying Array\n",
    "X = [1,2,3,4,5]\n",
    "B = X\n",
    "b = list(X)\n",
    "\n",
    "print(f\"B = X: {B}\")\n",
    "print(f\"b = list(X): {b}\")"
   ]
  },
  {
   "cell_type": "code",
   "execution_count": 8,
   "id": "f8f165c5-88ec-46d6-87e9-b6f3abb2ec46",
   "metadata": {},
   "outputs": [
    {
     "ename": "NameError",
     "evalue": "name 'copy' is not defined",
     "output_type": "error",
     "traceback": [
      "\u001b[0;31m---------------------------------------------------------------------------\u001b[0m",
      "\u001b[0;31mNameError\u001b[0m                                 Traceback (most recent call last)",
      "\u001b[0;32m<ipython-input-8-b5c275f4aa82>\u001b[0m in \u001b[0;36m<module>\u001b[0;34m\u001b[0m\n\u001b[1;32m      1\u001b[0m \u001b[0;31m# Copy VS. Deep Copy\u001b[0m\u001b[0;34m\u001b[0m\u001b[0;34m\u001b[0m\u001b[0;34m\u001b[0m\u001b[0m\n\u001b[0;32m----> 2\u001b[0;31m \u001b[0mc\u001b[0m \u001b[0;34m=\u001b[0m \u001b[0mcopy\u001b[0m\u001b[0;34m.\u001b[0m\u001b[0mcopy\u001b[0m\u001b[0;34m(\u001b[0m\u001b[0mX\u001b[0m\u001b[0;34m)\u001b[0m\u001b[0;34m\u001b[0m\u001b[0;34m\u001b[0m\u001b[0m\n\u001b[0m\u001b[1;32m      3\u001b[0m \u001b[0mdc\u001b[0m \u001b[0;34m=\u001b[0m \u001b[0mcopy\u001b[0m\u001b[0;34m.\u001b[0m\u001b[0mdeepcopy\u001b[0m\u001b[0;34m(\u001b[0m\u001b[0mX\u001b[0m\u001b[0;34m)\u001b[0m\u001b[0;34m\u001b[0m\u001b[0;34m\u001b[0m\u001b[0m\n",
      "\u001b[0;31mNameError\u001b[0m: name 'copy' is not defined"
     ]
    }
   ],
   "source": [
    "# Copy VS. Deep Copy\n",
    "c = copy.copy(X)\n",
    "dc = copy.deepcopy(X)"
   ]
  },
  {
   "cell_type": "markdown",
   "id": "13bf6f40-a60c-4058-84a6-2dcdcebae80f",
   "metadata": {},
   "source": [
    "#### Key Methods"
   ]
  },
  {
   "cell_type": "code",
   "execution_count": 9,
   "id": "8d271c2b-099e-4669-95fb-4ebeaaeed408",
   "metadata": {},
   "outputs": [
    {
     "name": "stdout",
     "output_type": "stream",
     "text": [
      " min: 1, max: 57\n",
      "reversed: <list_reverseiterator object at 0x7f9b61853310>, A.reverse(): [57, 3, 54, 1, 2, 3, 6, 4, 2, 1]\n",
      " sorted(A): [1, 1, 2, 2, 3, 3, 4, 6, 54, 57], A.sort(): [1, 1, 2, 2, 3, 3, 4, 6, 54, 57]\n",
      " del A[1]: [1, 4, 6, 3, 2, 1, 54, 3, 57]\n"
     ]
    }
   ],
   "source": [
    "# Key Methods \n",
    "A = [1,2,4,6,3,2,1,54,3,57]\n",
    "B = [1,2,4,6,3,2,1,54,3,57]\n",
    "C = [1,2,4,6,3,2,1,54,3,57]\n",
    "D = [1,2,4,6,3,2,1,54,3,57]\n",
    "E = [1,2,4,6,3,2,1,54,3,57]\n",
    "\n",
    "a = min(A)\n",
    "b = max(A)\n",
    "\n",
    "c = reversed(B) # returns iterator \n",
    "C.reverse() # in-place\n",
    "\n",
    "d = sorted(D) # returns a copy\n",
    "E.sort() # in-place\n",
    "\n",
    "del A[1] \n",
    "# del A[i:j] -> removes slice\n",
    "\n",
    "\n",
    "print(f\" min: {a}, max: {b}\") \n",
    "print(f\"reversed: {c}, A.reverse(): {C}\")\n",
    "print(f\" sorted(A): {d}, A.sort(): {E}\")\n",
    "print(f\" del A[1]: {A}\")"
   ]
  },
  {
   "cell_type": "markdown",
   "id": "7108f26c-fc9e-476a-9122-9cbc4e5bd399",
   "metadata": {},
   "source": [
    "#### Binary Search "
   ]
  },
  {
   "cell_type": "code",
   "execution_count": 10,
   "id": "d6403da4-bd23-49ef-849a-f2f354938ef0",
   "metadata": {},
   "outputs": [],
   "source": [
    "import bisect \n",
    "# Binary Search"
   ]
  },
  {
   "cell_type": "code",
   "execution_count": 11,
   "id": "f67d1cf6-4667-4e88-9b84-ad9b76053ad4",
   "metadata": {},
   "outputs": [
    {
     "data": {
      "text/plain": [
       "9"
      ]
     },
     "execution_count": 11,
     "metadata": {},
     "output_type": "execute_result"
    }
   ],
   "source": [
    "A = [1,32,43,6,3,2,1,54,3,57]\n",
    "k = bisect.bisect(A,6)\n",
    "k"
   ]
  },
  {
   "cell_type": "code",
   "execution_count": 12,
   "id": "e8a4d23f-a9bb-4fe9-afa3-ac29e74d4f01",
   "metadata": {},
   "outputs": [
    {
     "data": {
      "text/plain": [
       "9"
      ]
     },
     "execution_count": 12,
     "metadata": {},
     "output_type": "execute_result"
    }
   ],
   "source": [
    "A = [1,32,43,6,3,2,1,54,3,57]\n",
    "l = bisect.bisect_left(A,6)\n",
    "l"
   ]
  },
  {
   "cell_type": "code",
   "execution_count": 13,
   "id": "72f015da-0467-493c-86de-3c422748cf68",
   "metadata": {},
   "outputs": [
    {
     "data": {
      "text/plain": [
       "9"
      ]
     },
     "execution_count": 13,
     "metadata": {},
     "output_type": "execute_result"
    }
   ],
   "source": [
    "A = [1,32,43,6,3,2,1,54,3,57]\n",
    "m = bisect.bisect_right(A,6)\n",
    "m"
   ]
  },
  {
   "cell_type": "markdown",
   "id": "c53f577e-5eac-4ba3-9395-fbbfeb6f3417",
   "metadata": {},
   "source": [
    "#### Slicing"
   ]
  },
  {
   "cell_type": "code",
   "execution_count": 14,
   "id": "3b159deb-d3c9-4d1c-9873-051fb3881b89",
   "metadata": {},
   "outputs": [
    {
     "name": "stdout",
     "output_type": "stream",
     "text": [
      "normal: [3, 4, 5, 6],[1, 2, 3, 4], reversed: [1, 2, 3, 4, 5],[4, 5, 6]\n",
      "normal: [3, 4],[2, 4], reversed: [6, 4]\n",
      "reversed list: [6, 5, 4, 3, 2, 1]\n",
      "rotated list: [4, 5, 6, 1, 2, 3]\n"
     ]
    }
   ],
   "source": [
    "# Slicing \n",
    "# A = [1,6,3,4,5,2]\n",
    "A = [1,2,3,4,5,6]\n",
    "\n",
    "\n",
    "a = A[2:]\n",
    "b = A[:4]\n",
    "c = A[:-1]\n",
    "d = A[-3:]\n",
    "\n",
    "e = A[2:4]\n",
    "f = A[1:5:2]\n",
    "h = A[5:1:-2]\n",
    "\n",
    "i = A[::-1] # reverses list\n",
    "\n",
    "k = 3\n",
    "j = A[k:] + A[:k] # rotates list by k\n",
    "\n",
    "print(f\"normal: {a},{b}, reversed: {c},{d}\")\n",
    "print(f\"normal: {e},{f}, reversed: {h}\")\n",
    "print(f\"reversed list: {i}\")\n",
    "print(f\"rotated list: {j}\")"
   ]
  },
  {
   "cell_type": "markdown",
   "id": "84e5b290-34c6-4708-b477-82cf8bd0da66",
   "metadata": {},
   "source": [
    "___"
   ]
  },
  {
   "cell_type": "markdown",
   "id": "9eabc5cc-bd18-4758-a74a-874185d19337",
   "metadata": {},
   "source": [
    "## List Comprehension\n",
    "- way to create lists \n",
    "- consists of:\n",
    "    - input sequence\n",
    "    - iterator over input sequence\n",
    "    - logical condition over the iterator (optional)\n",
    "    - expression that yields the elements of the derived list \n",
    "- best to avoid more than two nested comprehensions \n",
    "    - use conventional nested loops \n",
    "    - indentations make it easier to program \n",
    "- sets and dictionaries also support list comprehension with same benefits \n",
    "- can always be rewritten using `map()`, `filter()`, and `lambdas`, but easier to read in the above formatting"
   ]
  },
  {
   "cell_type": "code",
   "execution_count": 15,
   "id": "aad89bab-9950-4933-9ad8-7599ef5bf4b6",
   "metadata": {},
   "outputs": [
    {
     "name": "stdout",
     "output_type": "stream",
     "text": [
      "[0, 1, 4, 9, 16, 25]\n",
      "[0, 4, 16]\n"
     ]
    }
   ],
   "source": [
    "# List Comprehension\n",
    "x = [x**2 for x in range(6)]\n",
    "y = [x**2 for x in range(6) if x % 2 == 0]\n",
    "\n",
    "print(x)\n",
    "print(y)"
   ]
  },
  {
   "cell_type": "markdown",
   "id": "cace1b55-9dac-4d9c-ad5d-71c59fd91ded",
   "metadata": {},
   "source": [
    "##### supports multiple levels of looping "
   ]
  },
  {
   "cell_type": "code",
   "execution_count": 16,
   "id": "4c1c36fb-f616-4e13-a3a9-0957edfdd432",
   "metadata": {},
   "outputs": [
    {
     "data": {
      "text/plain": [
       "[(1, 'a'), (1, 'b'), (3, 'a'), (3, 'b'), (5, 'a'), (5, 'b')]"
      ]
     },
     "execution_count": 16,
     "metadata": {},
     "output_type": "execute_result"
    }
   ],
   "source": [
    "# multiple levels of looping \n",
    "A = [1,3,5]\n",
    "B = ['a','b']\n",
    "ab = [(x,y) for x in A for y in B]\n",
    "ab"
   ]
  },
  {
   "cell_type": "markdown",
   "id": "5608be3e-e377-4b1f-9bdc-46ecf404b5fc",
   "metadata": {},
   "source": [
    "##### can convert a 2D list into a 1D list "
   ]
  },
  {
   "cell_type": "code",
   "execution_count": 17,
   "id": "af2f0fc3-177e-4a29-97d3-d23ab96a3e7e",
   "metadata": {},
   "outputs": [
    {
     "data": {
      "text/plain": [
       "['a', 'b', 'c', 1, 2, 3]"
      ]
     },
     "execution_count": 17,
     "metadata": {},
     "output_type": "execute_result"
    }
   ],
   "source": [
    "# 2D to 1D\n",
    "M2 = [['a','b','c'],[1,2,3]]\n",
    "m1 = [x for row in M2 for x in row]\n",
    "m1"
   ]
  },
  {
   "cell_type": "markdown",
   "id": "42863882-df1e-4c14-b12c-e464f575c1db",
   "metadata": {},
   "source": [
    "##### Iterate over 2D Array"
   ]
  },
  {
   "cell_type": "code",
   "execution_count": 18,
   "id": "405d636c-0e53-42c1-a57a-5206d1207c11",
   "metadata": {},
   "outputs": [
    {
     "data": {
      "text/plain": [
       "[[16, 25, 36], [1, 4, 9]]"
      ]
     },
     "execution_count": 18,
     "metadata": {},
     "output_type": "execute_result"
    }
   ],
   "source": [
    "# Iterate over 2D \n",
    "D2 = [[4,5,6],[1,2,3]]\n",
    "d2 = [[x**2 for x in row] for row in D2]\n",
    "d2"
   ]
  },
  {
   "cell_type": "code",
   "execution_count": null,
   "id": "e629eaeb-18fe-4767-a83d-dd5790da9a2b",
   "metadata": {},
   "outputs": [],
   "source": []
  }
 ],
 "metadata": {
  "kernelspec": {
   "display_name": "Python 3",
   "language": "python",
   "name": "python3"
  },
  "language_info": {
   "codemirror_mode": {
    "name": "ipython",
    "version": 3
   },
   "file_extension": ".py",
   "mimetype": "text/x-python",
   "name": "python",
   "nbconvert_exporter": "python",
   "pygments_lexer": "ipython3",
   "version": "3.8.8"
  }
 },
 "nbformat": 4,
 "nbformat_minor": 5
}
