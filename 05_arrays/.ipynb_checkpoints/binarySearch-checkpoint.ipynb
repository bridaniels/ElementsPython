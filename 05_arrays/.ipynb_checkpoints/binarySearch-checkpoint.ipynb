{
 "cells": [
  {
   "cell_type": "markdown",
   "id": "70691587-7307-4d22-96d0-af77513f5091",
   "metadata": {},
   "source": [
    "# **Binary Search**\n",
    "---\n",
    "- given sorted `array[]` of `n` elements \n",
    "- compare `x` with middle element \n",
    "- `x = middle` -> `return middle` "
   ]
  },
  {
   "cell_type": "markdown",
   "id": "30a1c2aa-1faa-45d2-a16c-f62d55416e15",
   "metadata": {},
   "source": [
    "---\n",
    "### **Calculating `mid`**\n",
    "##### `mid = (low+high)//2`\n",
    "- fails for larger values \n",
    "- fails if the sum of low and high is greater than max values \n",
    "- sum overflows bounds of array \n",
    "- ArrayIndexOutOfBoundException \n",
    "\n",
    "##### `mid = low + (high-low)//2`\n",
    "- stays within bounds "
   ]
  },
  {
   "cell_type": "markdown",
   "id": "5e861e7c-369d-4e59-80ed-543f77fece63",
   "metadata": {},
   "source": [
    "---\n",
    "## Recursive:\n",
    "- two pointer recursive search\n",
    "    - `x > middle` = `R(...mid + 1, high)` recall function for right side \n",
    "    - `x < middle` = `R(...low, mid - 1)`  recall function for left side "
   ]
  },
  {
   "cell_type": "code",
   "execution_count": 1,
   "id": "08151f61-b990-4e84-9be0-e0c9bd2d1623",
   "metadata": {},
   "outputs": [],
   "source": [
    "def binary_recursive(array,x,low,high):\n",
    "    \n",
    "    if low <= high:\n",
    "        mid = low + (high-low)//2 # keeps it an integer rather than float and in bounds\n",
    "        \n",
    "        if array[mid] == x:\n",
    "            return mid \n",
    "        \n",
    "        elif arr[mid] > x:\n",
    "            return binary_recursive(array,x,low,mid-1) # recursively call left side\n",
    "        \n",
    "        else:\n",
    "            return binary_recursive(array,x,mid+1,high) # recursively call right side \n",
    "        \n",
    "    else:\n",
    "        return -1"
   ]
  },
  {
   "cell_type": "code",
   "execution_count": 2,
   "id": "bc6924ea-9e54-43de-a5c1-5b59ea24d468",
   "metadata": {},
   "outputs": [
    {
     "name": "stdout",
     "output_type": "stream",
     "text": [
      "Element 10 is present at index 3\n"
     ]
    }
   ],
   "source": [
    "arr = [2,3,4,10,40]\n",
    "x = 10\n",
    "\n",
    "answer = binary_recursive(arr,x,0,len(arr)-1)\n",
    "print(f\"Element {x} is present at index {answer}\")"
   ]
  },
  {
   "cell_type": "markdown",
   "id": "be40e35c-ae49-458f-b700-805d70c60f50",
   "metadata": {},
   "source": [
    "#### Time Complexity: `O(n/2) + c`\n",
    "#### Space Complexity: `0(log n)`"
   ]
  },
  {
   "cell_type": "markdown",
   "id": "af1a8d9b-6f59-465f-abbf-fb0d9fc55df2",
   "metadata": {},
   "source": [
    "---\n",
    "## Iterative:\n",
    "- two pointer iterative search\n",
    "    - `x > middle` = `low = mid + 1` iterate on right side \n",
    "    - `x < middle` = `high = mid - 1`  iterate on left side "
   ]
  },
  {
   "cell_type": "code",
   "execution_count": 3,
   "id": "89ade56c-6f07-45d2-a092-04dccbb45629",
   "metadata": {},
   "outputs": [],
   "source": [
    "def binary_iterative(array,x):\n",
    "    low = 0\n",
    "    high = len(array) - 1\n",
    "    mid = 0 \n",
    "    \n",
    "    while low <= high:\n",
    "        \n",
    "        mid = low + (high - low)//2 # keeps it an integer rather than float and in bounds\n",
    "        \n",
    "        if array[mid] > x:\n",
    "            high = mid - 1  # traverse right \n",
    "            \n",
    "        elif array[mid] < x:\n",
    "            low = mid + 1 # traverse left \n",
    "            \n",
    "        else:\n",
    "            return mid\n",
    "    return -1 "
   ]
  },
  {
   "cell_type": "code",
   "execution_count": 4,
   "id": "ff01ee81-b39f-422d-81b0-a41b2ca3d27b",
   "metadata": {},
   "outputs": [
    {
     "name": "stdout",
     "output_type": "stream",
     "text": [
      "Element 10 is present at index 3\n"
     ]
    }
   ],
   "source": [
    "arr = [2,3,4,10,40]\n",
    "x = 10\n",
    "\n",
    "it_ans = binary_iterative(arr,x)\n",
    "print(f\"Element {x} is present at index {it_ans}\")"
   ]
  },
  {
   "cell_type": "markdown",
   "id": "f6995440-6dd7-443b-80f6-803d0d0d6f38",
   "metadata": {},
   "source": [
    "#### Time Complexity: `O(n/2) + c`\n",
    "#### Space Complexity: `0(1)`\n",
    "---"
   ]
  },
  {
   "cell_type": "markdown",
   "id": "38508732-a625-4649-861f-4eca422e02a6",
   "metadata": {},
   "source": [
    "---\n",
    "# **Bisect Library:**\n",
    "- find position in list where an element needs to be inserted to keep the list sorted\n",
    "\n",
    "#### Time Complexity: `O(log(n))`\n",
    "- works on concept of **binary search** "
   ]
  },
  {
   "cell_type": "code",
   "execution_count": 5,
   "id": "df463a82-b02f-4ce1-ab1e-8d7427acacba",
   "metadata": {},
   "outputs": [],
   "source": [
    "import bisect"
   ]
  },
  {
   "cell_type": "markdown",
   "id": "3aef740a-ddc8-4a0b-af7d-1374d126926c",
   "metadata": {},
   "source": [
    "---\n",
    "### `bisect(list,num,beg,end)` \n",
    "    - returns position in the sorted list where the number passed in the argument can be inserted\n",
    "    - maintains sorted order \n",
    "    - if element already in the list:\n",
    "        - right most position will be returned "
   ]
  },
  {
   "cell_type": "code",
   "execution_count": 6,
   "id": "392f80c9-6f29-4c09-a01e-7bcc56941d1e",
   "metadata": {},
   "outputs": [
    {
     "name": "stdout",
     "output_type": "stream",
     "text": [
      "[1, 1, 2, 3, 3, 6, 32, 43, 54, 57]\n",
      "[0, 1, 2, 3, 4, 5, 6, 7, 8, 9]\n",
      "element 6 at index to insert 6\n"
     ]
    }
   ],
   "source": [
    "A = [1,32,43,6,3,2,1,54,3,57]\n",
    "A.sort()\n",
    "k = bisect.bisect(A,6)\n",
    "print(A)\n",
    "print([i for i,n in enumerate(A)])\n",
    "print(f\"element 6 at index to insert {k}\")"
   ]
  },
  {
   "cell_type": "markdown",
   "id": "3393dafc-1856-4dca-8c38-211e5dbe88a1",
   "metadata": {},
   "source": [
    "---\n",
    "### `bisect_left(list,num,beg,end)`\n",
    "    - returns position in the sorted list where the number passed in the argument can be placed to maintain the sorted order \n",
    "    - if element already in the list:\n",
    "        - left most position will be returned "
   ]
  },
  {
   "cell_type": "code",
   "execution_count": 7,
   "id": "a592af09-ea67-4ab2-90a0-17836c0a20d2",
   "metadata": {},
   "outputs": [
    {
     "name": "stdout",
     "output_type": "stream",
     "text": [
      "[1, 1, 2, 3, 3, 6, 32, 43, 54, 57]\n",
      "[0, 1, 2, 3, 4, 5, 6, 7, 8, 9]\n",
      "element 1 at left  index to insert 0\n"
     ]
    }
   ],
   "source": [
    "A = [1,32,43,6,3,2,1,54,3,57]\n",
    "A.sort()\n",
    "l = bisect.bisect_left(A,1)\n",
    "print(A)\n",
    "print([i for i,n in enumerate(A)])\n",
    "print(f\"element 1 at left  index to insert {l}\")"
   ]
  },
  {
   "cell_type": "markdown",
   "id": "34b83d88-75a1-4467-8c79-e12cc9b29c5e",
   "metadata": {},
   "source": [
    "---\n",
    "### `bisect_right(list,num,beg,end)`\n",
    "    - works similarly to `bisect()`"
   ]
  },
  {
   "cell_type": "code",
   "execution_count": 8,
   "id": "06d1f32b-c2e7-4a19-ac45-3137747d11bf",
   "metadata": {},
   "outputs": [
    {
     "name": "stdout",
     "output_type": "stream",
     "text": [
      "[1, 1, 2, 3, 3, 6, 32, 43, 54, 57]\n",
      "[0, 1, 2, 3, 4, 5, 6, 7, 8, 9]\n",
      "element 1 at right index to insert 2\n"
     ]
    }
   ],
   "source": [
    "A = [1,32,43,6,3,2,1,54,3,57]\n",
    "A.sort()\n",
    "r = bisect.bisect_right(A,1)\n",
    "print(A)\n",
    "print([i for i,n in enumerate(A)])\n",
    "print(f\"element 1 at right index to insert {r}\")"
   ]
  },
  {
   "cell_type": "markdown",
   "id": "08691f39-76b9-465b-98fa-e90ffc5e5afb",
   "metadata": {},
   "source": [
    "---\n",
    "## **Insort **\n",
    "- return sorted list with inserted element \n",
    "- not just index the element would be at\n",
    "\n",
    "#### Time Complexity: `O(n)`\n",
    "- inserting element in a sorted array requires a traversal "
   ]
  },
  {
   "cell_type": "markdown",
   "id": "a395cc28-3928-4666-957f-17ff8923624d",
   "metadata": {},
   "source": [
    "---"
   ]
  },
  {
   "cell_type": "markdown",
   "id": "44758271-74d2-4969-aaaa-86cd9bf51b90",
   "metadata": {},
   "source": [
    "#### `insort(list,num,beg,end)` and `insort_right(list,num,beg,end)`\n",
    "- returns sorted lista after inserting number in appropriate position \n",
    "- element inserted at rightmost position "
   ]
  },
  {
   "cell_type": "code",
   "execution_count": 9,
   "id": "aee01642-b947-4dd2-93e4-a2073c5f6817",
   "metadata": {},
   "outputs": [],
   "source": [
    "import copy"
   ]
  },
  {
   "cell_type": "code",
   "execution_count": 10,
   "id": "35a67598-29de-42d9-8b6f-a67526a58005",
   "metadata": {},
   "outputs": [
    {
     "name": "stdout",
     "output_type": "stream",
     "text": [
      "[1, 1, 2, 3, 3, 6, 32, 43, 54, 57]\n",
      "[0, 1, 2, 3, 4, 5, 6, 7, 8, 9]\n",
      "insort(B,1)\n",
      "[1, 1, 1, 2, 3, 3, 6, 32, 43, 54, 57]\n",
      "[0, 1, 2, 3, 4, 5, 6, 7, 8, 9, 10]\n",
      "insort_right(C,4)\n",
      "[1, 1, 1, 2, 3, 3, 4, 6, 32, 43, 54, 57]\n",
      "[0, 1, 2, 3, 4, 5, 6, 7, 8, 9, 10, 11]\n"
     ]
    }
   ],
   "source": [
    "A = [1,32,43,6,3,2,1,54,3,57]\n",
    "A.sort()\n",
    "B = copy.deepcopy(A)\n",
    "bisect.insort(B,1)\n",
    "C = copy.deepcopy(B)\n",
    "bisect.insort_right(C,4)\n",
    "print(A)\n",
    "print([i for i,n in enumerate(A)])\n",
    "print(f\"insort(B,1)\")\n",
    "print(B)\n",
    "print([i for i,n in enumerate(B)])\n",
    "print(f\"insort_right(C,4)\")\n",
    "print(C)\n",
    "print([i for i,n in enumerate(C)])"
   ]
  },
  {
   "cell_type": "markdown",
   "id": "03369a48-fa69-4996-a462-c32d73a49146",
   "metadata": {},
   "source": [
    "---\n",
    "#### `insort_left(list,num,beg,end)`\n",
    "- returns sorted list after inserting number in the appropriate position \n",
    "- element inserted at leftmost postion"
   ]
  },
  {
   "cell_type": "code",
   "execution_count": 11,
   "id": "42b1eb7d-9fa3-4d92-af26-b66f4bddf4b7",
   "metadata": {},
   "outputs": [
    {
     "name": "stdout",
     "output_type": "stream",
     "text": [
      "[1, 1, 2, 3, 3, 6, 32, 43, 54, 57]\n",
      "[0, 1, 2, 3, 4, 5, 6, 7, 8, 9]\n",
      "insort_left(B,4)\n",
      "[1, 1, 2, 3, 3, 4, 6, 32, 43, 54, 57]\n",
      "[0, 1, 2, 3, 4, 5, 6, 7, 8, 9, 10]\n",
      "insort_left(C,4)\n",
      "[1, 1, 2, 3, 3, 4, 4, 6, 32, 43, 54, 57]\n",
      "[0, 1, 2, 3, 4, 5, 6, 7, 8, 9, 10, 11]\n"
     ]
    }
   ],
   "source": [
    "A = [1,32,43,6,3,2,1,54,3,57]\n",
    "A.sort()\n",
    "B = copy.deepcopy(A)\n",
    "bisect.insort_left(B,4)\n",
    "C = copy.deepcopy(B)\n",
    "bisect.insort_left(C,4)\n",
    "print(A)\n",
    "print([i for i,n in enumerate(A)])\n",
    "print(f\"insort_left(B,4)\")\n",
    "print(B)\n",
    "print([i for i,n in enumerate(B)])\n",
    "print(f\"insort_left(C,4)\")\n",
    "print(C)\n",
    "print([i for i,n in enumerate(C)])"
   ]
  },
  {
   "cell_type": "code",
   "execution_count": null,
   "id": "62452ef7-d5e7-4539-a609-360def5fbd18",
   "metadata": {},
   "outputs": [],
   "source": []
  }
 ],
 "metadata": {
  "kernelspec": {
   "display_name": "Python 3",
   "language": "python",
   "name": "python3"
  },
  "language_info": {
   "codemirror_mode": {
    "name": "ipython",
    "version": 3
   },
   "file_extension": ".py",
   "mimetype": "text/x-python",
   "name": "python",
   "nbconvert_exporter": "python",
   "pygments_lexer": "ipython3",
   "version": "3.8.8"
  }
 },
 "nbformat": 4,
 "nbformat_minor": 5
}
