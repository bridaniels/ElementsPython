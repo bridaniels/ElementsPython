{
 "cells": [
  {
   "cell_type": "markdown",
   "id": "0a98d6ca-0c35-42ac-83f9-23c0f74d53cd",
   "metadata": {},
   "source": [
    "# **5.12 Sample Offline Data**\n",
    "---\n",
    "- select a random subset of customers to roll out new feature to \n",
    "- input = array of distinct elements and a size \n",
    "- output = subset of the given size of array \n",
    "    - all subsets should be equally likely \n",
    "    - subsets of size `k+1` also equally likely\n",
    "    - return result in input array itself (**IN-PLACE**)\n",
    "- **Construct a random subset of size `k+1` given a random subset of size `k`**\n",
    "\n",
    "---"
   ]
  },
  {
   "cell_type": "markdown",
   "id": "fea8fdc3-f882-4bae-a997-3d7e6f296912",
   "metadata": {},
   "source": [
    "### Naive Approaches\n",
    "- Naive Approach 1:\n",
    "    - iterate through input array, selecting entries with probability `k/n`\n",
    "        - avg. number of selected entries will be `k`, may select more or less than `k`\n",
    "- Naive Approach 2:\n",
    "    - enumerate all subsets of size `k` and select one at random \n",
    "    - (ᴺ<sub>k</sub>) subsets of size `k` -> Time and Space Complexity are HUGE\n",
    "        - enumerating subsets of size `k` is nontrivial \n",
    "\n",
    "---"
   ]
  },
  {
   "cell_type": "markdown",
   "id": "ee345930-38f8-4790-9ec5-312025337e04",
   "metadata": {},
   "source": [
    "## Random Sampling:\n",
    "- build random subset of size `k` by building a subset size `k-1` and adding one more element selected randomly \n",
    "    - trivial when `k=1`\n",
    "        - call random number generator for `mod n` -> `r`\n",
    "        - swap `A[0]` with `A[r]`\n",
    "        - `A[0]` now holds the results \n",
    "    - `k > 1`\n",
    "        - choose one element at random \n",
    "        - repeat same above process with subarray `A[1,n-1]`\n",
    "        - random subset soon occupies slots `A[0,k-1]`\n",
    "            - remaining elements in `n-k` slots "
   ]
  },
  {
   "cell_type": "code",
   "execution_count": 1,
   "id": "06fb12cb-3c04-4145-a27d-f6f260723ec0",
   "metadata": {},
   "outputs": [],
   "source": [
    "from typing import List\n",
    "import random\n",
    "\n",
    "def random_sampling(A: List[int], k: int) -> None: \n",
    "    for i in range(k):\n",
    "        # generate random index in [i, len(A)-1]\n",
    "        r = random.randint(i, len(A)-1)\n",
    "        A[i], A[r] = A[r],A[i]"
   ]
  },
  {
   "cell_type": "code",
   "execution_count": 2,
   "id": "c20d966e-3039-4471-acbf-c8fbd9e25637",
   "metadata": {},
   "outputs": [
    {
     "data": {
      "text/plain": [
       "[7, 3, 11, 5]"
      ]
     },
     "execution_count": 2,
     "metadata": {},
     "output_type": "execute_result"
    }
   ],
   "source": [
    "A = [3,7,5,11]\n",
    "k = 3\n",
    "random_sampling(A,k)\n",
    "A"
   ]
  },
  {
   "cell_type": "markdown",
   "id": "74ad7dc4-2b10-4159-9983-2cee8b15af62",
   "metadata": {},
   "source": [
    "##### Time Complexity: `O(k)`\n",
    "- `k` = size of the random subset \n",
    "- `k` calls made to random number generator \n",
    "- when `k > n/2` optimize by computing a subset of `n-k` elements to remove from the set \n",
    "- `k = n - 1` -> replaces `n-1` calls to random number generator \n",
    "\n",
    "##### Space Complexity: `O(1)`\n",
    "- In-Place Solution"
   ]
  },
  {
   "cell_type": "markdown",
   "id": "45b6f431-7915-4797-aeab-ddd33b34431a",
   "metadata": {},
   "source": [
    "---\n",
    "# Variant:\n",
    "#### `rand()` function in C returns a uniformly random number in [0,RAND_MAX-1]\n",
    "#### Does `rand()` `% n` generate a number uniformly distributed in [0,n-1]?\n",
    "- `mod n` or `% n` modular arithmetic -> numbers wrap around when they reach a certain value, the modulus\n",
    "\n",
    "---\n",
    "#### `rand() % n` is not precisely uniformly distributed \n",
    "- depends on range of numbers(N) and degree of randomness you want (RAND_MAX)\n",
    "- larger the the max and larger the n -> less uniformly distributed "
   ]
  },
  {
   "cell_type": "code",
   "execution_count": null,
   "id": "2f8c004f-53c1-4d82-a8b6-2af5536d553c",
   "metadata": {},
   "outputs": [],
   "source": []
  },
  {
   "cell_type": "code",
   "execution_count": null,
   "id": "e7f5f81b-3d20-452b-95c0-6f4d0248b5b5",
   "metadata": {},
   "outputs": [],
   "source": []
  }
 ],
 "metadata": {
  "kernelspec": {
   "display_name": "Python 3",
   "language": "python",
   "name": "python3"
  },
  "language_info": {
   "codemirror_mode": {
    "name": "ipython",
    "version": 3
   },
   "file_extension": ".py",
   "mimetype": "text/x-python",
   "name": "python",
   "nbconvert_exporter": "python",
   "pygments_lexer": "ipython3",
   "version": "3.8.8"
  }
 },
 "nbformat": 4,
 "nbformat_minor": 5
}
