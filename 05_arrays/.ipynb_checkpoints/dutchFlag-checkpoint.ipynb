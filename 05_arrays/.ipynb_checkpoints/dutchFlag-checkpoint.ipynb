{
 "cells": [
  {
   "cell_type": "markdown",
   "id": "0b562a7f-04a9-4198-a807-a3b94bb53c48",
   "metadata": {},
   "source": [
    "# **5.1 The Dutch National Flag Problem**\n",
    "---"
   ]
  },
  {
   "cell_type": "markdown",
   "id": "d67b9c02-dfef-4950-a805-35d56064a58b",
   "metadata": {},
   "source": [
    "## Quicksort\n",
    "- recursive algorithm\n",
    "- selects an element: the `pivot`\n",
    "- reorders array to make \n",
    "    - elements <= pivot: first\n",
    "    - elements >= pivot: last\n",
    "- Naive implementation can have large run times and deep function call stacks (especially in arrays with duplicates)\n",
    "---"
   ]
  },
  {
   "cell_type": "markdown",
   "id": "abe14f71-0e04-4e25-8041-4d19ae0ecf7f",
   "metadata": {},
   "source": [
    "## Dutch National Flag Partitioning: 2 Full Passes\n",
    "- Dutch flag has 3 different colored bands \n",
    "    - first: elements < pivot\n",
    "    - second: elements = pivot\n",
    "    - third: elements > pivot \n",
    "    "
   ]
  },
  {
   "cell_type": "code",
   "execution_count": 1,
   "id": "c63f7f03-a856-4a1e-addf-15c8f7bba2d3",
   "metadata": {},
   "outputs": [],
   "source": [
    "from typing import List"
   ]
  },
  {
   "cell_type": "code",
   "execution_count": 2,
   "id": "973e0981-cdc3-499e-a095-e965732cb41e",
   "metadata": {},
   "outputs": [],
   "source": [
    "red, white, blue = range(3)\n",
    "\n",
    "def dutch_flag_two(pivot_idx: int, A: List[int]) -> None:\n",
    "    pivot = A[pivot_idx]\n",
    "    \n",
    "    # First pass into group < pivot \n",
    "    for i in range(len(A)):\n",
    "        for j in range(i+1,len(A)):\n",
    "\n",
    "            # swap\n",
    "            if A[j] < pivot:\n",
    "                A[i],A[j] = A[j],A[i]\n",
    "                break\n",
    "                \n",
    "                \n",
    "    # Second pass into group > pivot\n",
    "    # go BACKWARDS\n",
    "    for i in reversed(range(len(A))):\n",
    "        for j in reversed(range(i)):\n",
    "            \n",
    "            #swap\n",
    "            if A[j] > pivot:\n",
    "                A[i],A[j] = A[j],A[i]\n",
    "                break "
   ]
  },
  {
   "cell_type": "code",
   "execution_count": 3,
   "id": "c440c63b-fc9b-48cd-aab0-d4a1b5a2e035",
   "metadata": {},
   "outputs": [
    {
     "data": {
      "text/plain": [
       "[2, 5, 5, 3, 3, 4, 6, 8, 62, 12, 56, 23]"
      ]
     },
     "execution_count": 3,
     "metadata": {},
     "output_type": "execute_result"
    }
   ],
   "source": [
    "x = [3,2,5,56,5,3,8,62,4,6,23,12]\n",
    "k = 6\n",
    "dutch_flag_two(k,x)\n",
    "x"
   ]
  },
  {
   "cell_type": "markdown",
   "id": "f6169218-2e5c-42bd-b18b-0931e2d581ef",
   "metadata": {},
   "source": [
    "#### Time Complexity: `O(n²)`\n",
    "- first pass goes through all elements for swaps\n",
    "- second pass goes through all elements for swaps \n",
    "\n",
    "#### Space Complexity: `O(1)`\n",
    "- swapping elemnts within original array "
   ]
  },
  {
   "cell_type": "markdown",
   "id": "ae770e38-6284-4136-817a-5b634132dd09",
   "metadata": {},
   "source": [
    "---\n",
    "## Dutch National Flag Partitioning: not a full second pass -> **TWO POINTER**\n",
    "- first pass: \n",
    "    - move all elements less than pivot to the beginning \n",
    "- second pass: \n",
    "    - start from last location the first advanced to \n",
    "    - move larger elements to the end "
   ]
  },
  {
   "cell_type": "code",
   "execution_count": 4,
   "id": "0cd4d526-89d9-44e2-ad03-62130218893e",
   "metadata": {},
   "outputs": [],
   "source": [
    "def dutch_two_pointer(pivot_idx: int, A: List[int]) -> None: \n",
    "    pivot = A[pivot_idx]\n",
    "    \n",
    "    # TWO POINTER\n",
    "    smaller = 0 \n",
    "    larger = len(A)-1\n",
    "    \n",
    "    for i in range(len(A)):\n",
    "        if A[i] < pivot:\n",
    "            A[i], A[smaller] = A[smaller], A[i]\n",
    "            smaller += 1\n",
    "    for i in reversed(range(len(A))): \n",
    "        if A[i] > pivot:\n",
    "            A[i], A[larger] = A[larger],A[i]\n",
    "            larger -= 1\n",
    "        "
   ]
  },
  {
   "cell_type": "code",
   "execution_count": 5,
   "id": "e45f0ace-6e5e-48bd-8513-2a8f592cdc3b",
   "metadata": {},
   "outputs": [
    {
     "data": {
      "text/plain": [
       "[3, 2, 5, 5, 3, 4, 6, 8, 62, 56, 23, 12]"
      ]
     },
     "execution_count": 5,
     "metadata": {},
     "output_type": "execute_result"
    }
   ],
   "source": [
    "x = [3,2,5,56,5,3,8,62,4,6,23,12]\n",
    "k = 6\n",
    "dutch_two_pointer(k,x)\n",
    "x"
   ]
  },
  {
   "cell_type": "markdown",
   "id": "f4ceec8f-4563-493e-8818-2b8b38dbdbdf",
   "metadata": {},
   "source": [
    "##### Time Complexity: `O(n)`\n",
    "##### Space Complexity: `O(1)`"
   ]
  },
  {
   "cell_type": "markdown",
   "id": "fa70a1ec-ef02-4870-ade7-6bdb8e5c1ed9",
   "metadata": {},
   "source": [
    "---\n",
    "## Dutch Naional Flag Partition: **THREE POINTERS**\n",
    "- performs classification into elements >, =, < than the pivot in a **single pass**\n",
    "    - REDUCES RUNTIME \n",
    "- Four Subarrays:\n",
    "    - `bottom`: less than pivot\n",
    "    - `middle`: equal to pivot\n",
    "    - `top`: greater than pivot\n",
    "    - `unclassified`: where all elements start \n",
    "- Iterate through elements in `unclassified` and sort them into `bottom`, `middle`, or `top`\n",
    "- number of `unclassified` elements reduces by one each iteration"
   ]
  },
  {
   "cell_type": "code",
   "execution_count": 6,
   "id": "525dfe02-c4f9-4b05-8798-063978d2402d",
   "metadata": {},
   "outputs": [],
   "source": [
    "def dutch_subarrays(pivot_idx: int, A: List[int]) -> None:\n",
    "    \n",
    "    pivot = A[pivot_idx]\n",
    "    \n",
    "    # Three Pointers\n",
    "    smaller, equal, larger = 0,0,len(A)\n",
    "    \n",
    "    # equal is unclassified element here \n",
    "    while equal < larger:\n",
    "        if A[equal] < pivot:\n",
    "            A[smaller],A[equal] = A[equal],A[smaller]\n",
    "            smaller += 1\n",
    "            equal += 1\n",
    "        elif A[equal] == pivot:\n",
    "            equal += 1\n",
    "        else: # A[equal] > pivot \n",
    "            larger -= 1\n",
    "            A[equal],A[larger] = A[larger],A[equal]            "
   ]
  },
  {
   "cell_type": "code",
   "execution_count": 7,
   "id": "d8e3587e-8263-4ff7-9372-daa970ca99b7",
   "metadata": {},
   "outputs": [
    {
     "data": {
      "text/plain": [
       "[3, 2, 5, 6, 5, 3, 4, 8, 62, 23, 12, 56]"
      ]
     },
     "execution_count": 7,
     "metadata": {},
     "output_type": "execute_result"
    }
   ],
   "source": [
    "x = [3,2,5,56,5,3,8,62,4,6,23,12]\n",
    "k = 6\n",
    "dutch_subarrays(k,x)\n",
    "x"
   ]
  },
  {
   "cell_type": "markdown",
   "id": "c25c75b1-4842-4861-af0b-c51838d7c836",
   "metadata": {},
   "source": [
    "##### Time Complexity: `O(n)`\n",
    "- time spent on each iteration is `O(1)`\n",
    "\n",
    "##### Space Complexity: `O(1)`\n",
    "- each iteration decreases size of `unclassified` by `1` \n",
    "---"
   ]
  },
  {
   "cell_type": "markdown",
   "id": "a63e38ed-5471-444e-a707-2331b8494bfe",
   "metadata": {},
   "source": [
    "## Variants"
   ]
  },
  {
   "cell_type": "code",
   "execution_count": null,
   "id": "2313b22e-d134-4e08-aa7f-3bbc3b961c09",
   "metadata": {},
   "outputs": [],
   "source": []
  }
 ],
 "metadata": {
  "kernelspec": {
   "display_name": "Python 3",
   "language": "python",
   "name": "python3"
  },
  "language_info": {
   "codemirror_mode": {
    "name": "ipython",
    "version": 3
   },
   "file_extension": ".py",
   "mimetype": "text/x-python",
   "name": "python",
   "nbconvert_exporter": "python",
   "pygments_lexer": "ipython3",
   "version": "3.8.8"
  }
 },
 "nbformat": 4,
 "nbformat_minor": 5
}
