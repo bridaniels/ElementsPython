{
 "cells": [
  {
   "cell_type": "markdown",
   "id": "e42f0142-7dcf-4583-9304-1c177c9030dd",
   "metadata": {},
   "source": [
    "# **5.6 Buy and Sell a Stock Once**\n",
    "---\n",
    "- Given daily opening price, high, and low over 40 day period\n",
    "    - only analyzing opening price\n",
    "- Determine maximum profit that could have been made buying and selling a share over a single day range \n",
    "- Constraint:  buy and the sell have to take place at the start of the day\n",
    "    - sell must occur on a later day \n",
    "    - you have to buy before you sell \n",
    "- prices must stay in order, lowest price can come after highest price"
   ]
  },
  {
   "cell_type": "code",
   "execution_count": 1,
   "id": "ac2331d4-257c-44d2-af3f-da73c54d72e9",
   "metadata": {},
   "outputs": [],
   "source": [
    "from typing import List"
   ]
  },
  {
   "cell_type": "code",
   "execution_count": 2,
   "id": "10f1955d-2e32-48cd-b009-3b101a1fec40",
   "metadata": {},
   "outputs": [],
   "source": [
    "prices = [310,315,275,295,260,270,290,230,255,250]"
   ]
  },
  {
   "cell_type": "markdown",
   "id": "6b407a55-9036-46c0-a4fb-624e0f9aed75",
   "metadata": {},
   "source": [
    "---\n",
    "## Brute-Force\n"
   ]
  },
  {
   "cell_type": "code",
   "execution_count": 3,
   "id": "1231a023-11e6-4e66-9ad4-26de58997c15",
   "metadata": {},
   "outputs": [],
   "source": [
    "def brute_force(prices: List[int]) -> int:\n",
    "    maxProfit = 0 \n",
    "    for i in range(len(prices)):\n",
    "        for j in range(1+i, len(prices)):\n",
    "            difference = prices[j]-prices[i]\n",
    "            if difference > maxProfit:\n",
    "                maxProfit = difference\n",
    "            j += 1\n",
    "    return maxProfit"
   ]
  },
  {
   "cell_type": "code",
   "execution_count": 4,
   "id": "5b957858-caca-46f1-9e5f-d31cb884cd16",
   "metadata": {},
   "outputs": [
    {
     "data": {
      "text/plain": [
       "30"
      ]
     },
     "execution_count": 4,
     "metadata": {},
     "output_type": "execute_result"
    }
   ],
   "source": [
    "brute_force(prices)"
   ]
  },
  {
   "cell_type": "code",
   "execution_count": 5,
   "id": "9d3d282c-2ba6-4406-85cd-86f33c2f36ed",
   "metadata": {},
   "outputs": [],
   "source": [
    "def no_compare(prices: List[int]) -> int:\n",
    "    \n",
    "    start = 0 \n",
    "    end = len(prices)-1\n",
    "    maxProfit = 0 \n",
    "    \n",
    "    if len(prices) > 1:\n",
    "        # traverse all of `prices`\n",
    "        for buy in range(start,end):\n",
    "            # traverse half of `prices`\n",
    "            for sell in range(buy+1, len(prices)):\n",
    "                currentProfit = prices[sell]-prices[buy]\n",
    "                maxProfit = max(maxProfit, currentProfit)\n",
    "    return maxProfit"
   ]
  },
  {
   "cell_type": "code",
   "execution_count": 6,
   "id": "7f521711-ade8-4a3d-b017-d5ac2bbba4c5",
   "metadata": {},
   "outputs": [
    {
     "data": {
      "text/plain": [
       "30"
      ]
     },
     "execution_count": 6,
     "metadata": {},
     "output_type": "execute_result"
    }
   ],
   "source": [
    "no_compare(prices)"
   ]
  },
  {
   "cell_type": "markdown",
   "id": "56c03757-15fe-4e03-bec4-537eba683bfe",
   "metadata": {},
   "source": [
    "##### Time Complexity: `O(n²)`\n",
    "- `n` = length of array \n",
    "- outer loop invoked `1-n` times\n",
    "    - `ith` iteration processes `n-1-i` elements \n",
    "    - Constant Time Processes\n",
    "        - computing difference \n",
    "        - perform a compare\n",
    "        - updating a variable \n",
    "- run time proportional to `∑ᴺ⁻²ᵢ₌₀ (n - 1 - i) = ((n-1)(n))/2`\n",
    "\n",
    "##### Space Complexity: \n",
    "- array takes memory proportional to `n`\n",
    "- additional memory used is a **constant** (independent of `n`)\n",
    "    - a couple of iterators `i` and `j` + one floating point variable `maxProfit`\n",
    "    \n",
    "---"
   ]
  },
  {
   "cell_type": "markdown",
   "id": "06003208-e6ed-4fbf-b017-0a9c54168256",
   "metadata": {},
   "source": [
    "## Divide-and-Conquer\n",
    "- improve upon brute-force\n",
    "- **Answer Assumptions**\n",
    "    - buy and sell from left side (divide and recurse)\n",
    "    - buy and sell from right side (divide and recurse)\n",
    "    - buy from left and sell from right \n",
    "    \n",
    "##### Work    \n",
    "- split prices into two subarrays:\n",
    "    - `prices[o,(n/2)]` and `prices[(n/2)+1, n-1]`\n",
    "    - compute best result for first and second subarrays\n",
    "    - combine results\n",
    "        - `maxProfit` might be between two subarrays \n",
    "        - `buy` in first subarray -> `sell` in second\n",
    "            - `buy` = `min` of first subarray\n",
    "            - `sell` = `max` of second subarray \n",
    "- implementation entails corner cases:\n",
    "    - empty subarray\n",
    "    - subarray length one \n",
    "    - array w/ decreasing price "
   ]
  },
  {
   "cell_type": "code",
   "execution_count": 7,
   "id": "7450acb0-35b4-4625-88aa-4fbed7318865",
   "metadata": {},
   "outputs": [],
   "source": [
    "def divide_conquer(prices: List[int],left=0,right=None) -> int:\n",
    "    if right is None:\n",
    "        right = len(prices)\n",
    "    \n",
    "    # Base Case\n",
    "    if right - left <= 1:\n",
    "        return 0\n",
    "    \n",
    "    mid = left+(right-left)//2\n",
    "    result = max(prices[mid:right]) - min(prices[left:mid])\n",
    "    \n",
    "    return max(result, divide_conquer(prices,left,mid), divide_conquer(prices,mid,right))"
   ]
  },
  {
   "cell_type": "code",
   "execution_count": 8,
   "id": "d7e0fb4d-8630-4291-a90e-aeccfff5742f",
   "metadata": {},
   "outputs": [
    {
     "data": {
      "text/plain": [
       "30"
      ]
     },
     "execution_count": 8,
     "metadata": {},
     "output_type": "execute_result"
    }
   ],
   "source": [
    "divide_conquer(prices)"
   ]
  },
  {
   "cell_type": "markdown",
   "id": "770699df-7f26-490c-bd4a-e69b7cf30978",
   "metadata": {},
   "source": [
    "##### Time Complexity: `O(n log n)`\n",
    "- single pass over each subarray `O(n)`\n",
    "- satisfies recurrence relation `O(n) = 2O(n/2) + O(n)` -> solves to: `O(n log n)`\n",
    "\n",
    "---"
   ]
  },
  {
   "cell_type": "markdown",
   "id": "b3417e86-521d-4871-a9a1-5d879d93e4d2",
   "metadata": {},
   "source": [
    "## Minimum Price V. Maximum Profit \n",
    "- `maxProfit` of selling on `daySell` determined by the min of the stock price over previous days \n",
    "- `maxProfit` corresponds to selling on `dayx`\n",
    "- Iterate through `prices` keeping track of `minPrice` element thus far "
   ]
  },
  {
   "cell_type": "code",
   "execution_count": 9,
   "id": "74d6c0cc-97f9-4f1b-90a7-90ebf24f2c8d",
   "metadata": {},
   "outputs": [],
   "source": [
    "def minVMaxProfit(prices: List[int]) -> int:\n",
    "    \n",
    "    minPrice = float('inf')\n",
    "    maxProfit = 0.0\n",
    "    \n",
    "    for p in prices:\n",
    "        todayProfit = p - minPrice\n",
    "        maxProfit = max(maxProfit, todayProfit)\n",
    "        minPrice = min(minPrice, p)\n",
    "    return maxProfit    "
   ]
  },
  {
   "cell_type": "code",
   "execution_count": 10,
   "id": "bca8ddaa-f30b-4ef4-918f-dd61045df8b4",
   "metadata": {},
   "outputs": [
    {
     "data": {
      "text/plain": [
       "30"
      ]
     },
     "execution_count": 10,
     "metadata": {},
     "output_type": "execute_result"
    }
   ],
   "source": [
    "minVMaxProfit(prices)"
   ]
  },
  {
   "cell_type": "markdown",
   "id": "031a517d-5481-47ff-808c-15483c0e4791",
   "metadata": {},
   "source": [
    "##### Time Complexity: `O(n)`\n",
    "- constant amount of work per array element \n",
    "- `n` = length of array\n",
    "\n",
    "##### Space Complexity: `O(1)`\n",
    "- two `float` variables (`minPrice`, `maxProfit`)\n",
    "- one iterator `i`\n",
    "\n",
    "---"
   ]
  },
  {
   "cell_type": "markdown",
   "id": "dfca42a6-1c61-4e37-b76d-a6a752d417c1",
   "metadata": {},
   "source": [
    "## Variant\n",
    "#### Write a program that takes an array of integers and finds the length of a longest subarray of whose entries are equal "
   ]
  },
  {
   "cell_type": "code",
   "execution_count": 11,
   "id": "e53191fb-dc03-4487-8977-41d711935196",
   "metadata": {},
   "outputs": [],
   "source": [
    "varPrices = [310,315,315,315,275,275,295,260,260,260,270,290,230,255,255,255,255,250]"
   ]
  },
  {
   "cell_type": "code",
   "execution_count": 12,
   "id": "d68f87f7-6451-4a23-bc14-a1b93b33ab78",
   "metadata": {},
   "outputs": [],
   "source": [
    "from collections import Counter\n",
    "\n",
    "def variantCounter(prices: List[int]) -> int: \n",
    "    \n",
    "    frequent = Counter(prices)\n",
    "    return frequent.most_common(1)[0][1]\n",
    "\n",
    "    # return frequent.most_common()\n",
    "    # return frequent.most_common(1)\n",
    "    # return frequent.most_common(1)[0]"
   ]
  },
  {
   "cell_type": "code",
   "execution_count": 13,
   "id": "e6739a7e-5085-4c11-8a10-2dc9e4138352",
   "metadata": {},
   "outputs": [
    {
     "data": {
      "text/plain": [
       "4"
      ]
     },
     "execution_count": 13,
     "metadata": {},
     "output_type": "execute_result"
    }
   ],
   "source": [
    "variantCounter(varPrices)"
   ]
  },
  {
   "cell_type": "code",
   "execution_count": 14,
   "id": "e3adb34b-140d-41bb-8c6c-251789505d57",
   "metadata": {},
   "outputs": [],
   "source": [
    "from statistics import mode\n",
    "\n",
    "def variantMode(prices: List[int]) -> int:\n",
    "    return(mode(prices))"
   ]
  },
  {
   "cell_type": "code",
   "execution_count": 15,
   "id": "13eccb64-38a2-42d1-be5a-be7182052455",
   "metadata": {},
   "outputs": [
    {
     "data": {
      "text/plain": [
       "255"
      ]
     },
     "execution_count": 15,
     "metadata": {},
     "output_type": "execute_result"
    }
   ],
   "source": [
    "variantMode(varPrices)"
   ]
  },
  {
   "cell_type": "code",
   "execution_count": 16,
   "id": "5c9537a6-b20a-4868-8bd3-06c0aa7c0549",
   "metadata": {},
   "outputs": [],
   "source": [
    "def variantDictionary(prices: List[int]) -> int:\n",
    "    dict = {}\n",
    "    count, item = 0,''\n",
    "    for p in reversed(prices):\n",
    "        dict[p] = dict.get(p, 0) + 1\n",
    "        if dict[p] >= count: \n",
    "            count, item = dict[p], p\n",
    "    return(count)\n",
    "    # return item"
   ]
  },
  {
   "cell_type": "code",
   "execution_count": 17,
   "id": "00120ebf-c2ca-42ee-8f11-c1b59e315d8e",
   "metadata": {},
   "outputs": [
    {
     "data": {
      "text/plain": [
       "4"
      ]
     },
     "execution_count": 17,
     "metadata": {},
     "output_type": "execute_result"
    }
   ],
   "source": [
    "variantDictionary(varPrices)"
   ]
  },
  {
   "cell_type": "code",
   "execution_count": null,
   "id": "3d7232cb-26ab-457f-86df-8e3b1ed83e3f",
   "metadata": {},
   "outputs": [],
   "source": []
  }
 ],
 "metadata": {
  "kernelspec": {
   "display_name": "Python 3",
   "language": "python",
   "name": "python3"
  },
  "language_info": {
   "codemirror_mode": {
    "name": "ipython",
    "version": 3
   },
   "file_extension": ".py",
   "mimetype": "text/x-python",
   "name": "python",
   "nbconvert_exporter": "python",
   "pygments_lexer": "ipython3",
   "version": "3.8.8"
  }
 },
 "nbformat": 4,
 "nbformat_minor": 5
}
