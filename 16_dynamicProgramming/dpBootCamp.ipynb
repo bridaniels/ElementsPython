{
 "cells": [
  {
   "cell_type": "markdown",
   "id": "a14f0950-bdc4-4920-91de-a4cf63a9a7e2",
   "metadata": {},
   "source": [
    "# **Chapter 16: Dynamic Programming Boot Camp**\n",
    "---\n",
    "- General technique for solving optimization, search and counting problems \n",
    "    - problems can be decomposed into subproblems \n",
    "    - solution relates to the subproblems \n",
    "    - construct a solution to given instance from solutions to subinstances of smaller problems of the same kind \n",
    "- Divide-and-Conquer: DP solves the problem by combining solutions of multiple smaller problems \n",
    "    - What makes DP different?\n",
    "        - subproblems may REOCCUR \n",
    "    - CACHE results of intermediate computations\n",
    "        - one or multi-dimensional array \n",
    "            - when built 'bottom up' or 'iteratively'\n",
    "        - dynamic data structure like a hash table or BST \n",
    "            - when DP implemented recursively \n",
    "        - 'Cache space' may be recycled when:\n",
    "            - known that a set of entries will not be looked up again \n",
    "            - saves space complexity \n",
    "- Also applicable to counting and decision problems:\n",
    "    - where you can express a solution recursively in terms of the same computation on smaller instances \n",
    "- Sometimes recursion can out perform a bottom up DP solution \n",
    "    - when solution is found quickly etc. \n",
    "    - doesn't always have to be splitting the problem in half \n",
    "    - subproblems need to be working towards the solution \n",
    "- DP based on combining optimum solutions to subproblems to yield an optimum solution to the original problem "
   ]
  },
  {
   "cell_type": "markdown",
   "id": "05edc24e-424a-4e77-9278-e5368eca5767",
   "metadata": {},
   "source": [
    "---\n",
    "### Fibonacci Numbers \n",
    "- first two Fibonacci Numbers are `0` and `1`\n",
    "    - successive numbers are the sums of the two previous numbers \n",
    "- `nth` Fibonacci Number `F(n)` is given by equation: `F(n) = F(n-1) + F(n-2)`\n",
    "- Recurively invokes itself has **time complexity exponential in `n`**\n",
    "    - recursive function computs some `F(i)`s repeatedly \n",
    "- Cachin intermediate results make the **time complexity linear in `n`**\n",
    "    - at the expense of `O(n)` storage "
   ]
  },
  {
   "cell_type": "code",
   "execution_count": 1,
   "id": "9d18dc05-ee47-4732-ac29-b262aff246e4",
   "metadata": {},
   "outputs": [],
   "source": [
    "import functools\n",
    "\n",
    "def fibonacci(n: int) -> int:\n",
    "    # base case \n",
    "    if n <= 1:\n",
    "        return n\n",
    "    # Recursive Calls to earlier numbers until `n <= 1`\n",
    "    return fibonacci(n-1) + fibonacci(n-2)\n"
   ]
  },
  {
   "cell_type": "code",
   "execution_count": 2,
   "id": "ec5259b6-38fa-474f-bc77-ff3525ea4668",
   "metadata": {},
   "outputs": [
    {
     "name": "stdout",
     "output_type": "stream",
     "text": [
      "0 1 1 2 3 5 8\n"
     ]
    }
   ],
   "source": [
    "print(fibonacci(0),fibonacci(1),fibonacci(2),fibonacci(3),fibonacci(4),fibonacci(5),fibonacci(6))"
   ]
  },
  {
   "cell_type": "markdown",
   "id": "03c433ed-c211-4243-ad55-260ba994796c",
   "metadata": {},
   "source": [
    "##### Time Complexity: linear in `n`\n",
    "\n",
    "##### Space Complexity: `O(n)`"
   ]
  },
  {
   "cell_type": "markdown",
   "id": "80ea648f-713f-49f5-8f81-9d774212ac6f",
   "metadata": {},
   "source": [
    "- Minimizing Cache space is a recurring theme in DP\n",
    "- Iteratively fill in the cache in bottom-up fashion \n",
    "    - allows t to reuse cache storage to reduce space complexity\n"
   ]
  },
  {
   "cell_type": "code",
   "execution_count": 3,
   "id": "6e6f0cf3-dfcf-44b5-9faa-65d285e8b3ed",
   "metadata": {},
   "outputs": [],
   "source": [
    "def cached(n: int) -> int:\n",
    "    \n",
    "    #base case\n",
    "    if n <= 1:\n",
    "        return n \n",
    "    \n",
    "    minus2, minus1 = 0,1\n",
    "    # start at index 1 -> index 0 defined above and doesn't have a minus 2\n",
    "    for _ in range(1,n):\n",
    "        f = minus2 + minus1\n",
    "        minus2,minus1 = minus1, f\n",
    "    return minus1"
   ]
  },
  {
   "cell_type": "code",
   "execution_count": 4,
   "id": "53dbb36f-c579-4045-9155-bbebaca08419",
   "metadata": {},
   "outputs": [
    {
     "name": "stdout",
     "output_type": "stream",
     "text": [
      "0 1 1 2 3 5 8\n"
     ]
    }
   ],
   "source": [
    "print(cached(0),cached(1),cached(2),cached(3),cached(4),cached(5),cached(6))"
   ]
  },
  {
   "cell_type": "markdown",
   "id": "fb24fb7b-bcef-40d2-810e-9f9c8300fd21",
   "metadata": {},
   "source": [
    "##### Time Complexity: `O(n)`\n",
    "##### Space Complexity: `O(1)`\n",
    "- fills from bottom up to reuse cache storage "
   ]
  },
  {
   "cell_type": "markdown",
   "id": "b93501c3-c39c-4dc0-a523-14941deaa38e",
   "metadata": {},
   "source": [
    "---\n",
    "## Subproblems\n",
    "- key to successful DP is breaking problems into subproblems such that:\n",
    "    - original problem can be solved easily once solutions to subproblems are avaliable \n",
    "    - subproblem solutions are cached "
   ]
  },
  {
   "cell_type": "markdown",
   "id": "0e47a5bb-34a1-4757-80e7-e29e8af489db",
   "metadata": {},
   "source": [
    "---\n",
    "## Find Maxium Sum over All Subarrays of a Given Array of Integers\n"
   ]
  },
  {
   "cell_type": "code",
   "execution_count": 5,
   "id": "3eb9af16-ca1d-4c09-a4c1-0af49d9960bb",
   "metadata": {},
   "outputs": [
    {
     "data": {
      "text/plain": [
       "[904, 40, 523, 12]"
      ]
     },
     "execution_count": 5,
     "metadata": {},
     "output_type": "execute_result"
    }
   ],
   "source": [
    "array = [904,40,523,12,-335,-385,-124,481,-31]\n",
    "output = [y for x,y in enumerate(array)]\n",
    "output[:4]"
   ]
  },
  {
   "cell_type": "markdown",
   "id": "cd0aa926-0c3c-49e0-a98a-2f423580dd28",
   "metadata": {},
   "source": [
    "### Brute Force"
   ]
  },
  {
   "cell_type": "code",
   "execution_count": 6,
   "id": "021b2fc8-2f6e-4867-8039-47dcf86c5d28",
   "metadata": {},
   "outputs": [],
   "source": [
    "def bruteForce1(array):\n",
    "    \n",
    "    s = [0]*len(array)\n",
    "    k = 0\n",
    "    \n",
    "    while k <= len(array)-1:\n",
    "        x = sum(array[:k+1])\n",
    "        s[k] = x \n",
    "        k += 1\n",
    "        \n",
    "    return s"
   ]
  },
  {
   "cell_type": "code",
   "execution_count": 7,
   "id": "e9fd8f2d-5cd7-4957-854b-fadc5d1d9209",
   "metadata": {},
   "outputs": [
    {
     "data": {
      "text/plain": [
       "[904, 944, 1467, 1479, 1144, 759, 635, 1116, 1085]"
      ]
     },
     "execution_count": 7,
     "metadata": {},
     "output_type": "execute_result"
    }
   ],
   "source": [
    "carry_over = bruteForce1(array)\n",
    "carry_over"
   ]
  },
  {
   "cell_type": "code",
   "execution_count": 8,
   "id": "9040b56d-d71b-4f95-91c5-2fb721f906de",
   "metadata": {},
   "outputs": [],
   "source": [
    "def bruteForce2(sum_string):\n",
    "    \n",
    "    k = dict()\n",
    "    i = -1\n",
    "    MAXINE = 0 \n",
    "    idx = [0,0]\n",
    "    \n",
    "    for i in range(len(sum_string)):\n",
    "        for j in range(i+1,len(sum_string)):\n",
    "            if sum_string[i-1] == sum_string[-1]:\n",
    "                k[i,j] = sum_string[j] - 0\n",
    "            else:\n",
    "                k[i,j] = sum_string[j] - sum_string[i-1]\n",
    "                \n",
    "            if k[i,j] > MAXINE:\n",
    "                MAXINE = k[i,j]\n",
    "                idx[0],idx[1] = i,j\n",
    "            else: \n",
    "                continue \n",
    "                \n",
    "            j += 1\n",
    "        i += 1\n",
    "                    \n",
    "    return MAXINE, idx"
   ]
  },
  {
   "cell_type": "code",
   "execution_count": 9,
   "id": "562716ac-5fd3-4ed4-907f-0cb56259cf02",
   "metadata": {},
   "outputs": [
    {
     "data": {
      "text/plain": [
       "(1479, [0, 3])"
      ]
     },
     "execution_count": 9,
     "metadata": {},
     "output_type": "execute_result"
    }
   ],
   "source": [
    "bruteForce2(carry_over)"
   ]
  },
  {
   "cell_type": "markdown",
   "id": "9990a4b0-7c5f-4d53-995c-dbaea916f7c9",
   "metadata": {},
   "source": [
    "#### Time Complexity: `O(n²)`\n",
    "\n",
    "#### Space Complexity: `O(n)`"
   ]
  },
  {
   "cell_type": "markdown",
   "id": "701ddd22-e10a-4617-80b5-8152f5873e0a",
   "metadata": {},
   "source": [
    "### Divide and Conquer \n",
    "- `m = [n/2]` = middle index of the array \n",
    "- Solve the problem for subarrays `L = A[0,m]` and `R = A[m+1,n-1]`\n",
    "- Max Subarray One of the Following: \n",
    "    - Max from `L`\n",
    "    - Max from `R`\n",
    "    - Max from `L` ending in `R`\n",
    "- Time Complexity similar to QUICKSORT: `O(n log n)`\n",
    "    - off-by-one errors -> rough to get program just right"
   ]
  },
  {
   "cell_type": "markdown",
   "id": "62a17615-c356-4f80-93f6-7aa32775b187",
   "metadata": {},
   "source": [
    "### Dynamic Programming \n",
    "- Suppose we know max subarray ending at `i` (inclusive)\n",
    "- for all `i < j`, max subarray sums `b[i]` only two possibilities for max subarray ending at `j` (inclusive):\n",
    "    - just element `A[j]`\n",
    "    - includes earlier entries in which case it is `b[i-1]+A[i]`\n",
    "- `B[i] = max(A[i], B[i-1]+A[i])`"
   ]
  },
  {
   "cell_type": "code",
   "execution_count": 10,
   "id": "ad203144-6149-4aba-b578-289b547a5b14",
   "metadata": {},
   "outputs": [],
   "source": [
    "def dynamicP(array):\n",
    "    seen = end = 0 \n",
    "    for a in array:\n",
    "        end = max(a,a+end)\n",
    "        seen = max(seen, end)\n",
    "    return seen"
   ]
  },
  {
   "cell_type": "code",
   "execution_count": 11,
   "id": "5e9b98d4-eaf8-4aee-98e4-76a1b5e89a89",
   "metadata": {},
   "outputs": [
    {
     "data": {
      "text/plain": [
       "1479"
      ]
     },
     "execution_count": 11,
     "metadata": {},
     "output_type": "execute_result"
    }
   ],
   "source": [
    "dynamicP(array)"
   ]
  },
  {
   "cell_type": "markdown",
   "id": "f694c0d3-6e9e-4383-827d-5d395f60058f",
   "metadata": {},
   "source": [
    "#### Time Complexity: `O(n)`\n",
    "#### Space Complexity: `O(1)`\n",
    "- recycle space with variables `seen` and `end`"
   ]
  },
  {
   "cell_type": "code",
   "execution_count": null,
   "id": "81d97c12-c9a2-44e0-9165-283aa2a60729",
   "metadata": {},
   "outputs": [],
   "source": []
  }
 ],
 "metadata": {
  "kernelspec": {
   "display_name": "Python 3",
   "language": "python",
   "name": "python3"
  },
  "language_info": {
   "codemirror_mode": {
    "name": "ipython",
    "version": 3
   },
   "file_extension": ".py",
   "mimetype": "text/x-python",
   "name": "python",
   "nbconvert_exporter": "python",
   "pygments_lexer": "ipython3",
   "version": "3.8.8"
  }
 },
 "nbformat": 4,
 "nbformat_minor": 5
}
