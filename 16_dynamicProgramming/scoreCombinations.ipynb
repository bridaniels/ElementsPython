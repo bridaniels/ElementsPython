{
 "cells": [
  {
   "cell_type": "markdown",
   "id": "b48770c4-73e7-4b3e-be4e-c41b669a02bf",
   "metadata": {},
   "source": [
    "# **16.1 Count the Number of Score Combinations**\n",
    "---"
   ]
  },
  {
   "cell_type": "markdown",
   "id": "6b81bc2a-f64b-48de-905a-395186a4f720",
   "metadata": {},
   "source": [
    "- Football Points:\n",
    "    - Safety: 2 Points\n",
    "    - Field Goal: 3 Points\n",
    "    - Touchdown + Kick: 7 Points\n",
    "- Final Scores can be made up of a combination of points \n",
    "- Take a desired final score and return possible combinations of plays \n"
   ]
  },
  {
   "cell_type": "markdown",
   "id": "1d8611fb-7e0b-4d1e-b5d9-3f0590858c7e",
   "metadata": {},
   "source": [
    "---\n",
    "### Brute Force \n",
    "- recursivley enumerate the sequences and count the distinct combinations within these sequences \n",
    "- sort each sequence and inserting it into a hash table \n",
    "- HIGH TIME COMPLEXITY: potential large number of sorting sequences \n",
    "\n",
    "---"
   ]
  },
  {
   "cell_type": "markdown",
   "id": "8d00d3dd-6d61-4b11-acbd-bd56e1882b33",
   "metadata": {},
   "source": [
    "### Focus on Combinations \n",
    "- final score is `12` -> only allowed `2` point plays -> only one way to get `12`\n",
    "    - if you allow `2` and `3` point plays -> assume `2` point plays come before `3` point plays\n",
    "    - Zero `2` point plays: Four `3` point plays = `12`\n",
    "    - Two `2` point plays: `12-4 = 8` -> no combination of `3` point plays to = `12`\n",
    "    - Three `2` point plays: `12-6 = 6` -> Two `3` point plays = `12`\n",
    "    - Four `2` point plays: `12-8 = 4` -> no combinations of `3` point plays to = `12`\n",
    "- Repeatedly Solves the Same Problem (such as steps two and four inversely)\n",
    "    - EXPONENTIAL TIME COMPLEXITY\n",
    "\n",
    "---"
   ]
  },
  {
   "cell_type": "markdown",
   "id": "b891e8d6-23f1-4593-8559-0afc79de8f9c",
   "metadata": {},
   "source": [
    "### Dynamic Programming\n",
    "- Reduces Time Complexity\n",
    "- Create a 2D *array* *`A[i][j]` to store the number of score combinations that `=[j]`\n",
    "    - using *`W[0], W[1],...,W[i-1]`\n",
    "    - EX: *`A[1][12]`* is the number of ways in which we can get `12` points using `2` or `3` point plays\n",
    "    - EX: *`A[i+1][j]`* is *`A[i][j]`* with no *`W[i+1]`* point plays used\n",
    "        - PLUS: *`A[i][j - W[i+1]]`* (one *`W[i+1]`* point play)\n",
    "        - PLUS: *`A[I][j - 2W[i+1]]`* (two *`W[i+1]`* point plays)\n",
    "- Three Nested Loops:\n",
    "    - First: over the total range of scores\n",
    "    - Second: over scores for individual plays\n",
    "    - Third: iterates over at most *`j/W[i] + 1`* values \n",
    "    - iterations bounded by `s`\n",
    "    - Overall Time Complexity: `O(sns)` = `O((s^2)*n)`\n",
    "- Computation for row *`A[i+1]`* is not as efficient as it could be \n",
    "    - Let row *`A[0]`* be the row to hold result for just `2` point plays \n",
    "    - Thus, *`A[0][j]`* is the number of combinations of `2` point plays that result in a final score of `j`\n",
    "    - Thus, *`A[1][j]`* is the number of combinations of `2` and `3` point plays that result in a final score of `j`\n",
    "    - Number of Score Combinations to reach `j = 12` using `2` or `3` point plays \n",
    "        - (if `2` and `3` count held in *`A[0]`*)\n",
    "        - *`A[0][0] + A[0][3] + A[0][6] + A[0][9] + A[0][12]`*\n",
    "        - if `j = 15`:\n",
    "            - *`A[0][0] + A[0][3] + A[0][6] + A[0][9] + A[0][12] + A[0][15]`*\n",
    "            - Repeats Computation from `j = 12`\n",
    "       - *`A[1][15] = A[0][15] + A[1][12]`*\n",
    "- Better way to fill in *`A[1]`* is: \n",
    "    - Fill *`A[1][j]`* with possible combinations from itself, *`A[0][j]`* and other previous aplicable permutations \n",
    "    - *`A[1][0]=A[0][0], \n",
    "        A[1][1]=A[0][1], \n",
    "        A[1][2]=A[0][2],\n",
    "        A[1][3]=A[0][3]+A[1][0],\n",
    "        A[1][4]=A[0][4]+A[1][1],\n",
    "        A[1][5]=A[0][5]+A[1][2],....`*"
   ]
  },
  {
   "cell_type": "code",
   "execution_count": 1,
   "id": "03ad0ed0-56f1-4409-ba3a-8d742425809d",
   "metadata": {},
   "outputs": [],
   "source": [
    "from typing import List\n",
    "from collections import Counter\n",
    "from collections import defaultdict"
   ]
  },
  {
   "cell_type": "code",
   "execution_count": 2,
   "id": "96324374-8d27-4b1c-bd69-b4b072a2c28a",
   "metadata": {},
   "outputs": [],
   "source": [
    "def dp(final_score: int, points: List[int]) -> int: \n",
    "    combos = [[1] + [0]*final_score for _ in points]\n",
    "    \n",
    "    for i in range(len(points)):\n",
    "        for j in range(1,final_score+1): # indexed \n",
    "            w_out_play = (combos[i-1][j] if i>=1 else 0)\n",
    "            w_play = (combos[i][j-points[i]] if j>=points[i] else 0)\n",
    "            \n",
    "            combos[i][j] = (w_out_play + w_play)\n",
    "    return combos[-1][-1]"
   ]
  },
  {
   "cell_type": "code",
   "execution_count": 3,
   "id": "8b2afbac-8067-4c72-a10b-291bf1bb9b55",
   "metadata": {},
   "outputs": [],
   "source": [
    "safety = 2\n",
    "field = 3\n",
    "tdown = 7\n",
    "\n",
    "points = [safety,field,tdown]\n",
    "final = 9"
   ]
  },
  {
   "cell_type": "code",
   "execution_count": 4,
   "id": "6cee3fa4-d0d7-44e0-a2a0-8a75ba28b5cc",
   "metadata": {},
   "outputs": [
    {
     "data": {
      "text/plain": [
       "3"
      ]
     },
     "execution_count": 4,
     "metadata": {},
     "output_type": "execute_result"
    }
   ],
   "source": [
    "dp(final,points)"
   ]
  },
  {
   "cell_type": "markdown",
   "id": "977ea7b8-b013-49b4-85c3-9c66ba2e9622",
   "metadata": {},
   "source": [
    "#### Time Complexity: `O(sn)`\n",
    "- Two Loops:\n",
    "    - Loop one: through `s` = list of point plays\n",
    "    - Loop two: through `n` = length of combos\n",
    "- How many `2` and `3` point play combinations for final score of `j`:\n",
    "    - *`A[1][i] = A[0][i] + A[1][i-3]`*\n",
    "    - Linear Time of `O(1)`\n",
    "    \n",
    "    \n",
    "#### Space Complexity: `O(sn)`\n",
    "- size of the 2D Array "
   ]
  },
  {
   "cell_type": "code",
   "execution_count": null,
   "id": "51871982-f961-4e2b-ba71-865604d2bf7f",
   "metadata": {},
   "outputs": [],
   "source": []
  }
 ],
 "metadata": {
  "kernelspec": {
   "display_name": "Python 3",
   "language": "python",
   "name": "python3"
  },
  "language_info": {
   "codemirror_mode": {
    "name": "ipython",
    "version": 3
   },
   "file_extension": ".py",
   "mimetype": "text/x-python",
   "name": "python",
   "nbconvert_exporter": "python",
   "pygments_lexer": "ipython3",
   "version": "3.8.8"
  }
 },
 "nbformat": 4,
 "nbformat_minor": 5
}
