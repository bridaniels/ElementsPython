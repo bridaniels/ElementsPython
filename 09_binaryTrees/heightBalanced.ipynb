{
 "cells": [
  {
   "cell_type": "markdown",
   "id": "460d383c-3a85-40f7-8754-1ee8c34c3db9",
   "metadata": {},
   "source": [
    "# **9.1 Test if a Binary Tree is Height Balanced**\n",
    "---\n",
    "- height balanced = for each node in the tree\n",
    "    - height difference of it's left and right subtrees is **MAX 1**\n",
    "- perfect binary trees are height balanced \n",
    "- complete binary trees are height balanced\n",
    "- *Height-Balanced Binary Tree* -> **DOES NOT HAVE TO BE PERFECT OR COMPLETE**\n",
    "\n",
    "\n",
    "- input = root of a binary tree\n",
    "- check if height balanced "
   ]
  },
  {
   "cell_type": "markdown",
   "id": "9898b242-6294-4677-a8ac-b33405677ffe",
   "metadata": {},
   "source": [
    "---\n",
    "### Brute Force\n",
    "- compute height at each node `x` recursively \n",
    "- compute height for each node starting from the leaves and moving upwards \n",
    "- for each node `x` check the difference in heights of left and right children\n",
    "    - is it greater than one?\n",
    "- Store heighs in a `hash table` or new field in the nodes\n",
    "- Time Complexity: `O(n)`\n",
    "- Space Complexity: `O(n)`"
   ]
  },
  {
   "cell_type": "markdown",
   "id": "eeba3db7-bdee-4ce8-8d05-e49469725149",
   "metadata": {},
   "source": [
    "---\n",
    "### Less Storage \n",
    "- we do not need to store the heights of all nodes at the same time \n",
    "- once done with subtree:\n",
    "    - all we need to know is weither it is *height-balanced* \n",
    "    - if balanced: what the height is \n",
    "    - no info needed about descendants "
   ]
  },
  {
   "cell_type": "code",
   "execution_count": 3,
   "id": "6fa2259d-2d2d-4b1e-bd7d-81b8e02bb25a",
   "metadata": {},
   "outputs": [],
   "source": [
    "import collections"
   ]
  },
  {
   "cell_type": "code",
   "execution_count": 1,
   "id": "d05a5046-1874-4ff9-818c-e108c3ac46d3",
   "metadata": {},
   "outputs": [],
   "source": [
    "class BinaryTreeNode:\n",
    "    def __init__(self, data = None, left = None, right = None):\n",
    "        self.data = data\n",
    "        self.left = left\n",
    "        self.right = right        "
   ]
  },
  {
   "cell_type": "code",
   "execution_count": 6,
   "id": "7239ba01-f7e4-4ae1-b68d-d13fa10239e7",
   "metadata": {},
   "outputs": [],
   "source": [
    "# PostOrder Traversal \n",
    "# Left\n",
    "# Right\n",
    "# Root \n",
    "\n",
    "def is_balanced_b_tree(tree: BinaryTreeNode) -> bool:\n",
    "    \n",
    "    BalancedStatWithHeight = collections.namedtuple('BalancedStatWithHeight', ('balanced','height'))\n",
    "    \n",
    "    \n",
    "    def check_balanced(tree):\n",
    "        if not tree:\n",
    "            return BalancedStatWithHeight(balanced = True, height = -1)\n",
    "        \n",
    "        left_res = check_balanced(tree.left)\n",
    "        if not left_res.balanced:\n",
    "            return left_res\n",
    "        \n",
    "        right_res = check_balanced(tree.right)\n",
    "        if not right_res.balanced:\n",
    "            return right_res\n",
    "        \n",
    "        is_balanced = abs(left_res.height - right_res.height) <= 1\n",
    "        height = max(left_res.height, right_res.height) + 1\n",
    "        \n",
    "        return BalancedStatWithHeight(is_balanced,height)\n",
    "    \n",
    "    return check_balanced(tree).balanced"
   ]
  },
  {
   "cell_type": "markdown",
   "id": "ef53b333-0b3f-41f0-92db-f66863fb4a15",
   "metadata": {},
   "source": [
    "##### If any left subtree is not height-balanced we do not need to visit the corresponding right subtree\n",
    "\n",
    "#### Time Complexity: `O(n)`\n",
    "#### Space Complexity: `O(h)`\n",
    "- stack height bounded by the height of the tree\n"
   ]
  },
  {
   "cell_type": "code",
   "execution_count": null,
   "id": "1a6f36a1-fdf9-4995-9112-d03e0f35bcf7",
   "metadata": {},
   "outputs": [],
   "source": []
  }
 ],
 "metadata": {
  "kernelspec": {
   "display_name": "Python 3",
   "language": "python",
   "name": "python3"
  },
  "language_info": {
   "codemirror_mode": {
    "name": "ipython",
    "version": 3
   },
   "file_extension": ".py",
   "mimetype": "text/x-python",
   "name": "python",
   "nbconvert_exporter": "python",
   "pygments_lexer": "ipython3",
   "version": "3.8.8"
  }
 },
 "nbformat": 4,
 "nbformat_minor": 5
}
