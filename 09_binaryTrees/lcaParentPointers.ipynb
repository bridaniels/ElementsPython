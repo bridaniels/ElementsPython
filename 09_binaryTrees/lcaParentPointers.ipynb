{
 "cells": [
  {
   "cell_type": "markdown",
   "id": "772e85c9-8a12-4daa-a2fe-869d7beb7924",
   "metadata": {},
   "source": [
    "# **9.4 Compute the LCA When Nodes Have Parent Pointers**\n",
    "---\n",
    "- given two nodes in a binary tree compute LCA\n",
    "    - Least Common Ancestor "
   ]
  },
  {
   "cell_type": "code",
   "execution_count": 4,
   "id": "247479a2-86d3-4c76-9d4a-169e34f226c4",
   "metadata": {},
   "outputs": [],
   "source": [
    "from typing import Optional"
   ]
  },
  {
   "cell_type": "code",
   "execution_count": 5,
   "id": "8b4c1c14-a157-47cc-a2bb-1f69f74bbd4c",
   "metadata": {},
   "outputs": [],
   "source": [
    "class BinaryTreeNode:\n",
    "    def __init__(self, data = None, left = None, right = None):\n",
    "        self.data = data\n",
    "        self.left = left\n",
    "        self.right = right        "
   ]
  },
  {
   "cell_type": "markdown",
   "id": "8d432dcd-5cb7-4c9e-972c-be188b200d24",
   "metadata": {},
   "source": [
    "---\n",
    "### Brute Force \n",
    "- store nodes on search path from the root to one of the nodes in a **hash table**\n",
    "    - stop as soon as we hit a node in the hash table \n",
    "- Time/Space Complexity: `O(h)`\n",
    "    - `h` = height of the tree"
   ]
  },
  {
   "cell_type": "markdown",
   "id": "ff1c209f-45a2-447e-93d7-f464fee7c5a4",
   "metadata": {},
   "source": [
    "---\n",
    "## Less Storage\n",
    "- we know two nodes have a common ancestor (root)\n",
    "- nodes same depth:\n",
    "    - move up the tree in tandem from both nodes \n",
    "    - stopping at first common node\n",
    "- not the same depth:\n",
    "    - keep the sset of traversed nodes \n",
    "    - ascend from the deeper node to get the same depth as the shallower node \n",
    "    - then follow up in tandem "
   ]
  },
  {
   "cell_type": "code",
   "execution_count": 9,
   "id": "97d82257-fbb3-4741-9881-0e7bbb83da01",
   "metadata": {},
   "outputs": [],
   "source": [
    "# where is .parent? \n",
    "\n",
    "def lca(node0: BinaryTreeNode, node1, BinaryTreeNode) -> Optional[BinaryTreeNode]:\n",
    "    \n",
    "    def get_depth(node):\n",
    "        depth = 0\n",
    "        while node.parent:\n",
    "            depth += 1\n",
    "            node = node.parent \n",
    "            return depth \n",
    "        \n",
    "    # map(function,iterable)    \n",
    "    depth0, depth1 = map(get_depth, (node0,node1))\n",
    "    \n",
    "    # node0 = deep node -> simplifies code \n",
    "    if depth1 > depth0:\n",
    "        node0, node1 = node1, node0 \n",
    "        \n",
    "    # Ascend from deeper node \n",
    "    depth_diff = abs(depth0 - depth1) \n",
    "    while depth_diff:\n",
    "        node0 = node0.parent\n",
    "        depth_diff -= 1\n",
    "        \n",
    "    # Ascend in tandem\n",
    "    while node0 is not node1:\n",
    "        node0, node1 = node0.parent, node1.parent\n",
    "    return node0"
   ]
  },
  {
   "cell_type": "markdown",
   "id": "5c7533cf-2e53-49d4-9ea3-f7e54a34f6f4",
   "metadata": {},
   "source": [
    "##### Time Complexity: `O(h)`\n",
    "##### Space Complexity: `O(1)`"
   ]
  },
  {
   "cell_type": "code",
   "execution_count": null,
   "id": "d6a3ffee-142b-40fb-b4a8-1ca4bcb1403a",
   "metadata": {},
   "outputs": [],
   "source": []
  }
 ],
 "metadata": {
  "kernelspec": {
   "display_name": "Python 3",
   "language": "python",
   "name": "python3"
  },
  "language_info": {
   "codemirror_mode": {
    "name": "ipython",
    "version": 3
   },
   "file_extension": ".py",
   "mimetype": "text/x-python",
   "name": "python",
   "nbconvert_exporter": "python",
   "pygments_lexer": "ipython3",
   "version": "3.8.8"
  }
 },
 "nbformat": 4,
 "nbformat_minor": 5
}
