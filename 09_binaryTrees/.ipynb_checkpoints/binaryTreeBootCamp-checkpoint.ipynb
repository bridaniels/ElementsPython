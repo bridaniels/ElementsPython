{
 "cells": [
  {
   "cell_type": "markdown",
   "id": "3e15766a-69ba-46b6-93ee-86c35a23a6ba",
   "metadata": {},
   "source": [
    "# **Chapter 9 Binary Trees Boot Camp**\n",
    "---"
   ]
  },
  {
   "cell_type": "markdown",
   "id": "8ea0c576-aedb-4c64-9988-12a75bd9713d",
   "metadata": {},
   "source": [
    "- either empty or a *root* *`node r`* together with a left/right binary tree \n",
    "    - left/right binary trees = subtrees = binary trees themselves \n",
    "    - *left subtree*\n",
    "    - *right subtree*\n",
    "- Most common in **`Binary Search Trees`**\n",
    "    - keys stored in a sorted fashion \n"
   ]
  },
  {
   "cell_type": "code",
   "execution_count": 2,
   "id": "66cbe32e-3dc4-411c-884c-f480e374f4aa",
   "metadata": {},
   "outputs": [],
   "source": [
    "class BinaryTreeNode:\n",
    "    def __init__(self, data = None, left = None, right = None):\n",
    "        self.data = data\n",
    "        self.left = left\n",
    "        self.right = right        "
   ]
  },
  {
   "cell_type": "markdown",
   "id": "f45a8276-60f2-4b83-8877-175f901af6f1",
   "metadata": {},
   "source": [
    "### Node Labels/Paths \n",
    "- root\n",
    "    - root of left subtree\n",
    "        - left child\n",
    "        - right child\n",
    "    - root of right subtree\n",
    "        - left child\n",
    "        - right child \n",
    "- parent field is included in most node object definition -> if the root, parent = `null`\n",
    "- `search path` = path from root to node \n",
    "- parent-child relationship defines an ancestor-descendant relationship \n",
    "    - ancestor if lies on path between root and node `x` \n",
    "    - descendant if below node `x` \n",
    "- node with NO DESCENDANTS = *`leaf`*\n"
   ]
  },
  {
   "cell_type": "markdown",
   "id": "c9cfe7b2-73e8-45b7-9d4a-66f5093932fb",
   "metadata": {},
   "source": [
    "---\n",
    "### Depth and Height \n",
    "- `depth` of node `x` is the number of nodes on the search path not including `x`\n",
    "- `height` of a BST = maximum depth of any node in the tree\n",
    "- `level` = all nodes at the same depth "
   ]
  },
  {
   "cell_type": "markdown",
   "id": "59defd29-a3c9-4bc0-b2f6-14f1386649f6",
   "metadata": {},
   "source": [
    "--- \n",
    "### Types\n",
    "- **Full Binary Tree**\n",
    "    - every node other than the leaves has TWO children \n",
    "    - number of nonleaf nodes is one less than the number of leaves \n",
    "- **Perfect Binary Tree*\n",
    "    - Full binary tree where all leaves are the same depth \n",
    "    - every parent has 2 children \n",
    "    - tree of height `h` contains exactly `2ʰ⁺¹-1` nodes of which `2ʰ` are leaves \n",
    "- **Complete Binary Tree**\n",
    "    - every level except for possibly the last is completely filled\n",
    "    - all nodes as far left as possible \n",
    "    - Complete binary tree on `n` nodes has height `[log n]`\n",
    "    - Left-Skewed -> no node has a right child\n",
    "    - Right-Skewed -> no node has a left child\n",
    "    - Skewed Time Complexity:\n",
    "        - `O(h)` complexity translates into `O(n)` for skewed trees "
   ]
  },
  {
   "cell_type": "markdown",
   "id": "c3982f48-387e-4055-a8fc-ab37d8924cb3",
   "metadata": {},
   "source": [
    "---\n",
    "## Inorder Traversal\n",
    "- traverse left subtree\n",
    "- visit the root\n",
    "- traverse the right subtree\n",
    "\n",
    "---\n",
    "## Preorder Traversal\n",
    "- visit the root\n",
    "- traverse the left subtree\n",
    "- traverse the right subtree\n",
    "\n",
    "---\n",
    "## Postorder Traversal \n",
    "- traverse the left subtree\n",
    "- traverse the right subtree\n",
    "- visit the root "
   ]
  },
  {
   "cell_type": "markdown",
   "id": "65a789fe-9cdc-4329-ac81-10379abaf92e",
   "metadata": {},
   "source": [
    "---\n",
    "### Time Complexity: `O(n)`\n",
    "- `n` = number of nodes\n",
    "\n",
    "### Space Complexity: `O(h)`\n",
    "- `h` = height \n",
    "- dictated by max depth of a function call stack \n",
    "- if each node has a parent\n",
    "    - can be done with `O(1)` additional space\n",
    "- `O(h)` complexity translates into `O(log n)` for balanced trees"
   ]
  },
  {
   "cell_type": "markdown",
   "id": "c01bbb20-c009-4881-a4c9-3ce7a1ccfef5",
   "metadata": {},
   "source": [
    "--- \n",
    "## Three Basic Traversals"
   ]
  },
  {
   "cell_type": "code",
   "execution_count": 5,
   "id": "07a040f3-0c13-4f7e-846f-9b4dc14ecef2",
   "metadata": {},
   "outputs": [],
   "source": [
    "# print roots from Binary Tree \n",
    "def tree_traversal(root: BinaryTreeNode) -> None: \n",
    "    \n",
    "    if root:\n",
    "        # Preorder -> processes root before traversals\n",
    "        print('preorder: %d' % root.data)\n",
    "        tree_traversal(root.left)\n",
    "        \n",
    "        # Inorder -> processes root after traversal of left child \n",
    "        print('inorder: %d' % root.data)\n",
    "        tree_traversal_(root.right)\n",
    "        \n",
    "        # Postorder -> processes root after traversals of left and right\n",
    "        print('postorder: %d' % root.data)"
   ]
  },
  {
   "cell_type": "markdown",
   "id": "ba3d2e93-0ac5-4abd-b399-7c9a04276f7d",
   "metadata": {},
   "source": [
    "#### Time Complexity: `O(n)`\n",
    "#### Space Complexity: `O(h)`\n",
    "- no memory explicity allocated\n",
    "- function call stack reaches a max depth of `h` \n",
    "- minimum value for `h` is `log n` (complete binary tree)\n",
    "- maximum value for `h` is `n` (skewed tree)"
   ]
  },
  {
   "cell_type": "code",
   "execution_count": null,
   "id": "cffc7024-ce08-430d-80fc-42fab3901972",
   "metadata": {},
   "outputs": [],
   "source": []
  },
  {
   "cell_type": "code",
   "execution_count": null,
   "id": "f599a546-7e98-4231-aaf7-7e27d5df1e5d",
   "metadata": {},
   "outputs": [],
   "source": []
  }
 ],
 "metadata": {
  "kernelspec": {
   "display_name": "Python 3",
   "language": "python",
   "name": "python3"
  },
  "language_info": {
   "codemirror_mode": {
    "name": "ipython",
    "version": 3
   },
   "file_extension": ".py",
   "mimetype": "text/x-python",
   "name": "python",
   "nbconvert_exporter": "python",
   "pygments_lexer": "ipython3",
   "version": "3.8.8"
  }
 },
 "nbformat": 4,
 "nbformat_minor": 5
}
