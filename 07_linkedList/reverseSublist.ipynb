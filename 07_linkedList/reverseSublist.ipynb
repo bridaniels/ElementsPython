{
 "cells": [
  {
   "cell_type": "markdown",
   "id": "f6737794-c5b1-44dc-83e6-149a1a6987fb",
   "metadata": {},
   "source": [
    "# **7.2 Reverse a Single Sublist**\n",
    "---\n",
    "- Reversing a sublist within a list \n",
    "- Input = singly linked list `L` and two integers `s` and `f`\n",
    "- Reverse nodes from `s` to `f` INCLUSIVE\n",
    "- Succesor fields also have to be updated \n",
    "- Iterate through list until you hit `s` and predecessor \n",
    "- `s` node begins reversal process and we count until we reach `f`\n",
    "- Relink reversed sublist with rest of sublist \n"
   ]
  },
  {
   "cell_type": "code",
   "execution_count": 1,
   "id": "780e7092-9cf1-4789-9b81-c8885169e3f0",
   "metadata": {},
   "outputs": [],
   "source": [
    "from typing import List\n",
    "from typing import Optional"
   ]
  },
  {
   "cell_type": "markdown",
   "id": "bcec5090-22a3-4e56-b068-2227e12f4b0a",
   "metadata": {},
   "source": [
    "---\n",
    "## Reverse Sublist"
   ]
  },
  {
   "cell_type": "raw",
   "id": "7ec845cd-10ae-4d74-be3a-3b3aba23d346",
   "metadata": {
    "tags": []
   },
   "source": [
    "     def reverse_sub(self, start: int, finish: int) -> Optional[ListNode]:\n",
    "    \n",
    "        sentinel = sublist_head = ListNode(0,L)\n",
    "    \n",
    "        for _ in range(1,start):\n",
    "            sublist_head = sublist_head.next\n",
    "    \n",
    "        # Revese\n",
    "        sublist_itr = sublist_head.next\n",
    "        for _ in range(finish - start):\n",
    "            temp = sublist_itr.next\n",
    "            sublist_itr, temp.next = sublist_head.next = (temp.next, sublist_head.next, temp)\n",
    "        \n",
    "        return sentinel.next    \n",
    "        "
   ]
  },
  {
   "cell_type": "code",
   "execution_count": 4,
   "id": "01ccfdba-950e-4eee-ad34-19f72e3814a1",
   "metadata": {},
   "outputs": [
    {
     "name": "stdout",
     "output_type": "stream",
     "text": [
      "10 20 30 40 50 60 70 \n",
      "10 20 60 50 40 30 70 \n"
     ]
    }
   ],
   "source": [
    "class Node:\n",
    "    def __init__(self, data):\n",
    "        self.data = data\n",
    "        self.next = None\n",
    " \n",
    "# goes with reverse subllist function\n",
    "def reverse(head):\n",
    "    prev = None  \n",
    "    curr = head\n",
    "    while (curr):\n",
    "        next = curr.next\n",
    "        curr.next = prev\n",
    "        prev = curr\n",
    "        curr = next\n",
    "    return prev\n",
    "\n",
    "def reverseBetween(head, m, n):\n",
    "    if (m == n):\n",
    "        return head   \n",
    "    revs = None\n",
    "    revs_prev = None\n",
    "    revend = None\n",
    "    revend_next = None\n",
    "    i = 1\n",
    "    curr = head\n",
    "    while (curr and i <= n):\n",
    "        if (i < m):\n",
    "            revs_prev = curr\n",
    "        if (i == m):\n",
    "            revs = curr\n",
    "        if (i == n):\n",
    "            revend = curr\n",
    "            revend_next = curr.next\n",
    "        curr = curr.next\n",
    "        i += 1\n",
    "    revend.next = None\n",
    "    revend = reverse(revs)\n",
    "    if (revs_prev):\n",
    "        revs_prev.next = revend\n",
    "    else:\n",
    "        head = revend\n",
    "    revs.next = revend_next\n",
    "    return head\n",
    "    \n",
    "def prints(head):\n",
    "    while (head != None):\n",
    "        print(head.data, end = ' ')\n",
    "        head = head.next\n",
    "    print()\n",
    " \n",
    "def push(head_ref, new_data):\n",
    " \n",
    "    new_node = Node(new_data)\n",
    "    new_node.data = new_data\n",
    "    new_node.next = (head_ref)\n",
    "    (head_ref) = new_node\n",
    "    return head_ref\n",
    " \n",
    "    \n",
    "if __name__=='__main__':\n",
    "     \n",
    "    head = None\n",
    "    head = push(head, 70)\n",
    "    head = push(head, 60)\n",
    "    head = push(head, 50)\n",
    "    head = push(head, 40)\n",
    "    head = push(head, 30)\n",
    "    head = push(head, 20)\n",
    "    head = push(head, 10)\n",
    "    prints(head)\n",
    "    \n",
    "    reverseBetween(head, 3, 6)\n",
    "    prints(head)"
   ]
  },
  {
   "cell_type": "markdown",
   "id": "518235a2-eea3-467b-92eb-e9e3e420fc31",
   "metadata": {},
   "source": [
    "##### Time Complexity: `O(f)`\n",
    "- `f` = end of reversal range "
   ]
  },
  {
   "cell_type": "markdown",
   "id": "69520395-ba3d-4d90-99cd-37f90b59c4d4",
   "metadata": {},
   "source": [
    "---\n",
    "# Variant\n",
    "#### Reverse a Singly Linked List in Constant Space"
   ]
  },
  {
   "cell_type": "code",
   "execution_count": 5,
   "id": "096fd3d5-c899-4c4a-95d0-8d348264e349",
   "metadata": {},
   "outputs": [],
   "source": [
    "class ListNode:\n",
    "    def __init__(self, data=None, next=None):\n",
    "        self.data = data\n",
    "        self.next = next "
   ]
  },
  {
   "cell_type": "code",
   "execution_count": 6,
   "id": "464e4a49-b810-47ef-a6de-ab1c94c77b42",
   "metadata": {
    "tags": []
   },
   "outputs": [],
   "source": [
    "class LinkedList:\n",
    "    def __init__(self):\n",
    "        self.head = None\n",
    "        self.last_node = None\n",
    "        \n",
    "    def insert_at_beg(self,data):\n",
    "        # inserting at beginning -> next element is the current head \n",
    "        node = ListNode(data,self.head)\n",
    "        self.head = node \n",
    "            \n",
    "    def reverse(self):\n",
    "        prev = None\n",
    "        current = self.head\n",
    "        while(current is not None):\n",
    "            next = current.next\n",
    "            current.next = prev\n",
    "            prev = current \n",
    "            current = next\n",
    "        self.head = prev \n",
    "            \n",
    "    def print(self):\n",
    "        if self.head is None:\n",
    "            print(\"Linked List is empty\")\n",
    "            return\n",
    "        itr = self.head\n",
    "        llstr = ''\n",
    "        while itr:\n",
    "            llstr += str(itr.data) + '-->'\n",
    "            itr = itr.next\n",
    "        print(llstr)\n",
    "        "
   ]
  },
  {
   "cell_type": "code",
   "execution_count": 7,
   "id": "635234a5-66d8-4480-a374-e8ec2c5f645d",
   "metadata": {},
   "outputs": [
    {
     "name": "stdout",
     "output_type": "stream",
     "text": [
      "60-->50-->40-->30-->20-->10-->\n",
      "10-->20-->30-->40-->50-->60-->\n"
     ]
    }
   ],
   "source": [
    "if __name__ == '__main__':\n",
    "    ll = LinkedList()\n",
    "    ll.insert_at_beg(10)\n",
    "    ll.insert_at_beg(20)\n",
    "    ll.insert_at_beg(30)\n",
    "    ll.insert_at_beg(40)\n",
    "    ll.insert_at_beg(50)\n",
    "    ll.insert_at_beg(60)\n",
    "    ll.print()\n",
    "    ll.reverse()\n",
    "    ll.print()"
   ]
  },
  {
   "cell_type": "markdown",
   "id": "667a798a-e1c2-43cb-843b-ebe7d442ea48",
   "metadata": {},
   "source": [
    "---\n",
    "# Variant\n"
   ]
  },
  {
   "cell_type": "code",
   "execution_count": null,
   "id": "ed015ff1-09ae-4bc9-b2de-417a36c6614a",
   "metadata": {},
   "outputs": [],
   "source": []
  }
 ],
 "metadata": {
  "kernelspec": {
   "display_name": "Python 3",
   "language": "python",
   "name": "python3"
  },
  "language_info": {
   "codemirror_mode": {
    "name": "ipython",
    "version": 3
   },
   "file_extension": ".py",
   "mimetype": "text/x-python",
   "name": "python",
   "nbconvert_exporter": "python",
   "pygments_lexer": "ipython3",
   "version": "3.8.8"
  }
 },
 "nbformat": 4,
 "nbformat_minor": 5
}
