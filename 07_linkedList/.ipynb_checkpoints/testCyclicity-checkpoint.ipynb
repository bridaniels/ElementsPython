{
 "cells": [
  {
   "cell_type": "markdown",
   "id": "90b088fe-010b-4be8-81fd-1fe8a08b6d70",
   "metadata": {},
   "source": [
    "# **7.3 Test for Cyclicity**\n",
    "---\n",
    "- linked lists supposed to be a sequence of nodes ending in `null`\n",
    "- create a *CYCLE* by making next field of an element reference to an earlier node \n",
    "    - take the head of a singly linked list\n",
    "        - return `null` if there is no cycle\n",
    "        - return sentinel node if cycle present \n",
    "- use fast and slow iterators "
   ]
  },
  {
   "cell_type": "markdown",
   "id": "90a4f2ff-d3a2-48c7-9391-7eeadc585942",
   "metadata": {},
   "source": [
    "---\n",
    "### If space is not important \n",
    "- cycle through linked list storing nodes in a hash table \n",
    "- cycle exists if you hit a node that is in the table\n",
    "- ccyle dos not exist the search ends at the tail \n",
    "- `O(n)` space \n",
    "\n",
    "---"
   ]
  },
  {
   "cell_type": "markdown",
   "id": "97447fa7-39e1-4c0b-9a1b-b6a529d2f65f",
   "metadata": {},
   "source": [
    "### Brute Force - No Additional Space \n",
    "- Nested Loop\n",
    "    - outer loop traverses node one by one \n",
    "    - inner loop traverses nodes next\n",
    "    - if the outer loop has visited a node twice, loop detected \n",
    "    - outer loop his the end -> no cycle \n",
    "- `O(n²)` time complexity\n",
    "\n",
    "---"
   ]
  },
  {
   "cell_type": "markdown",
   "id": "893bd91a-610b-4aa3-aad3-bf49ae929c2a",
   "metadata": {},
   "source": [
    "## **Linear Time - Fast and Slow Iterator**\n",
    "- Slow iterator: advances by 1 \n",
    "- Fast iterator: advances by 2\n",
    "- cycle if they meet\n",
    "- `null` if they reach the end \n",
    "- Finding the first node:\n",
    "    - Calculate cycle length `C`\n",
    "    - Use two iterators:\n",
    "        - fast: `C` ahead\n",
    "        - slow: +1 \n",
    "    - When the iterators meet, they'll be on the first node "
   ]
  },
  {
   "cell_type": "code",
   "execution_count": 3,
   "id": "e5e479d0-1f1b-43f1-a741-ae1d6560f76a",
   "metadata": {},
   "outputs": [],
   "source": [
    "from typing import Optional"
   ]
  },
  {
   "cell_type": "code",
   "execution_count": 4,
   "id": "36579fbd-060a-4edd-8e3a-0905c07e4483",
   "metadata": {},
   "outputs": [],
   "source": [
    "class ListNode:\n",
    "    def __init__(self, data=None, next=None):\n",
    "        self.data = data\n",
    "        self.next = next "
   ]
  },
  {
   "cell_type": "code",
   "execution_count": 15,
   "id": "61e91685-d003-4da9-9077-25afca3129d5",
   "metadata": {},
   "outputs": [],
   "source": [
    "class LinkedList:\n",
    "    def __init__(self):\n",
    "        self.head = None\n",
    "        self.last_node = None\n",
    "        \n",
    "    def insert_at_beg(self,data):\n",
    "        # inserting at beginning -> next element is the current head \n",
    "        node = ListNode(data,self.head)\n",
    "        self.head = node \n",
    "     \n",
    "    def get_length(self):\n",
    "        count = 0 \n",
    "        itr = self.head\n",
    "        while itr:\n",
    "            count += 1\n",
    "            itr = itr.next\n",
    "        return count\n",
    "            \n",
    "    def print(self):\n",
    "        if self.head is None:\n",
    "            print(\"Linked List is empty\")\n",
    "            return\n",
    "        itr = self.head\n",
    "        llstr = ''\n",
    "        while itr:\n",
    "            llstr += str(itr.data) + '-->'\n",
    "            itr = itr.next\n",
    "        print(llstr)\n",
    "        \n",
    "        \n",
    "        \n",
    "        \n",
    "        \n",
    "        \n",
    "    def has_cycle(head: ListNode) -> Optional[ListNode]:\n",
    "        def length_C(end):\n",
    "            start, step = end, 0 \n",
    "            while True:\n",
    "                step += 1\n",
    "                start = start.next\n",
    "                if start is end:\n",
    "                    return step \n",
    "        fast = slow = head \n",
    "        while fast and fast.next:\n",
    "            slow, fast = slow.next, fast.next.next \n",
    "            if slow is fast:\n",
    "                len_C_itr = head\n",
    "                for _ in range(length_C(slow)):\n",
    "                    len_C_itr = len_C_itr.next\n",
    "                itr = head\n",
    "                while itr is not len_C_itr:\n",
    "                    itr = itr.next\n",
    "                    len_C_itr = len_C_itr.next\n",
    "                return itr\n",
    "        return None       "
   ]
  },
  {
   "cell_type": "code",
   "execution_count": 17,
   "id": "386d0fcf-f750-4d2d-bd45-641a96c89c0d",
   "metadata": {},
   "outputs": [
    {
     "name": "stdout",
     "output_type": "stream",
     "text": [
      "2-->3-->5-->7-->11-->\n"
     ]
    }
   ],
   "source": [
    "if __name__ == '__main__':\n",
    "    ll = LinkedList()\n",
    "    ll.insert_at_beg(11)\n",
    "    ll.insert_at_beg(7)\n",
    "    ll.insert_at_beg(5)\n",
    "    ll.insert_at_beg(3)\n",
    "    ll.insert_at_beg(2)\n",
    "    ll.print()\n",
    "    # ll.has_cycle()"
   ]
  },
  {
   "cell_type": "markdown",
   "id": "b63999dd-e87a-4323-b9d1-3777c0e8b9ef",
   "metadata": {},
   "source": [
    "##### Time Complexity: \n",
    "- `O(F) + O(C) = O(n) - O(F)`\n",
    "    - for pointers to reach the cycle \n",
    "    - `F` number of nodes to the start of the cycle\n",
    "    - `C` nodes on the cycle\n",
    "    - *`n`* total number of nodes \n",
    "- `O(C)` to overlap once the slower one enters the cycle "
   ]
  },
  {
   "cell_type": "markdown",
   "id": "d3ff7843-2f56-43f6-a853-b9b46dfdadf8",
   "metadata": {},
   "source": [
    "---\n",
    "## Variant"
   ]
  },
  {
   "cell_type": "code",
   "execution_count": null,
   "id": "8cdcf143-cc53-4afb-93ee-bcd0e189f7fd",
   "metadata": {},
   "outputs": [],
   "source": []
  }
 ],
 "metadata": {
  "kernelspec": {
   "display_name": "Python 3",
   "language": "python",
   "name": "python3"
  },
  "language_info": {
   "codemirror_mode": {
    "name": "ipython",
    "version": 3
   },
   "file_extension": ".py",
   "mimetype": "text/x-python",
   "name": "python",
   "nbconvert_exporter": "python",
   "pygments_lexer": "ipython3",
   "version": "3.8.8"
  }
 },
 "nbformat": 4,
 "nbformat_minor": 5
}
