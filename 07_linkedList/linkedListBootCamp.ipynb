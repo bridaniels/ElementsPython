{
 "cells": [
  {
   "cell_type": "markdown",
   "id": "af2bf685-1707-4ec2-8323-18f7cb318783",
   "metadata": {},
   "source": [
    "# **Chapter 7: Linked List**\n",
    "---\n",
    "- contains objects in linear order \n",
    "- difference from array: \n",
    "    - inserting and deleting elements in a list has time complexity `O(1)`\n",
    "    - retreiving *`kth`* element takes `O(n)` time complexity \n",
    "- Two types of list-related problems:\n",
    "    - implement your own list \n",
    "    - exploit the standard list library   \n",
    "- Linked Lists are not a standard type in Python \n",
    "    - Python `list` type is typically implemented as a dynamically resized array\n",
    "- Using existing list nodes can reduce space complexity to `O(1)`"
   ]
  },
  {
   "cell_type": "markdown",
   "id": "ba161564-5be8-46af-9bd4-fed48daadd3c",
   "metadata": {},
   "source": [
    "### *Singly Linked List*\n",
    "- data structure containing a sequence of nodes \n",
    "- each node contains:\n",
    "    - object\n",
    "    - reference to next node \n",
    "- first node = *head*\n",
    "- last node = *tail* \n",
    "    - following field is `null`\n",
    "- don't forget to **update next**\n",
    "- often benefit from using two iterators \n",
    "\n",
    "### *Doubly Linked List*\n",
    "- data structure containing a sequence of nodes \n",
    "- each node contains:\n",
    "    - object\n",
    "    - reference to next node\n",
    "    - reference to predecessor node \n",
    "- sentinel node:\n",
    "    - self-loop \n",
    "    - used instead of null to mark the end of the list \n",
    "    - dummy head \n",
    "    - checks for empty lists \n",
    "    - simplifies code\n",
    "- don't forget to **update next** and **update previous**"
   ]
  },
  {
   "cell_type": "code",
   "execution_count": 2,
   "id": "acf98418-531d-4722-9b19-035afa21312c",
   "metadata": {},
   "outputs": [],
   "source": [
    "from typing import List"
   ]
  },
  {
   "cell_type": "code",
   "execution_count": 1,
   "id": "f60bcaa2-5052-4c02-9e53-bc9dd02259fc",
   "metadata": {},
   "outputs": [],
   "source": [
    "class ListNode:\n",
    "    def __init__(self, data = 0, next = None):\n",
    "        self.data = data\n",
    "        self.next = next "
   ]
  },
  {
   "cell_type": "markdown",
   "id": "5016cd57-42f5-492f-a48b-08123d3b96e8",
   "metadata": {},
   "source": [
    "---\n",
    "## Search for a Key"
   ]
  },
  {
   "cell_type": "code",
   "execution_count": 3,
   "id": "44dc945c-fe19-48f1-bbc1-6970e513108b",
   "metadata": {},
   "outputs": [],
   "source": [
    "def search_list(L: ListNode, key: int) -> ListNode: \n",
    "    # if key is not present -> L = null \n",
    "    while L and L.data != key:\n",
    "        L = L.next \n",
    "    return L "
   ]
  },
  {
   "cell_type": "markdown",
   "id": "8612a990-80a8-4730-80f9-c5b5f7514cad",
   "metadata": {},
   "source": [
    "#### Time Complexity: `O(n)`\n",
    "- `n` = number of nodes \n",
    "\n",
    "---"
   ]
  },
  {
   "cell_type": "markdown",
   "id": "a423e520-8316-408c-ab8e-599f2547223d",
   "metadata": {},
   "source": [
    "## Insert a New Node After a Specified Node"
   ]
  },
  {
   "cell_type": "code",
   "execution_count": 6,
   "id": "7e9dec6a-56e4-4233-892a-abd5fd9ae013",
   "metadata": {},
   "outputs": [],
   "source": [
    "def insert_after(node: ListNode, new_node: ListNode) -> None:\n",
    "    \n",
    "    new_node.next = node.next \n",
    "    node.next = new_node"
   ]
  },
  {
   "cell_type": "markdown",
   "id": "c2296d2a-1066-4bf8-8516-80e00bcea421",
   "metadata": {},
   "source": [
    "#### Time Complexity: `O(1)`\n",
    "- local operation "
   ]
  },
  {
   "cell_type": "markdown",
   "id": "34de70e4-3622-4a21-9d98-3c16babd9cc0",
   "metadata": {},
   "source": [
    "---\n",
    "## Delete a Node\n",
    "- delete the node past this one\n",
    "- assume node is not a tail "
   ]
  },
  {
   "cell_type": "code",
   "execution_count": 7,
   "id": "64650c28-08dd-448d-becb-794357ad1dc0",
   "metadata": {},
   "outputs": [],
   "source": [
    "def delete_after(node: ListNode) -> None:\n",
    "    node.next = node.next.next"
   ]
  },
  {
   "cell_type": "markdown",
   "id": "1ca24041-0e0f-4be4-b6c5-74f29e34cd10",
   "metadata": {},
   "source": [
    "#### Time Complexity: `O(1)`\n",
    "- local operation \n",
    "\n",
    "---"
   ]
  },
  {
   "cell_type": "code",
   "execution_count": null,
   "id": "71297b84-f9cc-4a18-966a-1015f9798d0d",
   "metadata": {},
   "outputs": [],
   "source": []
  }
 ],
 "metadata": {
  "kernelspec": {
   "display_name": "Python 3",
   "language": "python",
   "name": "python3"
  },
  "language_info": {
   "codemirror_mode": {
    "name": "ipython",
    "version": 3
   },
   "file_extension": ".py",
   "mimetype": "text/x-python",
   "name": "python",
   "nbconvert_exporter": "python",
   "pygments_lexer": "ipython3",
   "version": "3.8.8"
  }
 },
 "nbformat": 4,
 "nbformat_minor": 5
}
