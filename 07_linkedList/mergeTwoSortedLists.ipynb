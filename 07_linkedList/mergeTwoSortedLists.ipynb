{
 "cells": [
  {
   "cell_type": "markdown",
   "id": "dcd677e3-273c-42f1-84d2-63e788fac90b",
   "metadata": {},
   "source": [
    "# **7.1 Merge Two Sorted Lists**\n",
    "---\n",
    "- input = two singly linked lists where\n",
    "    - each node holds a number \n",
    "    - ascending order \n",
    "- Sort the two lists \n",
    "    - only field your program can change in a node is its next field\n",
    "- traverse the two lists, choosing the node containing the smaller key to continue traversing from "
   ]
  },
  {
   "cell_type": "markdown",
   "id": "25019072-5cb3-4ec8-9470-512cd9dd2541",
   "metadata": {},
   "source": [
    "#### Python Types\n",
    "- allow declaring of the type of variable \n",
    "- Generic Types: `str`, `int`, `bool`, `bytes`, `Dict[]`, `List[]`, `Tuple[]`, `Set[]`, `Optional`, `Union`\n",
    "    - `Optional` = could be a `str` or could be `None`\n",
    "        - `Optional[Something]` equivalent to `Optional[Something, None]`\n",
    "    "
   ]
  },
  {
   "cell_type": "code",
   "execution_count": 1,
   "id": "2b711d26-c5a4-4577-8bab-166ed0fa4b59",
   "metadata": {},
   "outputs": [],
   "source": [
    "from typing import List\n",
    "from typing import Optional"
   ]
  },
  {
   "cell_type": "code",
   "execution_count": 7,
   "id": "4860b143-804f-4201-8614-0a6feb62a07c",
   "metadata": {},
   "outputs": [],
   "source": [
    "class ListNode:\n",
    "    def __init__(self, data):\n",
    "        self.data = data\n",
    "        self.next = next "
   ]
  },
  {
   "cell_type": "code",
   "execution_count": 26,
   "id": "41c97511-43e7-466e-8b85-05c4ba9afdd4",
   "metadata": {},
   "outputs": [],
   "source": [
    "def mergeSorted(L1: Optional[ListNode],\n",
    "               L2: Optional[ListNode]) -> Optional[ListNode]: \n",
    "    #placeholder for result \n",
    "    sentinel = tail = ListNode()\n",
    "    \n",
    "    while L1 and L2:\n",
    "        if L1.data <= L2.data:\n",
    "            tail.next, L1 = L1, L1.next \n",
    "        else:\n",
    "            tail.next, L2 = L2, L2.next\n",
    "        tail = tail.next\n",
    "    tail.next = L1 or L2\n",
    "    return sentinel.next "
   ]
  },
  {
   "cell_type": "code",
   "execution_count": null,
   "id": "f96cdfed-bc5f-417f-b795-a17c3f74c288",
   "metadata": {},
   "outputs": [],
   "source": []
  },
  {
   "cell_type": "markdown",
   "id": "29aa6858-aad6-43f0-8992-a24569bc6cc6",
   "metadata": {},
   "source": [
    "##### Time Complexity: `O(n+m)`\n",
    "- lists of comparable length \n",
    "\n",
    "##### Space Complexity: `O(1)`\n",
    "- reusing existing nodes "
   ]
  },
  {
   "cell_type": "markdown",
   "id": "7275a1f4-6a59-4a85-8209-dfcf3f2ad0ae",
   "metadata": {},
   "source": [
    "---\n",
    "# Variant "
   ]
  },
  {
   "cell_type": "code",
   "execution_count": null,
   "id": "742c5773-eb70-460b-a747-cb10779e457a",
   "metadata": {},
   "outputs": [],
   "source": []
  }
 ],
 "metadata": {
  "kernelspec": {
   "display_name": "Python 3",
   "language": "python",
   "name": "python3"
  },
  "language_info": {
   "codemirror_mode": {
    "name": "ipython",
    "version": 3
   },
   "file_extension": ".py",
   "mimetype": "text/x-python",
   "name": "python",
   "nbconvert_exporter": "python",
   "pygments_lexer": "ipython3",
   "version": "3.8.8"
  }
 },
 "nbformat": 4,
 "nbformat_minor": 5
}
