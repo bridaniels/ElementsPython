{
 "cells": [
  {
   "cell_type": "markdown",
   "id": "74c630e6-d630-44fb-ba41-d6a97eed7257",
   "metadata": {},
   "source": [
    "# **Build a LinkedList**"
   ]
  },
  {
   "cell_type": "code",
   "execution_count": 44,
   "id": "bfaefbe5-9a9b-4133-8b9c-34e29a7d8fcd",
   "metadata": {},
   "outputs": [],
   "source": [
    "class ListNode:\n",
    "    def __init__(self, data=None, next=None):\n",
    "        self.data = data\n",
    "        self.next = next "
   ]
  },
  {
   "cell_type": "code",
   "execution_count": 45,
   "id": "453d25d1-183e-4d5b-be30-46040f597342",
   "metadata": {
    "tags": []
   },
   "outputs": [],
   "source": [
    "class LinkedList:\n",
    "    def __init__(self):\n",
    "        self.head = None\n",
    "        self.last_node = None\n",
    "        \n",
    "    def insert_at_beg(self,data):\n",
    "        # inserting at beginning -> next element is the current head \n",
    "        node = ListNode(data,self.head)\n",
    "        self.head = node \n",
    "        \n",
    "    def insert_at_end(self,data):\n",
    "        if self.head is None:\n",
    "            # inserting at end -> next element is nothing\n",
    "            self.head = ListNode(data,None)\n",
    "            return \n",
    "        #iterate through the linked list to insert at end\n",
    "        itr = self.head\n",
    "        while itr.next:\n",
    "            itr = itr.next\n",
    "        # once end is found \n",
    "        itr.next = ListNode(data,None)\n",
    "            \n",
    "    def insert_values(self,data_list):\n",
    "        self.head = None \n",
    "        for data in data_list:\n",
    "            self.insert_at_end(data)\n",
    "            \n",
    "    def remove_at(self,index):\n",
    "        if index < 0 or index >= self.get_length():\n",
    "            raise Exception(\"Invalid Index\")\n",
    "        if index == 0:\n",
    "            #remove head \n",
    "            self.head = self.head.next\n",
    "        count = 0 \n",
    "        itr = self.head\n",
    "        while itr:\n",
    "            if count == index - 1:\n",
    "                itr.next = itr.next.next\n",
    "                break\n",
    "            itr = itr.next  \n",
    "            count += 1\n",
    "            \n",
    "    def insert_at(self, index, data):\n",
    "        if index < 0 or index > self.get_length():\n",
    "            raise Exception(\"Invalid Index\")\n",
    "        if index == 0 :\n",
    "            self.insert_at_beg(data)\n",
    "            return\n",
    "        count = 0 \n",
    "        itr = self.head\n",
    "        while itr:\n",
    "            if count == index - 1:\n",
    "                # modify next pointer of previous element \n",
    "                # at the previous element now\n",
    "                node = ListNode(data, itr.next)\n",
    "                itr.next = node\n",
    "                break \n",
    "                \n",
    "            itr = itr.next\n",
    "            count += 1\n",
    "     \n",
    "    def get_length(self):\n",
    "        count = 0 \n",
    "        itr = self.head\n",
    "        while itr:\n",
    "            count += 1\n",
    "            itr = itr.next\n",
    "        return count\n",
    "            \n",
    "    def print(self):\n",
    "        if self.head is None:\n",
    "            print(\"Linked List is empty\")\n",
    "            return\n",
    "        itr = self.head\n",
    "        llstr = ''\n",
    "        while itr:\n",
    "            llstr += str(itr.data) + '-->'\n",
    "            itr = itr.next\n",
    "        print(llstr)\n",
    "        "
   ]
  },
  {
   "cell_type": "code",
   "execution_count": 46,
   "id": "cb936f25-b857-4ab5-9748-8454fb0fe2c9",
   "metadata": {},
   "outputs": [
    {
     "name": "stdout",
     "output_type": "stream",
     "text": [
      "89-->5-->79-->\n"
     ]
    }
   ],
   "source": [
    "if __name__ == '__main__':\n",
    "    ll = LinkedList()\n",
    "    ll.insert_at_beg(5)\n",
    "    ll.insert_at_beg(89)\n",
    "    ll.insert_at_end(79)\n",
    "    ll.print()"
   ]
  },
  {
   "cell_type": "code",
   "execution_count": 47,
   "id": "53e22d4a-c811-4ed4-aa30-4f56851db1bf",
   "metadata": {},
   "outputs": [
    {
     "name": "stdout",
     "output_type": "stream",
     "text": [
      "bananna-->mango-->grapes-->orange-->\n",
      "length: 3\n",
      "bananna-->mango-->orange-->\n",
      "bananna-->mango-->figs-->orange-->\n"
     ]
    }
   ],
   "source": [
    "if __name__ == '__main__':\n",
    "    ll = LinkedList()\n",
    "    ll.insert_values(['bananna','mango', 'grapes','orange'])\n",
    "    ll.print()\n",
    "    ll.remove_at(2)\n",
    "    print(\"length:\", ll.get_length())\n",
    "    ll.print()\n",
    "    # ll.remove_at(20)\n",
    "    ll.insert_at(2,'figs')\n",
    "    ll.print()"
   ]
  },
  {
   "cell_type": "code",
   "execution_count": null,
   "id": "46c2396e-ffa2-4d96-abcc-2d2a2566cec6",
   "metadata": {},
   "outputs": [],
   "source": []
  }
 ],
 "metadata": {
  "kernelspec": {
   "display_name": "Python 3",
   "language": "python",
   "name": "python3"
  },
  "language_info": {
   "codemirror_mode": {
    "name": "ipython",
    "version": 3
   },
   "file_extension": ".py",
   "mimetype": "text/x-python",
   "name": "python",
   "nbconvert_exporter": "python",
   "pygments_lexer": "ipython3",
   "version": "3.8.8"
  }
 },
 "nbformat": 4,
 "nbformat_minor": 5
}
