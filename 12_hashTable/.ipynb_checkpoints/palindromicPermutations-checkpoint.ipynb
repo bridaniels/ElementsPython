{
 "cells": [
  {
   "cell_type": "markdown",
   "id": "1d076d63-bcec-4fc3-bff8-b2671f91cdf5",
   "metadata": {},
   "source": [
    "# **12.1 Test for Palindromic Permutations**\n",
    "---\n",
    "- Palindrome: string that reads the same forwards and backwards \n",
    "- Test wether the letters forming a string can be permuted to form a palindrome \n",
    "    - find a simple characterization of strings that can be permuted to form a palindrome \n",
    "- If a string ends with `a`, it needs to start with `a`\n",
    "- Length of string is even, there needs to be even numbers of each letter \n",
    "- Length of string is odd, even numbers of each letter except for one \n",
    "- Test that at most one character appears an odd number of times \n",
    "    - check using a hash table mapping characters to freuencies \n",
    "    - `}collections.Counter`"
   ]
  },
  {
   "cell_type": "code",
   "execution_count": 1,
   "id": "a5b9afda-e3ef-4152-85a5-67f3eb1b4f48",
   "metadata": {},
   "outputs": [],
   "source": [
    "import collections\n",
    "\n",
    "palindromes = [\"level\"]\n",
    "palindromes2 = [\"rotator\"]\n",
    "palindromes3 = [\"foobaraboof\"]\n",
    "permuted = [\"edified\"]"
   ]
  },
  {
   "cell_type": "code",
   "execution_count": 2,
   "id": "77a7d44f-2de0-475a-82e6-3311fad2d8ca",
   "metadata": {},
   "outputs": [],
   "source": [
    "def pally_drome(s: str) -> bool:\n",
    "    \n",
    "    # v = value counted of each letter from the string \n",
    "    # value % 2 -> makes sure even number -> 4%2=0, 3%2=1\n",
    "        # % pulls remainder \n",
    "    # sum() <= 1: only one odd number of letters allowed\n",
    "        # if the length of the string is even -> sum would go over 1\n",
    "    return sum(v % 2 for v in collections.Counter(s).values()) <= 1 "
   ]
  },
  {
   "cell_type": "code",
   "execution_count": 3,
   "id": "3ef941d0-ecdc-4057-9fe9-9d074ae3716e",
   "metadata": {},
   "outputs": [
    {
     "name": "stdout",
     "output_type": "stream",
     "text": [
      "True\n",
      "True\n",
      "True\n",
      "True\n"
     ]
    }
   ],
   "source": [
    "print(pally_drome(palindromes))\n",
    "print(pally_drome(palindromes2))\n",
    "print(pally_drome(palindromes3))\n",
    "print(pally_drome(permuted))"
   ]
  },
  {
   "cell_type": "markdown",
   "id": "86fa96a6-9364-4b56-bbe3-2b169f3487cb",
   "metadata": {},
   "source": [
    "##### Time Complexity: `O(n)`\n",
    "- `n` = length of the string\n",
    "\n",
    "##### Space Complexity: `O(c)`\n",
    "- `c` = number of distinct characters in the string "
   ]
  },
  {
   "cell_type": "code",
   "execution_count": null,
   "id": "c40a9a66-2b18-47a9-b339-ae9710ca2f4b",
   "metadata": {},
   "outputs": [],
   "source": []
  },
  {
   "cell_type": "code",
   "execution_count": null,
   "id": "c490e894-9826-4e09-981d-7520ca13f99b",
   "metadata": {},
   "outputs": [],
   "source": []
  }
 ],
 "metadata": {
  "kernelspec": {
   "display_name": "Python 3",
   "language": "python",
   "name": "python3"
  },
  "language_info": {
   "codemirror_mode": {
    "name": "ipython",
    "version": 3
   },
   "file_extension": ".py",
   "mimetype": "text/x-python",
   "name": "python",
   "nbconvert_exporter": "python",
   "pygments_lexer": "ipython3",
   "version": "3.8.8"
  }
 },
 "nbformat": 4,
 "nbformat_minor": 5
}
