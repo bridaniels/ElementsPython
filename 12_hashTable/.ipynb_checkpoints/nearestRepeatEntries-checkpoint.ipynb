{
 "cells": [
  {
   "cell_type": "markdown",
   "id": "c3f0c773-5b6c-4bb9-b656-06f40d73318b",
   "metadata": {},
   "source": [
    "# **12.5 Find the Nearest Repeat Entries in an Array**\n",
    "---\n",
    "- input: an array \n",
    "- algorithm: find the distance between a closest pair of equal entries \n",
    "    - s = [\"All\", \"work\", \"and\", \"no\", \"play\", \"makes\", \"for\", \"no\", \"work\", \"no\", \"fun\", \"and\", \"no\", \"results\"]\n",
    "    - second and third occurences of `\"no\"` are the closest pairs \n",
    "    - each entry in the array is a candidate "
   ]
  },
  {
   "cell_type": "code",
   "execution_count": 1,
   "id": "f819e923-14ae-4d94-a039-0fd53ec16c48",
   "metadata": {},
   "outputs": [],
   "source": [
    "s = [\"All\", \"work\", \"and\", \"no\", \"play\", \"makes\", \"for\", \"no\", \"work\", \"no\", \"fun\", \"and\", \"no\", \"results\"]"
   ]
  },
  {
   "cell_type": "markdown",
   "id": "5208f152-27f4-4f13-b71a-b15c1fef9a9e",
   "metadata": {},
   "source": [
    "---\n",
    "### Brute Force\n",
    "- iterate over all pairs of entries \n",
    "- check if they are the same \n",
    "    - if so, is the distance between them less than the smallest distance seen so far? \n",
    "- Time Complexity: `O(n²)`\n",
    "    - `n` = array length "
   ]
  },
  {
   "cell_type": "markdown",
   "id": "e8e98619-583e-4134-bab6-77d0d643ac42",
   "metadata": {},
   "source": [
    "---\n",
    "# Better \n",
    "- when processing an entry:\n",
    "    - do not need to look at every other entry \n",
    "    - only care about entries that are the same \n",
    "- store the set of indices corresponding to a given value using hash table \n",
    "    - iterate over the sets \n",
    "\n",
    "## But wait... it gets better \n",
    "- when processing an entry:\n",
    "    - all we care about is the closest and previous equal entry \n",
    "    - for each value seen so far -> store the last index it appears in the **hash table**\n",
    "    - use the **hash table** to see:\n",
    "        - the latest index less than the current index holding the same value \n",
    "- process element at index `9` which is `no`\n",
    "    - **hash table** tells us the most recent previous occurence of `no` is index `7`\n",
    "    - update distance of closest pairs seen so far to `2`"
   ]
  },
  {
   "cell_type": "code",
   "execution_count": 2,
   "id": "6743da69-aa3f-4eef-ab7c-ff273fcdcf0f",
   "metadata": {},
   "outputs": [],
   "source": [
    "from typing import List, cast"
   ]
  },
  {
   "cell_type": "code",
   "execution_count": 3,
   "id": "31a769d0-7cda-4f39-a93b-fe70667014cb",
   "metadata": {},
   "outputs": [],
   "source": [
    "def find_nearest(paragraph: List[str]) -> int:\n",
    "    \n",
    "    hashed_indexes: Dict[str, int] = {}\n",
    "    nearest_repeat = float('inf')\n",
    "    \n",
    "    for i, word in enumerate(paragraph):\n",
    "        if word in hashed_indexes:\n",
    "            latest_word = hashed_indexes[word]\n",
    "            nearest_repeat = min(nearest_repeat, i-latest_word)\n",
    "        \n",
    "        # update index value in hash table\n",
    "        hashed_indexes[word] = i \n",
    "        \n",
    "    # typing.cast(type, value)    \n",
    "    return cast(int, nearest_repeat) if nearest_repeat != float('inf') else -1 "
   ]
  },
  {
   "cell_type": "code",
   "execution_count": 4,
   "id": "d525714d-bf1c-4568-ae94-558adbb63f91",
   "metadata": {},
   "outputs": [
    {
     "data": {
      "text/plain": [
       "2"
      ]
     },
     "execution_count": 4,
     "metadata": {},
     "output_type": "execute_result"
    }
   ],
   "source": [
    "find_nearest(s)"
   ]
  },
  {
   "cell_type": "markdown",
   "id": "20e9d525-12dd-4f65-9ea1-4c1a9511b39e",
   "metadata": {},
   "source": [
    "#### Time Complexity: `O(n)`\n",
    "- `n` = array length\n",
    "- perform constant amount of work per entry\n",
    "\n",
    "#### Space Complexity: `O(d)`\n",
    "- `d` = number of distinct entries in the array "
   ]
  },
  {
   "cell_type": "code",
   "execution_count": null,
   "id": "51a5f9fe-3457-46d4-8a2b-831409d0576d",
   "metadata": {},
   "outputs": [],
   "source": []
  }
 ],
 "metadata": {
  "kernelspec": {
   "display_name": "Python 3",
   "language": "python",
   "name": "python3"
  },
  "language_info": {
   "codemirror_mode": {
    "name": "ipython",
    "version": 3
   },
   "file_extension": ".py",
   "mimetype": "text/x-python",
   "name": "python",
   "nbconvert_exporter": "python",
   "pygments_lexer": "ipython3",
   "version": "3.8.8"
  }
 },
 "nbformat": 4,
 "nbformat_minor": 5
}
