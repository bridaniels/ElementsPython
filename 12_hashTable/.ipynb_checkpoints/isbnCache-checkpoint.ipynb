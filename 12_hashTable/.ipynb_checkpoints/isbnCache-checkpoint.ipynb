{
 "cells": [
  {
   "cell_type": "markdown",
   "id": "8c41d3b7-c742-4bb8-b14d-458a3f95ddcb",
   "metadata": {},
   "source": [
    "# **12.3 Implement an ISBN Cache**\n",
    "---\n",
    "- ISBN: International Standard Book Number\n",
    "    - unique commercial book identifier \n",
    "    - string length = `10`\n",
    "        - first `9` characters are digits \n",
    "        - last character = check character \n",
    "            - `sum` of first `9` digits\n",
    "            - `mod 11` with `10` represented by `X`\n",
    "    - *modern ISBNs are now `13` digits and the check digit taken `mod 10`*\n",
    "- Create a cache for looking up prices of books via their ISBN\n",
    "- Assumptions:\n",
    "    - ISBNs = `10` digits\n",
    "    - ISBNs and prices all POSITIVE INTEGERS\n",
    "- implement `lookup`, `insert`, and `erase` \n",
    "    - `insert`: if ISBN already present -> do not update price, update entry to most recently used ISBN\n",
    "    - `lookup`: given ISBN return the corresponding price \n",
    "        - if element is not present: return -1\n",
    "        - if ISBN present: update entry to most recently used ISBN\n",
    "    - `erase`: remove specified ISBN and corresponding value from the case \n",
    "        - return `True` if the ISBN was present\n",
    "        - return `False` if it was not \n",
    "- use LRU (least recently used) policy for cache eviction \n",
    "\n",
    "---\n",
    "### Just a Hash Table\n",
    "- for each ISBN (key), we store a value (price), and a timestamp (count corresponding to when the ISBN was most recently inserted/looked up)\n",
    "- Time Complexity:\n",
    "    - Lookup/Delete: `O(1)`\n",
    "    - Inserts: `O(1)` until the cache is full \n",
    "        - once cache is full\n",
    "            - find the LRU ISBN\n",
    "            - evict the LRU ISBN to make place for the new entry \n",
    "            - `O(n)` time where `n` is the cache size \n",
    "            - have to scan all entries to find the one with the smallest time stamp \n",
    "            \n",
    "---\n",
    "## Record ISBNs in a queue *and* a Hash Table\n",
    "- avoid processing all ISBNs\n",
    "- conceptually ISBNs ordered by when they were most recently used \n",
    "    - using a queue garuntees this organization\n",
    "- We only need to be able to find the oldest ISBN efficiently \n",
    "- for each ISBN:\n",
    "    - store a reference to location in the queue \n",
    "    - at each ISBN `lookup` -> move to the front of the queue\n",
    "        - requires a **linked list** implementation of the queue\n",
    "        - items in the middle of the queue moved to the head \n",
    "- insert an ISBN that is already present:\n",
    "    - if the insert results in the queue size exceeding `n`, ISBN at the tail of the queue is deleted from the cache"
   ]
  },
  {
   "cell_type": "code",
   "execution_count": 1,
   "id": "24eecbb3-ce77-49ae-800b-254637f5fd03",
   "metadata": {},
   "outputs": [],
   "source": [
    "import collections"
   ]
  },
  {
   "cell_type": "code",
   "execution_count": 2,
   "id": "6efe345a-5a76-4855-ac3e-93604f07647d",
   "metadata": {},
   "outputs": [],
   "source": [
    "class LRU_Cache:\n",
    "    \n",
    "    def __init__(self, capacity: int) -> None:\n",
    "        self._isbn_price_table: collections.OrderedDict[int, int] = collections.OrderedDict()\n",
    "        self._capacity = capacity\n",
    "    \n",
    "    def lookup(self, isbn: int) -> int: \n",
    "        if isbn not in self._isbn_price_table:\n",
    "            return -1 \n",
    "        # pops value of ISBN (key) which is the price of the book \n",
    "        price = self._isbn_price_table.pop(isbn)\n",
    "        # updates price of the book\n",
    "        self._isbn_price_table = price \n",
    "        return price \n",
    "    \n",
    "    def insert(self, isbn: int, price: int) -> None:\n",
    "        if isbn in self._isbn_price_table:\n",
    "            # get the price value \n",
    "            price = self._isbn_price_table.pop(isbn)\n",
    "            \n",
    "        elif len(self._isbn_price_table) == self._capacity:\n",
    "            # .popitem() -> remove and return a (key,value) pair from the dictionary \n",
    "            # pairs returned in LIFO (queue) order \n",
    "            self._isbn_price_table.popitem(last=False)\n",
    "            \n",
    "        # replace the price value \n",
    "        self._isbn_price_table[isbn] = price \n",
    "    \n",
    "    def erase(self, isbn: int) -> bool:\n",
    "        return self._isbn_price_table.pop(isbn, None) is not None           \n",
    "            "
   ]
  },
  {
   "cell_type": "code",
   "execution_count": 3,
   "id": "14821732-b3e4-4ae8-8120-64df38542372",
   "metadata": {},
   "outputs": [
    {
     "data": {
      "text/plain": [
       "True"
      ]
     },
     "execution_count": 3,
     "metadata": {},
     "output_type": "execute_result"
    }
   ],
   "source": [
    "lru = LRU_Cache(4)\n",
    "lru.insert(1112223334,11)\n",
    "lru.insert(2223334445,12)\n",
    "lru.insert(3334445556,13)\n",
    "lru.erase(1112223334)"
   ]
  },
  {
   "cell_type": "code",
   "execution_count": 4,
   "id": "6c336691-9af7-49eb-8773-9f4269750fad",
   "metadata": {},
   "outputs": [
    {
     "data": {
      "text/plain": [
       "-1"
      ]
     },
     "execution_count": 4,
     "metadata": {},
     "output_type": "execute_result"
    }
   ],
   "source": [
    "lru.insert(4446667778,14)\n",
    "lru.lookup(1112223334)"
   ]
  },
  {
   "cell_type": "markdown",
   "id": "9782185b-d185-4bd2-b2d1-6c2bfc1fee3a",
   "metadata": {},
   "source": [
    "#### Time Complexity: `O(1)`\n",
    "- `O(1)` for each lookup, hash table lookup, and updating the queue -> evens out to `O(1)`"
   ]
  },
  {
   "cell_type": "code",
   "execution_count": null,
   "id": "5fc7d02e-8dde-430a-b65d-cd638ba94e97",
   "metadata": {},
   "outputs": [],
   "source": []
  }
 ],
 "metadata": {
  "kernelspec": {
   "display_name": "Python 3",
   "language": "python",
   "name": "python3"
  },
  "language_info": {
   "codemirror_mode": {
    "name": "ipython",
    "version": 3
   },
   "file_extension": ".py",
   "mimetype": "text/x-python",
   "name": "python",
   "nbconvert_exporter": "python",
   "pygments_lexer": "ipython3",
   "version": "3.8.8"
  }
 },
 "nbformat": 4,
 "nbformat_minor": 5
}
