{
 "cells": [
  {
   "cell_type": "markdown",
   "id": "1084a251-8042-4929-a8ef-a95371faf498",
   "metadata": {},
   "source": [
    "# **Hash Table Boot Camp**\n",
    "---\n",
    "- data structure used to store keys\n",
    "    - optionally with corresponding values\n",
    "    - good data structure to store dictionaries\n",
    "- Inserts, Deletes, Lookups -> all `O(1)` average time\n",
    "- Keys do not have to be in order \n",
    "- common mistake: key in hash table will be updated \n",
    "    - consequence -> lookup for that key will now fail \n",
    "        - even tho it is still in the hash table \n",
    "    - if you have to update a key:\n",
    "        - first remove it \n",
    "        - then update it \n",
    "        - finally add t back \n",
    "    - ensures it is moved to the correct array location\n",
    "    - Avoid using mutable objects as keys \n",
    "    \n",
    "---\n",
    "### **\"Hash Code\"**\n",
    "   - where keys are stored in an array (also known as: 'slots')\n",
    "   - integer computed from the key by a **hash function**\n",
    "        - if hash function chosen well: \n",
    "            - objects distributed uniformly across the array locations\n",
    "\n",
    "---\n",
    "### **\"Collsion\"**\n",
    "   - two keys map to the same location \n",
    "   - handle by maintaining a linked list of objects at each array location \n",
    "   - if the **hash function** does a good job spreading objects in `O(1)` time:\n",
    "        - lookups, insertions, and deletions have `O(1+ n/m)` time complexity\n",
    "            - `n` = number of objects\n",
    "            - `m` = length of the array \n",
    "            - `load` = `m/n`\n",
    "\n",
    "---\n",
    "### **\"Rehashing\"**\n",
    "   - if the `load = m/n` grows large\n",
    "        - `len(array) / #objects`\n",
    "   - a new array with a larer number of locations is allocated \n",
    "   - objects moved to the new array \n",
    "   - expensive at `O(n + m)` time complexity \n",
    "   - if done infrequenly -> amortization cost is low \n",
    "   - not really an issue outside of realtime systems\n",
    "        - even then... seperate threads do the rehashing\n",
    "\n",
    "---\n",
    "### **\"Hash Function\"**\n",
    "   - distributes objects uniformly across array locations\n",
    "   - crucial element to hash table \n",
    "   - equal keys must have equal hash codes \n",
    "   - should be efficient to compute \n",
    "   \n",
    "---"
   ]
  },
  {
   "cell_type": "markdown",
   "id": "e1ab4477-3cae-4f93-bb0f-41c04b2fd1cf",
   "metadata": {},
   "source": [
    "---\n",
    "### Hash Funtion for a String\n",
    "- examine all characters in a string\n",
    "- give a large range of values\n",
    "- not let one character dominate\n",
    "- **Rolling Hash Function**\n",
    "    - if one character is deleted from the string and another added to the end\n",
    "    - new hash code can be computed in `O(1)` time "
   ]
  },
  {
   "cell_type": "code",
   "execution_count": null,
   "id": "65b2dded-4538-4801-8446-ef8f340b9643",
   "metadata": {},
   "outputs": [],
   "source": [
    "import functools"
   ]
  },
  {
   "cell_type": "code",
   "execution_count": null,
   "id": "d7c7a616-38c8-489b-b7bb-be14b383b693",
   "metadata": {},
   "outputs": [],
   "source": [
    "def str_hash(s: str, modulus: int) -> int: \n",
    "    mult = 997\n",
    "    # ord() returns the number representing the unicode code of a character \n",
    "    return functools.reduce(lambda v, c: (v * mult + ord(c)) % modulus, s, 0)"
   ]
  },
  {
   "cell_type": "code",
   "execution_count": null,
   "id": "46608e64-96dd-4cec-a221-b41197d7b41b",
   "metadata": {},
   "outputs": [],
   "source": [
    "string = \"bobby\"\n",
    "mod = 3"
   ]
  },
  {
   "cell_type": "code",
   "execution_count": null,
   "id": "7327cab7-5107-40c8-9a85-f9b05721ff90",
   "metadata": {},
   "outputs": [],
   "source": [
    "str_hash(string,mod)"
   ]
  },
  {
   "cell_type": "markdown",
   "id": "7682fb38-476c-43a1-9a97-49c227619fb4",
   "metadata": {},
   "source": [
    "---\n",
    "---\n",
    "## Applications of Hash Tables \n",
    "- anagrams: reorganizing letters to form new words\n",
    "    - \"eleven plus two\" is an anagram for \"twelve plus one\"\n",
    "    - do not depend on ordering of characters in the strings\n",
    "    - sort the characters in the strings\n",
    "        - if the sorted characters match, they are anagrams \n",
    "        - iterate through the strings \n",
    "        - compare each string with remaining strings \n",
    "            - if anagrams, do not consider the second string again \n",
    "        - `O(n² m log m)` algo \n",
    "            - `n` = number of strings \n",
    "            - `m` = max string length \n",
    "        - map strings to a representative \n",
    "            - sorted version of a string can be use as a unique identifier for the anagram group \n",
    "            - map sorted string to the anagram it belongs to \n",
    "        - sorted strings are the keys \n",
    "            - final algo proceeds by adding `sort(s)` to each string `s` in the dictionary to a hash table \n",
    "        - values are arrays of corresponding strings from original input "
   ]
  },
  {
   "cell_type": "code",
   "execution_count": 1,
   "id": "355bcb42-6c7d-484d-b9c4-f5f8ae33c6be",
   "metadata": {},
   "outputs": [],
   "source": [
    "from typing import List\n",
    "import collections\n",
    "\n",
    "anagrams = [\"debitcard\", \"elvis\", \"silent\", \"badcredit\", \"lives\", \"freedom\", \"listen\", \"levis\", \"money\"] "
   ]
  },
  {
   "cell_type": "code",
   "execution_count": 2,
   "id": "94cf340a-87a2-4b1e-974a-a4435200a101",
   "metadata": {},
   "outputs": [],
   "source": [
    "def find_anagrams(dictionary: List[str]) -> List[List[str]]:\n",
    "    \n",
    "    sorted_string_to_anagrams: DefaultDict[ str, List[str]] = collections.defaultdict(list)\n",
    "        \n",
    "    for s in dictionary:\n",
    "        sorted_string_to_anagrams[''.join(sorted(s))].append(s)\n",
    "    \n",
    "    return [group for group in sorted_string_to_anagrams.values() if len(group) >= 2]"
   ]
  },
  {
   "cell_type": "code",
   "execution_count": 10,
   "id": "baa87205-e6ab-44eb-ae22-26ef8ea4be11",
   "metadata": {},
   "outputs": [
    {
     "data": {
      "text/plain": [
       "[['debitcard', 'badcredit'], ['elvis', 'lives', 'levis'], ['silent', 'listen']]"
      ]
     },
     "execution_count": 10,
     "metadata": {},
     "output_type": "execute_result"
    }
   ],
   "source": [
    "# freedom and money not shown because they have no buddy anagrams\n",
    "find_anagrams(anagrams)"
   ]
  },
  {
   "cell_type": "code",
   "execution_count": 11,
   "id": "489e9442-5fe6-42d2-b1d7-2332c7de7493",
   "metadata": {},
   "outputs": [],
   "source": [
    "def diff_but_same(anagrams):\n",
    "    \n",
    "    groupedWords = collections.defaultdict(list)\n",
    "    \n",
    "    # puts all anagrams into dictionary with keys as the sorted words \n",
    "    for word in anagrams:\n",
    "        groupedWords[''.join(sorted(word))].append(word)\n",
    "    \n",
    "    # print anagrams together \n",
    "    for group in groupedWords.values():\n",
    "        print(\" \".join(group))"
   ]
  },
  {
   "cell_type": "code",
   "execution_count": 5,
   "id": "b51515de-287b-440b-a72f-82fd321b6fee",
   "metadata": {},
   "outputs": [
    {
     "name": "stdout",
     "output_type": "stream",
     "text": [
      "debitcard badcredit\n",
      "elvis lives levis\n",
      "silent listen\n",
      "freedom\n",
      "money\n"
     ]
    }
   ],
   "source": [
    "diff_but_same(anagrams)"
   ]
  },
  {
   "cell_type": "markdown",
   "id": "c0c5190d-9125-4511-9925-01f8bc9e98ba",
   "metadata": {},
   "source": [
    "##### Time Complexity: `O(n m log m)`\n",
    "- `n` = number of strings \n",
    "    - `n` calls to sort -> `O(n m log m)`\n",
    "    - `n` insertions into hash table -> `O(n m)`\n",
    "    - together still `O(n m log m)` due to removing constants \n",
    "- `m` = max string length "
   ]
  },
  {
   "cell_type": "markdown",
   "id": "f450b486-6ab8-4897-812f-0caa049faf64",
   "metadata": {},
   "source": [
    "---\n",
    "### Variant: `O(n m)` algorithm for the same problem\n",
    "- `n` = number of strings\n",
    "- `m` = max string length \n",
    "- USE **HASH MAP**"
   ]
  },
  {
   "cell_type": "code",
   "execution_count": 6,
   "id": "456dd3ef-04b4-4d2f-ae5d-ebd9cf75417d",
   "metadata": {},
   "outputs": [],
   "source": [
    "from typing import List\n",
    "from collections import defaultdict\n",
    "from collections import Counter\n",
    "\n",
    "anagrams = [\"debitcard\", \"elvis\", \"silent\", \"badcredit\", \"lives\", \"freedom\", \"listen\", \"levis\", \"money\"]"
   ]
  },
  {
   "cell_type": "code",
   "execution_count": 7,
   "id": "2677f373-217a-4709-b3b8-ee49435f5feb",
   "metadata": {},
   "outputs": [],
   "source": [
    "def shorter_time_anagrams(anagrams: list) -> list:\n",
    "    \n",
    "    # will create a new list if the key is not found in the dictionary \n",
    "    m = defaultdict(list)\n",
    "    \n",
    "    for word in anagrams:\n",
    "        # frozenset(takes an iterable object as input -> makes immutable)\n",
    "        # makes hash of (frozenset(Counter('cat'))) == hash of other 'cat' anagrams \n",
    "        # Counter('cat') counts the frequency of the characters in the string \n",
    "        m[frozenset(dict(Counter(word)).items())].append(word)\n",
    "        \n",
    "    return [v for k, v in m.items()]"
   ]
  },
  {
   "cell_type": "code",
   "execution_count": 9,
   "id": "7bea4da5-303b-4bef-8779-9905de9be676",
   "metadata": {},
   "outputs": [
    {
     "data": {
      "text/plain": [
       "[['debitcard', 'badcredit'],\n",
       " ['elvis', 'lives', 'levis'],\n",
       " ['silent', 'listen'],\n",
       " ['freedom'],\n",
       " ['money']]"
      ]
     },
     "execution_count": 9,
     "metadata": {},
     "output_type": "execute_result"
    }
   ],
   "source": [
    "shorter_time_anagrams(anagrams)"
   ]
  },
  {
   "cell_type": "markdown",
   "id": "bd8a0e29-a3ea-4f65-98b2-dac5e3150e18",
   "metadata": {},
   "source": [
    "---\n",
    "---\n",
    "## Design a Hashable Class \n",
    "- Contacts: each contact is a string\n",
    "    - hard requirement that the individual contacts be stored in a list \n",
    "        - duplicates are allowed\n",
    "        - two contacts are equal if they contain the same set of strings \n",
    "        - original ordering does not matter \n",
    "        - multiplicity not important: 3 isntances of one contact is the same as one instance of a contact \n",
    "    - explicity define equality: forming sets from the lists and comparing the sets \n",
    "        - hash function should depend on the strings present but not their ordering \n",
    "- hash function and equals methods are very inefficient \n",
    "    - better to cache the underlyng set and the hash code\n",
    "    - voiding these values on updates "
   ]
  },
  {
   "cell_type": "code",
   "execution_count": 13,
   "id": "95427004-bd3b-4b8b-9a32-0642a0fc56ac",
   "metadata": {},
   "outputs": [],
   "source": [
    "class ContactList: \n",
    "    def __init__(self, names: List[str]):\n",
    "        self.names = names \n",
    "    \n",
    "    def __hash__(self):\n",
    "        return hash(frozenset(self.names))\n",
    "    \n",
    "    def __eq__(self, other):\n",
    "        return set(self.names) == set(other.names)\n",
    "    \n",
    "def merge_contact_list(contacts: List[ContactList]) -> ContactList:\n",
    "    return list(set(contacts))"
   ]
  },
  {
   "cell_type": "code",
   "execution_count": 16,
   "id": "12329b50-a502-40e5-99a1-6ed7a548b620",
   "metadata": {},
   "outputs": [
    {
     "data": {
      "text/plain": [
       "['katherine', 'sammy', 'davis', 'louis', 'marco']"
      ]
     },
     "execution_count": 16,
     "metadata": {},
     "output_type": "execute_result"
    }
   ],
   "source": [
    "contacts = ['sammy', 'louis', 'katherine', 'marco', 'katherine', 'sammy', 'davis', 'louis']\n",
    "\n",
    "merge_contact_list(contacts)"
   ]
  },
  {
   "cell_type": "markdown",
   "id": "c404437e-9fe3-42af-b013-fd13049e3116",
   "metadata": {},
   "source": [
    "##### Time Complexity: `O(n)`\n",
    "- `n` = number of strings in the contact list \n",
    "\n",
    "##### Hash Codes: \n",
    "- often cached for performance \n",
    "- caveat that the cache must be cleared if object fields have been updated "
   ]
  },
  {
   "cell_type": "code",
   "execution_count": null,
   "id": "36efe94c-9815-4dfd-81f4-f02ed7a3eb5c",
   "metadata": {},
   "outputs": [],
   "source": []
  }
 ],
 "metadata": {
  "kernelspec": {
   "display_name": "Python 3",
   "language": "python",
   "name": "python3"
  },
  "language_info": {
   "codemirror_mode": {
    "name": "ipython",
    "version": 3
   },
   "file_extension": ".py",
   "mimetype": "text/x-python",
   "name": "python",
   "nbconvert_exporter": "python",
   "pygments_lexer": "ipython3",
   "version": "3.8.8"
  }
 },
 "nbformat": 4,
 "nbformat_minor": 5
}
