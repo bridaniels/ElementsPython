{
 "cells": [
  {
   "cell_type": "markdown",
   "id": "1084a251-8042-4929-a8ef-a95371faf498",
   "metadata": {},
   "source": [
    "# **Hash Table Boot Camp**\n",
    "---\n",
    "- data structure used to store keys\n",
    "    - optionally with corresponding values\n",
    "    - good data structure to store dictionaries\n",
    "- Inserts, Deletes, Lookups -> all `O(1)` average time\n",
    "- Keys do not have to be in order \n",
    "- common mistake: key in hash table will be updated \n",
    "    - consequence -> lookup for that key will now fail \n",
    "        - even tho it is still in the hash table \n",
    "    - if you have to update a key:\n",
    "        - first remove it \n",
    "        - then update it \n",
    "        - finally add t back \n",
    "    - ensures it is moved to the correct array location\n",
    "    - Avoid using mutable objects as keys \n",
    "    \n",
    "---\n",
    "### **\"Hash Code\"**\n",
    "   - where keys are stored in an array (also known as: 'slots')\n",
    "   - integer computed from the key by a **hash function**\n",
    "        - if hash function chosen well: \n",
    "            - objects distributed uniformly across the array locations\n",
    "\n",
    "---\n",
    "### **\"Collsion\"**\n",
    "   - two keys map to the same location \n",
    "   - handle by maintaining a linked list of objects at each array location \n",
    "   - if the **hash function** does a good job spreading objects in `O(1)` time:\n",
    "        - lookups, insertions, and deletions have `O(1+ n/m)` time complexity\n",
    "            - `n` = number of objects\n",
    "            - `m` = length of the array \n",
    "            - `load` = `m/n`\n",
    "\n",
    "---\n",
    "### **\"Rehashing\"**\n",
    "   - if the `load = m/n` grows large\n",
    "        - `len(array) / #objects`\n",
    "   - a new array with a larer number of locations is allocated \n",
    "   - objects moved to the new array \n",
    "   - expensive at `O(n + m)` time complexity \n",
    "   - if done infrequenly -> amortization cost is low \n",
    "   - not really an issue outside of realtime systems\n",
    "        - even then... seperate threads do the rehashing\n",
    "\n",
    "---\n",
    "### **\"Hash Function\"**\n",
    "   - distributes objects uniformly across array locations\n",
    "   - crucial element to hash table \n",
    "   - equal keys must have equal hash codes \n",
    "   - should be efficient to compute \n",
    "   \n",
    "---"
   ]
  },
  {
   "cell_type": "markdown",
   "id": "e1ab4477-3cae-4f93-bb0f-41c04b2fd1cf",
   "metadata": {},
   "source": [
    "---\n",
    "### Hash Funtion for a String\n",
    "- examine all characters in a string\n",
    "- give a large range of values\n",
    "- not let one character dominate\n",
    "- **Rolling Hash Function**\n",
    "    - if one character is deleted from the string and another added to the end\n",
    "    - new hash code can be computed in `O(1)` time "
   ]
  },
  {
   "cell_type": "code",
   "execution_count": 10,
   "id": "65b2dded-4538-4801-8446-ef8f340b9643",
   "metadata": {},
   "outputs": [],
   "source": [
    "import functools"
   ]
  },
  {
   "cell_type": "code",
   "execution_count": 14,
   "id": "d7c7a616-38c8-489b-b7bb-be14b383b693",
   "metadata": {},
   "outputs": [],
   "source": [
    "def str_hash(s: str, modulus: int) -> int: \n",
    "    mult = 997\n",
    "    # ord() returns the number representing the unicode code of a character \n",
    "    return functools.reduce(lambda v, c: (v * mult + ord(c)) % modulus, s, 0)"
   ]
  },
  {
   "cell_type": "code",
   "execution_count": 23,
   "id": "46608e64-96dd-4cec-a221-b41197d7b41b",
   "metadata": {},
   "outputs": [],
   "source": [
    "string = \"bobby\"\n",
    "mod = 3"
   ]
  },
  {
   "cell_type": "code",
   "execution_count": 24,
   "id": "7327cab7-5107-40c8-9a85-f9b05721ff90",
   "metadata": {},
   "outputs": [
    {
     "data": {
      "text/plain": [
       "1"
      ]
     },
     "execution_count": 24,
     "metadata": {},
     "output_type": "execute_result"
    }
   ],
   "source": [
    "str_hash(string,mod)"
   ]
  },
  {
   "cell_type": "code",
   "execution_count": null,
   "id": "7f120ecc-fb6b-4815-9487-280208c36efc",
   "metadata": {},
   "outputs": [],
   "source": []
  }
 ],
 "metadata": {
  "kernelspec": {
   "display_name": "Python 3",
   "language": "python",
   "name": "python3"
  },
  "language_info": {
   "codemirror_mode": {
    "name": "ipython",
    "version": 3
   },
   "file_extension": ".py",
   "mimetype": "text/x-python",
   "name": "python",
   "nbconvert_exporter": "python",
   "pygments_lexer": "ipython3",
   "version": "3.8.8"
  }
 },
 "nbformat": 4,
 "nbformat_minor": 5
}
