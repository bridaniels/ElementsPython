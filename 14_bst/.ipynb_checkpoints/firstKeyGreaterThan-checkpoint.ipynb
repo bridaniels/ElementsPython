{
 "cells": [
  {
   "cell_type": "markdown",
   "id": "cb78f68d-f187-4892-be7f-75c84d368110",
   "metadata": {},
   "source": [
    "# **14.2 Find the First Key Greater Than a Given Value in a BST**\n",
    "---\n",
    "- input: BST and a value \n",
    "- output: first key that would appear in an inorder traversal greater than input value \n",
    "- perform binary search keeping an additonal state\n",
    "\n",
    "\n",
    "---\n",
    "### Inorder Walk\n",
    "- `O(n)` time where `n` = number of nodes \n",
    "- inorder walk does NOT use the BST property \n",
    "    - BST property:\n",
    "        - root node `>=` left subtree\n",
    "        - root node `<=` right subtree \n",
    "    - Inorder Walk\n",
    "        - traverse the left\n",
    "        - hit the root middle \n",
    "        - traverse the right \n",
    "\n",
    "---\n",
    "## BST Search Idiom\n",
    "- store best candidate for the result \n",
    "- update candidate iteratively while descending levels of the tree\n",
    "- eliminate subtrees by comparing keys stored at the node to the input value \n",
    "    - subtree root value <= input \n",
    "        - search right tree\n",
    "    - subtree root value >= input\n",
    "        - search the left tree"
   ]
  },
  {
   "cell_type": "code",
   "execution_count": 1,
   "id": "d195a59a-7196-4a29-a721-b72fcfac8f54",
   "metadata": {},
   "outputs": [],
   "source": [
    "from typing import Optional"
   ]
  },
  {
   "cell_type": "code",
   "execution_count": 2,
   "id": "09635580-f0ea-4040-8c2b-ebe3897a1561",
   "metadata": {},
   "outputs": [],
   "source": [
    "# BST Prototype\n",
    "class bstNode:\n",
    "    def __init__(self, data=None, left=None, right=None):\n",
    "        self.data = data\n",
    "        self.left = left\n",
    "        self.right = right "
   ]
  },
  {
   "cell_type": "code",
   "execution_count": 3,
   "id": "edc42d03-c77c-4b21-8969-9105633bd76b",
   "metadata": {},
   "outputs": [],
   "source": [
    "def find_first_greater(tree: bstNode, k: int) -> Optional[bstNode]:\n",
    "    \n",
    "    subtree = tree\n",
    "    first = None\n",
    "    \n",
    "    while subtree:\n",
    "        # search left subtree\n",
    "        if subtree.data > k:\n",
    "            first, subtree = subtree, subtree.left\n",
    "        # search right subtree \n",
    "        else:\n",
    "            subtree = subtree.right \n",
    "    return first "
   ]
  },
  {
   "cell_type": "markdown",
   "id": "f93e7d07-7078-40be-a44c-c6a9640d8198",
   "metadata": {},
   "source": [
    "#### Time Complexity: `O(h)`\n",
    "- `h` = height of tree\n",
    "\n",
    "#### Space Complexity: `O(1)`"
   ]
  },
  {
   "cell_type": "markdown",
   "id": "bba66e1a-c4aa-47a8-8f66-0d9fb7e4367b",
   "metadata": {},
   "source": [
    "---\n",
    "# **Variant**"
   ]
  },
  {
   "cell_type": "code",
   "execution_count": null,
   "id": "746a88df-69b9-4423-b353-c8eb5bee0c1f",
   "metadata": {},
   "outputs": [],
   "source": []
  }
 ],
 "metadata": {
  "kernelspec": {
   "display_name": "Python 3",
   "language": "python",
   "name": "python3"
  },
  "language_info": {
   "codemirror_mode": {
    "name": "ipython",
    "version": 3
   },
   "file_extension": ".py",
   "mimetype": "text/x-python",
   "name": "python",
   "nbconvert_exporter": "python",
   "pygments_lexer": "ipython3",
   "version": "3.8.8"
  }
 },
 "nbformat": 4,
 "nbformat_minor": 5
}
