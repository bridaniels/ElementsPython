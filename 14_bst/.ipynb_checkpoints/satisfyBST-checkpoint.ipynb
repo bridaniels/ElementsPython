{
 "cells": [
  {
   "cell_type": "markdown",
   "id": "acf981f7-3f18-43fd-a843-9bc7ea016c3a",
   "metadata": {},
   "source": [
    "# **14.1 Test if a Binary Tree Satisfies the BST Property**\n",
    "---\n",
    "- input: binary tree\n",
    "- algorithm: check if it satisfies BST Property \n",
    "    - **BST Property:** \n",
    "        - global property: binary tree might have the property but not be a BST\n",
    "        - key at node >= keys stored in right/left subtrees"
   ]
  },
  {
   "cell_type": "markdown",
   "id": "23e719fa-75f7-4f74-9c50-5e30f742fe94",
   "metadata": {},
   "source": [
    "---\n",
    "### Direct Approach based on definition of BST\n",
    "- begin with the root \n",
    "- compute maximum key stored in the root's left subtree\n",
    "- compute the minimum key stored in the root's right subtree\n",
    "- check key at root \n",
    "    - `>=` maximum from the left subtree \n",
    "    - `<=` minimum from the right subtree\n",
    "- checks pass -> recursively c heck the root's left and right subtrees \n",
    "- checks fail -> return false "
   ]
  },
  {
   "cell_type": "markdown",
   "id": "c9c15470-3627-4065-beb3-f5fc96132afa",
   "metadata": {},
   "source": [
    "- Computing the `min` key \n",
    "    - take the minimum of the key stored at root\n",
    "    - take the minimum key of the left subtree \n",
    "    - take the minimum key of the right subtree\n",
    "    - Minimum can be in either subtree \n",
    "        - a general binary tree might not satisfy the BST property\n",
    "- Computing the `max` key \n",
    "    - take the maximum of the key stored at root\n",
    "    - take the maximum key of the left subtree\n",
    "    - take the maximum key of the right subtree\n",
    "    - Maximum can be in either subtree\n",
    "        - a general binary tree might not satisfy the BST property \n",
    "- Problem? will repeatedly traverse subtrees\n",
    "    - Time Complexity: `O(n²)`\n",
    "       - `n` = number of nodes "
   ]
  },
  {
   "cell_type": "markdown",
   "id": "fb1d3fc9-c761-4f39-ab6c-84d08db3f6d0",
   "metadata": {},
   "source": [
    "---\n",
    "## Caching the Largest and Smallest Keys at Each Node \n",
    "#### `O(n)` time and `O(n)` additional space\n",
    "\n",
    "\n",
    "## Check Constraints on Values for Each Subtree\n",
    "- inital constraint comes from the root\n",
    "    - every node in its left(right) subtree must have a key `>=` (`<=`) the key at the root\n",
    "- if all nodes in a tree must have keys in range `[l,u]` and root is `w`\n",
    "    - `w` should be in range `[l,u]` to satisfy BST Property\n",
    "    -  all keys in the left subtree should be in the range `[l,w]`\n",
    "    -  all keys in the right subtree should be in the range `[w,u]`"
   ]
  },
  {
   "cell_type": "code",
   "execution_count": 1,
   "id": "879bf6fa-e327-457d-9a20-6258b873f388",
   "metadata": {},
   "outputs": [],
   "source": [
    "from typing import Optional"
   ]
  },
  {
   "cell_type": "code",
   "execution_count": 2,
   "id": "0cb39c35-24a1-45fd-b25c-6b77afb9a53a",
   "metadata": {},
   "outputs": [],
   "source": [
    "# BST Prototype\n",
    "class bstNode:\n",
    "    def __init__(self, data=None, left=None, right=None):\n",
    "        self.data = data\n",
    "        self.left = left\n",
    "        self.right = right "
   ]
  },
  {
   "cell_type": "code",
   "execution_count": 3,
   "id": "74d4b7e8-8208-4a8d-a527-3272618adbd7",
   "metadata": {},
   "outputs": [],
   "source": [
    "def is_bst(tree: bstNode) -> bool:\n",
    "    \n",
    "    def are_keys_in_range(tree, \n",
    "                        low_range = float('inf'),\n",
    "                        high_range = float('inf')):\n",
    "        if not tree:\n",
    "            return True\n",
    "        \n",
    "        # not following BST Property \n",
    "        elif not low_range <= tree.data <= high_range:\n",
    "            return False\n",
    "        return (are_keys_in_range(tree.left, low_range, tree.data) \n",
    "                and are_keys_in_range(tree.right, tree.data, high_range))\n",
    "    \n",
    "    \n",
    "    return are_keys_in_range(tree)  "
   ]
  },
  {
   "cell_type": "markdown",
   "id": "e50caf87-45a6-4bea-b695-68dc767dc92b",
   "metadata": {},
   "source": [
    "#### Time Complexity: `O(n)`\n",
    "- `n` = number of nodes \n",
    "\n",
    "#### Space Complexity: `O(h)`\n",
    "- `h` = height of tree "
   ]
  },
  {
   "cell_type": "markdown",
   "id": "9fa9b4d7-85f2-4ed7-a6ea-ea3384361455",
   "metadata": {},
   "source": [
    "## Inorder Traversal Visits Keys in Sorted Order \n",
    "- if an inorder traversal of a binary tree visits keys in sorted order... \n",
    "    - then that binary tree must be a BST\n",
    "    - follows directly from the definition of a BST and inorder walk \n",
    "- Inorder Traversal: \n",
    "    - travrese the left\n",
    "    - visit the root\n",
    "    - travers the right \n",
    "- check BST property via Inorder Traversal \n",
    "    - new node is visited\n",
    "        - key compared with the key of previous visited node\n",
    "        - if previous node is `>` current node \n",
    "            - violation of BST Property \n",
    "    - explore the left subtree first \n",
    "- Time Complexity: `O(n)`"
   ]
  },
  {
   "cell_type": "markdown",
   "id": "51e80176-0eeb-400e-b89f-7328436dc937",
   "metadata": {},
   "source": [
    "## Breadth First Search (BFS) + Queue\n",
    "- reducing time complexity when propety is violated at a node whose depth is small\n",
    "- use a queue:\n",
    "    - each queue entry contains a node, upper-bound, and lower-bound\n",
    "        - bounds on the keys stored at the subtree rooted at the node \n",
    "    - initialized bounds at negative infiniti to positive infiniti \n",
    "    - iteratively check the constraint on each node \n",
    "    - if it violates the constraint -> we stop\n",
    "    - if it follows the constraint -> we add the children "
   ]
  },
  {
   "cell_type": "code",
   "execution_count": 4,
   "id": "a7f8e290-ba84-4df5-ae4f-82897dd0c1d1",
   "metadata": {},
   "outputs": [],
   "source": [
    "def queue_bfs(tree: bstNode) -> bool:\n",
    "    \n",
    "    QueueEntry = collections.namedtuple('QueueEntry', ('node', 'lower', 'uper'))\n",
    "    \n",
    "    bfs_queue = collections.deque([QueueEntry(tree, float('-inf'), float('inf'))])\n",
    "    \n",
    "    while bfs_queue:\n",
    "        front = bfs_queue.popleft()\n",
    "        if front.node:\n",
    "            # not within bounds of BST Property \n",
    "            if not front.lower <= front.node.data <= front.upper :\n",
    "                return False\n",
    "            # go to next level of tree\n",
    "            bfs_queue.extend(\n",
    "            (QueueEntry(front.node.left, front.lower, front.node.data),\n",
    "            QueueEntry(front.node.right, front.node.data, front.upper)))\n",
    "    return True"
   ]
  },
  {
   "cell_type": "markdown",
   "id": "7f872b46-eb5d-41d4-b882-7d051e5df927",
   "metadata": {},
   "source": [
    "#### Time Complexity: `O(n)`\n",
    "#### Space Complexity: `O(n)`"
   ]
  },
  {
   "cell_type": "code",
   "execution_count": null,
   "id": "20ea7102-d76e-4e89-9e4b-e92ea4a285a6",
   "metadata": {},
   "outputs": [],
   "source": []
  }
 ],
 "metadata": {
  "kernelspec": {
   "display_name": "Python 3",
   "language": "python",
   "name": "python3"
  },
  "language_info": {
   "codemirror_mode": {
    "name": "ipython",
    "version": 3
   },
   "file_extension": ".py",
   "mimetype": "text/x-python",
   "name": "python",
   "nbconvert_exporter": "python",
   "pygments_lexer": "ipython3",
   "version": "3.8.8"
  }
 },
 "nbformat": 4,
 "nbformat_minor": 5
}
