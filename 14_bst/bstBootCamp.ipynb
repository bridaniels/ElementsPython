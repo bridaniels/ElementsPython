{
 "cells": [
  {
   "cell_type": "markdown",
   "id": "d42dab5b-703b-4cf2-8e0d-faab2a532570",
   "metadata": {},
   "source": [
    "# **Chapter 14 Binary Search Tree Boot Camp**\n",
    "---\n"
   ]
  },
  {
   "cell_type": "markdown",
   "id": "31104948-2ec2-41df-ac24-96cada37409b",
   "metadata": {},
   "source": [
    "- Abilities include:\n",
    "    - efficiently searching for a key -> *most fundamental*\n",
    "    - finding the `min` and `max` elements -> *unlike hash table*\n",
    "    - look for successor or predecessor of a search key -> *unlike hash table*\n",
    "        - does not need to be present in the BST \n",
    "    - in sorted order, enumerate the keys in a range  \n",
    "- Similar to arrays: stored values (the keys) are stored in sorted order \n",
    "    - In a BST -> keys can be added/deleted more efficiently \n",
    "- BST is a Binary Tree where the nodes store keys that are comparable \n",
    "    - keys stored in the nodes follow **BST PROPERTY**\n",
    "        - global property -> a binary tree might have the BST Property but not be a BST \n",
    "        - key stored at a node is:\n",
    "            - key at node `>=` the keys stored at nodes of its left subtree \n",
    "            - key at node `<=` keys stored in right subtree\n",
    "- Some problems need a combo of a BST and a Hash Table \n",
    "    - insert student objects into BST ordered by GPA\n",
    "    - students GPA needs to be updated\n",
    "    - all we have is student's name and new GPA\n",
    "    - in BST would need a full traversal \n",
    "    - an additional Hash Table \n",
    "        - go directly to the corresponding entry in the table \n",
    "- Augmenting a BST\n",
    "    - possible to manipulate more complicated data \n",
    "    - efficiently suppors more cmplex queries\n",
    "    - [14.10 The Range Lookup Problem pg. 220](rangeLookupProb.ipynb)\n",
    "    \n",
    "---\n",
    "#### Time and Space \n",
    "- Time Complexity: \n",
    "    - iterate through sorted order in time `O(n)` regardless if it is balanced \n",
    "    - Naive implementation: inserts, deletions, and lookus take `O(n)` time\n",
    "        - `n` = height of the tree\n",
    "    - Insert and Delete **LIBRARY** Implementations that get it done in `O(log n)` time\n",
    "        - require storing and updating additional data at the tree nodes \n",
    "- Space Complexity: `O(n)`\n",
    "    - same as hash table, but in practice BST uses a smidge more "
   ]
  },
  {
   "cell_type": "code",
   "execution_count": 1,
   "id": "8f5a26cd-f204-478d-a3b2-bb0699e71ca3",
   "metadata": {},
   "outputs": [],
   "source": [
    "from typing import Optional"
   ]
  },
  {
   "cell_type": "code",
   "execution_count": 2,
   "id": "02536baf-bf39-4fc0-b774-25ff802c5edc",
   "metadata": {},
   "outputs": [],
   "source": [
    "# BST Prototype\n",
    "class bstNode:\n",
    "    def __init__(self, data=None, left=None, right=None):\n",
    "        self.data = data\n",
    "        self.left = left\n",
    "        self.right = right "
   ]
  },
  {
   "cell_type": "code",
   "execution_count": 3,
   "id": "8bfc3c12-3724-4027-8216-02977ed48143",
   "metadata": {},
   "outputs": [],
   "source": [
    "# Is a Value Present in BST\n",
    "def search_bst(tree: bstNode, key: int) -> Optional[bstNode]:\n",
    "    \n",
    "    return (tree if not tree or tree.data == key \n",
    "           else search_bst(tree.left, key) if key < tree.data \n",
    "           else search_bst(tree.right, key))"
   ]
  },
  {
   "cell_type": "markdown",
   "id": "897893cd-f170-4ac3-8b57-5bdb31945474",
   "metadata": {},
   "source": [
    "#### Time Complexity: `O(h)`\n",
    "- `h` = height of the tree\n",
    "- `O(1)` time per level of the tree\n",
    "- descends tree with each step "
   ]
  },
  {
   "cell_type": "markdown",
   "id": "b89d6399-c94e-432e-9eea-a8e7aeee3d0b",
   "metadata": {},
   "source": [
    "---\n",
    "## Binary Search Tree Libraries\n",
    "#### sortedcontainers \n",
    "- `sortedcontainers` module is the best-in-class module for sorted sets/dictionaries \n",
    "    - underlying data structure is a sorted list of sorted lists \n",
    "    - asymptotic time complexity for inserts and deletes is `O(√n)`\n",
    "        - entail insertion into a list of length roughly `√n`\n",
    "        - rather than length `O(log n)` of balanced BSTs\n",
    "        - not a big issue in practice -> CPUs optimized for block data movement \n",
    "\n",
    "#### bintrees\n",
    "- `bintrees` implements sorted sets and dictionaries using **BLANCED BSTs**\n",
    "    - `insert(e)`: inserts new element `e` into BST\n",
    "    - `discard(e)`: removes `e` from BST if present\n",
    "    - `min_item() / max_item()`: smmallest or largest key-value pair in the BST\n",
    "    - `min_key() / max_key()`: smallest or largest key in BST\n",
    "    - `pop_min() / pop_max()`: removes and returns the smallest/largest key-value pair in BST \n",
    "    - operations take `O(log n)` time \n",
    "        - backed by the underlying tree "
   ]
  },
  {
   "cell_type": "code",
   "execution_count": 4,
   "id": "44e62762-ee0e-48cd-b2c6-2a338a002ea3",
   "metadata": {},
   "outputs": [],
   "source": [
    "import bintrees"
   ]
  },
  {
   "cell_type": "code",
   "execution_count": 5,
   "id": "7dc5a41b-14fb-4f74-a3e3-30a8ee84c233",
   "metadata": {},
   "outputs": [
    {
     "name": "stdout",
     "output_type": "stream",
     "text": [
      "Bravo\n",
      "(2, 'Bravo') (7, 'Charlie')\n",
      "RBTree({2: 'Bravo', 3: 'Delta', 5: 'Alfalfa', 6: 'Echo', 7: 'Charlie', 9: 'Golf'})\n",
      "2 9\n",
      "RBTree({2: 'Bravo', 5: 'Alfalfa', 6: 'Echo', 7: 'Charlie', 9: 'Golf'})\n",
      "RBTree({5: 'Alfalfa', 6: 'Echo', 7: 'Charlie', 9: 'Golf'})\n",
      "RBTree({5: 'Alfalfa', 6: 'Echo', 7: 'Charlie'})\n"
     ]
    }
   ],
   "source": [
    "t = bintrees.RBTree([(5, 'Alfalfa'), (2, 'Bravo'), (7, 'Charlie'), (3, 'Delta'), (6, 'Echo')])\n",
    "\n",
    "print(t[2])\n",
    "\n",
    "print(t.min_item(), t.max_item())\n",
    "\n",
    "t.insert(9, 'Golf')\n",
    "print(t)\n",
    "\n",
    "print(t.min_key(), t.max_key())\n",
    "\n",
    "t.discard(3)\n",
    "print(t)\n",
    "\n",
    "a = t.pop_min()\n",
    "print(t)\n",
    "\n",
    "b = t.pop_max()\n",
    "print(t)"
   ]
  },
  {
   "cell_type": "code",
   "execution_count": null,
   "id": "5ff77377-8b02-447a-af83-9ebdcdb66b94",
   "metadata": {},
   "outputs": [],
   "source": []
  }
 ],
 "metadata": {
  "kernelspec": {
   "display_name": "Python 3",
   "language": "python",
   "name": "python3"
  },
  "language_info": {
   "codemirror_mode": {
    "name": "ipython",
    "version": 3
   },
   "file_extension": ".py",
   "mimetype": "text/x-python",
   "name": "python",
   "nbconvert_exporter": "python",
   "pygments_lexer": "ipython3",
   "version": "3.8.8"
  }
 },
 "nbformat": 4,
 "nbformat_minor": 5
}
