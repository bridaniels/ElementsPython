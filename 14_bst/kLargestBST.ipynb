{
 "cells": [
  {
   "cell_type": "markdown",
   "id": "6af43030-f64f-4800-8d38-5bd2b2736b31",
   "metadata": {},
   "source": [
    "# **Find the *K* Largest Elements in a BST**\n",
    "---"
   ]
  },
  {
   "cell_type": "code",
   "execution_count": null,
   "id": "d4c44c7b-be3d-4d92-a5a6-b78abee693b4",
   "metadata": {},
   "outputs": [],
   "source": []
  }
 ],
 "metadata": {
  "kernelspec": {
   "display_name": "Python 3",
   "language": "python",
   "name": "python3"
  },
  "language_info": {
   "codemirror_mode": {
    "name": "ipython",
    "version": 3
   },
   "file_extension": ".py",
   "mimetype": "text/x-python",
   "name": "python",
   "nbconvert_exporter": "python",
   "pygments_lexer": "ipython3",
   "version": "3.8.8"
  }
 },
 "nbformat": 4,
 "nbformat_minor": 5
}
