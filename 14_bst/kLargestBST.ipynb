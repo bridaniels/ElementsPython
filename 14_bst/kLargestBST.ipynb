{
 "cells": [
  {
   "cell_type": "markdown",
   "id": "6af43030-f64f-4800-8d38-5bd2b2736b31",
   "metadata": {},
   "source": [
    "# **Find the *K* Largest Elements in a BST**\n",
    "---"
   ]
  },
  {
   "cell_type": "markdown",
   "id": "ca81284e-3c08-438f-88b3-3d5f47eacd65",
   "metadata": {},
   "source": [
    "- BSTs are sorted data structures \n",
    "- input: BST and K\n",
    "- output: K largest elements in decreasing order \n",
    "- inorder traversal:\n",
    "    - left subtree\n",
    "    - root\n",
    "    - right subtree\n",
    "\n",
    "---\n",
    "### Brute Force: Inorder Traversal\n",
    "- enumerate keys in ascending order, return last `k` visited nodes \n",
    "- **Queue** ideal for storing visited nodes \n",
    "    - easy to evict nodes beyond `k`\n",
    "- Processes many nodes that cannot be in the result \n",
    "    - aka if `k` is small and left subtree is large \n",
    "\n",
    "---\n",
    "## Reverse Inorder Traversal\n",
    "- start with desired nodes and work backwards \n",
    "- Recurse the Right Subtree\n",
    "- Node\n",
    "- Recurse the Left Subtree\n",
    "- Use **dynamic array** to store the desired keys\n",
    "    - dynamic array:\n",
    "        - size of the array can be modified during runtime\n",
    "        - do not need to specify size of array beforehand \n",
    "- Store newer nodes at end of the array \n",
    "- visit `k` nodes -> **RETURN**\n"
   ]
  },
  {
   "cell_type": "code",
   "execution_count": 1,
   "id": "9a4729ed-feb4-4300-a2e0-6ba14523f375",
   "metadata": {},
   "outputs": [],
   "source": [
    "from typing import List"
   ]
  },
  {
   "cell_type": "code",
   "execution_count": 2,
   "id": "6dab2bda-fbd7-4fe2-8bff-c0e0633c6e98",
   "metadata": {},
   "outputs": [],
   "source": [
    "# BST Prototype\n",
    "class bstNode:\n",
    "    def __init__(self, data=None, left=None, right=None):\n",
    "        self.data = data\n",
    "        self.left = left\n",
    "        self.right = right "
   ]
  },
  {
   "cell_type": "code",
   "execution_count": 3,
   "id": "b80e9664-0a30-4632-8756-b528087ce2e3",
   "metadata": {},
   "outputs": [],
   "source": [
    "def find_k_largest(tree: bstNode, k: int) -> List[int]:\n",
    "    \n",
    "    def helper(tree):\n",
    "        # reverse inorder\n",
    "        if tree and len(k_largest) < k:\n",
    "            helper(tree.right)\n",
    "            if len(k_largest) < k:\n",
    "                k_largest.append(tree.data)\n",
    "                helper(tree.left)\n",
    "                \n",
    "    k_largest: List[int] = []\n",
    "    helper(tree)\n",
    "    return k_largest"
   ]
  },
  {
   "cell_type": "markdown",
   "id": "cd8e3938-2c27-42d8-aed9-0dd090f981cf",
   "metadata": {},
   "source": [
    "#### Time Complexity: `O(h + k)`\n",
    "- `k` = number of nodes in result list\n",
    "- `h` = height of the tree\n",
    "- number of time the program descends on the tree:\n",
    "    - at most `h` more than the number of time it ascends the tree \n",
    "- each ascent happens after we visit a node in the result \n",
    "- after `k` nodes visited -> program stops"
   ]
  },
  {
   "cell_type": "code",
   "execution_count": null,
   "id": "301d7349-8121-4225-a832-8d7d0d235a6f",
   "metadata": {},
   "outputs": [],
   "source": []
  }
 ],
 "metadata": {
  "kernelspec": {
   "display_name": "Python 3",
   "language": "python",
   "name": "python3"
  },
  "language_info": {
   "codemirror_mode": {
    "name": "ipython",
    "version": 3
   },
   "file_extension": ".py",
   "mimetype": "text/x-python",
   "name": "python",
   "nbconvert_exporter": "python",
   "pygments_lexer": "ipython3",
   "version": "3.8.8"
  }
 },
 "nbformat": 4,
 "nbformat_minor": 5
}
