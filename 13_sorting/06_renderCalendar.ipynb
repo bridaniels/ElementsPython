{
 "cells": [
  {
   "cell_type": "markdown",
   "id": "0eb1feb3-f199-4d98-98d7-716fb0deca28",
   "metadata": {},
   "source": [
    "# 13.6 Render a Calendar \n",
    "- Each day consists of a number of events \n",
    "- Events = specified as a start time and a finish time (closed interval)\n",
    "- Individual Events for a day rendered as nonoverlapping rectangular regions \n",
    "    - sides are parallel to X and Y axis\n",
    "    - starts at time `b`\n",
    "    - ends at time `e` \n",
    "    - Upper and Lower sides of rectangle must be at `b` and `e` \n",
    "- Y-Coordinates: must lie between 0 and `L` \n",
    "- each event's rectangle must have the same height\n",
    "    - height = distance between sides parallest to the X-axis \n",
    "- Compute MAX height an event rectangle can have \n",
    "    - (MAX number of events that can take place concurrently)"
   ]
  },
  {
   "cell_type": "code",
   "execution_count": 1,
   "id": "5d59ed8a-50fd-4bf6-8f32-22698fa98177",
   "metadata": {},
   "outputs": [],
   "source": [
    "from typing import List \n",
    "import collections"
   ]
  },
  {
   "cell_type": "markdown",
   "id": "d5b9d6d7-c626-4005-a602-b9ef0dfc7596",
   "metadata": {},
   "source": [
    "#### Create Tuple to Hold Event Times\n",
    "---"
   ]
  },
  {
   "cell_type": "code",
   "execution_count": 2,
   "id": "52707fab-4d9a-4541-8816-7f025f4af600",
   "metadata": {},
   "outputs": [],
   "source": [
    "# Event Tuple\n",
    "Event = collections.namedtuple('Event',('start','finish'))"
   ]
  },
  {
   "cell_type": "code",
   "execution_count": 3,
   "id": "0e5ae32a-a236-4383-87b1-a9443f59e277",
   "metadata": {},
   "outputs": [],
   "source": [
    "Wednesday = []"
   ]
  },
  {
   "cell_type": "code",
   "execution_count": 4,
   "id": "02d6c4b3-3f57-4c23-b64f-9b88f11f0c68",
   "metadata": {},
   "outputs": [
    {
     "name": "stdout",
     "output_type": "stream",
     "text": [
      "[Event(start=9, finish=10), Event(start=9.5, finish=10.5), Event(start=10, finish=10.5)]\n"
     ]
    }
   ],
   "source": [
    "# Three\n",
    "nineAM = Event(9,10)\n",
    "nineThirtyAM = Event(9.5,10.5)\n",
    "tenAM = Event(10,10.5)\n",
    "\n",
    "Wednesday.append(nineAM)\n",
    "Wednesday.append(nineThirtyAM)\n",
    "Wednesday.append(tenAM)\n",
    "\n",
    "print(Wednesday)"
   ]
  },
  {
   "cell_type": "code",
   "execution_count": 5,
   "id": "3ef592bd-ccce-4030-aff4-f014afc92c97",
   "metadata": {},
   "outputs": [
    {
     "name": "stdout",
     "output_type": "stream",
     "text": [
      "[Event(start=9, finish=10), Event(start=9.5, finish=10.5), Event(start=10, finish=10.5), Event(start=11, finish=11.5), Event(start=11.08, finish=11.75), Event(start=11.25, finish=12), Event(start=11.5, finish=12.5)]\n"
     ]
    }
   ],
   "source": [
    "# Four\n",
    "elevenAM = Event(11,11.5)\n",
    "eleven05 = Event(11.08,11.75)\n",
    "eleven15 = Event(11.25,12)\n",
    "eleven30 = Event(11.5,12.5)\n",
    "\n",
    "Wednesday.append(elevenAM)\n",
    "Wednesday.append(eleven05)\n",
    "Wednesday.append(eleven15)\n",
    "Wednesday.append(eleven30)\n",
    "\n",
    "print(Wednesday)"
   ]
  },
  {
   "cell_type": "markdown",
   "id": "cae60f91-ae12-4ca3-b25b-cb1e5398c281",
   "metadata": {},
   "source": [
    "#### Find Max Simultaneous Events\n",
    "---"
   ]
  },
  {
   "cell_type": "code",
   "execution_count": 6,
   "id": "c26cf3a0-3aec-4b71-abce-f8f9e162a6ae",
   "metadata": {},
   "outputs": [],
   "source": [
    "def find_simultaneous_events(A: List[Event]) -> int: \n",
    "    \n",
    "    # tuple (start_time,0) or (end_time,1) so if times are equal, start_time comes first \n",
    "    # new tuple defined from Event tuple above \n",
    "    Endpoint = collections.namedtuple('Endpoint', ('time', 'is_start'))\n",
    "    \n",
    "    #Build Array of All Endpoints\n",
    "    Calendar = [p for event in A for \n",
    "               p in (Endpoint(event.start, True), Endpoint(event.finish, False))]\n",
    "    \n",
    "    # Sort Endpoint Array According to Start Time from tuple \n",
    "    # Break Ties By Putting Start Times Before End Times \n",
    "    Calendar.sort(key=lambda e: (e.time, not e.is_start))\n",
    "    \n",
    "    print(Calendar, end='\\n')\n",
    "    print(end='\\n')\n",
    "    \n",
    "    # Track Number of Simultaneous Events\n",
    "    max_simultaneous, num_simultaneous = 0,0\n",
    "    for e in Calendar: \n",
    "        if e.is_start: \n",
    "            num_simultaneous += 1\n",
    "            max_simultaneous = max(num_simultaneous, max_simultaneous)\n",
    "        else: \n",
    "            num_simultaneous -= 1\n",
    "            \n",
    "    print('Max Simultaneous Events: ',max_simultaneous, end='\\n')\n",
    "    return max_simultaneous"
   ]
  },
  {
   "cell_type": "code",
   "execution_count": 7,
   "id": "e8bee1fc-286b-4174-a441-2a4b50ffd040",
   "metadata": {},
   "outputs": [
    {
     "name": "stdout",
     "output_type": "stream",
     "text": [
      "[Endpoint(time=9, is_start=True), Endpoint(time=9.5, is_start=True), Endpoint(time=10, is_start=True), Endpoint(time=10, is_start=False), Endpoint(time=10.5, is_start=False), Endpoint(time=10.5, is_start=False), Endpoint(time=11, is_start=True), Endpoint(time=11.08, is_start=True), Endpoint(time=11.25, is_start=True), Endpoint(time=11.5, is_start=True), Endpoint(time=11.5, is_start=False), Endpoint(time=11.75, is_start=False), Endpoint(time=12, is_start=False), Endpoint(time=12.5, is_start=False)]\n",
      "\n",
      "Max Simultaneous Events:  4\n"
     ]
    },
    {
     "data": {
      "text/plain": [
       "4"
      ]
     },
     "execution_count": 7,
     "metadata": {},
     "output_type": "execute_result"
    }
   ],
   "source": [
    "find_simultaneous_events(Wednesday)"
   ]
  },
  {
   "cell_type": "markdown",
   "id": "7edc511a-7a40-488e-ba1a-c597a8abd818",
   "metadata": {},
   "source": [
    "#### Time Complexity: `O(n lg n)`\n",
    "- sorting the array = `O(n lg n)`\n",
    "- iterating through sorted array `O(n)`\n",
    "- drop lower order terms -> aka `O(n)`\n",
    "\n",
    "#### Space Complexity: `O(n)`\n",
    "- size of endpoint array "
   ]
  },
  {
   "cell_type": "markdown",
   "id": "675fe7e3-8e44-4262-840d-2cf443e2f135",
   "metadata": {},
   "source": [
    "# 13.6.V: \n",
    "---\n",
    "#### Users Share Internet Connection. User `i` uses `bi` bandwidth from time `si` to `fi` inclusive\n",
    "#### What is the peak bandwith usage"
   ]
  },
  {
   "cell_type": "code",
   "execution_count": 8,
   "id": "aab78696-bdf6-4295-836c-dbe6acfe1c56",
   "metadata": {},
   "outputs": [],
   "source": [
    "Usage = collections.namedtuple('Usage',('s','f'))"
   ]
  },
  {
   "cell_type": "code",
   "execution_count": 9,
   "id": "dcd64e01-990e-4dd9-9c08-d99c43aaeca8",
   "metadata": {},
   "outputs": [
    {
     "name": "stdout",
     "output_type": "stream",
     "text": [
      "10\n",
      "[Usage(s=6, f=24), Usage(s=7, f=20), Usage(s=8, f=18), Usage(s=7, f=20), Usage(s=9, f=17), Usage(s=9, f=11), Usage(s=13, f=19), Usage(s=10, f=16), Usage(s=13, f=21), Usage(s=8, f=15)]\n"
     ]
    }
   ],
   "source": [
    "bandwidth = []\n",
    "\n",
    "mason = Usage(6,24)\n",
    "matt = Usage(7,20)\n",
    "david = Usage(8,18)\n",
    "thien = Usage(7,20)\n",
    "liam = Usage(9,17)\n",
    "brighton = Usage(9,11)\n",
    "brighton2 = Usage(13,19)\n",
    "nicole = Usage(10,16)\n",
    "lexi = Usage(13,21)\n",
    "jordan = Usage(8,15)\n",
    "\n",
    "bandwidth.append(mason)\n",
    "bandwidth.append(matt)\n",
    "bandwidth.append(david)\n",
    "bandwidth.append(thien)\n",
    "bandwidth.append(liam)\n",
    "bandwidth.append(brighton)\n",
    "bandwidth.append(brighton2)\n",
    "bandwidth.append(nicole)\n",
    "bandwidth.append(lexi)\n",
    "bandwidth.append(jordan)\n",
    "\n",
    "print(len(bandwidth))\n",
    "print(bandwidth)"
   ]
  },
  {
   "cell_type": "code",
   "execution_count": 10,
   "id": "615c061c-5a31-4e00-a431-d538014f1454",
   "metadata": {},
   "outputs": [
    {
     "name": "stdout",
     "output_type": "stream",
     "text": [
      "Peak Bandwidth Usage Between Hour 13 and Hour 15 For a Span of 3 Hours with 9 Users Online\n"
     ]
    },
    {
     "data": {
      "text/plain": [
       "(9, [13, 15])"
      ]
     },
     "execution_count": 10,
     "metadata": {},
     "output_type": "execute_result"
    }
   ],
   "source": [
    "def timeframe_dict(usage_tuple):\n",
    "    timeHeap = [0]*24\n",
    "    #timeHeap = [i for i in range(24)]\n",
    "    for x in range(len(timeHeap)):\n",
    "        timeHeap[x] = 0\n",
    "        \n",
    "    for s,f in usage_tuple:\n",
    "        for j in range(len(timeHeap)):\n",
    "            if s-1 == j: \n",
    "                timeHeap[j] += 1\n",
    "                for m in range(s,f):\n",
    "                    timeHeap[m] += 1\n",
    "                    \n",
    "    #return timeHeap #, len(timeHeap)\n",
    "    \n",
    "    max_people = 0 \n",
    "    idx_arr = []\n",
    "    for t in range(len(timeHeap)):\n",
    "        if timeHeap[t] > max_people:\n",
    "            max_people = timeHeap[t]\n",
    "            idx_arr = []\n",
    "            idx_arr.append(t+1)\n",
    "            t += 1\n",
    "        elif timeHeap[t] == max_people:\n",
    "            idx_arr.append(t+1)\n",
    "            t += 1\n",
    "        else: \n",
    "            t += 1\n",
    "            \n",
    "    n = len(idx_arr)\n",
    "    window = [idx_arr[0],idx_arr[n-1]]\n",
    "    print('Peak Bandwidth Usage Between Hour {} and Hour {} For a Span of {} Hours with {} Users Online'.format(window[0],window[1],n,max_people))\n",
    "    return max_people, window\n",
    "    \n",
    "\n",
    "timeframe_dict(bandwidth)"
   ]
  },
  {
   "cell_type": "markdown",
   "id": "208abd6b-cdf9-4d8f-aa16-7292b1ae6453",
   "metadata": {},
   "source": [
    "---\n",
    "## In-Between Functions to Help Understand \n",
    "---"
   ]
  },
  {
   "cell_type": "code",
   "execution_count": 11,
   "id": "229bf645-0b86-496a-86bc-892a8f55908e",
   "metadata": {},
   "outputs": [],
   "source": [
    "def peak_usage_sort(A: List[Event]) -> int: \n",
    "    \n",
    "    # tuple (start_time,0) or (end_time,1) so if times are equal, start_time comes first \n",
    "    # new tuple defined from Event tuple above \n",
    "    Endpoint = collections.namedtuple('Endpoint', ('time', 'is_start'))\n",
    "    \n",
    "    #Build Array of All Endpoints\n",
    "    Calendar = [p for event in A for \n",
    "               p in (Endpoint(event.s, True), Endpoint(event.f, False))]\n",
    "    \n",
    "    # Sort Endpoint Array According to Start Time from tuple \n",
    "    # Break Ties By Putting Start Times Before End Times \n",
    "    Calendar.sort(key=lambda e: (e.time, not e.is_start))\n",
    "    \n",
    "    return Calendar"
   ]
  },
  {
   "cell_type": "code",
   "execution_count": 12,
   "id": "c0b1f008-9f3e-4dec-96c9-a2ad7a719a0e",
   "metadata": {},
   "outputs": [
    {
     "data": {
      "text/plain": [
       "[Endpoint(time=6, is_start=True),\n",
       " Endpoint(time=7, is_start=True),\n",
       " Endpoint(time=7, is_start=True),\n",
       " Endpoint(time=8, is_start=True),\n",
       " Endpoint(time=8, is_start=True),\n",
       " Endpoint(time=9, is_start=True),\n",
       " Endpoint(time=9, is_start=True),\n",
       " Endpoint(time=10, is_start=True),\n",
       " Endpoint(time=11, is_start=False),\n",
       " Endpoint(time=13, is_start=True),\n",
       " Endpoint(time=13, is_start=True),\n",
       " Endpoint(time=15, is_start=False),\n",
       " Endpoint(time=16, is_start=False),\n",
       " Endpoint(time=17, is_start=False),\n",
       " Endpoint(time=18, is_start=False),\n",
       " Endpoint(time=19, is_start=False),\n",
       " Endpoint(time=20, is_start=False),\n",
       " Endpoint(time=20, is_start=False),\n",
       " Endpoint(time=21, is_start=False),\n",
       " Endpoint(time=24, is_start=False)]"
      ]
     },
     "execution_count": 12,
     "metadata": {},
     "output_type": "execute_result"
    }
   ],
   "source": [
    "sorted_usage = peak_usage_sort(bandwidth)\n",
    "sorted_usage"
   ]
  },
  {
   "cell_type": "code",
   "execution_count": 13,
   "id": "f7038b24-c113-4bac-b0d3-7d74377b1b41",
   "metadata": {},
   "outputs": [],
   "source": [
    "def peak_usage(A: List[Event]) -> int: \n",
    "    \n",
    "    A.sort(key=lambda t: t[0])\n",
    "    \n",
    "    return A"
   ]
  },
  {
   "cell_type": "code",
   "execution_count": 14,
   "id": "b80598ca-93de-4cbe-ac2f-9df46c08eddd",
   "metadata": {},
   "outputs": [
    {
     "data": {
      "text/plain": [
       "[Usage(s=6, f=24),\n",
       " Usage(s=7, f=20),\n",
       " Usage(s=7, f=20),\n",
       " Usage(s=8, f=18),\n",
       " Usage(s=8, f=15),\n",
       " Usage(s=9, f=17),\n",
       " Usage(s=9, f=11),\n",
       " Usage(s=10, f=16),\n",
       " Usage(s=13, f=19),\n",
       " Usage(s=13, f=21)]"
      ]
     },
     "execution_count": 14,
     "metadata": {},
     "output_type": "execute_result"
    }
   ],
   "source": [
    "sorted_times = peak_usage(bandwidth)\n",
    "sorted_times"
   ]
  },
  {
   "cell_type": "code",
   "execution_count": null,
   "id": "30254b9b-bdac-47a8-afb4-1e80e04b715a",
   "metadata": {},
   "outputs": [],
   "source": []
  }
 ],
 "metadata": {
  "kernelspec": {
   "display_name": "Python 3",
   "language": "python",
   "name": "python3"
  },
  "language_info": {
   "codemirror_mode": {
    "name": "ipython",
    "version": 3
   },
   "file_extension": ".py",
   "mimetype": "text/x-python",
   "name": "python",
   "nbconvert_exporter": "python",
   "pygments_lexer": "ipython3",
   "version": "3.8.8"
  }
 },
 "nbformat": 4,
 "nbformat_minor": 5
}
