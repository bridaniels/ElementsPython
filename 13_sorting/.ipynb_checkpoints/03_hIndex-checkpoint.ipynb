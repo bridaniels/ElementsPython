{
 "cells": [
  {
   "cell_type": "markdown",
   "id": "17431aa5-86db-4d97-b69f-80eb57d88543",
   "metadata": {},
   "source": [
    "# Computing the H-Index\n",
    "- Given array of positive integers \n",
    "- find the largest `h` such that there are at least `h` entries in the array that are greater than or equal to `h` \n",
    "---\n",
    "#### From Introduction* Pg. 1\n",
    "- h-index = metric to measure productivity and citation impact of a researcher \n",
    "    - largest number `h` such that researcher has been:\n",
    "        - published `h` paper\n",
    "        - cited `h` times \n",
    "- input? -> array of positive integers representing the citation counts of each of the authors papers \n",
    "    - may or may not be sorted (allowed to modify this)  \n",
    "--- "
   ]
  },
  {
   "cell_type": "code",
   "execution_count": 1,
   "id": "2f6a458e-3142-487a-8323-fbad9237b56b",
   "metadata": {},
   "outputs": [],
   "source": [
    "from typing import List"
   ]
  },
  {
   "cell_type": "code",
   "execution_count": 2,
   "id": "a0165ec9-8bd8-4eff-9a57-d002cefb6554",
   "metadata": {},
   "outputs": [],
   "source": [
    "def h_index_sorted(citations: List[int]) -> int:\n",
    "    \n",
    "    citations.sort()\n",
    "    n = len(citations)\n",
    "    # from left to right -> stops at 4\n",
    "    for i,c in enumerate(citations):\n",
    "        # i = published papers\n",
    "        # c = citations \n",
    "        # entries greater than or equal to the count \n",
    "        if c >= n - i: \n",
    "            return n - i \n",
    "    return 0 "
   ]
  },
  {
   "cell_type": "code",
   "execution_count": 3,
   "id": "fc529961-89de-4fba-ac5f-5880732b80c6",
   "metadata": {},
   "outputs": [
    {
     "data": {
      "text/plain": [
       "4"
      ]
     },
     "execution_count": 3,
     "metadata": {},
     "output_type": "execute_result"
    }
   ],
   "source": [
    "cite = [9,6,5,4,2]\n",
    "h_index_sorted(cite)"
   ]
  },
  {
   "cell_type": "markdown",
   "id": "8b8bc715-686a-417f-a3ab-cbe81a3cc02c",
   "metadata": {},
   "source": [
    "#### `O(n log n)` time complexity\n",
    "#### `O(1)` space complexity"
   ]
  },
  {
   "cell_type": "markdown",
   "id": "a74d08f8-eb55-46fc-9a11-a8add2ed648f",
   "metadata": {},
   "source": [
    "---\n",
    "### Input Array Sorted\n",
    "---\n",
    "- fastest as per [Toward Data Science article](https://towardsdatascience.com/fastest-way-to-calculate-h-index-of-publications-6fd52e381fee)"
   ]
  },
  {
   "cell_type": "code",
   "execution_count": 4,
   "id": "0d4a8b75-33a8-4c57-af7e-76912a4ec340",
   "metadata": {},
   "outputs": [],
   "source": [
    "import numpy as np\n",
    "\n",
    "def fastest(citations):\n",
    "    \n",
    "    citations = np.array(citations)\n",
    "    n = citations.shape[0]\n",
    "    array = np.arange(1,n+1)\n",
    "    \n",
    "    citations = np.sort(citations)[::-1]\n",
    "    \n",
    "    h_idx = np.max(np.minimum(citations,array))\n",
    "    \n",
    "    return h_idx"
   ]
  },
  {
   "cell_type": "code",
   "execution_count": 5,
   "id": "126454ca-3d83-4319-ac32-e4cc2bf77af5",
   "metadata": {},
   "outputs": [
    {
     "data": {
      "text/plain": [
       "4"
      ]
     },
     "execution_count": 5,
     "metadata": {},
     "output_type": "execute_result"
    }
   ],
   "source": [
    "cited = [5,4,1,3,2,6,3,4,1]\n",
    "\n",
    "fastest(cited)"
   ]
  },
  {
   "cell_type": "markdown",
   "id": "720c86ba-74fe-498f-aa10-328f57548606",
   "metadata": {},
   "source": [
    "---\n",
    "##### return sum()"
   ]
  },
  {
   "cell_type": "code",
   "execution_count": 6,
   "id": "95e5be04-bf53-4b58-9cf3-37d055606151",
   "metadata": {},
   "outputs": [],
   "source": [
    "def reverse_sort_sum(citations: List[int]) -> int:    \n",
    "    return sum(i < j for i,j in enumerate(citations))"
   ]
  },
  {
   "cell_type": "code",
   "execution_count": 7,
   "id": "e14cd6df-eb04-4414-9137-37c61eb5ac2e",
   "metadata": {},
   "outputs": [
    {
     "data": {
      "text/plain": [
       "4"
      ]
     },
     "execution_count": 7,
     "metadata": {},
     "output_type": "execute_result"
    }
   ],
   "source": [
    "cited = [5,4,1,3,2,6,3,4,1]\n",
    "cited.sort(reverse=True)\n",
    "\n",
    "reverse_sort_sum(cited)"
   ]
  },
  {
   "cell_type": "code",
   "execution_count": 8,
   "id": "ec928114-78ce-43de-8e30-b8a1ac10f651",
   "metadata": {},
   "outputs": [],
   "source": [
    "import numpy as np\n",
    "\n",
    "def numpy(citations):\n",
    "    \n",
    "    array = np.arange(1,len(citations)+1)\n",
    "    return sum([p <= c for (c,p) in zip(citations, array)])"
   ]
  },
  {
   "cell_type": "code",
   "execution_count": 9,
   "id": "92ae4f2c-d84e-474e-8c41-a66a98cd810c",
   "metadata": {},
   "outputs": [
    {
     "data": {
      "text/plain": [
       "4"
      ]
     },
     "execution_count": 9,
     "metadata": {},
     "output_type": "execute_result"
    }
   ],
   "source": [
    "cited = [5,4,1,3,2,6,3,4,1]\n",
    "cited.sort(reverse=True)\n",
    "\n",
    "numpy(cited)"
   ]
  },
  {
   "cell_type": "markdown",
   "id": "54394936-9b12-45bd-925c-903f6540b9aa",
   "metadata": {},
   "source": [
    "---\n",
    "### As much additional memory as your want\n",
    "---"
   ]
  },
  {
   "cell_type": "code",
   "execution_count": 10,
   "id": "7a7cb8eb-cc15-44c0-b17b-a61719c965cc",
   "metadata": {},
   "outputs": [],
   "source": [
    "import bisect\n",
    "\n",
    "def memoryPlus(cited: List[int]) -> int: \n",
    "    cited.sort(reverse=True)\n",
    "    h = []\n",
    "    for i,c in enumerate(cited):\n",
    "        if c >= len(h):\n",
    "            h.append(c)\n",
    "    return len(h)"
   ]
  },
  {
   "cell_type": "code",
   "execution_count": 11,
   "id": "7af9224c-8b73-4869-9de6-d38caee3c04a",
   "metadata": {},
   "outputs": [
    {
     "data": {
      "text/plain": [
       "4"
      ]
     },
     "execution_count": 11,
     "metadata": {},
     "output_type": "execute_result"
    }
   ],
   "source": [
    "cited = [5,4,1,3,2,6,3,4,1]\n",
    "memoryPlus(cited)"
   ]
  },
  {
   "cell_type": "code",
   "execution_count": null,
   "id": "8599f008-d5d5-44b8-88fb-d47c22f15ca4",
   "metadata": {},
   "outputs": [],
   "source": []
  }
 ],
 "metadata": {
  "kernelspec": {
   "display_name": "Python 3",
   "language": "python",
   "name": "python3"
  },
  "language_info": {
   "codemirror_mode": {
    "name": "ipython",
    "version": 3
   },
   "file_extension": ".py",
   "mimetype": "text/x-python",
   "name": "python",
   "nbconvert_exporter": "python",
   "pygments_lexer": "ipython3",
   "version": "3.8.8"
  }
 },
 "nbformat": 4,
 "nbformat_minor": 5
}
