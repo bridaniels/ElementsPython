{
 "cells": [
  {
   "cell_type": "markdown",
   "id": "6a241a0c-37dc-4775-9315-a638278109e9",
   "metadata": {},
   "source": [
    "# Sorting Python Library\n",
    "- `sort()`: list in-place\n",
    "- `sorted()`: iterable "
   ]
  },
  {
   "cell_type": "markdown",
   "id": "514ed04e-fc6c-4aac-a457-052d0f95d18c",
   "metadata": {},
   "source": [
    "---\n",
    "## `Sort()`\n",
    "---\n",
    "- stable in-place sort for list objects \n",
    "    - stable: enteries which are equal appear in original order\n",
    "    - in-place: `O(1)` space\n",
    "- Two Optional Arguments:\n",
    "    - `key=None`: defines the sort order\n",
    "        - if key is not None -> assumed to be a function taking list elements and mapping then to comparable objects\n",
    "        - `.sort(key=lambda x: str(x))` maps integers to strings according to [LEXOGRAPHICAL ORDERING](https://en.wikipedia.org/wiki/Lexicographic_order)\n",
    "            - [1, 2, 4, 3, 5, 0, 11, 21, 100] -> [0, 1, 100, 11, 2, 21, 3, 4, 5]\n",
    "    - `reverse=False`: ascending order\n",
    "        - `reverse=True`: descending order "
   ]
  },
  {
   "cell_type": "code",
   "execution_count": 18,
   "id": "34aba830-2634-478a-88ec-c8319fdf2292",
   "metadata": {},
   "outputs": [],
   "source": [
    "class Student:\n",
    "    def __init__(self, name: str, gpa: float) -> None:\n",
    "        self.name = name\n",
    "        self.gpa = gpa\n",
    "    \n",
    "    def __lt__(self, other: 'Student') -> bool:\n",
    "        return self.name < other.name"
   ]
  },
  {
   "cell_type": "code",
   "execution_count": 19,
   "id": "a256f062-77c9-44dc-b2d0-0ee58ce7e22e",
   "metadata": {},
   "outputs": [],
   "source": [
    "students = [\n",
    "    Student('A', 4.0),\n",
    "    Student('C', 3.0),\n",
    "    Student('B', 2.0),\n",
    "    Student('D', 3.2)\n",
    "]\n",
    "\n",
    "# Sort students in-place by GPA\n",
    "students.sort(key=lambda student: student.gpa)"
   ]
  },
  {
   "cell_type": "markdown",
   "id": "337bfb31-a913-40b7-9cdf-c18b3ffdf708",
   "metadata": {},
   "source": [
    "---\n",
    "## `Sorted()`\n",
    "---\n",
    "- takes iterable and returns a NEW list containing all items in ascending order \n",
    "- original list is uncahnged \n",
    "- optional `key` and `reverse` work identically to `sort()`"
   ]
  },
  {
   "cell_type": "code",
   "execution_count": 21,
   "id": "632dd0ce-82cb-48b0-8447-5a4daf022217",
   "metadata": {},
   "outputs": [],
   "source": [
    "# Sort according to __lt__ defined in Student -> students remains unchanged \n",
    "sorted_by_name = sorted(students)"
   ]
  },
  {
   "cell_type": "code",
   "execution_count": null,
   "id": "cb3f2eeb-40bd-4daa-a80c-6ecd201cfbce",
   "metadata": {},
   "outputs": [],
   "source": []
  }
 ],
 "metadata": {
  "kernelspec": {
   "display_name": "Python 3",
   "language": "python",
   "name": "python3"
  },
  "language_info": {
   "codemirror_mode": {
    "name": "ipython",
    "version": 3
   },
   "file_extension": ".py",
   "mimetype": "text/x-python",
   "name": "python",
   "nbconvert_exporter": "python",
   "pygments_lexer": "ipython3",
   "version": "3.8.8"
  }
 },
 "nbformat": 4,
 "nbformat_minor": 5
}
