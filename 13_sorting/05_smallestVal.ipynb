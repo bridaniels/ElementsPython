{
 "cells": [
  {
   "cell_type": "markdown",
   "id": "71873a89-9200-443b-8caa-5c1311a2d905",
   "metadata": {},
   "source": [
    "# 13.5 Smallest NonConstructible Value\n",
    "- input = array of positive integers \n",
    "- output = smallest number which is not to the sum of a subset of elements in the array "
   ]
  },
  {
   "cell_type": "code",
   "execution_count": 1,
   "id": "11b3bc01-8cd0-4a11-93c7-e4514a9a9f2f",
   "metadata": {},
   "outputs": [],
   "source": [
    "from typing import List "
   ]
  },
  {
   "cell_type": "code",
   "execution_count": 2,
   "id": "e9bb9244-bef3-4d48-bd50-3bd1200e29d1",
   "metadata": {},
   "outputs": [],
   "source": [
    "coins = [1,1,1,1,1,5,10,25]\n",
    "coins2 = [12,2,1,15,2,4]"
   ]
  },
  {
   "cell_type": "markdown",
   "id": "4af1100e-30c7-4684-a693-8e18a03b411a",
   "metadata": {},
   "source": [
    "---\n",
    "### Brute Force: Enumerate All Possible Values \n",
    "---\n",
    "- Smallest element in the array sets a lower bound on the change amount that can be constructed from that array\n",
    "    - if the array does not contain a 1, it cannot produce a 1 \n",
    "    - You could produce a 2 without 2 being present though \n",
    "- Collection of numbers can produce every value up to `V` but not `V+1`\n",
    "    - new element `u`\n",
    "        - if `u <= V+1` we can produce every value up to `V+u` but not `V+u+1`\n",
    "        - if `u > V+1` then even with adding `u` we cannot produce `V+1`\n",
    "- Order of elements in the array does not matter\n",
    "    - sorting allows us to stop when we reach a value that is too large to help \n",
    "    - `M[i-1]` = maximum constructible amount from the first `i` elements of the sorted array \n",
    "        - if the next array element `x` is `> M[i-1]+1`, then `M[i-1]` is still the maximum constructible \n",
    "        - return `M[i-1]+1` as the result \n",
    "        - otherwise: `M[i] = M[i-1]+x` and continue with `i+1`"
   ]
  },
  {
   "cell_type": "code",
   "execution_count": 3,
   "id": "0e4bdaaa-a06f-4faf-ad48-c29a8ebdf6aa",
   "metadata": {},
   "outputs": [
    {
     "name": "stdout",
     "output_type": "stream",
     "text": [
      "[1, 2, 2, 4, 12, 15]\n",
      "Max Constructible Amount with First Element: 1\n",
      "Second Element: 2 <= 1+1=2, so we can produce all values up to 3 now\n",
      "Third Element: 2 <= 3+1=4, so we can produce all values up to 5 now\n",
      "Fourth Element: 4 <= 5+1=6, so we can produce all values up to 9 now\n",
      "Fifth Element: 12 > 9+1=10, so we cannot produce 10\n",
      "10 is the smallest number that CANNOT be constructed\n"
     ]
    }
   ],
   "source": [
    "sort_coins = sorted(coins2)\n",
    "print(sort_coins,end='\\n')\n",
    "print('Max Constructible Amount with First Element: {}'.format(sort_coins[0]))\n",
    "print('Second Element: {} <= {}+1={}, so we can produce all values up to {} now'.format(sort_coins[1],sort_coins[0],(sort_coins[0]+1),(sort_coins[0]+sort_coins[1])))\n",
    "print('Third Element: {} <= {}+1={}, so we can produce all values up to {} now'.format(sort_coins[2],(sort_coins[0]+sort_coins[1]),((sort_coins[0]+sort_coins[1])+1),(sort_coins[2]+sort_coins[1]+sort_coins[0])))\n",
    "print('Fourth Element: {} <= {}+1={}, so we can produce all values up to {} now'.format(sort_coins[3],(sort_coins[2]+sort_coins[1]+sort_coins[0]),((sort_coins[2]+sort_coins[1]+sort_coins[0])+1),(sort_coins[3]+sort_coins[2]+sort_coins[1]+sort_coins[0])))\n",
    "print('Fifth Element: {} > {}+1={}, so we cannot produce {}'.format(sort_coins[4],(sort_coins[3]+sort_coins[2]+sort_coins[1]+sort_coins[0]),((sort_coins[3]+sort_coins[2]+sort_coins[1]+sort_coins[0])+1), ((sort_coins[3]+sort_coins[2]+sort_coins[1]+sort_coins[0])+1)))\n",
    "print('{} is the smallest number that CANNOT be constructed'.format(((sort_coins[3]+sort_coins[2]+sort_coins[1]+sort_coins[0])+1)))"
   ]
  },
  {
   "cell_type": "code",
   "execution_count": 4,
   "id": "aaf29aa1-c9e6-4886-8bf8-9f5574f04744",
   "metadata": {},
   "outputs": [],
   "source": [
    "def smallest_nonconstructible_value(A: List[int]) -> int:\n",
    "    max_construct_val = 0\n",
    "    for a in sorted(A):\n",
    "        if a > max_construct_val+1:\n",
    "            break \n",
    "        max_construct_val += a\n",
    "    return max_construct_val+1"
   ]
  },
  {
   "cell_type": "code",
   "execution_count": 5,
   "id": "15ffc582-a54a-475a-a66e-4abf72b129ff",
   "metadata": {},
   "outputs": [
    {
     "name": "stdout",
     "output_type": "stream",
     "text": [
      "Out of array[1, 1, 1, 1, 1, 5, 10, 25], the smallest value umable to be made with the numbers is 21\n",
      "Out of array[1, 2, 2, 4, 12, 15], the smallest value unable to be made with the numbers is 10\n"
     ]
    }
   ],
   "source": [
    "print('Out of array{}, the smallest value umable to be made with the numbers is {}'.format(coins,smallest_nonconstructible_value(coins)))\n",
    "print('Out of array{}, the smallest value unable to be made with the numbers is {}'.format(sorted(coins2),smallest_nonconstructible_value(coins2)))"
   ]
  },
  {
   "cell_type": "markdown",
   "id": "5e77e5e7-7f50-434a-b566-2a434508da8a",
   "metadata": {},
   "source": [
    "### Time Complexity: `O(n lg n)`\n",
    "- `O(n lg n)` for sorting\n",
    "- `O(n)` for iterating "
   ]
  },
  {
   "cell_type": "code",
   "execution_count": null,
   "id": "7854dd23-ccd3-4d40-bea1-f27eba118e0b",
   "metadata": {},
   "outputs": [],
   "source": []
  }
 ],
 "metadata": {
  "kernelspec": {
   "display_name": "Python 3",
   "language": "python",
   "name": "python3"
  },
  "language_info": {
   "codemirror_mode": {
    "name": "ipython",
    "version": 3
   },
   "file_extension": ".py",
   "mimetype": "text/x-python",
   "name": "python",
   "nbconvert_exporter": "python",
   "pygments_lexer": "ipython3",
   "version": "3.8.8"
  }
 },
 "nbformat": 4,
 "nbformat_minor": 5
}
