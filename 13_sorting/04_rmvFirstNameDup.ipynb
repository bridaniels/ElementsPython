{
 "cells": [
  {
   "cell_type": "markdown",
   "id": "da3d3d3f-8e03-40e7-9815-79bca49bc797",
   "metadata": {},
   "source": [
    "# 13.4 Remove First-Name Duplicates \n",
    "- remove all first-name duplicates from an array \n",
    "- bring all equal items close together "
   ]
  },
  {
   "cell_type": "code",
   "execution_count": 1,
   "id": "9ac7ec07-05f5-4fdd-9ab2-706770852e78",
   "metadata": {},
   "outputs": [],
   "source": [
    "from typing import List"
   ]
  },
  {
   "cell_type": "markdown",
   "id": "df30d039-77ef-464c-84bc-35141cd37542",
   "metadata": {},
   "source": [
    "---\n",
    "## Brute Force: Reuse Input Array for Final Result\n",
    "---\n",
    "- sort the array to bring like elements together in `O(n lg n)` time\n",
    "- eliminating duplicates takes `O(n)` time \n",
    "- Hash tables would use `O(n)` space VS here we use `O(1)` "
   ]
  },
  {
   "cell_type": "code",
   "execution_count": 2,
   "id": "9dfdd3f1-b740-48b2-bc3f-45a763f43811",
   "metadata": {},
   "outputs": [],
   "source": [
    "class BruteForce:\n",
    "    \n",
    "    def __init__(self, first_name: str, last_name: str) -> None: \n",
    "        self.first_name, self.last_name = first_name, last_name\n",
    "    def __eq__(self, other) -> bool:\n",
    "        return self.first_name == other.first_name\n",
    "    def __lt__(self, other) -> bool:\n",
    "        return (self.first_name < other.first_name\n",
    "               if self.first_name != other.first_name else\n",
    "               self.last_name < other.last_name)"
   ]
  },
  {
   "cell_type": "code",
   "execution_count": 3,
   "id": "8d8991ad-e1b3-45a3-a6db-07179ceecaca",
   "metadata": {},
   "outputs": [],
   "source": [
    "def elim_dupes_bf(array: List[BruteForce]) -> List[BruteForce]:\n",
    "    array.sort() # `O(nlgn)` time\n",
    "    idx = 1 \n",
    "    for cand in array[1:]:\n",
    "        if cand[0] != array[idx-1][0]:\n",
    "            array[idx] = cand\n",
    "            idx += 1 \n",
    "    del array[idx:] #delete everything after OG values have been selected "
   ]
  },
  {
   "cell_type": "code",
   "execution_count": 6,
   "id": "7eadbc9e-ddf1-4d7c-bc51-2da7975abc6d",
   "metadata": {},
   "outputs": [
    {
     "data": {
      "text/plain": [
       "[('Colby', 'Smith'), ('David', 'Gower'), ('Ian', 'Bell'), ('Pieter', 'Bobby')]"
      ]
     },
     "execution_count": 6,
     "metadata": {},
     "output_type": "execute_result"
    }
   ],
   "source": [
    "ians=[('Ian','Botham'), ('Pieter','Casper'), ('David','Gower'), ('Ian','Bell'), ('Pieter','Bobby'), ('Ian','Chappell'), ('Colby','Smith'), ('Pieter','Debrov')]\n",
    "\n",
    "\n",
    "elim_dupes_bf(ians)\n",
    "ians"
   ]
  },
  {
   "cell_type": "markdown",
   "id": "886e5dde-79ac-4cf5-8f88-02090b867d60",
   "metadata": {},
   "source": [
    "##### `O(n lg n)` Time Complexity\n",
    "##### `O(1)` Space Complexity"
   ]
  },
  {
   "cell_type": "code",
   "execution_count": null,
   "id": "eb40ef0a-96a0-4cb5-9d87-55a7e3864c4a",
   "metadata": {},
   "outputs": [],
   "source": []
  }
 ],
 "metadata": {
  "kernelspec": {
   "display_name": "Python 3",
   "language": "python",
   "name": "python3"
  },
  "language_info": {
   "codemirror_mode": {
    "name": "ipython",
    "version": 3
   },
   "file_extension": ".py",
   "mimetype": "text/x-python",
   "name": "python",
   "nbconvert_exporter": "python",
   "pygments_lexer": "ipython3",
   "version": "3.8.8"
  }
 },
 "nbformat": 4,
 "nbformat_minor": 5
}
