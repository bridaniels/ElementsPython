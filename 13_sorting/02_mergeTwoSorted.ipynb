{
 "cells": [
  {
   "cell_type": "markdown",
   "id": "0b1d8e6b-b29c-410e-a70e-606818223479",
   "metadata": {},
   "source": [
    "# 13.2 Merge Two Sorted Arrays\n",
    "- two sorted arrays of integers \n",
    "    - one array has enough empty entries at its end to store combined entries of the two arrays\n",
    "- update the first array to combine both arrays \n",
    "- avoid repeatedly moving entries\n",
    "- filling first array from back to front to keep all entries in the array\n",
    "- in-place because no third array is being made, just altering the first"
   ]
  },
  {
   "cell_type": "code",
   "execution_count": 38,
   "id": "70801569-452c-4843-b941-a409d6484c5a",
   "metadata": {},
   "outputs": [],
   "source": [
    "from typing import List"
   ]
  },
  {
   "cell_type": "code",
   "execution_count": 43,
   "id": "85e705bd-7341-40be-b07a-8f4834a77211",
   "metadata": {},
   "outputs": [],
   "source": [
    "def mergeTwoSorted(A: List[int], m: int, B: List[int], n: int) -> None: \n",
    "    a,b = m-1, n-1\n",
    "    write_idx = m+n-1\n",
    "    \n",
    "    while a >= 0 and b >= 0:\n",
    "        if A[a] > B[b]:\n",
    "            A[write_idx] = A[a]\n",
    "            a -= 1 # going backwards\n",
    "        else:\n",
    "            A[write_idx] = B[b]\n",
    "            b -= 1\n",
    "        write_idx -= 1\n",
    "        \n",
    "    # don't want to double any entry from A -> at the end it could be an element from B being appended\n",
    "    while b >= 0:\n",
    "        A[write_idx] = B[b]\n",
    "        write_idx = write_idx - 1\n",
    "        b = b - 1\n",
    "        \n",
    "    return A"
   ]
  },
  {
   "cell_type": "code",
   "execution_count": 45,
   "id": "609edb33-cb08-4857-9f6a-0da960a5f694",
   "metadata": {},
   "outputs": [
    {
     "data": {
      "text/plain": [
       "[3, 3, 7, 11, 13, 17, 19, 0]"
      ]
     },
     "execution_count": 45,
     "metadata": {},
     "output_type": "execute_result"
    }
   ],
   "source": [
    "a = [3,13,17,0,0,0,0,0]\n",
    "aa = [3,13,17]\n",
    "b = [3,7,11,19]\n",
    "m = len(aa)\n",
    "n = len(b)\n",
    "\n",
    "mergeTwoSorted(a,m,b,n)"
   ]
  },
  {
   "cell_type": "markdown",
   "id": "56e526f9-5f8a-4b52-842f-3606d3fcd86b",
   "metadata": {},
   "source": [
    "#### `O(m+n)` time complexity\n",
    "#### `O(1)` additional space\n",
    "- re-writing entire `A` array "
   ]
  },
  {
   "cell_type": "code",
   "execution_count": null,
   "id": "eb109402-9591-4dc2-bf07-7dc4719c7a86",
   "metadata": {},
   "outputs": [],
   "source": []
  }
 ],
 "metadata": {
  "kernelspec": {
   "display_name": "Python 3",
   "language": "python",
   "name": "python3"
  },
  "language_info": {
   "codemirror_mode": {
    "name": "ipython",
    "version": 3
   },
   "file_extension": ".py",
   "mimetype": "text/x-python",
   "name": "python",
   "nbconvert_exporter": "python",
   "pygments_lexer": "ipython3",
   "version": "3.8.8"
  }
 },
 "nbformat": 4,
 "nbformat_minor": 5
}
