{
 "cells": [
  {
   "cell_type": "markdown",
   "id": "e3eb2f3e-6c95-4330-af7a-21f9f4464cb5",
   "metadata": {},
   "source": [
    "# 13.1  Intersection of Two Sorted Arrays\n",
    "- input = two sorted arrays\n",
    "- output = new array w/ elements in both of the input arrays - NO DUPLICATES"
   ]
  },
  {
   "cell_type": "code",
   "execution_count": 1,
   "id": "840595a4-c65a-44e8-b124-e35863ed3b7c",
   "metadata": {},
   "outputs": [],
   "source": [
    "from typing import List"
   ]
  },
  {
   "cell_type": "code",
   "execution_count": 2,
   "id": "6eb0053a-e1db-47db-a767-630fa3e19e77",
   "metadata": {},
   "outputs": [],
   "source": [
    "a = [2,3,3,4,4,5,6,7,7,8,12]\n",
    "b = [5,5,6,8,8,9,10,10]"
   ]
  },
  {
   "cell_type": "markdown",
   "id": "732138bc-177e-41a3-b813-0196c16f44b1",
   "metadata": {},
   "source": [
    "---\n",
    "### Brute Force: Loop Join\n",
    "---\n",
    "- traverse through all the elements of one array and compare them to the second \n",
    "- m and n are the lengths of input arrays "
   ]
  },
  {
   "cell_type": "code",
   "execution_count": 3,
   "id": "41880646-5e88-4580-aed2-9517fc7bccdc",
   "metadata": {},
   "outputs": [],
   "source": [
    "# Brute-Force \n",
    "def brute_force(A: List[int], B: List[int]) -> List[int]:\n",
    "    return [a for i, a in enumerate(A) if (i == 0 or a != A[i-1]) and a in B]"
   ]
  },
  {
   "cell_type": "code",
   "execution_count": 4,
   "id": "94705f4e-6b91-4d33-a3fb-e2b272ad8e4f",
   "metadata": {},
   "outputs": [
    {
     "data": {
      "text/plain": [
       "[5, 6, 8]"
      ]
     },
     "execution_count": 4,
     "metadata": {},
     "output_type": "execute_result"
    }
   ],
   "source": [
    "brute_force(a,b)"
   ]
  },
  {
   "cell_type": "markdown",
   "id": "d38d3c17-e680-4cea-849f-367287340eb5",
   "metadata": {},
   "source": [
    "#### `O(mn)` time complexity "
   ]
  },
  {
   "cell_type": "markdown",
   "id": "04af040f-217b-4cd8-b95b-04e863990ad5",
   "metadata": {},
   "source": [
    "---\n",
    "### Optimized: Binary Search\n",
    "--- \n",
    "- iterate through first array and use binary search to test if element also in second array\n",
    "- bisect libary:\n",
    "    - keeps list sorted after insertion of each element \n",
    "    - reduces overhead time to resort the list every time element is inserted \n",
    "    - bisect(list,num,beg,end)\n",
    "    "
   ]
  },
  {
   "cell_type": "code",
   "execution_count": 5,
   "id": "19b91ba0-6832-4410-bda0-78414e698507",
   "metadata": {},
   "outputs": [],
   "source": [
    "# Binary Search\n",
    "\n",
    "import bisect \n",
    "\n",
    "\n",
    "def binary_search(A: List[int], B: List[int]) -> List[int]:\n",
    "    \n",
    "    def is_present(k):\n",
    "        i = bisect.bisect_left(B,k)\n",
    "        return i < len(B) and B[i] == k \n",
    "    \n",
    "    return [ a for i, a in enumerate(A) if (i == 0 or a != A[i-1]) and is_present(a)]"
   ]
  },
  {
   "cell_type": "code",
   "execution_count": 6,
   "id": "6c97ab9d-c46a-453c-8820-4e0364a3ce34",
   "metadata": {},
   "outputs": [
    {
     "data": {
      "text/plain": [
       "[5, 6, 8]"
      ]
     },
     "execution_count": 6,
     "metadata": {},
     "output_type": "execute_result"
    }
   ],
   "source": [
    "binary_search(a,b)"
   ]
  },
  {
   "cell_type": "markdown",
   "id": "24c3f9e6-3403-473a-96a8-5754cc7cbed4",
   "metadata": {},
   "source": [
    "### `O(m log n)` time complexity\n",
    "- m = length of list being iterated over \n",
    "- pick shorter array for outer loop to optimize "
   ]
  },
  {
   "cell_type": "markdown",
   "id": "d302a9d7-ccaf-43ec-bc21-8bbf0cb89123",
   "metadata": {},
   "source": [
    "---\n",
    "### Linear Runtime: Two Pointer\n",
    "---\n",
    "- simultaneously advancing through two input arrays \n",
    "- if elements differ -> smaller is eliminated \n",
    "- if elements equal -> add value to intersection and advance both pointers"
   ]
  },
  {
   "cell_type": "code",
   "execution_count": 7,
   "id": "b9084454-b74b-4d76-b2b6-c9d3e8d94fcb",
   "metadata": {},
   "outputs": [],
   "source": [
    "# Two Pointer\n",
    "def two_pointer(A: List[int], B: List[int]) -> List[int]:\n",
    "    \n",
    "    i,j = 0,0\n",
    "    intersect = []\n",
    "    \n",
    "    while i < len(A) and j < len(B):\n",
    "        if A[i] == B[j]:\n",
    "            # i == 0 -> base case since A[i-1] if i == 0 would get screwy\n",
    "            # A[i-1] -> first A[i] of each number will be added -> anything following ignore \n",
    "            if i == 0 or A[i] != A[i-1]:\n",
    "                intersect.append(A[i])\n",
    "            i += 1\n",
    "            j += 1\n",
    "        elif A[i] < B[j]:\n",
    "            i += 1\n",
    "        else:\n",
    "            j += 1\n",
    "    return intersect"
   ]
  },
  {
   "cell_type": "code",
   "execution_count": 8,
   "id": "2f69de27-2051-44a1-8977-a187ea38c344",
   "metadata": {},
   "outputs": [
    {
     "data": {
      "text/plain": [
       "[5, 6, 8]"
      ]
     },
     "execution_count": 8,
     "metadata": {},
     "output_type": "execute_result"
    }
   ],
   "source": [
    "two_pointer(a,b)"
   ]
  },
  {
   "cell_type": "markdown",
   "id": "ce015e50-7174-456b-91ad-5bfb32402b53",
   "metadata": {},
   "source": [
    "#### `O(m + n)` time complexity\n",
    "- `O(1)` time on each input array"
   ]
  },
  {
   "cell_type": "code",
   "execution_count": null,
   "id": "2140fdc1-5fd8-4ad3-b8b4-737ae594f9d6",
   "metadata": {},
   "outputs": [],
   "source": []
  }
 ],
 "metadata": {
  "kernelspec": {
   "display_name": "Python 3",
   "language": "python",
   "name": "python3"
  },
  "language_info": {
   "codemirror_mode": {
    "name": "ipython",
    "version": 3
   },
   "file_extension": ".py",
   "mimetype": "text/x-python",
   "name": "python",
   "nbconvert_exporter": "python",
   "pygments_lexer": "ipython3",
   "version": "3.8.8"
  }
 },
 "nbformat": 4,
 "nbformat_minor": 5
}
