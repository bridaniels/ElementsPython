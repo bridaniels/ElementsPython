{
 "cells": [
  {
   "cell_type": "markdown",
   "id": "0f882927-c584-4656-b5b1-38e54abeb3eb",
   "metadata": {},
   "source": [
    "# **Bit-Wise Operators**\n",
    "- perform operations on values and variables "
   ]
  },
  {
   "cell_type": "code",
   "execution_count": 1,
   "id": "0008b31f-de9c-4bc3-9dfa-4fca4b0230d7",
   "metadata": {},
   "outputs": [],
   "source": [
    "x,y = 10,4\n",
    "\n",
    "a = bin(x)\n",
    "aa = a.replace('0b','')\n",
    "b = bin(y)\n",
    "bb = b.replace('0b','')"
   ]
  },
  {
   "cell_type": "markdown",
   "id": "697a88d6-1465-42e1-bcf7-6db173aa58c5",
   "metadata": {},
   "source": [
    "---\n",
    "---\n",
    "### Bit-Wise **AND** `&`\n",
    "- Returns 1 if both bits are 1, else 0 \n",
    "\n",
    "#### `&=` -> `a &= b` -> `a = a&b`"
   ]
  },
  {
   "cell_type": "code",
   "execution_count": 2,
   "id": "9afd1363-3225-4cf5-974b-54d4b04f1424",
   "metadata": {},
   "outputs": [
    {
     "name": "stdout",
     "output_type": "stream",
     "text": [
      " for 10 and 4's binary equivalents 1010 and 100\n",
      "x = 1010\n",
      "y = _100\n",
      " Bit-Wise AND = 0 because neither has 1's in the same place as the other\n"
     ]
    }
   ],
   "source": [
    "bw_and = x & y\n",
    "print(f\" for {x} and {y}'s binary equivalents {aa} and {bb}\")\n",
    "print(f\"x = {aa}\")\n",
    "print(f\"y = _{bb}\")\n",
    "print(f\" Bit-Wise AND = {bw_and} because neither has 1's in the same place as the other\")"
   ]
  },
  {
   "cell_type": "markdown",
   "id": "c15bf4b7-8a95-4c1e-8ace-4c12d73d6008",
   "metadata": {},
   "source": [
    "---\n",
    "### Bit-Wise **OR** `|`\n",
    "- Returns 1 if either of the bit is 1, else 0 \n",
    "\n",
    "#### `|=` -> `a |= b` -> `a = a|b`"
   ]
  },
  {
   "cell_type": "code",
   "execution_count": 3,
   "id": "6b7f5052-4fae-48e7-98ae-080f79d16def",
   "metadata": {},
   "outputs": [
    {
     "name": "stdout",
     "output_type": "stream",
     "text": [
      " for 10 and 4's binary equivalents 1010 and 100\n",
      "x = 1010\n",
      "y = _100\n",
      " Bit-Wise OR = 14 because either x or y has a 1 at 3 bits of the 4\n"
     ]
    }
   ],
   "source": [
    "bw_or = x | y\n",
    "print(f\" for {x} and {y}'s binary equivalents {aa} and {bb}\")\n",
    "print(f\"x = {aa}\")\n",
    "print(f\"y = _{bb}\")\n",
    "print(f\" Bit-Wise OR = {bw_or} because either x or y has a 1 at 3 bits of the 4\")"
   ]
  },
  {
   "cell_type": "markdown",
   "id": "e624462f-5db9-42b4-9041-da14be47134a",
   "metadata": {},
   "source": [
    "---\n",
    "### Bit-Wise **NOT** `~`\n",
    "- Returns one's complement of the number \n",
    "\n",
    "#### no compound operator "
   ]
  },
  {
   "cell_type": "code",
   "execution_count": 4,
   "id": "419c0bd1-4cbc-4be3-b708-97d5335ac0b5",
   "metadata": {},
   "outputs": [
    {
     "name": "stdout",
     "output_type": "stream",
     "text": [
      "10's binary equivalent = 1010\n",
      "~x = -(1010+1) \n",
      " Bit-Wise NOT = -11\n"
     ]
    }
   ],
   "source": [
    "bw_not = ~x\n",
    "print(f\"{x}'s binary equivalent = {aa}\")\n",
    "print(f\"~x = -({aa}+1) \")\n",
    "print(f\" Bit-Wise NOT = {bw_not}\")"
   ]
  },
  {
   "cell_type": "markdown",
   "id": "de4afe18-de3c-4896-841e-dc02195db00e",
   "metadata": {},
   "source": [
    "---\n",
    "### Bit-Wise **XOR** `^`\n",
    "- Returns 1 if one of the bits is 1 and the other is 0, else returns false\n",
    "\n",
    "#### `^=` -> `a ^= b` -> `a = a^b`"
   ]
  },
  {
   "cell_type": "code",
   "execution_count": 5,
   "id": "115b89e2-8a87-41c7-80cd-da9cb311caee",
   "metadata": {},
   "outputs": [
    {
     "name": "stdout",
     "output_type": "stream",
     "text": [
      " for 10 and 4's binary equivalents 1010 and 100\n",
      "x = 1010\n",
      "y = _100\n",
      " Bit-Wise OR = 14 because either x or y has a 1 at 3 bits of the 4 = 1110 = 14\n"
     ]
    }
   ],
   "source": [
    "bw_xor = x ^ y\n",
    "print(f\" for {x} and {y}'s binary equivalents {aa} and {bb}\")\n",
    "print(f\"x = {aa}\")\n",
    "print(f\"y = _{bb}\")\n",
    "print(f\" Bit-Wise OR = {bw_xor} because either x or y has a 1 at 3 bits of the 4 = 1110 = 14\")"
   ]
  },
  {
   "cell_type": "markdown",
   "id": "7788ae6f-ba97-4dd9-89dc-62bc46549a30",
   "metadata": {},
   "source": [
    "---\n",
    "### Bit-Wise **Right Shift** `x>>`\n",
    "- Shifts bits of the number to the right and fills in a 0 on voids left \n",
    "- Fills 1 in case of a negative number \n",
    "- Similar effect as dividing number by the power of 2 \n",
    "\n",
    "#### `>>=` -> `a >>= b` -> `a = a>>b`"
   ]
  },
  {
   "cell_type": "code",
   "execution_count": 6,
   "id": "ec4f6eb8-bea5-41b8-9477-77e7504dd2ce",
   "metadata": {},
   "outputs": [
    {
     "name": "stdout",
     "output_type": "stream",
     "text": [
      " for 10's binary equivalent 1010\n",
      "x = 1010\n",
      " Bit-Wise Right Shift = 5 and the binary equivalent = 0b101 -> shifted one to the right\n"
     ]
    }
   ],
   "source": [
    "bw_right = x>>1\n",
    "print(f\" for {x}'s binary equivalent {aa}\")\n",
    "print(f\"x = {aa}\")\n",
    "print(f\" Bit-Wise Right Shift = {bw_right} and the binary equivalent = {bin(bw_right)} -> shifted one to the right\")"
   ]
  },
  {
   "cell_type": "markdown",
   "id": "69e84078-74cd-4e8a-a2cd-6eeee99e8914",
   "metadata": {},
   "source": [
    "---\n",
    "### Bit-Wise Left Shift `x<<`\n",
    "- Shift bits of number to the left\n",
    "- Fill in 0 on voids right as a result \n",
    "- Similar effect as multiplying the number by 2 \n",
    "\n",
    "#### `<<=` -> `a <<= b` -> `a = a<<b`"
   ]
  },
  {
   "cell_type": "code",
   "execution_count": 7,
   "id": "2769bd8d-4d67-4d29-a895-462a127f440c",
   "metadata": {},
   "outputs": [
    {
     "name": "stdout",
     "output_type": "stream",
     "text": [
      " for 10's binary equivalent 1010\n",
      "x = 1010\n",
      " Bit-Wise Right Shift = 20 and the binary equivalent = 0b10100 -> shifted one to the right\n"
     ]
    }
   ],
   "source": [
    "bw_left = x<<1\n",
    "print(f\" for {x}'s binary equivalent {aa}\")\n",
    "print(f\"x = {aa}\")\n",
    "print(f\" Bit-Wise Right Shift = {bw_left} and the binary equivalent = {bin(bw_left)} -> shifted one to the right\")"
   ]
  },
  {
   "cell_type": "markdown",
   "id": "32555f2c-ebcc-401d-898a-a63e79dd6e37",
   "metadata": {},
   "source": [
    "---"
   ]
  },
  {
   "cell_type": "code",
   "execution_count": null,
   "id": "54312b97-ebbc-482a-a4f0-d6ac3c700927",
   "metadata": {},
   "outputs": [],
   "source": []
  }
 ],
 "metadata": {
  "kernelspec": {
   "display_name": "Python 3",
   "language": "python",
   "name": "python3"
  },
  "language_info": {
   "codemirror_mode": {
    "name": "ipython",
    "version": 3
   },
   "file_extension": ".py",
   "mimetype": "text/x-python",
   "name": "python",
   "nbconvert_exporter": "python",
   "pygments_lexer": "ipython3",
   "version": "3.8.8"
  }
 },
 "nbformat": 4,
 "nbformat_minor": 5
}
