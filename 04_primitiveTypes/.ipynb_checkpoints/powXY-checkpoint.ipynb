{
 "cells": [
  {
   "cell_type": "markdown",
   "id": "09448753-633a-428d-9dec-8e677079236a",
   "metadata": {},
   "source": [
    "# **4.7 Compute *pow(x,y)***\n",
    "---\n",
    "- write a program that takes a double `x` and an integer `y` and returns `xʸ`\n",
    "- ignore overflow/underflow\n",
    "- exploit mathematical properties of exponention"
   ]
  },
  {
   "cell_type": "markdown",
   "id": "4344230e-97a8-4d58-855a-6e989d4e0dab",
   "metadata": {},
   "source": [
    "---\n",
    "## Brute Force\n",
    "- assume y is nonnegative "
   ]
  },
  {
   "cell_type": "code",
   "execution_count": 36,
   "id": "26fada83-e0cb-46fd-b19c-9eebe736d969",
   "metadata": {},
   "outputs": [],
   "source": [
    "def brute_force(x: float, y: int) -> float:\n",
    "    k = x\n",
    "    i = 0\n",
    "    while i < (y-1):\n",
    "        x = x * k\n",
    "        i += 1\n",
    "    return x"
   ]
  },
  {
   "cell_type": "code",
   "execution_count": 40,
   "id": "563fd62e-c23f-4663-8c1e-8644bc3df225",
   "metadata": {},
   "outputs": [
    {
     "data": {
      "text/plain": [
       "8"
      ]
     },
     "execution_count": 40,
     "metadata": {},
     "output_type": "execute_result"
    }
   ],
   "source": [
    "brute_force(2,3)"
   ]
  },
  {
   "cell_type": "markdown",
   "id": "a4b2a374-8e76-49b4-9801-d3dedc75bc69",
   "metadata": {},
   "source": [
    "#### Time Complexity: `O(2ᴺ)`\n",
    "- takes `y-1` multiplications \n",
    "- `n` = number of bits to represent `y`\n",
    "---"
   ]
  },
  {
   "cell_type": "markdown",
   "id": "05121990-2607-4160-9096-d92b79c3bda5",
   "metadata": {},
   "source": [
    "## Get More Done with Each Multiplication\n",
    "\n",
    "#### Properties of Exponentiation \n",
    "- when `y` is a power of 2, the approach that uses fewest multiplications:\n",
    "    - x,x<sup>2</sup>,(x<sup>2</sup>)<sup>2</sup> **=** x<sup>4</sup>,(x<sup>4</sup>)<sup>2</sup> **=** ...\n",
    "- properties of exponentiation\n",
    "    - *x<sup>y<sub>0</sub>y<sub>1</sub></sup>* **=** *x<sup>y<sub>0</sub></sup>* * *x<sup>y<sub>1</sub></sup>*\n",
    "    \n",
    "#### Binary Representation of `y`\n",
    "- if the LEAST SIGNIFICANT BIT of `y` is 0\n",
    "    - result = (x<sup>y/2</sup>)<sup>2</sup>\n",
    "- Otherwise: \n",
    "    - result = x * (x<sup>y/2</sup>)<sup>2</sup>\n",
    "    \n",
    "#### `y` = negative\n",
    "- replacing `x` by `1/x` and `y` by `-y`"
   ]
  },
  {
   "cell_type": "code",
   "execution_count": 43,
   "id": "16443f2e-ece0-43b8-a098-64dbad1768a1",
   "metadata": {},
   "outputs": [],
   "source": [
    "def power(x: float, y: int) -> float:\n",
    "    result, power = 1.0, y\n",
    "    if y < 0:\n",
    "        power, x = -power, 1.0/x\n",
    "    while power:\n",
    "        if power & 1:\n",
    "            result *= x\n",
    "        x, power = x * x, power >> 1\n",
    "    return result "
   ]
  },
  {
   "cell_type": "code",
   "execution_count": 44,
   "id": "2f13367f-a915-4665-8059-951d555e4d2e",
   "metadata": {},
   "outputs": [
    {
     "data": {
      "text/plain": [
       "8.0"
      ]
     },
     "execution_count": 44,
     "metadata": {},
     "output_type": "execute_result"
    }
   ],
   "source": [
    "power(2,3)"
   ]
  },
  {
   "cell_type": "markdown",
   "id": "be6b9158-5c86-485e-8fa2-a244c766398d",
   "metadata": {},
   "source": [
    "#### Time Complexity: `O(n)`\n",
    "- number of multiplications is at most TWICE the index of `y`'s MSB\n",
    "---"
   ]
  },
  {
   "cell_type": "code",
   "execution_count": null,
   "id": "141f858f-0795-4a4f-98c7-6cc34593b85d",
   "metadata": {},
   "outputs": [],
   "source": []
  }
 ],
 "metadata": {
  "kernelspec": {
   "display_name": "Python 3",
   "language": "python",
   "name": "python3"
  },
  "language_info": {
   "codemirror_mode": {
    "name": "ipython",
    "version": 3
   },
   "file_extension": ".py",
   "mimetype": "text/x-python",
   "name": "python",
   "nbconvert_exporter": "python",
   "pygments_lexer": "ipython3",
   "version": "3.8.8"
  }
 },
 "nbformat": 4,
 "nbformat_minor": 5
}
