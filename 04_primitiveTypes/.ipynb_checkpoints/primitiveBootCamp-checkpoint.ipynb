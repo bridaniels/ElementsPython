{
 "cells": [
  {
   "cell_type": "markdown",
   "id": "af7e6846-5bd2-4138-99f8-64788c5ae053",
   "metadata": {},
   "source": [
    "# **Chapter 4: Primitive Data Types** "
   ]
  },
  {
   "cell_type": "markdown",
   "id": "912a90c3-c4de-4ef3-884f-9168dda363ab",
   "metadata": {},
   "source": [
    "---\n",
    "#### Type: classification of data that spells out possible values for that type and the operations that can be performed on it \n",
    "- Python -> large variety of built-in types -> called **objects** \n",
    "    - numerics (integers)\n",
    "    - sequences (lists)\n",
    "    - mapping (dictionary)\n",
    "    - classes\n",
    "    - instances\n",
    "    - exceptions \n",
    "---"
   ]
  },
  {
   "cell_type": "markdown",
   "id": "4f308789-cf81-4ea3-a0e4-6d6667954ecf",
   "metadata": {},
   "source": [
    "#### Binary Representation\n",
    "- Binary (base-2) represents the numeral system as 0 and 1s \n",
    "- Count the number of bits that are set to `1` in a nonnegative integer\n",
    "    - test bits one-at-a-time starting with the least-significant bit \n",
    "    - Illustrates shifting and masking "
   ]
  },
  {
   "cell_type": "code",
   "execution_count": 1,
   "id": "475c398d-5ad2-47d9-9b00-dcb32cdc47e3",
   "metadata": {},
   "outputs": [],
   "source": [
    "def count_bits(x: int) -> int:\n",
    "    num_bits = 0 \n",
    "    while x:\n",
    "        num_bits += x & 1\n",
    "        x >>= 1 \n",
    "    return num_bits "
   ]
  },
  {
   "cell_type": "code",
   "execution_count": 23,
   "id": "110dd5bd-2b34-42c5-99dc-57ebe58881ef",
   "metadata": {},
   "outputs": [
    {
     "name": "stdout",
     "output_type": "stream",
     "text": [
      "Binary Representation of 12 is 1100\n",
      "12 has 4 total bits and has 2 bits set to 1\n"
     ]
    }
   ],
   "source": [
    "x = 12\n",
    "b = bin(x)\n",
    "b = b.replace('0b','')\n",
    "n = len(b)\n",
    "print(f\"Binary Representation of {x} is {b}\")\n",
    "print(f\"{x} has {n} total bits and has {count_bits(x)} bits set to 1\")"
   ]
  },
  {
   "cell_type": "markdown",
   "id": "4250eb8e-e742-45f6-b3dd-fc7d11d0e40f",
   "metadata": {},
   "source": [
    "#####  `O(n)` time complexity \n",
    "- perform `O(1)` computation per bit \n",
    "- n = number of bits needed to represent the integer \n",
    "---"
   ]
  },
  {
   "cell_type": "markdown",
   "id": "778bb43f-95ab-4904-a063-8522df62db79",
   "metadata": {},
   "source": [
    "### Integers\n",
    "- Unbounded -> infinite precision \n",
    "- maximum integer representable is a function of the avaliable memory \n",
    "- `sys.maxsize` \n",
    "    - used to find the word size \n",
    "    - max value ineger that can be stored in the word `2**63-1` on a 64-bit machine \n",
    "\n",
    "### Floats\n",
    "- bounds specified in `sys.float_info`\n",
    "\n",
    "### [Bit-Wise Operators](bitWiseOperators.ipynb)\n",
    "- `6&4,1|2, 8>>1, -16>>2, 1<<10, ~0, 15^x`\n",
    "- negative numbers are treated as their 2's compliment value \n",
    "- no unsigned shifts in Python "
   ]
  },
  {
   "cell_type": "markdown",
   "id": "dc821fae-43e0-4c45-bee5-f6f4c377251e",
   "metadata": {},
   "source": [
    "---\n",
    "### Use Masks and create them in Machine Independent way\n",
    "\n",
    "### Fast ways to **clear the lowermost set bit**\n",
    "\n",
    "### Understand signedness and implications to shifting \n",
    "\n",
    "### Use Cache to accelerate operations by using it to brute force small inputs \n",
    "\n",
    "### Commutatively and Associately can be used to perform operations in parallel and recorder operations \n",
    "---"
   ]
  },
  {
   "cell_type": "code",
   "execution_count": null,
   "id": "20ffde12-6500-496f-854e-f17ac16d6de4",
   "metadata": {},
   "outputs": [],
   "source": []
  }
 ],
 "metadata": {
  "kernelspec": {
   "display_name": "Python 3",
   "language": "python",
   "name": "python3"
  },
  "language_info": {
   "codemirror_mode": {
    "name": "ipython",
    "version": 3
   },
   "file_extension": ".py",
   "mimetype": "text/x-python",
   "name": "python",
   "nbconvert_exporter": "python",
   "pygments_lexer": "ipython3",
   "version": "3.8.8"
  }
 },
 "nbformat": 4,
 "nbformat_minor": 5
}
