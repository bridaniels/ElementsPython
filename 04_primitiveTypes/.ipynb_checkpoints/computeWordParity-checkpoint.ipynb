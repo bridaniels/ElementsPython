{
 "cells": [
  {
   "cell_type": "markdown",
   "id": "6a63165f-1ad8-42b8-bb1c-dc011a44dc4e",
   "metadata": {},
   "source": [
    "# **4.1 Compute the Parity of a Word**\n",
    "---\n",
    "---\n",
    "- Parity of a binary word is `1` if the number of `1`'s in the word is odd\n",
    "    - otherwise, it is `0`\n",
    "    - Parity of 1011 = 1 \n",
    "    - Parity of 1001 = 0 \n",
    "- Parity Checks: used to detect single-bit errors in data storge and communication \n",
    "- ***Use a lookup table, not 2<sup>64</sup> entries***\n",
    "---"
   ]
  },
  {
   "cell_type": "markdown",
   "id": "d57865c4-17eb-46f6-a69a-996e59f6f3d2",
   "metadata": {},
   "source": [
    "### Brute-Force \n",
    "- iteratively test the value of each bit while tracking the number of `1`s seen so far\n",
    "- Only care if number of `1`s is even or odd -> store number `mod 2`"
   ]
  },
  {
   "cell_type": "code",
   "execution_count": 1,
   "id": "1471a73b-0860-4553-bf33-507922469944",
   "metadata": {},
   "outputs": [],
   "source": [
    "def bf_parity(x: int) -> int:\n",
    "    result = 0 \n",
    "    while x:\n",
    "        result ^= x&1 # result = result ^ (x & 1) \n",
    "        x >>= 1 # x = x >> 1 Dividing by power of 2 -> make sure its even 'mod 2'\n",
    "    return result "
   ]
  },
  {
   "cell_type": "code",
   "execution_count": 2,
   "id": "8f2538c6-02b2-43fd-9598-4e45194667a4",
   "metadata": {},
   "outputs": [
    {
     "name": "stdout",
     "output_type": "stream",
     "text": [
      "14 as binary = 0b1110 which parity = 1\n",
      "10 as binary = 0b1010 which parity = 0\n"
     ]
    }
   ],
   "source": [
    "x = 14\n",
    "y = 10\n",
    "\n",
    "print(f\"{x} as binary = {bin(x)} which parity = {bf_parity(x)}\")\n",
    "print(f\"{y} as binary = {bin(y)} which parity = {bf_parity(y)}\")"
   ]
  },
  {
   "cell_type": "markdown",
   "id": "b4beca48-6c0c-443a-85b6-1c2f0ead6f76",
   "metadata": {},
   "source": [
    "#### Time Complexity: `O(n)`\n",
    "- n = word size \n",
    "---"
   ]
  },
  {
   "cell_type": "markdown",
   "id": "c21a4f52-8100-4193-a8cc-5217f2825be2",
   "metadata": {},
   "source": [
    "## Erase Lowest Set Bit\n",
    "##### roughly 20% faster than brute force \n",
    "- improve performance in the best and average cases \n",
    "- **`x&(x-1)`** = **x with lowest set bit erased**\n",
    "    - x = (00101100)<sub>2</sub>\n",
    "        - then: x-1 = (00101011)<sub>2</sub>\n",
    "        - so: x&(x-1) = (00101100)<sub>2</sub> & (00101011)<sub>2</sub>\n",
    "        - equals = (00101000)<sub>2</sub>\n",
    "- **`x&~(x-1)`** **isolate the lowest bit that is `1` in `x`**"
   ]
  },
  {
   "cell_type": "code",
   "execution_count": 3,
   "id": "ae7f6ef9-6772-4c74-b6a6-a9b75333120e",
   "metadata": {},
   "outputs": [],
   "source": [
    "def erase_lowest_parity(x: int) -> int:\n",
    "    result = 0 \n",
    "    while x:\n",
    "        result ^= 1 # result = result ^ 1 -> keeps track of evensVSodds\n",
    "        x &= x - 1 # x = x&(x-1) -> erase lowest bit\n",
    "    return result "
   ]
  },
  {
   "cell_type": "code",
   "execution_count": 4,
   "id": "e9f77861-8ed7-4285-acc4-ad2923fcd58b",
   "metadata": {},
   "outputs": [
    {
     "name": "stdout",
     "output_type": "stream",
     "text": [
      "14 as binary = 0b1110 which parity = 1\n",
      "10 as binary = 0b1010 which parity = 0\n"
     ]
    }
   ],
   "source": [
    "x = 14\n",
    "y = 10\n",
    "\n",
    "print(f\"{x} as binary = {bin(x)} which parity = {erase_lowest_parity(x)}\")\n",
    "print(f\"{y} as binary = {bin(y)} which parity = {erase_lowest_parity(y)}\")"
   ]
  },
  {
   "cell_type": "markdown",
   "id": "9068b2bc-8565-4e7d-8177-4baddbbbb4ef",
   "metadata": {},
   "source": [
    "#### Time Complexity `O(k)`\n",
    "- k = number of bits set to 1 in a word \n",
    "---"
   ]
  },
  {
   "cell_type": "markdown",
   "id": "7c9dcb89-150e-4459-add3-790717b98c6c",
   "metadata": {},
   "source": [
    "## Caching: Table Based\n",
    "#### roughly four times faster than brute-force \n",
    "- cannot cache the parity of every 64-bit integer \n",
    "    - require 2<sup>64</sup> bits of storage (two exabytes)\n",
    "- Computing Parity of a collection of bits -> does not matter how we group them \n",
    "    - aka the computation is **associative **\n",
    "    - compute parity of a 64-bit integer:\n",
    "        - grouping bits into four nonoverlapping 16-bit subwords \n",
    "        - computing parity of the subwords \n",
    "        - computing parity of the four subresults \n",
    "        - Why 16? -> 2<sup>16</sup> = 65536\n",
    "            - relatively small and easier to cache the parity of all 16-bit words using an array\n",
    "            - 16 also evenly divides 64"
   ]
  },
  {
   "cell_type": "code",
   "execution_count": 5,
   "id": "7f80ec13-6f6d-4c2d-b657-6afce934e58b",
   "metadata": {},
   "outputs": [],
   "source": [
    "# Lookup Table for 2-bit words\n",
    "# a, b, c, d = [00],[01],[10],[11]\n",
    "cache1 = [0,1,1,0]\n",
    "big_word = 11101010\n",
    "# e, f, g, h = [11],[00],[10],[10]\n",
    "cache2 = [0,0,1,1]"
   ]
  },
  {
   "cell_type": "code",
   "execution_count": 6,
   "id": "c8295509-0e4d-4562-9adb-b951691b48ec",
   "metadata": {},
   "outputs": [],
   "source": [
    "def binary2Int(binary):\n",
    "    int_val, i, n = 0, 0, 0 \n",
    "    \n",
    "    while binary != 0:\n",
    "        a = binary % 10\n",
    "        int_val = int_val + a * pow(2,i)\n",
    "        binary = binary//10\n",
    "        i += 1\n",
    "    return int_val"
   ]
  },
  {
   "cell_type": "code",
   "execution_count": 7,
   "id": "1aab1070-e460-41d4-8b7f-075f15926734",
   "metadata": {},
   "outputs": [
    {
     "data": {
      "text/plain": [
       "11"
      ]
     },
     "execution_count": 7,
     "metadata": {},
     "output_type": "execute_result"
    }
   ],
   "source": [
    "# Parity of First Two Bits\n",
    "big_word = 11101010\n",
    "wordy = binary2Int(big_word)\n",
    "\n",
    "first_two = wordy >> 6\n",
    "ftb = bin(first_two)\n",
    "ft = int(ftb.replace('0b',''))\n",
    "ft"
   ]
  },
  {
   "cell_type": "code",
   "execution_count": 8,
   "id": "7d28d2f1-3f0f-48af-9db8-8acdc56b8a6a",
   "metadata": {},
   "outputs": [
    {
     "data": {
      "text/plain": [
       "1110"
      ]
     },
     "execution_count": 8,
     "metadata": {},
     "output_type": "execute_result"
    }
   ],
   "source": [
    "# Parity of Next Two Bits -> does not remove leading (11) -> indexes other\n",
    "big_word = 11101010\n",
    "wordy = binary2Int(big_word)\n",
    "\n",
    "second_two = wordy >> 4\n",
    "s2b = bin(second_two)\n",
    "s2 = int(s2b.replace('0b',''))\n",
    "s2"
   ]
  },
  {
   "cell_type": "markdown",
   "id": "9b6bc07d-a79c-421c-bb07-147e03fe5ed6",
   "metadata": {},
   "source": [
    "##### **MASK** -> used to extract the last two lines \n",
    "##### cannot index the cace with this -> leads to out-of-bounds access\n",
    "- to get the last two bits after Right Shift by 4\n",
    "    - bitwise-AND (00001110) with (00000011)"
   ]
  },
  {
   "cell_type": "code",
   "execution_count": 9,
   "id": "b3101925-0fb5-482d-98a8-0006475eb134",
   "metadata": {},
   "outputs": [
    {
     "data": {
      "text/plain": [
       "10"
      ]
     },
     "execution_count": 9,
     "metadata": {},
     "output_type": "execute_result"
    }
   ],
   "source": [
    "index_ft = ft & s2\n",
    "idx_ftb = bin(index_ft)\n",
    "idx_ft = int(idx_ftb.replace('0b',''))\n",
    "idx_ft"
   ]
  },
  {
   "cell_type": "raw",
   "id": "cf8343d7-6864-4c64-9c22-91f7e4758424",
   "metadata": {},
   "source": [
    "# Precomputed from work above\n",
    "\n",
    "def cache_parity(x: int) -> int:\n",
    "    mask_size = 64/4\n",
    "    # Hexidecimal - radix (base) of 16\n",
    "    # Bit Masking = Extract Lower Bits \n",
    "    bit_mask = 0xFFFF # 0xFFFF Hexadecimal = 65535 Decimal \n",
    "    return (PRECOMPUTED[x >> (3 * mask_size)] ^ \n",
    "            PRECOMPUTED[(x >> (2 * mask_size)) & bit_mask] ^\n",
    "            PRECOMPUTED[(x >> mask_size) & bit_mask] ^ \n",
    "            PRECOMPUTED[x & bit_mask]  )                    "
   ]
  },
  {
   "cell_type": "markdown",
   "id": "5076b0f3-cae2-465f-bbbf-c24a516a8ba4",
   "metadata": {},
   "source": [
    "### Time Complexity: `O(n/L)`\n",
    "- `n` = word size \n",
    "- `L` = width of words we cache results with \n",
    "- `n/L` terms\n",
    "- `O(1)` = time to do shifting \n",
    "- **does not include time for initialization of the lookup table**"
   ]
  },
  {
   "cell_type": "markdown",
   "id": "56811c77-d285-4fb3-bd6b-118a56021f97",
   "metadata": {},
   "source": [
    "--- \n",
    "## Exploit XOR Properties \n",
    "#### roghly 6 times faster than brute force \n",
    "- XOR is **associative** (does not matter how we grou bits)\n",
    "- XOR is **commutative** (order in which we perform XORs does not change the result )\n",
    "- parity of [b<sub>63</sub>, b<sub>62</sub>,...,b<sub>2</sub>, b<sub>1</sub>, b<sub>0</sub>]  **=**  parity of [b<sub>63</sub>,...,b<sub>32</sub>] and [b<sub>31</sub>,..., b<sub>0</sub>]\n",
    "    - XOR of the two 32-bit values can be computed iwth a single shift and single 32-bit XOR instruction \n",
    "- leading bits are not meaningful -> want the least significant "
   ]
  },
  {
   "cell_type": "code",
   "execution_count": 10,
   "id": "ef0510d9-4d16-49be-bfb5-528e8bfa5e14",
   "metadata": {},
   "outputs": [],
   "source": [
    "def parity(x: int) -> int:\n",
    "    i = 64//2\n",
    "    while i >= 1: \n",
    "        x ^= x >> i\n",
    "        i = i//2\n",
    "    return x & 0x1"
   ]
  },
  {
   "cell_type": "code",
   "execution_count": 11,
   "id": "6ea1c2e6-8a1b-44b0-b11c-f72ea5664b57",
   "metadata": {},
   "outputs": [
    {
     "name": "stdout",
     "output_type": "stream",
     "text": [
      "1\n",
      "0\n"
     ]
    }
   ],
   "source": [
    "big_word1 = 11101010\n",
    "wordy1 = binary2Int(big_word1)\n",
    "big_word0 = 111010101\n",
    "wordy0 = binary2Int(big_word0)\n",
    "\n",
    "print(parity(wordy1))\n",
    "print(parity(wordy0))"
   ]
  },
  {
   "cell_type": "code",
   "execution_count": 12,
   "id": "b5fc9f5e-991d-4cb4-8832-6eecc8b6e153",
   "metadata": {},
   "outputs": [],
   "source": [
    "def parity_book(x: int) -> int:\n",
    "    x ^= x >> 32\n",
    "    x ^= x >> 16\n",
    "    x ^= x >> 8\n",
    "    x ^= x >> 4\n",
    "    x ^= x >> 2\n",
    "    x ^= x >> 1\n",
    "    return x & 0x1"
   ]
  },
  {
   "cell_type": "code",
   "execution_count": 13,
   "id": "19121270-20ef-4c4f-abd0-05fc9effea3e",
   "metadata": {},
   "outputs": [
    {
     "name": "stdout",
     "output_type": "stream",
     "text": [
      "1\n",
      "0\n"
     ]
    }
   ],
   "source": [
    "big_word1 = 11101010\n",
    "wordy1 = binary2Int(big_word1)\n",
    "big_word0 = 111010101\n",
    "wordy0 = binary2Int(big_word0)\n",
    "\n",
    "print(parity_book(wordy1))\n",
    "print(parity_book(wordy0))"
   ]
  },
  {
   "cell_type": "markdown",
   "id": "6ff3d414-3773-446b-9a43-b5c3d6396b0d",
   "metadata": {},
   "source": [
    "### Time Complexity: `O(log n)`\n",
    "- n = word size "
   ]
  },
  {
   "cell_type": "markdown",
   "id": "a31a1933-ca60-4deb-a140-0171de20e937",
   "metadata": {},
   "source": [
    "---\n",
    "## Variant \n",
    "- do another day "
   ]
  },
  {
   "cell_type": "code",
   "execution_count": null,
   "id": "6862cdf0-9d36-4712-bb2e-19d13cbc8b93",
   "metadata": {},
   "outputs": [],
   "source": []
  }
 ],
 "metadata": {
  "kernelspec": {
   "display_name": "Python 3",
   "language": "python",
   "name": "python3"
  },
  "language_info": {
   "codemirror_mode": {
    "name": "ipython",
    "version": 3
   },
   "file_extension": ".py",
   "mimetype": "text/x-python",
   "name": "python",
   "nbconvert_exporter": "python",
   "pygments_lexer": "ipython3",
   "version": "3.8.8"
  }
 },
 "nbformat": 4,
 "nbformat_minor": 5
}
