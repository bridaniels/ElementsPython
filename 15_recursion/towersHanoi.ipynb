{
 "cells": [
  {
   "cell_type": "markdown",
   "id": "9e6fbd7b-9b74-4c32-9c92-f2c4ab4f7ae3",
   "metadata": {},
   "source": [
    "# **15.1 The Towers of Hanoi Problem**\n",
    "---\n",
    "- transfer rings to another peg \n",
    "- NEVER place a larger ring above a smaller ring \n",
    "- operations coded as pairs (fromPeg, toPeg)\n",
    "    - if `n` = 2: `[[0,2],[0,1],[2,1]]`\n",
    "        - ring at top of peg ZERO to peg TWO \n",
    "        - ring at top of peg ZERO to peg ONE\n",
    "        - ring at top of peg TWO to peg ONE\n",
    "- 3 PEGS:\n",
    "    - PEG ZERO:\n",
    "        - Peg contains rings in sorted order -> largest ring the lowest  \n",
    "    - PEG ONE:\n",
    "        - initially empty\n",
    "        - second step: `[0,1]`\n",
    "        - third step: `[2,1]`\n",
    "    - PEG TWO: \n",
    "        - initially empty \n",
    "        - first step: `[0,2]`\n",
    "        - third step: `[2,1]`\n",
    "        \n",
    "        \n",
    "#### Know how to transer top `n-1` rings... how does one move the `nth` ring? \n",
    "- "
   ]
  },
  {
   "cell_type": "markdown",
   "id": "f8cf5568-6734-4c46-86b7-ba8b41a68656",
   "metadata": {},
   "source": [
    "---\n",
    "### Problem Solving \n",
    "- Three Ring Transfer:\n",
    "    - move top two rings to peg 2\n",
    "    - move lowest ring to peg 1 \n",
    "    - transer two rings from peg 2 to peg 1 (peg 0 intermediary)\n",
    "- Four Ring Transer:\n",
    "    - move top three rings to peg 2\n",
    "    - move lowest ring to peg 1 \n",
    "    - transer three rings from peg 2 to peg 1 (peg 0 intermediary) \n",
    "- First and Third steps are instances of the same problem --> **RECURSION**"
   ]
  },
  {
   "cell_type": "code",
   "execution_count": 1,
   "id": "73e2d141-eba4-46d1-8192-b727a606456b",
   "metadata": {},
   "outputs": [],
   "source": [
    "from typing import List"
   ]
  },
  {
   "cell_type": "code",
   "execution_count": 2,
   "id": "34381a34-caf2-45d0-bd73-b2bbea57a3a4",
   "metadata": {},
   "outputs": [],
   "source": [
    "n = 3\n",
    "num_pegs = n\n",
    "\n",
    "def tower_hanoi(rings: int) -> List[List[int]]:\n",
    "    \n",
    "    # RECURSION FUNCTION \n",
    "    def steps(moving_rings, from_peg, to_peg, use_peg):\n",
    "        \n",
    "        if moving_rings > 0:\n",
    "            # RECURSION -> only move top n - 1\n",
    "            steps(moving_rings-1, from_peg, use_peg, to_peg) \n",
    "            # 3 pegs = 3 sublists\n",
    "            # 4 pegs = 4 sublists\n",
    "            pegs[to_peg].append(pegs[from_peg].pop())\n",
    "            # append peg combo to the result list \n",
    "            result.append([from_peg, to_peg])\n",
    "            # RECURSION -> keep only moivng top n - 1\n",
    "            steps(moving_rings-1, use_peg, to_peg, from_peg)\n",
    "    \n",
    "    \n",
    "    \n",
    "    # Initialize Pegs \n",
    "    result: List[List[int]] = []\n",
    "    # list of pegs from largest to smallest \n",
    "    pegs = [list(reversed(range(1, rings+1)))] + [[] for _ in range(1,num_pegs)]\n",
    "    # RECURSION\n",
    "    steps(rings, 0, 1, 2)\n",
    "    \n",
    "    print(f\"pegs: {pegs}\")\n",
    "    print(f\"result: {result}\")"
   ]
  },
  {
   "cell_type": "code",
   "execution_count": 3,
   "id": "5cdf64e3-4878-4970-aa25-4c7459b08e38",
   "metadata": {},
   "outputs": [
    {
     "name": "stdout",
     "output_type": "stream",
     "text": [
      "pegs: [[], [3, 2, 1], []]\n",
      "result: [[0, 1], [0, 2], [1, 2], [0, 1], [2, 0], [2, 1], [0, 1]]\n"
     ]
    }
   ],
   "source": [
    "tower_hanoi(n)"
   ]
  },
  {
   "cell_type": "code",
   "execution_count": 4,
   "id": "388cf591-9ece-43f1-a682-8b11a8c5c6cf",
   "metadata": {},
   "outputs": [
    {
     "name": "stdout",
     "output_type": "stream",
     "text": [
      "Move disk 1 from source 0 to destination 1\n",
      "Move disk 2 from source 0 to destination 2\n",
      "Move disk 1 from source 1 to destination 2\n",
      "Move disk 3 from source 0 to destination 1\n",
      "Move disk 1 from source 2 to destination 0\n",
      "Move disk 2 from source 2 to destination 1\n",
      "Move disk 1 from source 0 to destination 1\n"
     ]
    }
   ],
   "source": [
    "def shorterRecursive(n: int, source: int, destination: int, intermediary: int) -> None:\n",
    "    if n == 1:\n",
    "        print(\"Move disk 1 from source\",source,\"to destination\",destination)\n",
    "        return\n",
    "    shorterRecursive(n-1, source, intermediary, destination)\n",
    "    print(\"Move disk\", n ,\"from source\", source ,\"to destination\", destination)\n",
    "    shorterRecursive(n-1, intermediary, destination, source)\n",
    "    \n",
    "shorterRecursive(n, 0,1,2)"
   ]
  },
  {
   "cell_type": "markdown",
   "id": "37ad486d-3b22-4a56-922b-78a46693d14a",
   "metadata": {},
   "source": [
    "#### Time Complexity: `O(2ᴺ)`\n",
    "- `n` = number of rings\n",
    "- number of moves `T(n)`\n",
    "    - printing a single move takes `O(1)` time\n",
    "    - recurrence: `T(n) = T(n-1) + 1 + T(n-1)`\n",
    "        - or `T(n) = 1 + 2T(n-1)`\n",
    "        - first `T(n-1)` = transfer of top `n-1` rings from peg0 -> peg2\n",
    "        - second `T(n-1)` = transfer of pegs from peg2 -> peg1\n",
    "        - `1` = moving the largest ring from peg0 -> peg1\n",
    "    - solves to `T(n) = 2ᴺ - 1`\n",
    "        - unwrapped recurrent as `T(n) = 1 + 2 + 4 + .... + 2ᴷT(n-k)`\n"
   ]
  },
  {
   "cell_type": "markdown",
   "id": "0f63ffad-0269-468a-9377-602414559b70",
   "metadata": {},
   "source": [
    "---\n",
    "## Variant 1: \n",
    "### Solve Without using Recursion"
   ]
  },
  {
   "cell_type": "code",
   "execution_count": 5,
   "id": "ab2431b5-9c36-4077-a7e3-d88860689915",
   "metadata": {},
   "outputs": [],
   "source": [
    "import sys\n",
    "\n",
    "def print_tower(pegs, nrings):\n",
    "    npegs = len(pegs)\n",
    "    for y in range(0, nrings):\n",
    "        h = nrings - y\n",
    "        for x in range(0, npegs):\n",
    "            if len(pegs[x]) >= h:\n",
    "                sys.stdout.write(str(pegs[x][len(pegs[x]) - h]) + \" \")\n",
    "            else:\n",
    "                sys.stdout.write(\"| \")\n",
    "        print(\"\")\n",
    "    print(\"-----\")\n",
    "    \n",
    "    \n",
    "def solve_t(nrings,npegs):\n",
    "    pegs = []\n",
    "    # create empty list for the pegs\n",
    "    for peg in range(0,npegs): \n",
    "        pegs.append([])\n",
    "    # push rings on\n",
    "    for i in range(0,nrings):\n",
    "        pegs[0].append(i + 1)\n",
    "        \n",
    "    # 1+ nrings%2 -> keeps it from being 0 with even `n`\n",
    "    # odd `n` ->> will do this for loop twice \n",
    "    for tries in range(0, 1+nrings%2):\n",
    "        print_tower(pegs, nrings)\n",
    "        move_peg_one_right = True\n",
    "        \n",
    "        # how many moves involved with each group of rings \n",
    "        for moves in range(0, (1<<nrings)-1):\n",
    "            \n",
    "            # move `1` value\n",
    "            if move_peg_one_right:\n",
    "                for peg in range(0, npegs):\n",
    "                    if len(pegs[peg]):\n",
    "                        # move `1` value to the peg to the right \n",
    "                        if pegs[peg][0] == 1:\n",
    "                            next_peg = (peg+1) % npegs\n",
    "                            pegs[next_peg].insert(0, pegs[peg].pop(0))\n",
    "                            print(\"Moving value 1 from peg {} to peg {}\\n\".format(peg+1, next_peg+1))\n",
    "                            break\n",
    "            # make any other move besides `1`\n",
    "            else:\n",
    "                moved_a_ring = False \n",
    "                for peg in range(0, npegs):\n",
    "                    # look for ring on a peg to move \n",
    "                    if len(pegs[peg]):\n",
    "                        value = pegs[peg][0]\n",
    "                        # do not move `1` ring \n",
    "                        if value != 1:\n",
    "                            for n in range(0, npegs):\n",
    "                                # next peg is the peg to the right \n",
    "                                # reach the last peg? move to the first \n",
    "                                next_peg = (peg + n) % npegs\n",
    "                                # Don't move to the same peg \n",
    "                                if next_peg == peg:\n",
    "                                    continue \n",
    "                                # is the destination empty? move tere \n",
    "                                if not len(pegs[next_peg]):\n",
    "                                    pegs[peg].pop(0)\n",
    "                                    pegs[next_peg].insert(0, value)\n",
    "                                    moved_a_ring = True\n",
    "                                    print(\"Moving value {} from peg {} to empty peg {}\\n\".format(value, peg+1, next_peg+1))\n",
    "                                    break\n",
    "                                # move to destination with a lower value \n",
    "                                elif value < pegs[next_peg][0]:\n",
    "                                    pegs[peg].pop(0)\n",
    "                                    pegs[next_peg].insert(0, value)\n",
    "                                    moved_a_ring = True\n",
    "                                    print(\"Moving < value {} from peg {} to peg {} destination {}\\n\".format(value, peg+1, next_peg+1, pegs[next_peg][0]))\n",
    "                                    break\n",
    "                    if moved_a_ring:\n",
    "                        break\n",
    "                if not moved_a_ring:\n",
    "                    print(\"Error, failed to move\")\n",
    "                    sys.exit(1)\n",
    "            print_tower(pegs,nrings)\n",
    "            move_peg_one_right = not move_peg_one_right\n",
    "        print(\"Finished Pass\\n\")  "
   ]
  },
  {
   "cell_type": "code",
   "execution_count": 6,
   "id": "4b4f8977-bf20-4584-9b47-22c82477a002",
   "metadata": {},
   "outputs": [
    {
     "name": "stdout",
     "output_type": "stream",
     "text": [
      "1 | | \n",
      "2 | | \n",
      "3 | | \n",
      "-----\n",
      "Moving value 1 from peg 1 to peg 2\n",
      "\n",
      "| | | \n",
      "2 | | \n",
      "3 1 | \n",
      "-----\n",
      "Moving value 2 from peg 1 to empty peg 3\n",
      "\n",
      "| | | \n",
      "| | | \n",
      "3 1 2 \n",
      "-----\n",
      "Moving value 1 from peg 2 to peg 3\n",
      "\n",
      "| | | \n",
      "| | 1 \n",
      "3 | 2 \n",
      "-----\n",
      "Moving value 3 from peg 1 to empty peg 2\n",
      "\n",
      "| | | \n",
      "| | 1 \n",
      "| 3 2 \n",
      "-----\n",
      "Moving value 1 from peg 3 to peg 1\n",
      "\n",
      "| | | \n",
      "| | | \n",
      "1 3 2 \n",
      "-----\n",
      "Moving < value 2 from peg 3 to peg 2 destination 2\n",
      "\n",
      "| | | \n",
      "| 2 | \n",
      "1 3 | \n",
      "-----\n",
      "Moving value 1 from peg 1 to peg 2\n",
      "\n",
      "| 1 | \n",
      "| 2 | \n",
      "| 3 | \n",
      "-----\n",
      "Finished Pass\n",
      "\n",
      "| 1 | \n",
      "| 2 | \n",
      "| 3 | \n",
      "-----\n",
      "Moving value 1 from peg 2 to peg 3\n",
      "\n",
      "| | | \n",
      "| 2 | \n",
      "| 3 1 \n",
      "-----\n",
      "Moving value 2 from peg 2 to empty peg 1\n",
      "\n",
      "| | | \n",
      "| | | \n",
      "2 3 1 \n",
      "-----\n",
      "Moving value 1 from peg 3 to peg 1\n",
      "\n",
      "| | | \n",
      "1 | | \n",
      "2 3 | \n",
      "-----\n",
      "Moving value 3 from peg 2 to empty peg 3\n",
      "\n",
      "| | | \n",
      "1 | | \n",
      "2 | 3 \n",
      "-----\n",
      "Moving value 1 from peg 1 to peg 2\n",
      "\n",
      "| | | \n",
      "| | | \n",
      "2 1 3 \n",
      "-----\n",
      "Moving < value 2 from peg 1 to peg 3 destination 2\n",
      "\n",
      "| | | \n",
      "| | 2 \n",
      "| 1 3 \n",
      "-----\n",
      "Moving value 1 from peg 2 to peg 3\n",
      "\n",
      "| | 1 \n",
      "| | 2 \n",
      "| | 3 \n",
      "-----\n",
      "Finished Pass\n",
      "\n"
     ]
    }
   ],
   "source": [
    "nrings = 3\n",
    "npegs = 3\n",
    "solve_t(nrings,npegs)"
   ]
  },
  {
   "cell_type": "markdown",
   "id": "d6ee1d8d-56c3-4131-8eb0-f61b63621d19",
   "metadata": {},
   "source": [
    "---\n",
    "## Variant:\n",
    "### Find the Minimum Number of Operations Subject to the Constraint that Each Operation Must Involve `P3`"
   ]
  },
  {
   "cell_type": "code",
   "execution_count": null,
   "id": "754da90b-e6bf-4fae-8257-1e352145aa02",
   "metadata": {},
   "outputs": [],
   "source": []
  },
  {
   "cell_type": "code",
   "execution_count": null,
   "id": "396d5b9e-ac46-4bd8-9830-30add73bbeb0",
   "metadata": {},
   "outputs": [],
   "source": []
  },
  {
   "cell_type": "code",
   "execution_count": null,
   "id": "dab764ff-84fc-49fe-8ddb-b8c35ab8f18b",
   "metadata": {},
   "outputs": [],
   "source": []
  },
  {
   "cell_type": "markdown",
   "id": "41a8e673-081e-4138-94c8-2d9dc0eeb118",
   "metadata": {},
   "source": [
    "---\n",
    "## Variant:\n",
    "### Find the Minimum Number of Operations Subject to the Constraint that Each Transfer Must Be From `(P1 to P2)`, `(P2 to P3)`, `(P3 to P1)`"
   ]
  },
  {
   "cell_type": "code",
   "execution_count": null,
   "id": "d285e9e4-0f6d-4f6e-beda-4ceb772888b8",
   "metadata": {},
   "outputs": [],
   "source": []
  },
  {
   "cell_type": "code",
   "execution_count": null,
   "id": "d388920d-d6f3-4927-b726-b53f9199ebb0",
   "metadata": {},
   "outputs": [],
   "source": []
  },
  {
   "cell_type": "code",
   "execution_count": null,
   "id": "53ba59f2-c523-4e34-a500-0628c5b1615e",
   "metadata": {},
   "outputs": [],
   "source": []
  },
  {
   "cell_type": "markdown",
   "id": "b89becb0-0010-45e9-8668-3f12d49e9771",
   "metadata": {},
   "source": [
    "---\n",
    "## Variant:\n",
    "### Find the Minimum Number of Operations Subject to the Constraint that a Ring Can Never Be Transferred Directly from `P1` to `P2` (`P2` to `P1` is okay)"
   ]
  },
  {
   "cell_type": "code",
   "execution_count": null,
   "id": "b2c933f1-76c5-4169-bfd9-4854e9ddd974",
   "metadata": {},
   "outputs": [],
   "source": []
  },
  {
   "cell_type": "code",
   "execution_count": null,
   "id": "9fdcd2c4-cc8e-48bf-92fb-4d7b4b3779f3",
   "metadata": {},
   "outputs": [],
   "source": []
  },
  {
   "cell_type": "code",
   "execution_count": null,
   "id": "daae7eeb-caf0-4469-9261-80512f85d5ae",
   "metadata": {},
   "outputs": [],
   "source": []
  }
 ],
 "metadata": {
  "kernelspec": {
   "display_name": "Python 3",
   "language": "python",
   "name": "python3"
  },
  "language_info": {
   "codemirror_mode": {
    "name": "ipython",
    "version": 3
   },
   "file_extension": ".py",
   "mimetype": "text/x-python",
   "name": "python",
   "nbconvert_exporter": "python",
   "pygments_lexer": "ipython3",
   "version": "3.8.8"
  }
 },
 "nbformat": 4,
 "nbformat_minor": 5
}
