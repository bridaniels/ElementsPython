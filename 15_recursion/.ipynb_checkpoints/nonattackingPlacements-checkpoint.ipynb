{
 "cells": [
  {
   "cell_type": "markdown",
   "id": "5b912539-e7d4-4091-b92e-4633ed268100",
   "metadata": {},
   "source": [
    "# **Generate All Non-Attacking Placements of *n-Queens***\n",
    "---\n",
    "- Non-Attacking Placement of Queens:\n",
    "    - no two queens are in the same row, column, or diagonal \n",
    "- return all distinct non-attacking placement of `n` queens on an `n x n` chessboard \n",
    "    - `n` is an input to the program \n",
    "- never place two queens on the same row\n",
    "- Enumerate placements that use distinct rows\n",
    "    - no conflict on rows, but may have conflicts on columns, diagonals \n",
    "    - represented by an array of length `n`\n",
    "        - `ith` entry is the location of the queen on row `i` "
   ]
  },
  {
   "cell_type": "markdown",
   "id": "0bbc7be4-037b-486b-9b0f-106d76ff7ac4",
   "metadata": {},
   "source": [
    "---\n",
    "### n = 4"
   ]
  },
  {
   "cell_type": "code",
   "execution_count": 1,
   "id": "21ca6021-fa10-4fd1-b1a9-0ed3ebd6eb92",
   "metadata": {},
   "outputs": [],
   "source": [
    "# first row's queen at column 0 \n",
    "one = (0,_,_,_)\n",
    "# second row's queen at column 0 \n",
    "# COLUMN CONFLICT: skip placements \n",
    "two = (0,0,_,_)\n",
    "# second row's queen at column 1\n",
    "# DIAGONAL CONFLICT: skip placements\n",
    "twob = (0,1,_,_)\n",
    "# second row's queen at column 2\n",
    "twoFINAL = (0,2,_,_)\n",
    "# third row's queen at column 3\n",
    "# COLUMN CONFLICTS: skip placements\n",
    "three = (0,2,0,_)\n",
    "# third row's queen at column 1/2/3\n",
    "# DIAGONAL CONFLICTS: skip placements\n",
    "threeb = (0,2,1,_) and (0,2,2,_) and (0,2,3,_)\n",
    "\n",
    "# ADVANCE SECOND QUEEN\n",
    "two = (0,3,_,_)\n",
    "# keep going until all gucci \n",
    "finals = (1,3,0,2) and (2,0,3,1)"
   ]
  },
  {
   "cell_type": "code",
   "execution_count": 2,
   "id": "d8f69a2d-fa28-4980-96ef-e04c1194a3eb",
   "metadata": {},
   "outputs": [],
   "source": [
    "from typing import List"
   ]
  },
  {
   "cell_type": "code",
   "execution_count": 3,
   "id": "e75ea083-cf94-4a22-8a7f-902582d9ae17",
   "metadata": {},
   "outputs": [],
   "source": [
    "def queens(n: int) -> List[List[int]]:\n",
    "    \n",
    "    def solve_n_queens(row):\n",
    "        \n",
    "        # all queens legally placed \n",
    "        if row == n:\n",
    "            result.append(col_placement.copy())\n",
    "            return \n",
    "        else: # check new queen for issues \n",
    "            for col in range(n):\n",
    "                if all(abs(c - col) not in (0, row-i) \n",
    "                       for i,c in enumerate(col_placement[:row])):\n",
    "                    col_placement[row] = col\n",
    "                \n",
    "            solve_n_queens(row+1)\n",
    "    \n",
    "    \n",
    "    result: List[List[int]] = []\n",
    "    col_placement = [0] * n \n",
    "    # RECURSIVE FUNCTION call\n",
    "    solve_n_queens(0)\n",
    "    return result "
   ]
  },
  {
   "cell_type": "code",
   "execution_count": 4,
   "id": "27b7f3e9-d44e-4dad-a0b8-cc321db153ea",
   "metadata": {},
   "outputs": [
    {
     "data": {
      "text/plain": [
       "[[3, 1, 0, 2]]"
      ]
     },
     "execution_count": 4,
     "metadata": {},
     "output_type": "execute_result"
    }
   ],
   "source": [
    "queens(4)"
   ]
  },
  {
   "cell_type": "markdown",
   "id": "d3c68084-f66f-4fae-bcdb-10b2d893fb51",
   "metadata": {},
   "source": [
    "#### Time Complexity: at least number of non-attacking placements\n",
    "- number of placements goes up rapidly with `n`\n",
    "- no solid function to represent this "
   ]
  },
  {
   "cell_type": "markdown",
   "id": "28bf1854-40ed-4d74-a11c-71c37ad4b991",
   "metadata": {},
   "source": [
    "---\n",
    "## Variant:\n",
    "### Compute the Number of Non-Attacking Placements of `n` Queens on an `n x n` Chessboard"
   ]
  },
  {
   "cell_type": "code",
   "execution_count": 5,
   "id": "ce72e3a6-67ca-4cd6-a212-5116cf1c360f",
   "metadata": {},
   "outputs": [],
   "source": [
    "result = []\n",
    "n = 4\n",
    "\n",
    "def isSafe(board,row,col,n):\n",
    "    \n",
    "    # check row on left side \n",
    "    for i in range(col):\n",
    "        if board[row][i]:\n",
    "            return False\n",
    "    # check upper diagonal on left\n",
    "    i = row\n",
    "    j = col\n",
    "    while i >= 0 and j >= 0:\n",
    "        if board[i][j]:\n",
    "            return False\n",
    "        i -= 1\n",
    "        j -= 1\n",
    "    # check lower diagonal on left side\n",
    "    i = row\n",
    "    j = col\n",
    "    while j >= 0 and i < n:\n",
    "        if board[i][j]:\n",
    "            return False\n",
    "        i += 1\n",
    "        j -= 1\n",
    "           \n",
    "    return True \n",
    "\n",
    "\n",
    "def solveQueens(board,col,n):\n",
    "    \n",
    "    # BASE CASE: all queens placed \n",
    "    if col == n:\n",
    "        v = []\n",
    "        for i in board:\n",
    "            for j in range(len(i)):\n",
    "                if i[j] == 1:\n",
    "                    v.append(j+1)\n",
    "        result.append(v)\n",
    "        return True \n",
    "    # try placing queens in all rows one by one \n",
    "    res = False\n",
    "    for i in range(n):\n",
    "        # check placement \n",
    "        if isSafe(board,i,col,n):\n",
    "            # place queen on board \n",
    "            board[i][col] = 1\n",
    "            # make result true if any placement is possible \n",
    "            res = solveQueens(board, col+1, n) or res\n",
    "            # doesn't lead to solution... remove queen and backtrack\n",
    "            board[i][col] = 0 \n",
    "    return res \n",
    "\n",
    "\n",
    "def solveNQ(n):\n",
    "    result.clear()\n",
    "    board = [[0 for j in range(n)] for i in range(n)]\n",
    "    solveQueens(board,0,n)\n",
    "    result.sort()\n",
    "    return result\n",
    "    "
   ]
  },
  {
   "cell_type": "code",
   "execution_count": 6,
   "id": "5e9d72a1-e879-4f6f-a50a-429111ee3453",
   "metadata": {},
   "outputs": [
    {
     "name": "stdout",
     "output_type": "stream",
     "text": [
      "[[2, 4, 1, 3], [3, 1, 4, 2]]\n",
      "2\n"
     ]
    }
   ],
   "source": [
    "n = 4\n",
    "res = solveNQ(n)\n",
    "print(res)\n",
    "print(len(res))"
   ]
  },
  {
   "cell_type": "markdown",
   "id": "ee903443-8ab8-40c1-8979-4670d942d083",
   "metadata": {},
   "source": [
    "---\n",
    "## Variant\n",
    "#### Compute the Smallest Number of Queens that can Be Placed to Attack each Uncovered Square"
   ]
  },
  {
   "cell_type": "code",
   "execution_count": null,
   "id": "ce6956c9-e7da-4ccb-8f06-bc8384ca9e97",
   "metadata": {},
   "outputs": [],
   "source": []
  },
  {
   "cell_type": "code",
   "execution_count": null,
   "id": "bf45d726-7438-4e7d-83f8-a0d180918051",
   "metadata": {},
   "outputs": [],
   "source": []
  },
  {
   "cell_type": "code",
   "execution_count": null,
   "id": "79836f7c-c196-4d02-b625-9f57ac448669",
   "metadata": {},
   "outputs": [],
   "source": []
  },
  {
   "cell_type": "markdown",
   "id": "0ad68be6-47ae-42bb-8a12-13729ce95b4f",
   "metadata": {},
   "source": [
    "---\n",
    "## Variant\n",
    "### Compute a placement of 32 knights, or 14 bishops, 16 kings, or 8 rooks on an 8x8 chessboard in which no two pieces attack each other "
   ]
  },
  {
   "cell_type": "code",
   "execution_count": null,
   "id": "b1feb5f0-1b85-402e-965b-8047857f857f",
   "metadata": {},
   "outputs": [],
   "source": []
  },
  {
   "cell_type": "code",
   "execution_count": null,
   "id": "0be95595-8372-481a-9353-c823813aa519",
   "metadata": {},
   "outputs": [],
   "source": []
  },
  {
   "cell_type": "code",
   "execution_count": null,
   "id": "cabdf98c-166c-460b-9f9c-83a5edf12255",
   "metadata": {},
   "outputs": [],
   "source": []
  },
  {
   "cell_type": "code",
   "execution_count": null,
   "id": "72d44c26-049a-404d-b57c-fc8cbfee59b9",
   "metadata": {},
   "outputs": [],
   "source": []
  }
 ],
 "metadata": {
  "kernelspec": {
   "display_name": "Python 3",
   "language": "python",
   "name": "python3"
  },
  "language_info": {
   "codemirror_mode": {
    "name": "ipython",
    "version": 3
   },
   "file_extension": ".py",
   "mimetype": "text/x-python",
   "name": "python",
   "nbconvert_exporter": "python",
   "pygments_lexer": "ipython3",
   "version": "3.8.8"
  }
 },
 "nbformat": 4,
 "nbformat_minor": 5
}
