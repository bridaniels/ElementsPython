{
 "cells": [
  {
   "cell_type": "markdown",
   "id": "09210632-e80e-41d1-9990-b5290c98bd15",
   "metadata": {},
   "source": [
    "# **Chapter 15 Recursion Boot Camp**\n",
    "---\n",
    "- approach to problem solving where solution dependent on smaller instances of the problem \n",
    "- Recursive Rules:\n",
    "    - continually taking a previous number and changing it to get the next number \n",
    "    - defines terms of a sequence using previous terms \n",
    "- decomposing a problem into set of smaller problems \n",
    "- Recursive Function:\n",
    "    - base cases - solved directly \n",
    "    - calls to the same function with different arguments \n",
    "    - recursion converges to the solution \n",
    "- Divide-and-Conquer Algorithm: \n",
    "    - not synonymous with recrusion \n",
    "        - sometimes to improve runtime will be implemented iteratively \n",
    "    - repeatedly decomposes a problem into smaller units \n",
    "        - same type as original problem \n",
    "    - continues to decompose until instances are small enough to be solved directly \n",
    "    - solutions to subproblems combined to giver a solution to the original problem \n",
    "    - Merge Sort & Quick Sort \n",
    "- Use as alternative to deeply nested iteration loops \n",
    "    - better when undefined number of levels \n",
    "- if removing recursion: consider mimicking a call stack \n",
    "    - can easily be removed from a *tal-recursive* program by using a *while-loop*\n",
    "        - no stack needed \n",
    "- Called with the same arguments more than once? Cache results \n",
    "    - idea behind dynamic programming "
   ]
  },
  {
   "cell_type": "markdown",
   "id": "90861f69-c8dd-429b-8cc8-1abd76a9abf5",
   "metadata": {},
   "source": [
    "---\n",
    "### Euclidean Algorithm \n",
    "- calculating greatest common divisor (GCD) of two numbers \n",
    "- if `y > x` \n",
    "    - the GCD of `x` and `y` \n",
    "        - is the GCD of `x` and `y - x`\n",
    "        - is the GDC of `(x,y) mod x`"
   ]
  },
  {
   "cell_type": "code",
   "execution_count": 1,
   "id": "fbd6b688-1fc0-44b6-b6a9-6cd79167a019",
   "metadata": {},
   "outputs": [],
   "source": [
    "y = 156\n",
    "x = 36\n",
    "\n",
    "def gcd(x,y):\n",
    "    if y > x:\n",
    "        print(y-x, x)\n",
    "        print(y % x, x)\n",
    "        print(y % x, x % x)\n",
    "        print(y%x + x%x)\n",
    "        \n",
    "# Recursive Way \n",
    "def gcdE(x: int, y: int) -> int:\n",
    "    # whenever `y` becomes `0` -> you've reached the greatest common denominator \n",
    "    return x if y == 0 else gcdE(y, y%x)"
   ]
  },
  {
   "cell_type": "code",
   "execution_count": 2,
   "id": "6279e6b9-a04f-4866-b69f-416c0e4ac442",
   "metadata": {},
   "outputs": [
    {
     "name": "stdout",
     "output_type": "stream",
     "text": [
      "120 36\n",
      "12 36\n",
      "12 0\n",
      "12\n"
     ]
    },
    {
     "data": {
      "text/plain": [
       "12"
      ]
     },
     "execution_count": 2,
     "metadata": {},
     "output_type": "execute_result"
    }
   ],
   "source": [
    "gcd(x,y)\n",
    "gcdE(x,y)"
   ]
  },
  {
   "cell_type": "markdown",
   "id": "5baf7bbf-6632-412e-88d6-35f75a3eb33a",
   "metadata": {},
   "source": [
    "#### Time Complexity: `O(n)`\n",
    "- with each recursive step, either 'x' or `y` is at least halved\n",
    "    - technically `O(log max(x,y))`\n",
    "- `n` = number of bits needed to represent the inputs \n",
    "\n",
    "#### Space Complexity: `O(n)`\n",
    "- maximum depth of function call stack \n",
    "- replace recursion with a loop to reduce down to `O(1)`"
   ]
  },
  {
   "cell_type": "markdown",
   "id": "22ca3918-9f77-4526-bc40-5b02294b9fdd",
   "metadata": {},
   "source": [
    "---\n",
    "## Recursive Divide-and-Conquer Algorithm\n",
    "- triomino: formed by joining three unit-sized squares in an L-shape\n",
    "    - a mutilated chessboard (*8x8 Mboard*) has 64 unit-sized square arranged in an *8x8* square \n",
    "        - minus the top left square\n",
    "- comute a placement of 21 triminoes to cover an 8x8 Mboard \n",
    "    - *8x8 Mboard* has 63 squares -> 21 triominoes \n",
    "    - valid placements cannot overlap \n",
    "- **Divide-and Conquer**\n",
    "    - instead of *8x8* -> consider *nxn*\n",
    "    - *2x2* can be covered with one triomino \n",
    "    - BAD: triomino placement for a *nxn* with top left square missing can be used to compute placement for a `n+1) * (n+1)` Mboard\n",
    "        - doesn't get you anywhere\n",
    "    - GOOD: if placement for an *nxn* Mboard exists -> one also must exist for a *2nx2n* Mboard \n",
    "        - take four *nxn* Mboards -> arrange to form *2nx2n* square with missing squares toward the center \n",
    "            - one Mboard will have square pointing outward \n",
    "            - gap in the middle can be filled with one triomino\n",
    "            - cover the four *nxn* Mboards with trimonoes as well \n",
    "            - placement exists for every `n` that is a power of `2`        "
   ]
  },
  {
   "cell_type": "code",
   "execution_count": null,
   "id": "9be31ffd-2508-450f-9a61-4ab45e6c05a6",
   "metadata": {},
   "outputs": [],
   "source": []
  }
 ],
 "metadata": {
  "kernelspec": {
   "display_name": "Python 3",
   "language": "python",
   "name": "python3"
  },
  "language_info": {
   "codemirror_mode": {
    "name": "ipython",
    "version": 3
   },
   "file_extension": ".py",
   "mimetype": "text/x-python",
   "name": "python",
   "nbconvert_exporter": "python",
   "pygments_lexer": "ipython3",
   "version": "3.8.8"
  }
 },
 "nbformat": 4,
 "nbformat_minor": 5
}
