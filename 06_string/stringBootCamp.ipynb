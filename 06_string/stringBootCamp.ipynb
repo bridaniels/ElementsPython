{
 "cells": [
  {
   "cell_type": "markdown",
   "id": "fad6871b-10f2-4d47-99dc-5e295328f089",
   "metadata": {},
   "source": [
    "# Strings Boot Camp\n",
    "- special kind of array made out of characters\n",
    "- special operations such as: comparison, joining, splitting, searching for substrings, replacing one string by another, parsing, etc. \n",
    "- advanced string processing = Hash Tables (Ch. 12) or Dynamic Programming Ch. 16) "
   ]
  },
  {
   "cell_type": "markdown",
   "id": "80328095-2158-43a9-9d40-14658ff0b1ed",
   "metadata": {},
   "source": [
    "---\n",
    "### Palindromic String\n",
    "---\n",
    "- reads the same when it is reverssed \n",
    "- traverse string forward and backwards rather than creating a new string\n",
    "    - saves space "
   ]
  },
  {
   "cell_type": "code",
   "execution_count": 2,
   "id": "727bd026-3f59-4f23-aade-9f3a59f08319",
   "metadata": {},
   "outputs": [],
   "source": [
    "from typing import List \n",
    "\n",
    "def is_palindromic(s: str) -> bool:\n",
    "    # s[~i] = s[-(i+1)]\n",
    "    return all(s[i] == s[~i] for i in range(len(s)//2))"
   ]
  },
  {
   "cell_type": "code",
   "execution_count": 3,
   "id": "e5bbffa3-5fa0-441b-a449-a6e290bf51a8",
   "metadata": {},
   "outputs": [
    {
     "data": {
      "text/plain": [
       "True"
      ]
     },
     "execution_count": 3,
     "metadata": {},
     "output_type": "execute_result"
    }
   ],
   "source": [
    "pally = ['a','b','c','d','d','c','b','a']\n",
    "is_palindromic(pally)"
   ]
  },
  {
   "cell_type": "markdown",
   "id": "a599d666-5dfe-4231-af5f-0fed742a9a2d",
   "metadata": {},
   "source": [
    "##### `O(n)` time complexity \n",
    "##### `O(1)` space complexity "
   ]
  },
  {
   "cell_type": "markdown",
   "id": "396eddd6-7567-4faf-8ae7-0dcd768d57f5",
   "metadata": {},
   "source": [
    "---\n",
    "## String Libraries\n",
    "---\n",
    "- key operators:\n",
    "    - `s[3]` -> element at index 3 \n",
    "    - `len(s)` -> length of elements in string\n",
    "    - `s + t` -> addition\n",
    "    - `s[2:4]` -> slicing \n",
    "    - `s in t` -> \n",
    "    - `s.strip()`\n",
    "    - `s.startswith(prefix)` -> pulls elements that start with ()\n",
    "    - `s.endswith(suffix)` -> pulls elements that end with ()\n",
    "    - `s.split(' ,')` -> split at the comma\n",
    "    - `s.tolower()` -> lower rank of string element in dictionary \n",
    "    - `s.join()` -> join strings together \n",
    "- strings are immutable\n",
    "    - operations like these imply creating a new array of characters \n",
    "    - concatenating a single character `n` times to a string in a for loop has `O(n²)` time complexity"
   ]
  },
  {
   "cell_type": "code",
   "execution_count": null,
   "id": "551b09c7-5d22-473b-9d5e-1b016fdde5e3",
   "metadata": {},
   "outputs": [],
   "source": []
  }
 ],
 "metadata": {
  "kernelspec": {
   "display_name": "Python 3",
   "language": "python",
   "name": "python3"
  },
  "language_info": {
   "codemirror_mode": {
    "name": "ipython",
    "version": 3
   },
   "file_extension": ".py",
   "mimetype": "text/x-python",
   "name": "python",
   "nbconvert_exporter": "python",
   "pygments_lexer": "ipython3",
   "version": "3.8.8"
  }
 },
 "nbformat": 4,
 "nbformat_minor": 5
}
