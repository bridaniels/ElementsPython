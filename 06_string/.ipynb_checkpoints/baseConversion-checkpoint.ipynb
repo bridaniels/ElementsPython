{
 "cells": [
  {
   "cell_type": "markdown",
   "id": "c430c064-c402-43aa-9d74-803d8f35421f",
   "metadata": {},
   "source": [
    "# **6.2 Base Conversion**\n",
    "---\n",
    "#### Decimal Number System \n",
    "- position of a digit is used to signify the power of 10 that digit is to be multiplied with \n",
    "- `314 = 3*100 + 1*10 + 4*1`\n",
    "- base *b* number system \n",
    "    - generalizes the decimal number system \n",
    "    - a<sub>k-1</sub>a<sub>k-2</sub>...a<sub>1</sub>a<sub>0</sub> where `0 ≤ aᵢ < b` denotes the base *b* integer a<sub>0</sub>*b<sup>0</sup> + ... + a<sub>k-1</sub>*b<sup>k-1</sup>"
   ]
  },
  {
   "cell_type": "markdown",
   "id": "6bde69b9-c395-43df-a830-951f12426280",
   "metadata": {},
   "source": [
    "---\n",
    "## Base Conversion \n",
    "- input = string, integer b<sub>1</sub>, and b<sub>2</sub>\n",
    "    - string = integer in base b<sub>1</sub>\n",
    "- output = string representing integer in b<sub>2</sub>\n",
    "- Assumptions:\n",
    "    - 2 ≤ b<sub>1</sub>\n",
    "    - 16 ≥ b<sub>2</sub>\n",
    "    - `A` represents `10`, `B` represents `11`,....`F` represents `15`\n",
    "        - \"615\":\n",
    "            - b<sub>1</sub> = 7\n",
    "            - b<sub>2</sub> = 13\n",
    "            - result = `\"1A7\"`\n",
    "                - `6*7² + 1*7 + 5 = 1*13² + 10*13 + 7`\n",
    "                \n",
    "- convert a string in base b<sub>1</sub> to an integer \n",
    "    - use multiplies and adds \n",
    "- convert integer type to a string in base b<sub>2</sub>\n",
    "    - use modulus and division "
   ]
  },
  {
   "cell_type": "code",
   "execution_count": 4,
   "id": "fc484ec2-b050-40c6-bd27-91c86120982a",
   "metadata": {},
   "outputs": [],
   "source": [
    "from typing import List \n",
    "import functools \n",
    "import string"
   ]
  },
  {
   "cell_type": "code",
   "execution_count": 6,
   "id": "7ae0b688-6fa3-4879-8fdf-2050b9884815",
   "metadata": {},
   "outputs": [],
   "source": [
    "def base_convert(num_string: str, b1: int, b2: int) -> str:\n",
    "    \n",
    "    def construct_from_base(num_int, base):\n",
    "        \n",
    "        # string.hexdigits -> returns hexidecimal \n",
    "        return ('' if num_int == 0 else\n",
    "               construct_from_base(num_int//base, base) + string.hexdigits[num_int % base].upper())\n",
    "        \n",
    "        \n",
    "        \n",
    "    is_neg = num_string[0] == '-'\n",
    "    # lambda 'arguments':'expression '\n",
    "    # string.hexidigits -> returns hexidecimal \n",
    "    # .index(element,start,end) -> searches for element w/in range \n",
    "    # .lower() -> returns lower case characters \n",
    "    num_int = functools.reduce(lambda x,c: x*b1 + string.hexdigits.index(c.lower()), num_string[is_neg:], 0)\n",
    "    \n",
    "    return ('-' if is_neg else '') + ('0' if num_int == 0 else construct_from_base(num_int, b2))"
   ]
  },
  {
   "cell_type": "code",
   "execution_count": 12,
   "id": "9d275ccb-ad9f-402e-85fd-05e37c654323",
   "metadata": {},
   "outputs": [
    {
     "name": "stdout",
     "output_type": "stream",
     "text": [
      "string is 615 and the base conversion is: 1A7\n",
      "string is 314 and the base conversion is: C2\n"
     ]
    }
   ],
   "source": [
    "s1 = \"615\"\n",
    "s2 = \"314\"\n",
    "b1 = 7\n",
    "b2 = 13\n",
    "\n",
    "print(f\"string is {s1} and the base conversion is: {base_convert(s1,b1,b2)}\")\n",
    "print(f\"string is {s2} and the base conversion is: {base_convert(s2,b1,b2)}\")"
   ]
  },
  {
   "cell_type": "markdown",
   "id": "f1e1871d-2a07-4742-b663-362c1b80c936",
   "metadata": {},
   "source": [
    "#### Time Complexity: ` O(n(1 + logʙ₂ b₁)`\n",
    "- `n` = length of the string `s`\n",
    "- perform `n` multiply-and-adds to get from `x` to `s`\n",
    "- perform `logʙ₂ x` multiply-and-adds to get the result \n",
    "- `x` upper-bound by `bᴺ₁` and `logʙ₂(bᴺ₁) = n logʙ₂ b₁`"
   ]
  },
  {
   "cell_type": "code",
   "execution_count": null,
   "id": "27d9e891-fe39-4625-b514-e49ce9fd8d0d",
   "metadata": {},
   "outputs": [],
   "source": []
  }
 ],
 "metadata": {
  "kernelspec": {
   "display_name": "Python 3",
   "language": "python",
   "name": "python3"
  },
  "language_info": {
   "codemirror_mode": {
    "name": "ipython",
    "version": 3
   },
   "file_extension": ".py",
   "mimetype": "text/x-python",
   "name": "python",
   "nbconvert_exporter": "python",
   "pygments_lexer": "ipython3",
   "version": "3.8.8"
  }
 },
 "nbformat": 4,
 "nbformat_minor": 5
}
