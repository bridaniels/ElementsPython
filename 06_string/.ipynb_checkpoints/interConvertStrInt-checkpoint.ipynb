{
 "cells": [
  {
   "cell_type": "markdown",
   "id": "dfe08944-4057-4d7a-9494-ccfd3923f064",
   "metadata": {},
   "source": [
    "# **6.1 Interconvert Strings and Integers**\n",
    "---"
   ]
  },
  {
   "cell_type": "markdown",
   "id": "29d4d0a8-f279-4017-820a-cf422d946ca0",
   "metadata": {},
   "source": [
    "- String: sequence of characters \n",
    "    - may encode an integer: \"123\" encodes 123\n",
    "- take a string representing an integer and return the coreresponding integer \n",
    "    - handle negative integers -123 -> \"-123\" and leading `+` -> \"+123\"\n",
    "    - CANNOT USE PYTHON LIBRARY FUNCTIONS\n",
    "- Build result one digit at a time "
   ]
  },
  {
   "cell_type": "markdown",
   "id": "2e5d1d0a-6f78-4e01-aecc-160bf1515037",
   "metadata": {},
   "source": [
    "---\n",
    "## Integer to String\n",
    "- number has more than one digit:\n",
    "    - perform conversion digit-by-digit \n",
    "    - for any positive integer `x`:\n",
    "        - least significant digit in the decimal representaion of `x` is `x mod 10`\n",
    "        - remaining digits are `x/10`\n",
    "        - *computes digits in reverse order* \n",
    "    - prepend digits to partial result \n",
    "        - NO - adding digit to beginning of a string is EXPENSIVE\n",
    "        - all remaining digits have to be moved \n",
    "    - add each digit to the end, then **reverse** the sequence \n",
    "    - if `x` is negative:\n",
    "        - record that, negate `x`, and add a `-` before reversing\n",
    "    - if `x = 0`:\n",
    "        - code breaks out of the iteration without writing any digits\n",
    "        - explicitly set a `0`"
   ]
  },
  {
   "cell_type": "code",
   "execution_count": 1,
   "id": "060006c5-b432-408a-97a9-e0a8f0011932",
   "metadata": {},
   "outputs": [],
   "source": [
    "def int_to_string(x: int) -> str:\n",
    "    \n",
    "    is_negative = False\n",
    "    if x < 0:\n",
    "        x, is_negative = -x, True\n",
    "    \n",
    "    s = []\n",
    "    # nothing to do with negatives\n",
    "    while True:\n",
    "        # chr() -> returns character that represents unicode \n",
    "        # ord() -> returns unicode from a given character \n",
    "        # chr(ord('0')+ 123) = '<<'\n",
    "        # chr(ord('0')+ 123 % 10) = 3\n",
    "        s.append(chr(ord('0') + x % 10)) # decimal \n",
    "        # same as x = 123//10 = 12\n",
    "        x //= 10\n",
    "        if x == 0:\n",
    "            break \n",
    "            \n",
    "    return('-' if is_negative else '')+ ''.join(reversed(s))"
   ]
  },
  {
   "cell_type": "code",
   "execution_count": 2,
   "id": "ba7bfe29-b28c-4812-a614-60b7ead4e22d",
   "metadata": {},
   "outputs": [
    {
     "data": {
      "text/plain": [
       "'-123'"
      ]
     },
     "execution_count": 2,
     "metadata": {},
     "output_type": "execute_result"
    }
   ],
   "source": [
    "x = -123\n",
    "\n",
    "int_to_string(x)"
   ]
  },
  {
   "cell_type": "markdown",
   "id": "474d4718-ca6b-4025-bfda-6c2560046d8e",
   "metadata": {},
   "source": [
    "---\n",
    "## String to Integer\n",
    "- basic working of a positional number system \n",
    "    - a base 10 number `d₂d₁d₀` encodes the number `10²*d₂ + 10¹*d₁ + d₀`\n",
    "    - compute `10ⁱ⁺¹` by using exisiting `10ⁱ` and multiplying by `10`\n",
    "    - begin with leftmost digit and multiply each succeeding digit by `10` and add that digit \n",
    "- \"314\" -> integer:\n",
    "    - initialize partial result as: `r = 0`\n",
    "    - first iteration: `r = 3`\n",
    "    - second iteration: `r = 3*10+1 = 31\n",
    "    - third iteration: `r = 31*10+4 = 314\n",
    "- leading sign characters `(- or +)`:\n",
    "    - handled by recording sign and negating the result if sign is `-`"
   ]
  },
  {
   "cell_type": "code",
   "execution_count": 3,
   "id": "d08cc5ff-83ab-41e4-badb-ace600f581e0",
   "metadata": {},
   "outputs": [],
   "source": [
    "import functools\n",
    "import string\n",
    "\n",
    "# functools.reduce(function, sequence, [initial]) -> Value (reduces sequence to a single value )\n",
    "    # FUNCTION\n",
    "    # lambda = syntactically restricted to a single expression \n",
    "        # bound by running_sum, c (THIS DOESN'T CHANGE)\n",
    "        # body is everything beyond the `:` (THIS CHANGES)\n",
    "    # SEQUENCE\n",
    "    # sum*10 + \n",
    "    # string.digits.index(c)\n",
    "        # turning str(c) into an integer \n",
    "    # [INITIAL]\n",
    "    # s BEYOND the `+-` sign, or s[0]"
   ]
  },
  {
   "cell_type": "code",
   "execution_count": 4,
   "id": "5a8e2eb8-33ab-4b38-a4cf-a609c3125c8a",
   "metadata": {},
   "outputs": [],
   "source": [
    "def string_to_int(s: str) -> int: \n",
    "    return (-1 if s[0] == '-' else 1) * functools.reduce(lambda running_sum, c: running_sum * 10 + string.digits.index(c), s[s[0] in '-+':], 0)"
   ]
  },
  {
   "cell_type": "code",
   "execution_count": 5,
   "id": "2d3b1adc-632e-4935-82fa-f9c59de52746",
   "metadata": {},
   "outputs": [
    {
     "data": {
      "text/plain": [
       "-314"
      ]
     },
     "execution_count": 5,
     "metadata": {},
     "output_type": "execute_result"
    }
   ],
   "source": [
    "y = '-314'\n",
    "\n",
    "string_to_int(y)"
   ]
  },
  {
   "cell_type": "code",
   "execution_count": null,
   "id": "982b98a6-ed8c-49ba-8a26-2c66f03ca06f",
   "metadata": {},
   "outputs": [],
   "source": []
  }
 ],
 "metadata": {
  "kernelspec": {
   "display_name": "Python 3",
   "language": "python",
   "name": "python3"
  },
  "language_info": {
   "codemirror_mode": {
    "name": "ipython",
    "version": 3
   },
   "file_extension": ".py",
   "mimetype": "text/x-python",
   "name": "python",
   "nbconvert_exporter": "python",
   "pygments_lexer": "ipython3",
   "version": "3.8.8"
  }
 },
 "nbformat": 4,
 "nbformat_minor": 5
}
