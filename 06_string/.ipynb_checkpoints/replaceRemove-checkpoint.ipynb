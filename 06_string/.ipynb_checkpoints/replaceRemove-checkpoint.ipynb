{
 "cells": [
  {
   "cell_type": "markdown",
   "id": "12558adc-a674-4da0-9f32-16b2396644f9",
   "metadata": {},
   "source": [
    "# 6.4 Replace and Remove\n",
    "- Replace each `a` by two `d`'s\n",
    "- Delete each entry containing a `b`\n",
    "- `[a,c,d,b,b,c,a]` -> `[d,d,c,d,c,d,d]`"
   ]
  },
  {
   "cell_type": "markdown",
   "id": "bbd0dc43-2bfe-41e2-a2f1-83333363b21e",
   "metadata": {},
   "source": [
    "---\n",
    "#### No `a`\n",
    "---\n",
    "- implement the function without allocating additional space \n",
    "- one forward iteration by skipping `b`'s and copying `d`'s"
   ]
  },
  {
   "cell_type": "markdown",
   "id": "e2547cbb-1e00-4b2d-8ed2-651d6d66a4fa",
   "metadata": {},
   "source": [
    "---\n",
    "#### No `b`\n",
    "---\n",
    "- implement the function without additional space \n",
    "- compute final length of resulting string\n",
    "    - length of the array + number of `a`'s\n",
    "- write result from back to front "
   ]
  },
  {
   "cell_type": "markdown",
   "id": "c01abc48-b37a-402d-8759-9eae010774fc",
   "metadata": {},
   "source": [
    "---\n",
    "### Combination Solution\n",
    "---\n",
    "- First Forward Loop:\n",
    "    - delete `b`'s via forward iteration\n",
    "    - compute length of string \n",
    "- Second Backward Loop:\n",
    "    - From back to front \n",
    "    - Replace each `a` with two `d`s"
   ]
  },
  {
   "cell_type": "code",
   "execution_count": 2,
   "id": "96ae3c11-0029-41fc-a2c7-c7f7d3d56143",
   "metadata": {},
   "outputs": [],
   "source": [
    "from typing import List\n",
    "\n",
    "def replaceRemove(size: int, s: List[str]) -> int:\n",
    "    \n",
    "    idx, a_count = 0,0\n",
    "    \n",
    "    # forwards loop\n",
    "    for i in range(size):\n",
    "        if s[i] != 'b':\n",
    "            s[idx] = s[i]\n",
    "            idx += 1\n",
    "        if s[i] == 'a':\n",
    "            a_count += 1\n",
    "    \n",
    "    curr = idx - 1\n",
    "    idx += a_count - 1\n",
    "    final_size = idx + 1\n",
    "    \n",
    "    # backwards loop\n",
    "    while curr >= 0:\n",
    "        if s[curr] == 'a':\n",
    "            s[idx-1 : idx+1] = 'dd'\n",
    "            idx -= 2\n",
    "        else:\n",
    "            s[idx] = s[curr]\n",
    "            idx -= 1\n",
    "        curr -= 1\n",
    "    return final_size"
   ]
  },
  {
   "cell_type": "code",
   "execution_count": 3,
   "id": "98a71666-afd3-4302-8188-2f629e561afd",
   "metadata": {},
   "outputs": [
    {
     "data": {
      "text/plain": [
       "7"
      ]
     },
     "execution_count": 3,
     "metadata": {},
     "output_type": "execute_result"
    }
   ],
   "source": [
    "string = ['a','c','d','b','b','c','a']\n",
    "size = len(string)\n",
    "\n",
    "replaceRemove(size,string)"
   ]
  },
  {
   "cell_type": "markdown",
   "id": "e1ebd364-e447-45ad-8322-c369c50ed0b2",
   "metadata": {},
   "source": [
    "#### `O(n)` per forward and backward iteration -> total time complexity is `O(n)`\n",
    "#### No additional space allocated (in-place)"
   ]
  },
  {
   "cell_type": "markdown",
   "id": "725393f4-8422-41d9-b271-9742d06dd144",
   "metadata": {},
   "source": [
    "---\n",
    "### Variant\n",
    "---\n",
    "- do later"
   ]
  },
  {
   "cell_type": "code",
   "execution_count": null,
   "id": "f3b0e01e-e9f1-45fb-9606-b6079d9dbc04",
   "metadata": {},
   "outputs": [],
   "source": []
  }
 ],
 "metadata": {
  "kernelspec": {
   "display_name": "Python 3",
   "language": "python",
   "name": "python3"
  },
  "language_info": {
   "codemirror_mode": {
    "name": "ipython",
    "version": 3
   },
   "file_extension": ".py",
   "mimetype": "text/x-python",
   "name": "python",
   "nbconvert_exporter": "python",
   "pygments_lexer": "ipython3",
   "version": "3.8.8"
  }
 },
 "nbformat": 4,
 "nbformat_minor": 5
}
