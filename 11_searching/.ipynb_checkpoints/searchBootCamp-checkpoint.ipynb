{
 "cells": [
  {
   "cell_type": "markdown",
   "id": "088bfc96-0bcd-4ef6-b872-a9394bb326c0",
   "metadata": {},
   "source": [
    "# **Chapter 11 Searching**\n",
    "---\n",
    "- focus on static data stored in sorted order in an array "
   ]
  },
  {
   "cell_type": "code",
   "execution_count": 2,
   "id": "65b9dfd1-cb5d-40db-aee9-5aff8fcca607",
   "metadata": {},
   "outputs": [],
   "source": [
    "from typing import List"
   ]
  },
  {
   "cell_type": "code",
   "execution_count": 10,
   "id": "93b9681b-8a32-419b-852d-aba605d9e3ed",
   "metadata": {},
   "outputs": [],
   "source": [
    "import collections"
   ]
  },
  {
   "cell_type": "markdown",
   "id": "def92a76-1677-4dbe-a66e-4385da8e13e3",
   "metadata": {},
   "source": [
    "---\n",
    "## Binary Search\n",
    "- elimination-based strategy\n",
    "- given collection of `n` keys -> find if key is present \n",
    "- keys in sorted order to eliminate half to find key\n",
    "- search key != target key\n",
    "    - split in half and search left or right depending on values of keys\n",
    "    - eliminate half where target key would not exist"
   ]
  },
  {
   "cell_type": "code",
   "execution_count": 3,
   "id": "8f21bd89-d4b3-4306-a7b6-5786b8f2d34e",
   "metadata": {},
   "outputs": [],
   "source": [
    "# Iterative Example\n",
    "\n",
    "def bs_iterative(t: int, A: List[int]) -> int:\n",
    "    left, right = 0, len(A)-1\n",
    "    \n",
    "    while left <= right:\n",
    "        mid = left + (right-left)//2\n",
    "        if A[mid] < t:\n",
    "            left = mid + 1\n",
    "        elif A[mid] == t:\n",
    "            return mid\n",
    "        else:\n",
    "            right = mid - 1\n",
    "    return -1 "
   ]
  },
  {
   "cell_type": "code",
   "execution_count": 6,
   "id": "afab2549-d9db-41cd-ac8b-9b0f69b223a9",
   "metadata": {},
   "outputs": [],
   "source": [
    "array = [2,5,6,12,5,3,45,11,18,25,3,4,9]\n",
    "array.sort()"
   ]
  },
  {
   "cell_type": "code",
   "execution_count": 9,
   "id": "7ff56a9d-6fd8-4724-b79f-583c071e01be",
   "metadata": {},
   "outputs": [
    {
     "name": "stdout",
     "output_type": "stream",
     "text": [
      "[2, 3, 3, 4, 5, 5, 6, 9, 11, 12, 18, 25, 45]\n",
      "8\n"
     ]
    }
   ],
   "source": [
    "print(array)\n",
    "print(bs_iterative(11,array))"
   ]
  },
  {
   "cell_type": "markdown",
   "id": "85243b19-2f34-47ae-a8cf-3f88c1552e7d",
   "metadata": {},
   "source": [
    "#### Time Complexity: `O(log n)`\n",
    "- for a sorted array \n",
    "    - from `T(n) = T(n/2) + c` -> `T(n) = O(log n)`\n",
    "- for an unsorted array\n",
    "    - sorting takes `O(n)` time\n",
    "    - `O(n log n)` for unsorted binary search"
   ]
  },
  {
   "cell_type": "markdown",
   "id": "2b90a846-70d8-49d0-9858-2949bb3c6499",
   "metadata": {},
   "source": [
    "---\n",
    "## Searching \n",
    "- When objects are comparable they can be sorted/searched using library search functions\n",
    "- User-defined types used in sorted collections must implement comparison and ensure proper properties \n",
    "- Array of students sorted by descending GPA\n",
    "    - pass binary search on custom comparator which compares students on GPA\n",
    "    - ties broken on names "
   ]
  },
  {
   "cell_type": "code",
   "execution_count": 13,
   "id": "7d21e5b2-3497-47ef-a404-2d2b5e435696",
   "metadata": {},
   "outputs": [],
   "source": [
    "student = collections.namedtuple('Student',('name','GPA'))"
   ]
  },
  {
   "cell_type": "raw",
   "id": "41d9c34c-59ea-4636-ae2d-4383024b89fd",
   "metadata": {},
   "source": [
    "def comp_gpa(studnet: Student) -> Tuple[float,str]:\n",
    "    return (-student.GPA, student.name)\n",
    "\n",
    "def search_stu(students: List[Student], target: Student, \n",
    "               comp_gpa: Callable[[Student], Tuple[float,str]]):\n",
    "    \n",
    "    i = bisect.bisect_left([comp_gpa(s) for s in students], comp_gpa(target))\n",
    "    return 0 <= i < len(studens) and students[i] == target \n",
    "    "
   ]
  },
  {
   "cell_type": "markdown",
   "id": "4579550f-6192-4896-a898-594bc26b38f2",
   "metadata": {},
   "source": [
    "#### Time Complexity: `O(log n)`\n",
    "- assuming `i`th element can be accessed in `O(1)` time "
   ]
  },
  {
   "cell_type": "markdown",
   "id": "10f623fe-d4d3-4222-bb9a-70441117de49",
   "metadata": {},
   "source": [
    "---\n",
    "### Bisect Module\n",
    "- provides binary search functions for a sorted list\n",
    "- `bisect.bisect_left(a,x)`\n",
    "    - first element not less than targeted value \n",
    "    - returns index of first entry `>=` target value \n",
    "    - if les than `x` -> returned value is `len(a)`\n",
    "- `bisect.bisect_right(a,x)`\n",
    "    - first element that is greater than targeted value\n",
    "    - returns index of first entry that is `>` target value\n",
    "    - if less than `x` -> returned value is `len(a)`\n",
    "    \n",
    "---"
   ]
  },
  {
   "cell_type": "code",
   "execution_count": null,
   "id": "533a33fa-e8e2-4baa-bb4b-4a3ed2285af0",
   "metadata": {},
   "outputs": [],
   "source": []
  }
 ],
 "metadata": {
  "kernelspec": {
   "display_name": "Python 3",
   "language": "python",
   "name": "python3"
  },
  "language_info": {
   "codemirror_mode": {
    "name": "ipython",
    "version": 3
   },
   "file_extension": ".py",
   "mimetype": "text/x-python",
   "name": "python",
   "nbconvert_exporter": "python",
   "pygments_lexer": "ipython3",
   "version": "3.8.8"
  }
 },
 "nbformat": 4,
 "nbformat_minor": 5
}
