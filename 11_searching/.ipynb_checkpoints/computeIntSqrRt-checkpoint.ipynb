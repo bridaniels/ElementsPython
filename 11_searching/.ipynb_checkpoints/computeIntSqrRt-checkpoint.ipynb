{
 "cells": [
  {
   "cell_type": "markdown",
   "id": "3b0eeafe-6b9c-4d5c-83ee-a7df7a247c58",
   "metadata": {},
   "source": [
    "# **11.4 Compute the Integer Square Root**\n",
    "---\n",
    "- input: nonnengative integer\n",
    "- output: largest integer whose square is <= given integer\n",
    "- **Binary Search**\n",
    "    - eliminate large sets of `x` value possibilities \n",
    "    - if `x² < k` then no number smaller than `x` can be the result \n",
    "    - if `x² > k` then no number greater than `x` can be the result"
   ]
  },
  {
   "cell_type": "markdown",
   "id": "e8275a47-b1b3-449c-8a27-ced8dd7ac1ad",
   "metadata": {},
   "source": [
    "---\n",
    "### Binary Search Solution\n",
    "- search window between `[0,k]`\n",
    "- identify `mid` value \n",
    "- compare `mid * mid` with k\n",
    "    - is `mid²` <= k?\n",
    "        - move left pointer in to narrow search to the right \n",
    "        - search window now `[mid+1, right]`\n",
    "        - all integers less than `mid` have a square less than `k`\n",
    "    - is `mid²` > k?\n",
    "        - move right pointer in to narrow search to the left\n",
    "        - search window now `[0, mid-1]`\n",
    "        - all integers greater than `mid` have a square greater than `k`\n",
    "- algorithm terminates:\n",
    "    - when the interval is empty\n",
    "        - when right endpoint is less than the left endpoint\n",
    "    - every number less than `left` has a square less than `k`\n",
    "    - `left`'s square is greater than `k`\n",
    "    - `left - 1` = value returned for highest square root for `k`"
   ]
  },
  {
   "cell_type": "code",
   "execution_count": 1,
   "id": "4be4a1f9-7f82-43f2-8b75-c305cb39fb16",
   "metadata": {},
   "outputs": [],
   "source": [
    "def square_root(k: int) -> int:\n",
    "    \n",
    "    left, right = 0, k\n",
    "    \n",
    "    while left <= right:\n",
    "        mid = left + (right-left)//2\n",
    "        mid_squared = mid * mid \n",
    "        if mid_squared <= k:\n",
    "            left = mid + 1\n",
    "        else:\n",
    "            right = mid - 1 \n",
    "    return left - 1"
   ]
  },
  {
   "cell_type": "code",
   "execution_count": 2,
   "id": "87f0c6b7-5d18-4803-8630-9a9aa030ee78",
   "metadata": {},
   "outputs": [
    {
     "data": {
      "text/plain": [
       "5"
      ]
     },
     "execution_count": 2,
     "metadata": {},
     "output_type": "execute_result"
    }
   ],
   "source": [
    "square_root(25)"
   ]
  },
  {
   "cell_type": "code",
   "execution_count": 5,
   "id": "b517f330-2628-4ece-9b5f-1d06a74a98cb",
   "metadata": {},
   "outputs": [
    {
     "data": {
      "text/plain": [
       "4"
      ]
     },
     "execution_count": 5,
     "metadata": {},
     "output_type": "execute_result"
    }
   ],
   "source": [
    "square_root(21)"
   ]
  },
  {
   "cell_type": "markdown",
   "id": "f0075fb2-091f-4b5d-b3e7-d6bd4ea29c9b",
   "metadata": {},
   "source": [
    "#### Time Complexity: `O(log k)`\n",
    "- `k` = nonnegative integer value that declares interval `[0,k]`"
   ]
  },
  {
   "cell_type": "code",
   "execution_count": null,
   "id": "c4b5347c-c73b-40a6-95a5-79854522c9dd",
   "metadata": {},
   "outputs": [],
   "source": []
  }
 ],
 "metadata": {
  "kernelspec": {
   "display_name": "Python 3",
   "language": "python",
   "name": "python3"
  },
  "language_info": {
   "codemirror_mode": {
    "name": "ipython",
    "version": 3
   },
   "file_extension": ".py",
   "mimetype": "text/x-python",
   "name": "python",
   "nbconvert_exporter": "python",
   "pygments_lexer": "ipython3",
   "version": "3.8.8"
  }
 },
 "nbformat": 4,
 "nbformat_minor": 5
}
