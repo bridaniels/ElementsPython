{
 "cells": [
  {
   "cell_type": "markdown",
   "id": "9e337129-0fca-47e9-a270-0ed3a7e8b2a6",
   "metadata": {},
   "source": [
    "# **Find the *Kth* Largest Element**\n",
    "---\n",
    "- `kth` largest element \n",
    "    - element at index `k-1` after array is **sorted in descending order** \n",
    "- first largest element = largest element\n",
    "- `nth` largest element = smallest element where `n` = length of the array \n"
   ]
  },
  {
   "cell_type": "markdown",
   "id": "b0ccc71a-45a4-4de0-ac3e-7de26bec5e62",
   "metadata": {},
   "source": [
    "---\n",
    "### Brute Force \n",
    "- sorting is wasteful -> does more than what is required \n",
    "- sort input array in descending order -> return element at `k-1`\n",
    "- `O(n log n)` time complexity"
   ]
  },
  {
   "cell_type": "code",
   "execution_count": 1,
   "id": "308c0e8c-5f5b-4da0-8319-d81b7112291b",
   "metadata": {},
   "outputs": [
    {
     "name": "stdout",
     "output_type": "stream",
     "text": [
      "[3, 2, 1, 5, 4]\n",
      "(k=1) -> first largest element: k = 5\n",
      "(k=3) -> third largest element: k = 3\n",
      "(k=5) -> fifth largest element: k = 1\n"
     ]
    }
   ],
   "source": [
    "array = [3,2,1,5,4]\n",
    "print(array)\n",
    "print(f\"(k=1) -> first largest element: k = {array[3]}\")\n",
    "print(f\"(k=3) -> third largest element: k = {array[0]}\")\n",
    "print(f\"(k=5) -> fifth largest element: k = {array[2]}\")"
   ]
  },
  {
   "cell_type": "code",
   "execution_count": 2,
   "id": "f40e5d7f-1d40-4063-938c-aa233ae12b7b",
   "metadata": {},
   "outputs": [
    {
     "name": "stdout",
     "output_type": "stream",
     "text": [
      "[5, 4, 3, 2, 1]\n",
      "(k=1) -> first largest element: k = 5\n",
      "(k=3) -> third largest element: k = 3\n",
      "(k=5) -> fifth largest element: k = 1\n"
     ]
    }
   ],
   "source": [
    "karray = sorted(array, reverse=True)\n",
    "print(karray)\n",
    "print(f\"(k=1) -> first largest element: k = {karray[0]}\")\n",
    "print(f\"(k=3) -> third largest element: k = {karray[2]}\")\n",
    "print(f\"(k=5) -> fifth largest element: k = {karray[4]}\")"
   ]
  },
  {
   "cell_type": "markdown",
   "id": "deb27317-4275-4289-ab37-4fe95936626a",
   "metadata": {},
   "source": [
    "---\n",
    "### Min-Heap\n",
    "- for general `k` -> store set of `k` elements into a `min_heap`\n",
    "    - `O(n log k)` time complexity\n",
    "    - `O(k)` space complexity\n",
    "    - does more than required still\n",
    "        - not in-place\n",
    "        - computes `k` largest elements in sorted order \n",
    "        - only asks for `k` largest "
   ]
  },
  {
   "cell_type": "markdown",
   "id": "959ea2db-d825-4176-aeb8-9e81ed1e1d8b",
   "metadata": {},
   "source": [
    "---\n",
    "## In-Place: Pivot \n",
    "- focus on `kth` element in-place without completely sorting the array\n",
    "- avoid additional storage by using the array itself to record the partitioning\n",
    "- select an element at random, the `pivot`\n",
    "    - partition the remaining entries:\n",
    "        - less than `pivot`\n",
    "        - greater than `pivot`\n",
    "            - exactly `k-1` elements greater than `pivot`\n",
    "                - `pivot` must be the `kth` largest element \n",
    "            - more than `k-1` elements greater than `pivot`\n",
    "                - discard elements less than or equal to the `pivot`\n",
    "                - `kth` largest wil be greater than `pivot`\n",
    "             - less than `k-1` elements greater than `pivot`\n",
    "                - discard elements greater than or equal to `pivot`\n",
    "        - assumption for this problem:\n",
    "             - all elements distinct so no elements will be equal to the `pivot`\n",
    "    - if there are exactly `k-1` elements greater than pivot"
   ]
  },
  {
   "cell_type": "code",
   "execution_count": 3,
   "id": "ddc588c2-6997-4c1e-9411-c4bfba20b9e2",
   "metadata": {},
   "outputs": [],
   "source": [
    "from typing import List\n",
    "import random\n",
    "import operator # .gt = greater than operation on two values operator.gt(x,y)\n",
    "\n",
    "array = [2,5,6,12,45,11,18,25,3,4,9]"
   ]
  },
  {
   "cell_type": "code",
   "execution_count": 4,
   "id": "c8a8a238-cb49-427a-a691-cffe1c74c2a3",
   "metadata": {},
   "outputs": [],
   "source": [
    "def find_k_largest(k: int, A: List[int]) -> int: \n",
    "    \n",
    "    def find_k(comp):\n",
    "    \n",
    "        def part_pivot(left,right,pivot_idx):\n",
    "            pivot_val = A[pivot_idx]\n",
    "            new_piv = left \n",
    "            A[pivot_idx], A[right] = A[right], A[pivot_idx]\n",
    "            \n",
    "            for i in range(left,right):\n",
    "                # if A[i] == pivot_val \n",
    "                if comp(A[i], pivot_val):\n",
    "                    # swap left index to new_piv \n",
    "                    A[i], A[new_piv] = A[new_piv], A[i]\n",
    "                    new_piv += 1\n",
    "            # swap right index with next pivot index in range\n",
    "            A[right], A[new_piv] = A[new_piv], A[right]\n",
    "            # return new_piv index value -> old right pivot index \n",
    "            return new_piv\n",
    "                \n",
    "        \n",
    "        left, right = 0, len(A)-1\n",
    "        while left <= right:\n",
    "            # Generates random integer within interval [left,right]\n",
    "            pivot_idx = random.randint(left,right)\n",
    "            # RECURSIVE CALL -> returns new index of the pivot \n",
    "            new_pivot = part_pivot(left,right,pivot_idx)\n",
    "            \n",
    "            if new_pivot == k - 1:\n",
    "                return A[new_pivot]\n",
    "            elif new_pivot > k - 1: \n",
    "                right = new_pivot - 1\n",
    "            else:\n",
    "                left = new_pivot + 1\n",
    "                \n",
    "    # RECURSIVE CALL\n",
    "    # operator.gt = greater than operation of two values \n",
    "        # A = [3,1,-1,2] and numbering starts from 1\n",
    "        # (k=1,A) -> 3\n",
    "        # (k=2,A) -> 2\n",
    "        # (k=3,A) -> 1\n",
    "        # (k=4,A) -> -1\n",
    "    return find_k(operator.gt)"
   ]
  },
  {
   "cell_type": "code",
   "execution_count": 5,
   "id": "7489acee-ec5d-49f4-94d1-e4555c0df0f8",
   "metadata": {},
   "outputs": [
    {
     "name": "stdout",
     "output_type": "stream",
     "text": [
      "[45, 25, 18, 12, 11, 9, 6, 5, 4, 3, 2]\n",
      "18\n"
     ]
    }
   ],
   "source": [
    "karray = sorted(array, reverse=True)\n",
    "print(karray)\n",
    "print(karray[3-1])"
   ]
  },
  {
   "cell_type": "code",
   "execution_count": 6,
   "id": "8d7c3cfb-b613-4415-aba3-73be90cc3496",
   "metadata": {},
   "outputs": [
    {
     "data": {
      "text/plain": [
       "18"
      ]
     },
     "execution_count": 6,
     "metadata": {},
     "output_type": "execute_result"
    }
   ],
   "source": [
    "find_k_largest(3,array)"
   ]
  },
  {
   "cell_type": "markdown",
   "id": "c5d2c91e-92c8-40b9-b9a1-54b7e246a6ff",
   "metadata": {},
   "source": [
    "#### Time Complexity: `O(n)`\n",
    "- `T(n) = O(n) + T(n/2)` -> `n` = that girl so simplifies down to `O(n)`\n",
    "- Worst Case: `O(n²)` -> if element is lowest or highest \n",
    "    - very low odds of coming to be \n",
    "    - almost certain `O(n)` time complexity \n",
    "    \n",
    "#### Space Complexity: `O(1)`\n",
    "- in-place solution"
   ]
  },
  {
   "cell_type": "markdown",
   "id": "7f2ec330-b477-46a0-a867-98e5482be458",
   "metadata": {},
   "source": [
    "---\n",
    "## Variant"
   ]
  },
  {
   "cell_type": "code",
   "execution_count": null,
   "id": "4c88bedd-6844-40c1-89c3-ba33e33fff00",
   "metadata": {},
   "outputs": [],
   "source": []
  }
 ],
 "metadata": {
  "kernelspec": {
   "display_name": "Python 3",
   "language": "python",
   "name": "python3"
  },
  "language_info": {
   "codemirror_mode": {
    "name": "ipython",
    "version": 3
   },
   "file_extension": ".py",
   "mimetype": "text/x-python",
   "name": "python",
   "nbconvert_exporter": "python",
   "pygments_lexer": "ipython3",
   "version": "3.8.8"
  }
 },
 "nbformat": 4,
 "nbformat_minor": 5
}
