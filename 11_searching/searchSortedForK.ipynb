{
 "cells": [
  {
   "cell_type": "markdown",
   "id": "221538c5-4d8d-4a42-8b5a-a173aed43f28",
   "metadata": {},
   "source": [
    "# **11.1 Search a Sorted Array for First Occurence of `K`**\n",
    "---"
   ]
  },
  {
   "cell_type": "markdown",
   "id": "6b534414-7883-4d60-9017-0d7f8957b355",
   "metadata": {},
   "source": [
    "### Binary Search\n",
    "- asks for index of any element of a sorted array equal to specified target \n",
    "- take a sorted array and a key to return the index of the first occurence of `k`\n",
    "    - return `-1` if key does not appear in the array\n",
    "- maintain a set of candidate solutions \n",
    "    - element at index `i` = `k`\n",
    "        - is `i` the first?\n",
    "        - at least nothing beyond `i` is the first\n",
    "        - remove all elements with index `i+1 +`\n",
    "        "
   ]
  },
  {
   "cell_type": "code",
   "execution_count": 1,
   "id": "4bc60064-cadc-478f-b9be-b08d25600ba1",
   "metadata": {},
   "outputs": [],
   "source": [
    "from typing import List"
   ]
  },
  {
   "cell_type": "code",
   "execution_count": 2,
   "id": "1a3a33ed-b481-4d8d-9ee0-818bc8374ad3",
   "metadata": {},
   "outputs": [],
   "source": [
    "array = [-14,-10,2,108,108,243,285,285,285,401]"
   ]
  },
  {
   "cell_type": "code",
   "execution_count": 3,
   "id": "a411467d-ce4c-40ca-b0cb-f79436c9086f",
   "metadata": {},
   "outputs": [],
   "source": [
    "def search_first_k(A: List[int], k: int) -> int:\n",
    "    \n",
    "    left, right, result = 0, len(A)-1, -1\n",
    "    \n",
    "    while left<= right:\n",
    "        mid = left + (right - left)//2\n",
    "        if A[mid] > k:\n",
    "            right = mid - 1\n",
    "            \n",
    "        # HOW TO FIND THE FIRST VALUE     \n",
    "        elif A[mid] == k:\n",
    "            result = mid\n",
    "            right = mid - 1 #nothing to the right can be the solution \n",
    "            \n",
    "            \n",
    "        else:\n",
    "            left = mid + 1 \n",
    "    return result "
   ]
  },
  {
   "cell_type": "code",
   "execution_count": 4,
   "id": "18cd1180-707d-4df8-8b1d-1789a0646b3b",
   "metadata": {},
   "outputs": [
    {
     "name": "stdout",
     "output_type": "stream",
     "text": [
      "[(0, -14), (1, -10), (2, 2), (3, 108), (4, 108), (5, 243), (6, 285), (7, 285), (8, 285), (9, 401)]\n",
      "3\n"
     ]
    }
   ],
   "source": [
    "print([x for x in enumerate(array)])\n",
    "print(search_first_k(array,108))"
   ]
  },
  {
   "cell_type": "markdown",
   "id": "95e7fe04-3f9e-4938-84bc-0e345c6f35b8",
   "metadata": {},
   "source": [
    "#### Time Complexity: `O(log n)`\n",
    "- each iteration reduces size by half "
   ]
  },
  {
   "cell_type": "markdown",
   "id": "e42e72f6-1dea-40c5-9625-104ca3d27f67",
   "metadata": {},
   "source": [
    "---\n",
    "## Variant 1: takes soorted array + key and finds index of the first occurence of an element greater than the key"
   ]
  },
  {
   "cell_type": "code",
   "execution_count": 5,
   "id": "a0695341-332e-4434-8670-10f7f15632e9",
   "metadata": {},
   "outputs": [],
   "source": [
    "array = [-14,-10,2,108,108,243,285,285,285,401]"
   ]
  },
  {
   "cell_type": "code",
   "execution_count": 6,
   "id": "792ffd33-2834-460a-9881-497399ea3480",
   "metadata": {},
   "outputs": [],
   "source": [
    "def greater_than_k(A: List[int], k: int) -> int:\n",
    "    \n",
    "    left, right, key = 0, len(A)-1, -1\n",
    "    \n",
    "    while left<= right:\n",
    "        mid = left + (right - left)//2\n",
    "        if A[mid] > k:\n",
    "            right = mid - 1\n",
    "            \n",
    "        # HOW TO FIND THE FIRST VALUE GREATER THAN THE KEY   \n",
    "        elif A[mid] == k:\n",
    "            right = mid + 1 \n",
    "            \n",
    "            while right <= len(A)-1:\n",
    "                if A[right] > A[mid]:\n",
    "                    return A[right],right\n",
    "                elif A[right] == A[mid]:\n",
    "                    right += 1           \n",
    "            \n",
    "            \n",
    "        else:\n",
    "            left = mid + 1 \n",
    "    return result "
   ]
  },
  {
   "cell_type": "code",
   "execution_count": 7,
   "id": "2b53f1fa-981c-4923-8f1e-68c6af99131d",
   "metadata": {},
   "outputs": [
    {
     "data": {
      "text/plain": [
       "(401, 9)"
      ]
     },
     "execution_count": 7,
     "metadata": {},
     "output_type": "execute_result"
    }
   ],
   "source": [
    "greater_than_k(array,285)"
   ]
  },
  {
   "cell_type": "code",
   "execution_count": null,
   "id": "129a7a47-1e4f-413d-9f3e-4b064b3f5bc0",
   "metadata": {},
   "outputs": [],
   "source": []
  }
 ],
 "metadata": {
  "kernelspec": {
   "display_name": "Python 3",
   "language": "python",
   "name": "python3"
  },
  "language_info": {
   "codemirror_mode": {
    "name": "ipython",
    "version": 3
   },
   "file_extension": ".py",
   "mimetype": "text/x-python",
   "name": "python",
   "nbconvert_exporter": "python",
   "pygments_lexer": "ipython3",
   "version": "3.8.8"
  }
 },
 "nbformat": 4,
 "nbformat_minor": 5
}
